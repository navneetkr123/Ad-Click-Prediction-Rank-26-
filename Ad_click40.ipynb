{
  "nbformat": 4,
  "nbformat_minor": 0,
  "metadata": {
    "colab": {
      "name": "Ad_click40.ipynb",
      "version": "0.3.2",
      "provenance": [],
      "collapsed_sections": [],
      "machine_shape": "hm"
    },
    "kernelspec": {
      "name": "python3",
      "display_name": "Python 3"
    }
  },
  "cells": [
    {
      "cell_type": "code",
      "metadata": {
        "id": "mEzK9-5DWQIL",
        "colab_type": "code",
        "colab": {}
      },
      "source": [
        "#! wget --header=\"Host: datahack-prod.s3.amazonaws.com\" --header=\"User-Agent: Mozilla/5.0 (Macintosh; Intel Mac OS X 10_14_6) AppleWebKit/537.36 (KHTML, like Gecko) Chrome/76.0.3809.100 Safari/537.36\" --header=\"Accept: text/html,application/xhtml+xml,application/xml;q=0.9,image/webp,image/apng,*/*;q=0.8,application/signed-exchange;v=b3\" --header=\"Accept-Language: en-US,en;q=0.9\" --header=\"Referer: https://datahack.analyticsvidhya.com/contest/wns-analytics-wizard-2019/\" \"https://datahack-prod.s3.amazonaws.com/train_file/train_NA17Sgz.zip\" -O \"train_NA17Sgz.zip\" -c"
      ],
      "execution_count": 0,
      "outputs": []
    },
    {
      "cell_type": "code",
      "metadata": {
        "id": "KIKamdesWZJ-",
        "colab_type": "code",
        "colab": {}
      },
      "source": [
        "#! wget --header=\"Host: datahack-prod.s3.amazonaws.com\" --header=\"User-Agent: Mozilla/5.0 (Macintosh; Intel Mac OS X 10_14_6) AppleWebKit/537.36 (KHTML, like Gecko) Chrome/76.0.3809.100 Safari/537.36\" --header=\"Accept: text/html,application/xhtml+xml,application/xml;q=0.9,image/webp,image/apng,*/*;q=0.8,application/signed-exchange;v=b3\" --header=\"Accept-Language: en-US,en;q=0.9\" --header=\"Referer: https://datahack.analyticsvidhya.com/contest/wns-analytics-wizard-2019/\" \"https://datahack-prod.s3.amazonaws.com/test_file/test_aq1FGdB.zip\" -O \"test_aq1FGdB.zip\" -c"
      ],
      "execution_count": 0,
      "outputs": []
    },
    {
      "cell_type": "code",
      "metadata": {
        "id": "Uxx0kKHbTvVf",
        "colab_type": "code",
        "colab": {}
      },
      "source": [
        "import pandas as pd\n",
        "import numpy as np"
      ],
      "execution_count": 0,
      "outputs": []
    },
    {
      "cell_type": "code",
      "metadata": {
        "id": "QByrMGjLTvcb",
        "colab_type": "code",
        "colab": {}
      },
      "source": [
        "import zipfile\n",
        "#with zipfile.ZipFile(\"/content/train_NA17Sgz.zip\", 'r') as zip_ref:\n",
        " #   zip_ref.extractall(\"train\")"
      ],
      "execution_count": 0,
      "outputs": []
    },
    {
      "cell_type": "code",
      "metadata": {
        "id": "PAgvqlQNTnAL",
        "colab_type": "code",
        "colab": {}
      },
      "source": [
        "import zipfile\n",
        "#with zipfile.ZipFile(\"/content/test_aq1FGdB.zip\", 'r') as zip_ref:\n",
        " #   zip_ref.extractall(\"test\")"
      ],
      "execution_count": 0,
      "outputs": []
    },
    {
      "cell_type": "code",
      "metadata": {
        "id": "DFw7DPyIUdYb",
        "colab_type": "code",
        "colab": {}
      },
      "source": [
        "item = pd.read_csv(\"train/item_data.csv\")"
      ],
      "execution_count": 0,
      "outputs": []
    },
    {
      "cell_type": "code",
      "metadata": {
        "id": "vlUO1zHzUkTJ",
        "colab_type": "code",
        "outputId": "5719f9ee-2014-4755-aa52-0e52b52dc1ce",
        "colab": {
          "base_uri": "https://localhost:8080/",
          "height": 204
        }
      },
      "source": [
        "item.head(5)"
      ],
      "execution_count": 7,
      "outputs": [
        {
          "output_type": "execute_result",
          "data": {
            "text/html": [
              "<div>\n",
              "<style scoped>\n",
              "    .dataframe tbody tr th:only-of-type {\n",
              "        vertical-align: middle;\n",
              "    }\n",
              "\n",
              "    .dataframe tbody tr th {\n",
              "        vertical-align: top;\n",
              "    }\n",
              "\n",
              "    .dataframe thead th {\n",
              "        text-align: right;\n",
              "    }\n",
              "</style>\n",
              "<table border=\"1\" class=\"dataframe\">\n",
              "  <thead>\n",
              "    <tr style=\"text-align: right;\">\n",
              "      <th></th>\n",
              "      <th>item_id</th>\n",
              "      <th>item_price</th>\n",
              "      <th>category_1</th>\n",
              "      <th>category_2</th>\n",
              "      <th>category_3</th>\n",
              "      <th>product_type</th>\n",
              "    </tr>\n",
              "  </thead>\n",
              "  <tbody>\n",
              "    <tr>\n",
              "      <th>0</th>\n",
              "      <td>26880</td>\n",
              "      <td>4602</td>\n",
              "      <td>11</td>\n",
              "      <td>35</td>\n",
              "      <td>20</td>\n",
              "      <td>3040</td>\n",
              "    </tr>\n",
              "    <tr>\n",
              "      <th>1</th>\n",
              "      <td>54939</td>\n",
              "      <td>3513</td>\n",
              "      <td>12</td>\n",
              "      <td>57</td>\n",
              "      <td>85</td>\n",
              "      <td>6822</td>\n",
              "    </tr>\n",
              "    <tr>\n",
              "      <th>2</th>\n",
              "      <td>40383</td>\n",
              "      <td>825</td>\n",
              "      <td>17</td>\n",
              "      <td>8</td>\n",
              "      <td>279</td>\n",
              "      <td>1619</td>\n",
              "    </tr>\n",
              "    <tr>\n",
              "      <th>3</th>\n",
              "      <td>8777</td>\n",
              "      <td>2355</td>\n",
              "      <td>13</td>\n",
              "      <td>58</td>\n",
              "      <td>189</td>\n",
              "      <td>5264</td>\n",
              "    </tr>\n",
              "    <tr>\n",
              "      <th>4</th>\n",
              "      <td>113705</td>\n",
              "      <td>1267</td>\n",
              "      <td>17</td>\n",
              "      <td>39</td>\n",
              "      <td>151</td>\n",
              "      <td>10239</td>\n",
              "    </tr>\n",
              "  </tbody>\n",
              "</table>\n",
              "</div>"
            ],
            "text/plain": [
              "   item_id  item_price  category_1  category_2  category_3  product_type\n",
              "0    26880        4602          11          35          20          3040\n",
              "1    54939        3513          12          57          85          6822\n",
              "2    40383         825          17           8         279          1619\n",
              "3     8777        2355          13          58         189          5264\n",
              "4   113705        1267          17          39         151         10239"
            ]
          },
          "metadata": {
            "tags": []
          },
          "execution_count": 7
        }
      ]
    },
    {
      "cell_type": "code",
      "metadata": {
        "id": "9dwqS0qsUnP-",
        "colab_type": "code",
        "outputId": "af6cb957-d378-4875-f3c4-d0dbb2ad1dca",
        "colab": {
          "base_uri": "https://localhost:8080/",
          "height": 204
        }
      },
      "source": [
        "train = pd.read_csv(\"train/train.csv\")\n",
        "train.head(5)\n"
      ],
      "execution_count": 8,
      "outputs": [
        {
          "output_type": "execute_result",
          "data": {
            "text/html": [
              "<div>\n",
              "<style scoped>\n",
              "    .dataframe tbody tr th:only-of-type {\n",
              "        vertical-align: middle;\n",
              "    }\n",
              "\n",
              "    .dataframe tbody tr th {\n",
              "        vertical-align: top;\n",
              "    }\n",
              "\n",
              "    .dataframe thead th {\n",
              "        text-align: right;\n",
              "    }\n",
              "</style>\n",
              "<table border=\"1\" class=\"dataframe\">\n",
              "  <thead>\n",
              "    <tr style=\"text-align: right;\">\n",
              "      <th></th>\n",
              "      <th>impression_id</th>\n",
              "      <th>impression_time</th>\n",
              "      <th>user_id</th>\n",
              "      <th>app_code</th>\n",
              "      <th>os_version</th>\n",
              "      <th>is_4G</th>\n",
              "      <th>is_click</th>\n",
              "    </tr>\n",
              "  </thead>\n",
              "  <tbody>\n",
              "    <tr>\n",
              "      <th>0</th>\n",
              "      <td>c4ca4238a0b923820dcc509a6f75849b</td>\n",
              "      <td>2018-11-15 00:00:00</td>\n",
              "      <td>87862</td>\n",
              "      <td>422</td>\n",
              "      <td>old</td>\n",
              "      <td>0</td>\n",
              "      <td>0</td>\n",
              "    </tr>\n",
              "    <tr>\n",
              "      <th>1</th>\n",
              "      <td>45c48cce2e2d7fbdea1afc51c7c6ad26</td>\n",
              "      <td>2018-11-15 00:01:00</td>\n",
              "      <td>63410</td>\n",
              "      <td>467</td>\n",
              "      <td>latest</td>\n",
              "      <td>1</td>\n",
              "      <td>1</td>\n",
              "    </tr>\n",
              "    <tr>\n",
              "      <th>2</th>\n",
              "      <td>70efdf2ec9b086079795c442636b55fb</td>\n",
              "      <td>2018-11-15 00:02:00</td>\n",
              "      <td>71748</td>\n",
              "      <td>259</td>\n",
              "      <td>intermediate</td>\n",
              "      <td>1</td>\n",
              "      <td>0</td>\n",
              "    </tr>\n",
              "    <tr>\n",
              "      <th>3</th>\n",
              "      <td>8e296a067a37563370ded05f5a3bf3ec</td>\n",
              "      <td>2018-11-15 00:02:00</td>\n",
              "      <td>69209</td>\n",
              "      <td>244</td>\n",
              "      <td>latest</td>\n",
              "      <td>1</td>\n",
              "      <td>0</td>\n",
              "    </tr>\n",
              "    <tr>\n",
              "      <th>4</th>\n",
              "      <td>182be0c5cdcd5072bb1864cdee4d3d6e</td>\n",
              "      <td>2018-11-15 00:02:00</td>\n",
              "      <td>62873</td>\n",
              "      <td>473</td>\n",
              "      <td>latest</td>\n",
              "      <td>0</td>\n",
              "      <td>0</td>\n",
              "    </tr>\n",
              "  </tbody>\n",
              "</table>\n",
              "</div>"
            ],
            "text/plain": [
              "                      impression_id      impression_time  ...  is_4G  is_click\n",
              "0  c4ca4238a0b923820dcc509a6f75849b  2018-11-15 00:00:00  ...      0         0\n",
              "1  45c48cce2e2d7fbdea1afc51c7c6ad26  2018-11-15 00:01:00  ...      1         1\n",
              "2  70efdf2ec9b086079795c442636b55fb  2018-11-15 00:02:00  ...      1         0\n",
              "3  8e296a067a37563370ded05f5a3bf3ec  2018-11-15 00:02:00  ...      1         0\n",
              "4  182be0c5cdcd5072bb1864cdee4d3d6e  2018-11-15 00:02:00  ...      0         0\n",
              "\n",
              "[5 rows x 7 columns]"
            ]
          },
          "metadata": {
            "tags": []
          },
          "execution_count": 8
        }
      ]
    },
    {
      "cell_type": "code",
      "metadata": {
        "id": "hg8CaBeFHF3Q",
        "colab_type": "code",
        "outputId": "5700727c-3c5e-4d2f-9306-f33de04fae9a",
        "colab": {
          "base_uri": "https://localhost:8080/",
          "height": 297
        }
      },
      "source": [
        "train.describe()"
      ],
      "execution_count": 9,
      "outputs": [
        {
          "output_type": "execute_result",
          "data": {
            "text/html": [
              "<div>\n",
              "<style scoped>\n",
              "    .dataframe tbody tr th:only-of-type {\n",
              "        vertical-align: middle;\n",
              "    }\n",
              "\n",
              "    .dataframe tbody tr th {\n",
              "        vertical-align: top;\n",
              "    }\n",
              "\n",
              "    .dataframe thead th {\n",
              "        text-align: right;\n",
              "    }\n",
              "</style>\n",
              "<table border=\"1\" class=\"dataframe\">\n",
              "  <thead>\n",
              "    <tr style=\"text-align: right;\">\n",
              "      <th></th>\n",
              "      <th>user_id</th>\n",
              "      <th>app_code</th>\n",
              "      <th>is_4G</th>\n",
              "      <th>is_click</th>\n",
              "    </tr>\n",
              "  </thead>\n",
              "  <tbody>\n",
              "    <tr>\n",
              "      <th>count</th>\n",
              "      <td>237609.000000</td>\n",
              "      <td>237609.000000</td>\n",
              "      <td>237609.000000</td>\n",
              "      <td>237609.000000</td>\n",
              "    </tr>\n",
              "    <tr>\n",
              "      <th>mean</th>\n",
              "      <td>46454.526828</td>\n",
              "      <td>249.099971</td>\n",
              "      <td>0.361312</td>\n",
              "      <td>0.045714</td>\n",
              "    </tr>\n",
              "    <tr>\n",
              "      <th>std</th>\n",
              "      <td>26802.726666</td>\n",
              "      <td>135.213609</td>\n",
              "      <td>0.480382</td>\n",
              "      <td>0.208864</td>\n",
              "    </tr>\n",
              "    <tr>\n",
              "      <th>min</th>\n",
              "      <td>0.000000</td>\n",
              "      <td>0.000000</td>\n",
              "      <td>0.000000</td>\n",
              "      <td>0.000000</td>\n",
              "    </tr>\n",
              "    <tr>\n",
              "      <th>25%</th>\n",
              "      <td>23197.000000</td>\n",
              "      <td>163.000000</td>\n",
              "      <td>0.000000</td>\n",
              "      <td>0.000000</td>\n",
              "    </tr>\n",
              "    <tr>\n",
              "      <th>50%</th>\n",
              "      <td>46597.000000</td>\n",
              "      <td>213.000000</td>\n",
              "      <td>0.000000</td>\n",
              "      <td>0.000000</td>\n",
              "    </tr>\n",
              "    <tr>\n",
              "      <th>75%</th>\n",
              "      <td>69684.000000</td>\n",
              "      <td>385.000000</td>\n",
              "      <td>1.000000</td>\n",
              "      <td>0.000000</td>\n",
              "    </tr>\n",
              "    <tr>\n",
              "      <th>max</th>\n",
              "      <td>92586.000000</td>\n",
              "      <td>522.000000</td>\n",
              "      <td>1.000000</td>\n",
              "      <td>1.000000</td>\n",
              "    </tr>\n",
              "  </tbody>\n",
              "</table>\n",
              "</div>"
            ],
            "text/plain": [
              "             user_id       app_code          is_4G       is_click\n",
              "count  237609.000000  237609.000000  237609.000000  237609.000000\n",
              "mean    46454.526828     249.099971       0.361312       0.045714\n",
              "std     26802.726666     135.213609       0.480382       0.208864\n",
              "min         0.000000       0.000000       0.000000       0.000000\n",
              "25%     23197.000000     163.000000       0.000000       0.000000\n",
              "50%     46597.000000     213.000000       0.000000       0.000000\n",
              "75%     69684.000000     385.000000       1.000000       0.000000\n",
              "max     92586.000000     522.000000       1.000000       1.000000"
            ]
          },
          "metadata": {
            "tags": []
          },
          "execution_count": 9
        }
      ]
    },
    {
      "cell_type": "code",
      "metadata": {
        "id": "3qeSYBEeHbqQ",
        "colab_type": "code",
        "outputId": "6f2bbacf-7464-499a-bc23-37144d42bd81",
        "colab": {
          "base_uri": "https://localhost:8080/",
          "height": 331
        }
      },
      "source": [
        "%matplotlib inline\n",
        "\n",
        "train.groupby('is_click').size().plot(kind = 'bar')\n",
        "rows = train.shape[0]\n",
        "\n",
        "click_through_rate = train['is_click'].value_counts()/rows \n",
        "\n",
        "click_through_rate\n"
      ],
      "execution_count": 10,
      "outputs": [
        {
          "output_type": "execute_result",
          "data": {
            "text/plain": [
              "0    0.954286\n",
              "1    0.045714\n",
              "Name: is_click, dtype: float64"
            ]
          },
          "metadata": {
            "tags": []
          },
          "execution_count": 10
        },
        {
          "output_type": "display_data",
          "data": {
            "image/png": "[encoded data removed]",
            "text/plain": [
              "<Figure size 432x288 with 1 Axes>"
            ]
          },
          "metadata": {
            "tags": []
          }
        }
      ]
    },
    {
      "cell_type": "code",
      "metadata": {
        "id": "1NXkkHw-U1gx",
        "colab_type": "code",
        "outputId": "8db6d306-3574-488e-deb5-20b511aba038",
        "colab": {
          "base_uri": "https://localhost:8080/",
          "height": 204
        }
      },
      "source": [
        "view_log = pd.read_csv(\"train/view_log.csv\")\n",
        "view_log.head(5)"
      ],
      "execution_count": 11,
      "outputs": [
        {
          "output_type": "execute_result",
          "data": {
            "text/html": [
              "<div>\n",
              "<style scoped>\n",
              "    .dataframe tbody tr th:only-of-type {\n",
              "        vertical-align: middle;\n",
              "    }\n",
              "\n",
              "    .dataframe tbody tr th {\n",
              "        vertical-align: top;\n",
              "    }\n",
              "\n",
              "    .dataframe thead th {\n",
              "        text-align: right;\n",
              "    }\n",
              "</style>\n",
              "<table border=\"1\" class=\"dataframe\">\n",
              "  <thead>\n",
              "    <tr style=\"text-align: right;\">\n",
              "      <th></th>\n",
              "      <th>server_time</th>\n",
              "      <th>device_type</th>\n",
              "      <th>session_id</th>\n",
              "      <th>user_id</th>\n",
              "      <th>item_id</th>\n",
              "    </tr>\n",
              "  </thead>\n",
              "  <tbody>\n",
              "    <tr>\n",
              "      <th>0</th>\n",
              "      <td>2018-10-15 08:58:00</td>\n",
              "      <td>android</td>\n",
              "      <td>112333</td>\n",
              "      <td>4557</td>\n",
              "      <td>32970</td>\n",
              "    </tr>\n",
              "    <tr>\n",
              "      <th>1</th>\n",
              "      <td>2018-10-15 08:58:00</td>\n",
              "      <td>android</td>\n",
              "      <td>503590</td>\n",
              "      <td>74788</td>\n",
              "      <td>7640</td>\n",
              "    </tr>\n",
              "    <tr>\n",
              "      <th>2</th>\n",
              "      <td>2018-10-15 08:58:00</td>\n",
              "      <td>android</td>\n",
              "      <td>573960</td>\n",
              "      <td>23628</td>\n",
              "      <td>128855</td>\n",
              "    </tr>\n",
              "    <tr>\n",
              "      <th>3</th>\n",
              "      <td>2018-10-15 08:58:00</td>\n",
              "      <td>android</td>\n",
              "      <td>121691</td>\n",
              "      <td>2430</td>\n",
              "      <td>12774</td>\n",
              "    </tr>\n",
              "    <tr>\n",
              "      <th>4</th>\n",
              "      <td>2018-10-15 08:58:00</td>\n",
              "      <td>android</td>\n",
              "      <td>218564</td>\n",
              "      <td>19227</td>\n",
              "      <td>28296</td>\n",
              "    </tr>\n",
              "  </tbody>\n",
              "</table>\n",
              "</div>"
            ],
            "text/plain": [
              "           server_time device_type  session_id  user_id  item_id\n",
              "0  2018-10-15 08:58:00     android      112333     4557    32970\n",
              "1  2018-10-15 08:58:00     android      503590    74788     7640\n",
              "2  2018-10-15 08:58:00     android      573960    23628   128855\n",
              "3  2018-10-15 08:58:00     android      121691     2430    12774\n",
              "4  2018-10-15 08:58:00     android      218564    19227    28296"
            ]
          },
          "metadata": {
            "tags": []
          },
          "execution_count": 11
        }
      ]
    },
    {
      "cell_type": "code",
      "metadata": {
        "id": "KRkuXYnRVK_Z",
        "colab_type": "code",
        "outputId": "3b98c983-7e01-4c22-dc31-0d43f4df006b",
        "colab": {
          "base_uri": "https://localhost:8080/",
          "height": 204
        }
      },
      "source": [
        "test = pd.read_csv(\"test/test.csv\")\n",
        "test.head(5)"
      ],
      "execution_count": 12,
      "outputs": [
        {
          "output_type": "execute_result",
          "data": {
            "text/html": [
              "<div>\n",
              "<style scoped>\n",
              "    .dataframe tbody tr th:only-of-type {\n",
              "        vertical-align: middle;\n",
              "    }\n",
              "\n",
              "    .dataframe tbody tr th {\n",
              "        vertical-align: top;\n",
              "    }\n",
              "\n",
              "    .dataframe thead th {\n",
              "        text-align: right;\n",
              "    }\n",
              "</style>\n",
              "<table border=\"1\" class=\"dataframe\">\n",
              "  <thead>\n",
              "    <tr style=\"text-align: right;\">\n",
              "      <th></th>\n",
              "      <th>impression_id</th>\n",
              "      <th>impression_time</th>\n",
              "      <th>user_id</th>\n",
              "      <th>app_code</th>\n",
              "      <th>os_version</th>\n",
              "      <th>is_4G</th>\n",
              "    </tr>\n",
              "  </thead>\n",
              "  <tbody>\n",
              "    <tr>\n",
              "      <th>0</th>\n",
              "      <td>a9e7126a585a69a32bc7414e9d0c0ada</td>\n",
              "      <td>2018-12-13 07:44:00</td>\n",
              "      <td>44754</td>\n",
              "      <td>127</td>\n",
              "      <td>latest</td>\n",
              "      <td>1</td>\n",
              "    </tr>\n",
              "    <tr>\n",
              "      <th>1</th>\n",
              "      <td>caac14a5bf2ba283db7708bb34855760</td>\n",
              "      <td>2018-12-13 07:45:00</td>\n",
              "      <td>29656</td>\n",
              "      <td>44</td>\n",
              "      <td>latest</td>\n",
              "      <td>0</td>\n",
              "    </tr>\n",
              "    <tr>\n",
              "      <th>2</th>\n",
              "      <td>13f10ba306a19ce7bec2f3cae507b698</td>\n",
              "      <td>2018-12-13 07:46:00</td>\n",
              "      <td>25234</td>\n",
              "      <td>296</td>\n",
              "      <td>latest</td>\n",
              "      <td>1</td>\n",
              "    </tr>\n",
              "    <tr>\n",
              "      <th>3</th>\n",
              "      <td>39c4b4dc0e9701b55a0a4f072008fb3f</td>\n",
              "      <td>2018-12-13 07:47:00</td>\n",
              "      <td>22988</td>\n",
              "      <td>207</td>\n",
              "      <td>latest</td>\n",
              "      <td>1</td>\n",
              "    </tr>\n",
              "    <tr>\n",
              "      <th>4</th>\n",
              "      <td>bf5a572cca75f5fc67f4b14e58b11d70</td>\n",
              "      <td>2018-12-13 07:48:00</td>\n",
              "      <td>35431</td>\n",
              "      <td>242</td>\n",
              "      <td>latest</td>\n",
              "      <td>1</td>\n",
              "    </tr>\n",
              "  </tbody>\n",
              "</table>\n",
              "</div>"
            ],
            "text/plain": [
              "                      impression_id      impression_time  ...  os_version  is_4G\n",
              "0  a9e7126a585a69a32bc7414e9d0c0ada  2018-12-13 07:44:00  ...      latest      1\n",
              "1  caac14a5bf2ba283db7708bb34855760  2018-12-13 07:45:00  ...      latest      0\n",
              "2  13f10ba306a19ce7bec2f3cae507b698  2018-12-13 07:46:00  ...      latest      1\n",
              "3  39c4b4dc0e9701b55a0a4f072008fb3f  2018-12-13 07:47:00  ...      latest      1\n",
              "4  bf5a572cca75f5fc67f4b14e58b11d70  2018-12-13 07:48:00  ...      latest      1\n",
              "\n",
              "[5 rows x 6 columns]"
            ]
          },
          "metadata": {
            "tags": []
          },
          "execution_count": 12
        }
      ]
    },
    {
      "cell_type": "code",
      "metadata": {
        "id": "M7_hVMwMV6kZ",
        "colab_type": "code",
        "outputId": "7b00acea-17f0-41a5-c065-3f45bc778c03",
        "colab": {
          "base_uri": "https://localhost:8080/",
          "height": 34
        }
      },
      "source": [
        "train.shape, item.shape, view_log.shape, test.shape"
      ],
      "execution_count": 13,
      "outputs": [
        {
          "output_type": "execute_result",
          "data": {
            "text/plain": [
              "((237609, 7), (132761, 6), (3118622, 5), (90675, 6))"
            ]
          },
          "metadata": {
            "tags": []
          },
          "execution_count": 13
        }
      ]
    },
    {
      "cell_type": "code",
      "metadata": {
        "id": "T7AhyMfFZs8t",
        "colab_type": "code",
        "colab": {}
      },
      "source": [
        "target = train[\"is_click\"] \n",
        "train.drop(['is_click'], axis=1, inplace=True)\n",
        "test_1 = test.copy()"
      ],
      "execution_count": 0,
      "outputs": []
    },
    {
      "cell_type": "code",
      "metadata": {
        "id": "Zs-GHya-cD0V",
        "colab_type": "code",
        "colab": {}
      },
      "source": [
        "train_data = pd.merge(train, view_log,  on='user_id', how=\"left\")"
      ],
      "execution_count": 0,
      "outputs": []
    },
    {
      "cell_type": "code",
      "metadata": {
        "id": "oZLt41fTcD9W",
        "colab_type": "code",
        "outputId": "dda26883-9a79-4234-ff6c-7b63c79b165c",
        "colab": {
          "base_uri": "https://localhost:8080/",
          "height": 34
        }
      },
      "source": [
        "train_data = pd.merge(train_data, item, on=\"item_id\", how=\"left\")\n",
        "train_data.shape"
      ],
      "execution_count": 16,
      "outputs": [
        {
          "output_type": "execute_result",
          "data": {
            "text/plain": [
              "(11052882, 15)"
            ]
          },
          "metadata": {
            "tags": []
          },
          "execution_count": 16
        }
      ]
    },
    {
      "cell_type": "code",
      "metadata": {
        "id": "6KufTdpY5_KY",
        "colab_type": "code",
        "colab": {}
      },
      "source": [
        "def noon_or(c):\n",
        "  noon_or_not = []\n",
        "  for i in c:\n",
        "    if i>=6 and i<10:\n",
        "      noon_or_not.append(\"morning\")\n",
        "    elif i>=10 and i<14:\n",
        "      noon_or_not.append(\"noon\")\n",
        "    elif i>=14 and i<18:\n",
        "      noon_or_not.append(\"evening\")\n",
        "    elif i>=18 and i<24:\n",
        "      noon_or_not.append(\"evening\")  \n",
        "    else:\n",
        "      noon_or_not.append(\"midnignt\")\n",
        "  return noon_or_not    "
      ],
      "execution_count": 0,
      "outputs": []
    },
    {
      "cell_type": "code",
      "metadata": {
        "id": "whCg_bNl0-p2",
        "colab_type": "code",
        "outputId": "b63a051c-8b8a-4430-bcfb-f3ff3afacc28",
        "colab": {
          "base_uri": "https://localhost:8080/",
          "height": 34
        }
      },
      "source": [
        "train_1= train_data.groupby(train_data.impression_id).agg({\"impression_id\":[\"count\"]})[\"impression_id\"].reset_index()\n",
        "train_data = pd.merge(train_data, train_1, on=\"impression_id\", how=\"left\")\n",
        "print(train_data.shape)\n",
        "\n",
        "\n"
      ],
      "execution_count": 18,
      "outputs": [
        {
          "output_type": "stream",
          "text": [
            "(11052882, 16)\n"
          ],
          "name": "stdout"
        }
      ]
    },
    {
      "cell_type": "code",
      "metadata": {
        "id": "C-6C7Cr65bwH",
        "colab_type": "code",
        "colab": {}
      },
      "source": [
        "#import datetime\n",
        "#train_data[\"impression_time\"] = pd.to_datetime(train_data[\"impression_time\"])\n",
        "#train_data[\"server_time\"] = pd.to_datetime(train_data[\"server_time\"])\n"
      ],
      "execution_count": 0,
      "outputs": []
    },
    {
      "cell_type": "code",
      "metadata": {
        "id": "YOjVsQa75yyD",
        "colab_type": "code",
        "colab": {}
      },
      "source": [
        "#train_data['day_imp'] = pd.DatetimeIndex(train_data['impression_time']).day\n",
        "#train_data['day_ser'] = pd.DatetimeIndex(train_data['server_time']).day\n",
        "#train_data['month_imp'] = pd.DatetimeIndex(train_data['impression_time']).month\n",
        "#train_data['month_ser'] = pd.DatetimeIndex(train_data['server_time']).month\n",
        "#train_data['minute_imp'] = pd.DatetimeIndex(train_data['impression_time']).minute\n",
        "#train_data['minute_ser'] = pd.DatetimeIndex(train_data['server_time']).minute\n",
        "#train_data['hour_imp'] = pd.DatetimeIndex(train_data['impression_time']).hour\n",
        "#train_data['hour_ser'] = pd.DatetimeIndex(train_data['server_time']).hour\n"
      ],
      "execution_count": 0,
      "outputs": []
    },
    {
      "cell_type": "code",
      "metadata": {
        "id": "PxkO7WhBBtya",
        "colab_type": "code",
        "outputId": "2cdfebed-0ca2-4488-d872-4bb3059dc78a",
        "colab": {
          "base_uri": "https://localhost:8080/",
          "height": 165
        }
      },
      "source": [
        "train_data.head(2)"
      ],
      "execution_count": 19,
      "outputs": [
        {
          "output_type": "execute_result",
          "data": {
            "text/html": [
              "<div>\n",
              "<style scoped>\n",
              "    .dataframe tbody tr th:only-of-type {\n",
              "        vertical-align: middle;\n",
              "    }\n",
              "\n",
              "    .dataframe tbody tr th {\n",
              "        vertical-align: top;\n",
              "    }\n",
              "\n",
              "    .dataframe thead th {\n",
              "        text-align: right;\n",
              "    }\n",
              "</style>\n",
              "<table border=\"1\" class=\"dataframe\">\n",
              "  <thead>\n",
              "    <tr style=\"text-align: right;\">\n",
              "      <th></th>\n",
              "      <th>impression_id</th>\n",
              "      <th>impression_time</th>\n",
              "      <th>user_id</th>\n",
              "      <th>app_code</th>\n",
              "      <th>os_version</th>\n",
              "      <th>is_4G</th>\n",
              "      <th>server_time</th>\n",
              "      <th>device_type</th>\n",
              "      <th>session_id</th>\n",
              "      <th>item_id</th>\n",
              "      <th>item_price</th>\n",
              "      <th>category_1</th>\n",
              "      <th>category_2</th>\n",
              "      <th>category_3</th>\n",
              "      <th>product_type</th>\n",
              "      <th>count</th>\n",
              "    </tr>\n",
              "  </thead>\n",
              "  <tbody>\n",
              "    <tr>\n",
              "      <th>0</th>\n",
              "      <td>c4ca4238a0b923820dcc509a6f75849b</td>\n",
              "      <td>2018-11-15 00:00:00</td>\n",
              "      <td>87862</td>\n",
              "      <td>422</td>\n",
              "      <td>old</td>\n",
              "      <td>0</td>\n",
              "      <td>2018-10-19 18:11:00</td>\n",
              "      <td>android</td>\n",
              "      <td>190710</td>\n",
              "      <td>43886</td>\n",
              "      <td>2350.0</td>\n",
              "      <td>11.0</td>\n",
              "      <td>35.0</td>\n",
              "      <td>20.0</td>\n",
              "      <td>5622.0</td>\n",
              "      <td>1</td>\n",
              "    </tr>\n",
              "    <tr>\n",
              "      <th>1</th>\n",
              "      <td>45c48cce2e2d7fbdea1afc51c7c6ad26</td>\n",
              "      <td>2018-11-15 00:01:00</td>\n",
              "      <td>63410</td>\n",
              "      <td>467</td>\n",
              "      <td>latest</td>\n",
              "      <td>1</td>\n",
              "      <td>2018-10-21 06:13:00</td>\n",
              "      <td>android</td>\n",
              "      <td>356854</td>\n",
              "      <td>43209</td>\n",
              "      <td>3421.0</td>\n",
              "      <td>4.0</td>\n",
              "      <td>74.0</td>\n",
              "      <td>292.0</td>\n",
              "      <td>577.0</td>\n",
              "      <td>12</td>\n",
              "    </tr>\n",
              "  </tbody>\n",
              "</table>\n",
              "</div>"
            ],
            "text/plain": [
              "                      impression_id      impression_time  ...  product_type  count\n",
              "0  c4ca4238a0b923820dcc509a6f75849b  2018-11-15 00:00:00  ...        5622.0      1\n",
              "1  45c48cce2e2d7fbdea1afc51c7c6ad26  2018-11-15 00:01:00  ...         577.0     12\n",
              "\n",
              "[2 rows x 16 columns]"
            ]
          },
          "metadata": {
            "tags": []
          },
          "execution_count": 19
        }
      ]
    },
    {
      "cell_type": "code",
      "metadata": {
        "id": "QZsju9vW6QwM",
        "colab_type": "code",
        "colab": {}
      },
      "source": [
        "#train_data[\"noon_ser\"] = noon_or(train_data[\"hour_ser\"])\n",
        "#train_data[\"noon_imp\"] = noon_or(train_data[\"hour_imp\"])"
      ],
      "execution_count": 0,
      "outputs": []
    },
    {
      "cell_type": "code",
      "metadata": {
        "id": "FsS7lDTp6hWZ",
        "colab_type": "code",
        "colab": {}
      },
      "source": [
        "#train_1= train_data.groupby(train_data.noon_ser).agg({\"noon_ser\":[\"count\"]})[\"noon_ser\"].reset_index()\n",
        "#train_data = pd.merge(train_data, train_1, on=\"noon_ser\", how=\"left\")\n",
        "\n",
        "#train_1= train_data.groupby(train_data.noon_imp).agg({\"noon_imp\":[\"count\"]})[\"noon_imp\"].reset_index()\n",
        "#train_data = pd.merge(train_data, train_1, on=\"noon_imp\", how=\"left\")\n",
        "\n",
        "#train_1= train_data.groupby(train_data.day_imp).agg({\"day_imp\":[\"count\"]})[\"day_imp\"].reset_index()\n",
        "#train_data = pd.merge(train_data, train_1, on=\"day_imp\", how=\"left\")\n",
        "\n",
        "#train_1= train_data.groupby(train_data.day_ser).agg({\"day_ser\":[\"count\"]})[\"day_ser\"].reset_index()\n",
        "#train_data = pd.merge(train_data, train_1, on=\"day_ser\", how=\"left\")\n",
        "\n",
        "#print(train_data.shape)\n",
        "\n",
        "\n"
      ],
      "execution_count": 0,
      "outputs": []
    },
    {
      "cell_type": "code",
      "metadata": {
        "id": "lUjf4QoswQcS",
        "colab_type": "code",
        "colab": {}
      },
      "source": [
        "#train_data.drop_duplicates(subset=[\"impression_id\"], keep=\"first\", inplace=True)\n"
      ],
      "execution_count": 0,
      "outputs": []
    },
    {
      "cell_type": "code",
      "metadata": {
        "id": "xDNDAZ-VnzBw",
        "colab_type": "code",
        "colab": {}
      },
      "source": [
        "#train_data[\"ctr\"] = train_data[\"item_price\"]/train_data[\"count\"]\n",
        "#train_data[\"cat_new1\"] = train_data[\"category_1\"]/train_data[\"count\"]\n",
        "#train_data[\"cat_new2\"] = train_data[\"category_2\"]/train_data[\"count\"]\n",
        "#train_data[\"cat_new3\"] = train_data[\"category_3\"]/train_data[\"count\"]\n",
        "\n",
        "#train_1= train_data.groupby(train_data.app_code).agg({\"app_code\":[\"count\"]})[\"app_code\"].reset_index()\n",
        "#train_data = pd.merge(train_data, train_1, on=\"app_code\", how=\"left\")\n",
        "#print(train_data.shape)\n",
        "\n",
        "#train_1= train_data.groupby(train_data.category_1).agg({\"category_1\":[\"count\"]})[\"category_1\"].reset_index()\n",
        "#train_data = pd.merge(train_data, train_1, on=\"category_1\", how=\"left\")\n",
        "#print(train_data.shape)\n",
        "\n",
        "#train_1= train_data.groupby(train_data.category_2).agg({\"category_2\":[\"count\"]})[\"category_2\"].reset_index()\n",
        "#train_data = pd.merge(train_data, train_1, on=\"category_2\", how=\"left\")\n",
        "#print(train_data.shape)\n",
        "\n",
        "#train_1= train_data.groupby(train_data.category_3).agg({\"category_3\":[\"count\"]})[\"category_3\"].reset_index()\n",
        "#train_data = pd.merge(train_data, train_1, on=\"category_3\", how=\"left\")\n",
        "#print(train_data.shape)\n",
        "\n",
        "#train_1= train_data.groupby(train_data.product_type).agg({\"product_type\":[\"count\"]})[\"product_type\"].reset_index()\n",
        "#train_data = pd.merge(train_data, train_1, on=\"product_type\", how=\"left\")\n",
        "#print(train_data.shape)\n",
        "\n",
        "#train_1= train_data.groupby(train_data.device_type).agg({\"device_type\":[\"count\"]})[\"device_type\"].reset_index()\n",
        "#train_data = pd.merge(train_data, train_1, on=\"device_type\", how=\"left\")\n",
        "#print(train_data.shape)\n",
        "\n",
        "#train_1= train_data.groupby(train_data.os_version).agg({\"os_version\":[\"count\"]})[\"os_version\"].reset_index()\n",
        "#train_data = pd.merge(train_data, train_1, on=\"os_version\", how=\"left\")\n",
        "#print(train_data.shape)\n",
        "\n",
        "#train_1= train_data.groupby(train_data.user_id).agg({\"user_id\":[\"count\"]})[\"user_id\"].reset_index()\n",
        "#train_data = pd.merge(train_data, train_1, on=\"user_id\", how=\"left\")\n",
        "#print(train_data.shape)\n",
        "\n",
        "#train_1= train_data.groupby(train_data.item_id).agg({\"item_id\":[\"count\"]})[\"item_id\"].reset_index()\n",
        "#train_data = pd.merge(train_data, train_1, on=\"item_id\", how=\"left\")\n",
        "#print(train_data.shape)\n",
        "\n",
        "\n",
        "\n",
        "\n"
      ],
      "execution_count": 0,
      "outputs": []
    },
    {
      "cell_type": "code",
      "metadata": {
        "id": "lJe48vDPXjdB",
        "colab_type": "code",
        "outputId": "533c0373-ff8c-48ee-8c1c-9518edbeb368",
        "colab": {
          "base_uri": "https://localhost:8080/",
          "height": 34
        }
      },
      "source": [
        "train_data.shape"
      ],
      "execution_count": 21,
      "outputs": [
        {
          "output_type": "execute_result",
          "data": {
            "text/plain": [
              "(11052882, 16)"
            ]
          },
          "metadata": {
            "tags": []
          },
          "execution_count": 21
        }
      ]
    },
    {
      "cell_type": "code",
      "metadata": {
        "id": "qsLFODNg70pG",
        "colab_type": "code",
        "colab": {}
      },
      "source": [
        "#train_data[\"impression\"] = train_data[\"impression_id\"].value_counts()"
      ],
      "execution_count": 0,
      "outputs": []
    },
    {
      "cell_type": "code",
      "metadata": {
        "id": "PtJRTEQOcsre",
        "colab_type": "code",
        "outputId": "d7343c5e-c1fe-4f85-d9c8-cf9d8ccb0bab",
        "colab": {
          "base_uri": "https://localhost:8080/",
          "height": 309
        }
      },
      "source": [
        "train_data.head(5)"
      ],
      "execution_count": 23,
      "outputs": [
        {
          "output_type": "execute_result",
          "data": {
            "text/html": [
              "<div>\n",
              "<style scoped>\n",
              "    .dataframe tbody tr th:only-of-type {\n",
              "        vertical-align: middle;\n",
              "    }\n",
              "\n",
              "    .dataframe tbody tr th {\n",
              "        vertical-align: top;\n",
              "    }\n",
              "\n",
              "    .dataframe thead th {\n",
              "        text-align: right;\n",
              "    }\n",
              "</style>\n",
              "<table border=\"1\" class=\"dataframe\">\n",
              "  <thead>\n",
              "    <tr style=\"text-align: right;\">\n",
              "      <th></th>\n",
              "      <th>impression_id</th>\n",
              "      <th>impression_time</th>\n",
              "      <th>user_id</th>\n",
              "      <th>app_code</th>\n",
              "      <th>os_version</th>\n",
              "      <th>is_4G</th>\n",
              "      <th>server_time</th>\n",
              "      <th>device_type</th>\n",
              "      <th>session_id</th>\n",
              "      <th>item_id</th>\n",
              "      <th>item_price</th>\n",
              "      <th>category_1</th>\n",
              "      <th>category_2</th>\n",
              "      <th>category_3</th>\n",
              "      <th>product_type</th>\n",
              "      <th>count</th>\n",
              "    </tr>\n",
              "  </thead>\n",
              "  <tbody>\n",
              "    <tr>\n",
              "      <th>0</th>\n",
              "      <td>c4ca4238a0b923820dcc509a6f75849b</td>\n",
              "      <td>2018-11-15 00:00:00</td>\n",
              "      <td>87862</td>\n",
              "      <td>422</td>\n",
              "      <td>old</td>\n",
              "      <td>0</td>\n",
              "      <td>2018-10-19 18:11:00</td>\n",
              "      <td>android</td>\n",
              "      <td>190710</td>\n",
              "      <td>43886</td>\n",
              "      <td>2350.0</td>\n",
              "      <td>11.0</td>\n",
              "      <td>35.0</td>\n",
              "      <td>20.0</td>\n",
              "      <td>5622.0</td>\n",
              "      <td>1</td>\n",
              "    </tr>\n",
              "    <tr>\n",
              "      <th>1</th>\n",
              "      <td>45c48cce2e2d7fbdea1afc51c7c6ad26</td>\n",
              "      <td>2018-11-15 00:01:00</td>\n",
              "      <td>63410</td>\n",
              "      <td>467</td>\n",
              "      <td>latest</td>\n",
              "      <td>1</td>\n",
              "      <td>2018-10-21 06:13:00</td>\n",
              "      <td>android</td>\n",
              "      <td>356854</td>\n",
              "      <td>43209</td>\n",
              "      <td>3421.0</td>\n",
              "      <td>4.0</td>\n",
              "      <td>74.0</td>\n",
              "      <td>292.0</td>\n",
              "      <td>577.0</td>\n",
              "      <td>12</td>\n",
              "    </tr>\n",
              "    <tr>\n",
              "      <th>2</th>\n",
              "      <td>45c48cce2e2d7fbdea1afc51c7c6ad26</td>\n",
              "      <td>2018-11-15 00:01:00</td>\n",
              "      <td>63410</td>\n",
              "      <td>467</td>\n",
              "      <td>latest</td>\n",
              "      <td>1</td>\n",
              "      <td>2018-10-21 06:13:00</td>\n",
              "      <td>android</td>\n",
              "      <td>356854</td>\n",
              "      <td>66370</td>\n",
              "      <td>14166.0</td>\n",
              "      <td>4.0</td>\n",
              "      <td>74.0</td>\n",
              "      <td>292.0</td>\n",
              "      <td>3399.0</td>\n",
              "      <td>12</td>\n",
              "    </tr>\n",
              "    <tr>\n",
              "      <th>3</th>\n",
              "      <td>45c48cce2e2d7fbdea1afc51c7c6ad26</td>\n",
              "      <td>2018-11-15 00:01:00</td>\n",
              "      <td>63410</td>\n",
              "      <td>467</td>\n",
              "      <td>latest</td>\n",
              "      <td>1</td>\n",
              "      <td>2018-10-21 17:01:00</td>\n",
              "      <td>android</td>\n",
              "      <td>345289</td>\n",
              "      <td>43209</td>\n",
              "      <td>3421.0</td>\n",
              "      <td>4.0</td>\n",
              "      <td>74.0</td>\n",
              "      <td>292.0</td>\n",
              "      <td>577.0</td>\n",
              "      <td>12</td>\n",
              "    </tr>\n",
              "    <tr>\n",
              "      <th>4</th>\n",
              "      <td>45c48cce2e2d7fbdea1afc51c7c6ad26</td>\n",
              "      <td>2018-11-15 00:01:00</td>\n",
              "      <td>63410</td>\n",
              "      <td>467</td>\n",
              "      <td>latest</td>\n",
              "      <td>1</td>\n",
              "      <td>2018-10-22 09:54:00</td>\n",
              "      <td>android</td>\n",
              "      <td>406658</td>\n",
              "      <td>43209</td>\n",
              "      <td>3421.0</td>\n",
              "      <td>4.0</td>\n",
              "      <td>74.0</td>\n",
              "      <td>292.0</td>\n",
              "      <td>577.0</td>\n",
              "      <td>12</td>\n",
              "    </tr>\n",
              "  </tbody>\n",
              "</table>\n",
              "</div>"
            ],
            "text/plain": [
              "                      impression_id      impression_time  ...  product_type  count\n",
              "0  c4ca4238a0b923820dcc509a6f75849b  2018-11-15 00:00:00  ...        5622.0      1\n",
              "1  45c48cce2e2d7fbdea1afc51c7c6ad26  2018-11-15 00:01:00  ...         577.0     12\n",
              "2  45c48cce2e2d7fbdea1afc51c7c6ad26  2018-11-15 00:01:00  ...        3399.0     12\n",
              "3  45c48cce2e2d7fbdea1afc51c7c6ad26  2018-11-15 00:01:00  ...         577.0     12\n",
              "4  45c48cce2e2d7fbdea1afc51c7c6ad26  2018-11-15 00:01:00  ...         577.0     12\n",
              "\n",
              "[5 rows x 16 columns]"
            ]
          },
          "metadata": {
            "tags": []
          },
          "execution_count": 23
        }
      ]
    },
    {
      "cell_type": "code",
      "metadata": {
        "id": "AbyWPTPQc0NT",
        "colab_type": "code",
        "outputId": "fa6ddc4c-8212-43c7-dd3d-5cefe34c89b5",
        "colab": {
          "base_uri": "https://localhost:8080/",
          "height": 51
        }
      },
      "source": [
        "test_data = pd.merge(test, view_log,  on='user_id', how=\"left\")\n",
        "print(test_data.shape)\n",
        "test_data = pd.merge(test_data, item, on=\"item_id\", how=\"left\")\n",
        "print(test_data.shape)\n",
        "#test_data = pd.merge(test_data, item, on=\"item_id\")"
      ],
      "execution_count": 24,
      "outputs": [
        {
          "output_type": "stream",
          "text": [
            "(3871697, 10)\n",
            "(3871697, 15)\n"
          ],
          "name": "stdout"
        }
      ]
    },
    {
      "cell_type": "code",
      "metadata": {
        "id": "zAU0helD2bEZ",
        "colab_type": "code",
        "outputId": "043ab3e0-ecd3-4954-be38-0ba3a12da532",
        "colab": {
          "base_uri": "https://localhost:8080/",
          "height": 34
        }
      },
      "source": [
        "test_2= test_data.groupby(test_data.impression_id).agg({\"impression_id\":[\"count\"]})[\"impression_id\"].reset_index()\n",
        "test_data = pd.merge(test_data, test_2, on=\"impression_id\", how=\"left\")\n",
        "print(test_data.shape)\n",
        "\n"
      ],
      "execution_count": 25,
      "outputs": [
        {
          "output_type": "stream",
          "text": [
            "(3871697, 16)\n"
          ],
          "name": "stdout"
        }
      ]
    },
    {
      "cell_type": "code",
      "metadata": {
        "id": "r86I75yXaDJo",
        "colab_type": "code",
        "colab": {}
      },
      "source": [
        "train_data = pd.concat([train_data,test_data])"
      ],
      "execution_count": 0,
      "outputs": []
    },
    {
      "cell_type": "code",
      "metadata": {
        "id": "KZUydhIz7BU6",
        "colab_type": "code",
        "colab": {}
      },
      "source": [
        "#test_data[\"impression_time\"] = pd.to_datetime(test_data[\"impression_time\"])\n",
        "#test_data[\"server_time\"] = pd.to_datetime(test_data[\"server_time\"])"
      ],
      "execution_count": 0,
      "outputs": []
    },
    {
      "cell_type": "code",
      "metadata": {
        "id": "y4P5KPEa650g",
        "colab_type": "code",
        "colab": {}
      },
      "source": [
        "#test_data['day_imp'] = pd.DatetimeIndex(test_data['impression_time']).day\n",
        "#test_data['day_ser'] = pd.DatetimeIndex(test_data['server_time']).day\n",
        "#test_data['month_imp'] = pd.DatetimeIndex(test_data['impression_time']).month\n",
        "#test_data['month_ser'] = pd.DatetimeIndex(test_data['server_time']).month\n",
        "#test_data['minute_imp'] = pd.DatetimeIndex(test_data['impression_time']).minute\n",
        "#test_data['minute_ser'] = pd.DatetimeIndex(test_data['server_time']).minute\n",
        "#test_data['hour_imp'] = pd.DatetimeIndex(test_data['impression_time']).hour\n",
        "#test_data['hour_ser'] = pd.DatetimeIndex(test_data['server_time']).hour\n",
        "\n"
      ],
      "execution_count": 0,
      "outputs": []
    },
    {
      "cell_type": "code",
      "metadata": {
        "id": "0DqaO2957Ihw",
        "colab_type": "code",
        "colab": {}
      },
      "source": [
        "#test_data[\"noon_ser\"] = noon_or(test_data[\"hour_ser\"])\n",
        "#test_data[\"noon_imp\"] = noon_or(test_data[\"hour_imp\"])\n",
        "\n"
      ],
      "execution_count": 0,
      "outputs": []
    },
    {
      "cell_type": "code",
      "metadata": {
        "id": "qXVxkxfU7TYu",
        "colab_type": "code",
        "colab": {}
      },
      "source": [
        "#test_2= test_data.groupby(test_data.noon_ser).agg({\"noon_ser\":[\"count\"]})[\"noon_ser\"].reset_index()\n",
        "#test_data = pd.merge(test_data, test_2, on=\"noon_ser\", how=\"left\")\n",
        "#print(test_data.shape)\n",
        "\n",
        "#test_2= test_data.groupby(test_data.noon_imp).agg({\"noon_imp\":[\"count\"]})[\"noon_imp\"].reset_index()\n",
        "#test_data = pd.merge(test_data, test_2, on=\"noon_imp\", how=\"left\")\n",
        "#print(test_data.shape)\n",
        "\n",
        "#test_2= test_data.groupby(test_data.day_imp).agg({\"day_imp\":[\"count\"]})[\"day_imp\"].reset_index()\n",
        "#test_data = pd.merge(test_data, test_2, on=\"day_imp\", how=\"left\")\n",
        "#print(test_data.shape)\n",
        "\n",
        "#test_2= test_data.groupby(test_data.day_ser).agg({\"day_ser\":[\"count\"]})[\"day_ser\"].reset_index()\n",
        "#test_data = pd.merge(test_data, test_2, on=\"day_ser\", how=\"left\")\n",
        "#print(test_data.shape)"
      ],
      "execution_count": 0,
      "outputs": []
    },
    {
      "cell_type": "code",
      "metadata": {
        "id": "C4kjp6hEce3a",
        "colab_type": "code",
        "outputId": "c5eba44b-3945-4392-da0d-69ec6385f00b",
        "colab": {
          "base_uri": "https://localhost:8080/",
          "height": 34
        }
      },
      "source": [
        "\n",
        "test_data.shape"
      ],
      "execution_count": 29,
      "outputs": [
        {
          "output_type": "execute_result",
          "data": {
            "text/plain": [
              "(3871697, 16)"
            ]
          },
          "metadata": {
            "tags": []
          },
          "execution_count": 29
        }
      ]
    },
    {
      "cell_type": "code",
      "metadata": {
        "id": "lJm39qp8dGEH",
        "colab_type": "code",
        "outputId": "5b84da68-0a77-430d-b295-f7b9ce6a3364",
        "colab": {
          "base_uri": "https://localhost:8080/",
          "height": 309
        }
      },
      "source": [
        "test_data.tail(5)"
      ],
      "execution_count": 30,
      "outputs": [
        {
          "output_type": "execute_result",
          "data": {
            "text/html": [
              "<div>\n",
              "<style scoped>\n",
              "    .dataframe tbody tr th:only-of-type {\n",
              "        vertical-align: middle;\n",
              "    }\n",
              "\n",
              "    .dataframe tbody tr th {\n",
              "        vertical-align: top;\n",
              "    }\n",
              "\n",
              "    .dataframe thead th {\n",
              "        text-align: right;\n",
              "    }\n",
              "</style>\n",
              "<table border=\"1\" class=\"dataframe\">\n",
              "  <thead>\n",
              "    <tr style=\"text-align: right;\">\n",
              "      <th></th>\n",
              "      <th>impression_id</th>\n",
              "      <th>impression_time</th>\n",
              "      <th>user_id</th>\n",
              "      <th>app_code</th>\n",
              "      <th>os_version</th>\n",
              "      <th>is_4G</th>\n",
              "      <th>server_time</th>\n",
              "      <th>device_type</th>\n",
              "      <th>session_id</th>\n",
              "      <th>item_id</th>\n",
              "      <th>item_price</th>\n",
              "      <th>category_1</th>\n",
              "      <th>category_2</th>\n",
              "      <th>category_3</th>\n",
              "      <th>product_type</th>\n",
              "      <th>count</th>\n",
              "    </tr>\n",
              "  </thead>\n",
              "  <tbody>\n",
              "    <tr>\n",
              "      <th>3871692</th>\n",
              "      <td>539145030fb3600d26d6a64130310035</td>\n",
              "      <td>2018-12-18 23:59:00</td>\n",
              "      <td>82078</td>\n",
              "      <td>242</td>\n",
              "      <td>latest</td>\n",
              "      <td>1</td>\n",
              "      <td>2018-11-30 11:36:00</td>\n",
              "      <td>android</td>\n",
              "      <td>580845</td>\n",
              "      <td>76156</td>\n",
              "      <td>627.0</td>\n",
              "      <td>12.0</td>\n",
              "      <td>57.0</td>\n",
              "      <td>184.0</td>\n",
              "      <td>9622.0</td>\n",
              "      <td>9</td>\n",
              "    </tr>\n",
              "    <tr>\n",
              "      <th>3871693</th>\n",
              "      <td>539145030fb3600d26d6a64130310035</td>\n",
              "      <td>2018-12-18 23:59:00</td>\n",
              "      <td>82078</td>\n",
              "      <td>242</td>\n",
              "      <td>latest</td>\n",
              "      <td>1</td>\n",
              "      <td>2018-12-05 09:43:00</td>\n",
              "      <td>android</td>\n",
              "      <td>997191</td>\n",
              "      <td>2580</td>\n",
              "      <td>5120.0</td>\n",
              "      <td>0.0</td>\n",
              "      <td>45.0</td>\n",
              "      <td>73.0</td>\n",
              "      <td>6718.0</td>\n",
              "      <td>9</td>\n",
              "    </tr>\n",
              "    <tr>\n",
              "      <th>3871694</th>\n",
              "      <td>539145030fb3600d26d6a64130310035</td>\n",
              "      <td>2018-12-18 23:59:00</td>\n",
              "      <td>82078</td>\n",
              "      <td>242</td>\n",
              "      <td>latest</td>\n",
              "      <td>1</td>\n",
              "      <td>2018-12-10 09:49:00</td>\n",
              "      <td>android</td>\n",
              "      <td>266654</td>\n",
              "      <td>70965</td>\n",
              "      <td>3744.0</td>\n",
              "      <td>16.0</td>\n",
              "      <td>56.0</td>\n",
              "      <td>17.0</td>\n",
              "      <td>9227.0</td>\n",
              "      <td>9</td>\n",
              "    </tr>\n",
              "    <tr>\n",
              "      <th>3871695</th>\n",
              "      <td>539145030fb3600d26d6a64130310035</td>\n",
              "      <td>2018-12-18 23:59:00</td>\n",
              "      <td>82078</td>\n",
              "      <td>242</td>\n",
              "      <td>latest</td>\n",
              "      <td>1</td>\n",
              "      <td>2018-12-11 09:53:00</td>\n",
              "      <td>android</td>\n",
              "      <td>994516</td>\n",
              "      <td>70965</td>\n",
              "      <td>3744.0</td>\n",
              "      <td>16.0</td>\n",
              "      <td>56.0</td>\n",
              "      <td>17.0</td>\n",
              "      <td>9227.0</td>\n",
              "      <td>9</td>\n",
              "    </tr>\n",
              "    <tr>\n",
              "      <th>3871696</th>\n",
              "      <td>539145030fb3600d26d6a64130310035</td>\n",
              "      <td>2018-12-18 23:59:00</td>\n",
              "      <td>82078</td>\n",
              "      <td>242</td>\n",
              "      <td>latest</td>\n",
              "      <td>1</td>\n",
              "      <td>2018-12-11 15:47:00</td>\n",
              "      <td>android</td>\n",
              "      <td>57901</td>\n",
              "      <td>35963</td>\n",
              "      <td>22528.0</td>\n",
              "      <td>10.0</td>\n",
              "      <td>63.0</td>\n",
              "      <td>220.0</td>\n",
              "      <td>9959.0</td>\n",
              "      <td>9</td>\n",
              "    </tr>\n",
              "  </tbody>\n",
              "</table>\n",
              "</div>"
            ],
            "text/plain": [
              "                            impression_id  ... count\n",
              "3871692  539145030fb3600d26d6a64130310035  ...     9\n",
              "3871693  539145030fb3600d26d6a64130310035  ...     9\n",
              "3871694  539145030fb3600d26d6a64130310035  ...     9\n",
              "3871695  539145030fb3600d26d6a64130310035  ...     9\n",
              "3871696  539145030fb3600d26d6a64130310035  ...     9\n",
              "\n",
              "[5 rows x 16 columns]"
            ]
          },
          "metadata": {
            "tags": []
          },
          "execution_count": 30
        }
      ]
    },
    {
      "cell_type": "code",
      "metadata": {
        "id": "g5salSRaru4k",
        "colab_type": "code",
        "colab": {}
      },
      "source": [
        "#train_data.drop_duplicates(subset=[\"impression_id\"], keep=\"first\", inplace=True)"
      ],
      "execution_count": 0,
      "outputs": []
    },
    {
      "cell_type": "markdown",
      "metadata": {
        "id": "rQ4uwpl2Nhd-",
        "colab_type": "text"
      },
      "source": [
        "# Drop target and merge train and test"
      ]
    },
    {
      "cell_type": "code",
      "metadata": {
        "id": "_MotPxItQIzn",
        "colab_type": "code",
        "colab": {}
      },
      "source": [
        ""
      ],
      "execution_count": 0,
      "outputs": []
    },
    {
      "cell_type": "code",
      "metadata": {
        "id": "06XmYr1aQhWD",
        "colab_type": "code",
        "colab": {}
      },
      "source": [
        ""
      ],
      "execution_count": 0,
      "outputs": []
    },
    {
      "cell_type": "code",
      "metadata": {
        "id": "_rjglqrRQhlx",
        "colab_type": "code",
        "colab": {
          "base_uri": "https://localhost:8080/",
          "height": 34
        },
        "outputId": "2a0ddd87-b23f-4c04-fe75-703e4c2b5067"
      },
      "source": [
        "train_data.shape"
      ],
      "execution_count": 32,
      "outputs": [
        {
          "output_type": "execute_result",
          "data": {
            "text/plain": [
              "(14924579, 16)"
            ]
          },
          "metadata": {
            "tags": []
          },
          "execution_count": 32
        }
      ]
    },
    {
      "cell_type": "code",
      "metadata": {
        "id": "vXNXGju8UVJp",
        "colab_type": "code",
        "colab": {}
      },
      "source": [
        "#train_data.reset_index(inplace=True)"
      ],
      "execution_count": 0,
      "outputs": []
    },
    {
      "cell_type": "code",
      "metadata": {
        "id": "SNypQ4R8T9MQ",
        "colab_type": "code",
        "colab": {
          "base_uri": "https://localhost:8080/",
          "height": 165
        },
        "outputId": "b2f4b159-aabe-433b-fe03-c87bbd311258"
      },
      "source": [
        "train_data.tail(2)"
      ],
      "execution_count": 34,
      "outputs": [
        {
          "output_type": "execute_result",
          "data": {
            "text/html": [
              "<div>\n",
              "<style scoped>\n",
              "    .dataframe tbody tr th:only-of-type {\n",
              "        vertical-align: middle;\n",
              "    }\n",
              "\n",
              "    .dataframe tbody tr th {\n",
              "        vertical-align: top;\n",
              "    }\n",
              "\n",
              "    .dataframe thead th {\n",
              "        text-align: right;\n",
              "    }\n",
              "</style>\n",
              "<table border=\"1\" class=\"dataframe\">\n",
              "  <thead>\n",
              "    <tr style=\"text-align: right;\">\n",
              "      <th></th>\n",
              "      <th>impression_id</th>\n",
              "      <th>impression_time</th>\n",
              "      <th>user_id</th>\n",
              "      <th>app_code</th>\n",
              "      <th>os_version</th>\n",
              "      <th>is_4G</th>\n",
              "      <th>server_time</th>\n",
              "      <th>device_type</th>\n",
              "      <th>session_id</th>\n",
              "      <th>item_id</th>\n",
              "      <th>item_price</th>\n",
              "      <th>category_1</th>\n",
              "      <th>category_2</th>\n",
              "      <th>category_3</th>\n",
              "      <th>product_type</th>\n",
              "      <th>count</th>\n",
              "    </tr>\n",
              "  </thead>\n",
              "  <tbody>\n",
              "    <tr>\n",
              "      <th>3871695</th>\n",
              "      <td>539145030fb3600d26d6a64130310035</td>\n",
              "      <td>2018-12-18 23:59:00</td>\n",
              "      <td>82078</td>\n",
              "      <td>242</td>\n",
              "      <td>latest</td>\n",
              "      <td>1</td>\n",
              "      <td>2018-12-11 09:53:00</td>\n",
              "      <td>android</td>\n",
              "      <td>994516</td>\n",
              "      <td>70965</td>\n",
              "      <td>3744.0</td>\n",
              "      <td>16.0</td>\n",
              "      <td>56.0</td>\n",
              "      <td>17.0</td>\n",
              "      <td>9227.0</td>\n",
              "      <td>9</td>\n",
              "    </tr>\n",
              "    <tr>\n",
              "      <th>3871696</th>\n",
              "      <td>539145030fb3600d26d6a64130310035</td>\n",
              "      <td>2018-12-18 23:59:00</td>\n",
              "      <td>82078</td>\n",
              "      <td>242</td>\n",
              "      <td>latest</td>\n",
              "      <td>1</td>\n",
              "      <td>2018-12-11 15:47:00</td>\n",
              "      <td>android</td>\n",
              "      <td>57901</td>\n",
              "      <td>35963</td>\n",
              "      <td>22528.0</td>\n",
              "      <td>10.0</td>\n",
              "      <td>63.0</td>\n",
              "      <td>220.0</td>\n",
              "      <td>9959.0</td>\n",
              "      <td>9</td>\n",
              "    </tr>\n",
              "  </tbody>\n",
              "</table>\n",
              "</div>"
            ],
            "text/plain": [
              "                            impression_id  ... count\n",
              "3871695  539145030fb3600d26d6a64130310035  ...     9\n",
              "3871696  539145030fb3600d26d6a64130310035  ...     9\n",
              "\n",
              "[2 rows x 16 columns]"
            ]
          },
          "metadata": {
            "tags": []
          },
          "execution_count": 34
        }
      ]
    },
    {
      "cell_type": "code",
      "metadata": {
        "id": "uzzBeIJtSpyJ",
        "colab_type": "code",
        "colab": {
          "base_uri": "https://localhost:8080/",
          "height": 187
        },
        "outputId": "76c9fcfe-27f3-4110-81cd-8fa33669216a"
      },
      "source": [
        "train_data[\"ctr\"] = train_data[\"item_price\"]/train_data[\"count\"]\n",
        "train_data[\"cat_new1\"] = train_data[\"category_1\"]/train_data[\"count\"]\n",
        "train_data[\"cat_new2\"] = train_data[\"category_2\"]/train_data[\"count\"]\n",
        "train_data[\"cat_new3\"] = train_data[\"category_3\"]/train_data[\"count\"]\n",
        "\n",
        "train_1= train_data.groupby(train_data.app_code).agg({\"app_code\":[\"count\"]})[\"app_code\"].reset_index()\n",
        "train_data = pd.merge(train_data, train_1, on=\"app_code\", how=\"left\", suffixes=(\"_1\", '_12'))\n",
        "print(train_data.shape)\n",
        "\n",
        "train_1= train_data.groupby(train_data.category_1).agg({\"category_1\":[\"count\"]})[\"category_1\"].reset_index()\n",
        "train_data = pd.merge(train_data, train_1, on=\"category_1\", how=\"left\", suffixes=(\"_3\", '_13'))\n",
        "print(train_data.shape)\n",
        "\n",
        "train_1= train_data.groupby(train_data.category_2).agg({\"category_2\":[\"count\"]})[\"category_2\"].reset_index()\n",
        "train_data = pd.merge(train_data, train_1, on=\"category_2\", how=\"left\", suffixes=(\"_4\", '_14'))\n",
        "print(train_data.shape)\n",
        "\n",
        "train_1= train_data.groupby(train_data.category_3).agg({\"category_3\":[\"count\"]})[\"category_3\"].reset_index()\n",
        "train_data = pd.merge(train_data, train_1, on=\"category_3\", how=\"left\", suffixes=(\"_5\", '_15'))\n",
        "print(train_data.shape)\n",
        "\n",
        "train_1= train_data.groupby(train_data.product_type).agg({\"product_type\":[\"count\"]})[\"product_type\"].reset_index()\n",
        "train_data = pd.merge(train_data, train_1, on=\"product_type\", how=\"left\", suffixes=(\"_6\", '_16'))\n",
        "print(train_data.shape)\n",
        "\n",
        "#train_1= train_data.groupby(train_data.device_type).agg({\"device_type\":[\"count\"]})[\"device_type\"].reset_index()\n",
        "#train_data = pd.merge(train_data, train_1, on=\"device_type\", how=\"left\")\n",
        "#print(train_data.shape)\n",
        "\n",
        "train_1= train_data.groupby(train_data.os_version).agg({\"os_version\":[\"count\"]})[\"os_version\"].reset_index()\n",
        "train_data = pd.merge(train_data, train_1, on=\"os_version\", how=\"left\", suffixes=(\"_7\", '_17'))\n",
        "print(train_data.shape)\n",
        "\n",
        "train_1= train_data.groupby(train_data.user_id).agg({\"user_id\":[\"count\"]})[\"user_id\"].reset_index()\n",
        "train_data = pd.merge(train_data, train_1, on=\"user_id\", how=\"left\", suffixes=(\"_8\", '_18'))\n",
        "print(train_data.shape)\n",
        "\n",
        "train_1= train_data.groupby(train_data.item_id).agg({\"item_id\":[\"count\"]})[\"item_id\"].reset_index()\n",
        "train_data = pd.merge(train_data, train_1, on=\"item_id\", how=\"left\", suffixes=(\"_9\", '_19'))\n",
        "print(train_data.shape)\n",
        "\n",
        "train_1= train_data.groupby(train_data.item_price).agg({\"item_price\":[\"count\"]})[\"item_price\"].reset_index()\n",
        "train_data = pd.merge(train_data, train_1, on=\"item_price\", how=\"left\", suffixes=(\"_20\", '_200'))\n",
        "print(train_data.shape)\n",
        "\n",
        "train_1= train_data.groupby(train_data.session_id).agg({\"session_id\":[\"count\"]})[\"session_id\"].reset_index()\n",
        "train_data = pd.merge(train_data, train_1, on=\"session_id\", how=\"left\", suffixes=(\"21\", '_211'))\n",
        "print(train_data.shape)\n",
        "\n",
        "\n",
        "\n"
      ],
      "execution_count": 35,
      "outputs": [
        {
          "output_type": "stream",
          "text": [
            "(14924579, 21)\n",
            "(14924579, 22)\n",
            "(14924579, 23)\n",
            "(14924579, 24)\n",
            "(14924579, 25)\n",
            "(14924579, 26)\n",
            "(14924579, 27)\n",
            "(14924579, 28)\n",
            "(14924579, 29)\n",
            "(14924579, 30)\n"
          ],
          "name": "stdout"
        }
      ]
    },
    {
      "cell_type": "code",
      "metadata": {
        "id": "GQd4p-wxUmhp",
        "colab_type": "code",
        "colab": {
          "base_uri": "https://localhost:8080/",
          "height": 165
        },
        "outputId": "29eb1104-a5ac-45a4-d47e-e20ef101fe1e"
      },
      "source": [
        "train_data.tail(2)"
      ],
      "execution_count": 36,
      "outputs": [
        {
          "output_type": "execute_result",
          "data": {
            "text/html": [
              "<div>\n",
              "<style scoped>\n",
              "    .dataframe tbody tr th:only-of-type {\n",
              "        vertical-align: middle;\n",
              "    }\n",
              "\n",
              "    .dataframe tbody tr th {\n",
              "        vertical-align: top;\n",
              "    }\n",
              "\n",
              "    .dataframe thead th {\n",
              "        text-align: right;\n",
              "    }\n",
              "</style>\n",
              "<table border=\"1\" class=\"dataframe\">\n",
              "  <thead>\n",
              "    <tr style=\"text-align: right;\">\n",
              "      <th></th>\n",
              "      <th>impression_id</th>\n",
              "      <th>impression_time</th>\n",
              "      <th>user_id</th>\n",
              "      <th>app_code</th>\n",
              "      <th>os_version</th>\n",
              "      <th>is_4G</th>\n",
              "      <th>server_time</th>\n",
              "      <th>device_type</th>\n",
              "      <th>session_id</th>\n",
              "      <th>item_id</th>\n",
              "      <th>item_price</th>\n",
              "      <th>category_1</th>\n",
              "      <th>category_2</th>\n",
              "      <th>category_3</th>\n",
              "      <th>product_type</th>\n",
              "      <th>count_1</th>\n",
              "      <th>ctr</th>\n",
              "      <th>cat_new1</th>\n",
              "      <th>cat_new2</th>\n",
              "      <th>cat_new3</th>\n",
              "      <th>count_12</th>\n",
              "      <th>count_4</th>\n",
              "      <th>count_14</th>\n",
              "      <th>count_6</th>\n",
              "      <th>count_16</th>\n",
              "      <th>count_8</th>\n",
              "      <th>count_18</th>\n",
              "      <th>count_20</th>\n",
              "      <th>count_200</th>\n",
              "      <th>count</th>\n",
              "    </tr>\n",
              "  </thead>\n",
              "  <tbody>\n",
              "    <tr>\n",
              "      <th>14924577</th>\n",
              "      <td>539145030fb3600d26d6a64130310035</td>\n",
              "      <td>2018-12-18 23:59:00</td>\n",
              "      <td>82078</td>\n",
              "      <td>242</td>\n",
              "      <td>latest</td>\n",
              "      <td>1</td>\n",
              "      <td>2018-12-11 09:53:00</td>\n",
              "      <td>android</td>\n",
              "      <td>994516</td>\n",
              "      <td>70965</td>\n",
              "      <td>3744.0</td>\n",
              "      <td>16.0</td>\n",
              "      <td>56.0</td>\n",
              "      <td>17.0</td>\n",
              "      <td>9227.0</td>\n",
              "      <td>9</td>\n",
              "      <td>416.000000</td>\n",
              "      <td>1.777778</td>\n",
              "      <td>6.222222</td>\n",
              "      <td>1.888889</td>\n",
              "      <td>175445</td>\n",
              "      <td>613022.0</td>\n",
              "      <td>186073.0</td>\n",
              "      <td>43999.0</td>\n",
              "      <td>29680.0</td>\n",
              "      <td>7844613</td>\n",
              "      <td>153</td>\n",
              "      <td>19716</td>\n",
              "      <td>25016.0</td>\n",
              "      <td>17</td>\n",
              "    </tr>\n",
              "    <tr>\n",
              "      <th>14924578</th>\n",
              "      <td>539145030fb3600d26d6a64130310035</td>\n",
              "      <td>2018-12-18 23:59:00</td>\n",
              "      <td>82078</td>\n",
              "      <td>242</td>\n",
              "      <td>latest</td>\n",
              "      <td>1</td>\n",
              "      <td>2018-12-11 15:47:00</td>\n",
              "      <td>android</td>\n",
              "      <td>57901</td>\n",
              "      <td>35963</td>\n",
              "      <td>22528.0</td>\n",
              "      <td>10.0</td>\n",
              "      <td>63.0</td>\n",
              "      <td>220.0</td>\n",
              "      <td>9959.0</td>\n",
              "      <td>9</td>\n",
              "      <td>2503.111111</td>\n",
              "      <td>1.111111</td>\n",
              "      <td>7.000000</td>\n",
              "      <td>24.444444</td>\n",
              "      <td>175445</td>\n",
              "      <td>831106.0</td>\n",
              "      <td>350728.0</td>\n",
              "      <td>217217.0</td>\n",
              "      <td>74867.0</td>\n",
              "      <td>7844613</td>\n",
              "      <td>153</td>\n",
              "      <td>16272</td>\n",
              "      <td>16498.0</td>\n",
              "      <td>17</td>\n",
              "    </tr>\n",
              "  </tbody>\n",
              "</table>\n",
              "</div>"
            ],
            "text/plain": [
              "                             impression_id  ... count\n",
              "14924577  539145030fb3600d26d6a64130310035  ...    17\n",
              "14924578  539145030fb3600d26d6a64130310035  ...    17\n",
              "\n",
              "[2 rows x 30 columns]"
            ]
          },
          "metadata": {
            "tags": []
          },
          "execution_count": 36
        }
      ]
    },
    {
      "cell_type": "code",
      "metadata": {
        "id": "F313vLUVoDIS",
        "colab_type": "code",
        "colab": {}
      },
      "source": [
        "#test_data[\"ctr\"] = test_data[\"item_price\"]/test_data[\"count\"]\n",
        "#test_data[\"cat_new1\"] = test_data[\"category_1\"]/test_data[\"count\"]\n",
        "#test_data[\"cat_new2\"] = test_data[\"category_2\"]/test_data[\"count\"]\n",
        "#test_data[\"cat_new3\"] = test_data[\"category_3\"]/test_data[\"count\"]\n",
        "\n",
        "#test_2= test_data.groupby(test_data.app_code).agg({\"app_code\":[\"count\"]})[\"app_code\"].reset_index()\n",
        "#test_data = pd.merge(test_data, test_2, on=\"app_code\", how=\"left\")\n",
        "#print(test_data.shape)\n",
        "\n",
        "#test_2= test_data.groupby(test_data.category_1).agg({\"category_1\":[\"count\"]})[\"category_1\"].reset_index()\n",
        "#test_data = pd.merge(test_data, test_2, on=\"category_1\", how=\"left\")\n",
        "#print(test_data.shape)\n",
        "\n",
        "#test_2= test_data.groupby(test_data.category_2).agg({\"category_2\":[\"count\"]})[\"category_2\"].reset_index()\n",
        "#test_data = pd.merge(test_data, test_2, on=\"category_2\", how=\"left\")\n",
        "#test_2= test_data.groupby(test_data.category_3).agg({\"category_3\":[\"count\"]})[\"category_3\"].reset_index()\n",
        "#test_data = pd.merge(test_data, test_2, on=\"category_3\", how=\"left\")\n",
        "#print(test_data.shape)\n",
        "\n",
        "#test_2= test_data.groupby(test_data.product_type).agg({\"product_type\":[\"count\"]})[\"product_type\"].reset_index()\n",
        "#test_data = pd.merge(test_data, test_2, on=\"product_type\", how=\"left\")\n",
        "#print(test_data.shape)\n",
        "\n",
        "#test_2= test_data.groupby(test_data.device_type).agg({\"device_type\":[\"count\"]})[\"device_type\"].reset_index()\n",
        "#test_data = pd.merge(test_data, test_2, on=\"device_type\", how=\"left\")\n",
        "#print(test_data.shape)\n",
        "\n",
        "#test_2= test_data.groupby(test_data.os_version).agg({\"os_version\":[\"count\"]})[\"os_version\"].reset_index()\n",
        "#test_data = pd.merge(test_data, test_2, on=\"os_version\", how=\"left\")\n",
        "#print(test_data.shape)\n",
        "\n",
        "#test_2= test_data.groupby(test_data.user_id).agg({\"user_id\":[\"count\"]})[\"user_id\"].reset_index()\n",
        "#test_data = pd.merge(test_data, test_2, on=\"user_id\", how=\"left\")\n",
        "#print(test_data.shape)\n",
        "\n",
        "#test_2= test_data.groupby(test_data.item_id).agg({\"item_id\":[\"count\"]})[\"item_id\"].reset_index()\n",
        "#test_data = pd.merge(test_data, test_2, on=\"item_id\", how=\"left\")\n",
        "#print(test_data.shape)\n",
        "\n",
        "\n",
        "\n",
        "\n",
        "\n"
      ],
      "execution_count": 0,
      "outputs": []
    },
    {
      "cell_type": "code",
      "metadata": {
        "id": "x8qERGVOs7zj",
        "colab_type": "code",
        "outputId": "3a135db3-6363-4aa2-dba5-3d6f1dcd7602",
        "colab": {
          "base_uri": "https://localhost:8080/",
          "height": 34
        }
      },
      "source": [
        "#test_data = test_data.groupby([\"impression_id\"])\n",
        "test_data.shape"
      ],
      "execution_count": 37,
      "outputs": [
        {
          "output_type": "execute_result",
          "data": {
            "text/plain": [
              "(3871697, 16)"
            ]
          },
          "metadata": {
            "tags": []
          },
          "execution_count": 37
        }
      ]
    },
    {
      "cell_type": "code",
      "metadata": {
        "id": "eZnK61wH2Mwb",
        "colab_type": "code",
        "outputId": "4d372218-bbd7-4a60-dd03-6148e937706d",
        "colab": {
          "base_uri": "https://localhost:8080/",
          "height": 51
        }
      },
      "source": [
        "test_data[\"os_version\"].isin(train_data[\"os_version\"]).value_counts()"
      ],
      "execution_count": 38,
      "outputs": [
        {
          "output_type": "execute_result",
          "data": {
            "text/plain": [
              "True    3871697\n",
              "Name: os_version, dtype: int64"
            ]
          },
          "metadata": {
            "tags": []
          },
          "execution_count": 38
        }
      ]
    },
    {
      "cell_type": "code",
      "metadata": {
        "id": "p_2bCCY22V1T",
        "colab_type": "code",
        "outputId": "9e552958-0287-4960-a237-fa23ca3314f8",
        "colab": {
          "base_uri": "https://localhost:8080/",
          "height": 51
        }
      },
      "source": [
        "test_data[\"device_type\"].isin(train_data[\"device_type\"]).value_counts()"
      ],
      "execution_count": 39,
      "outputs": [
        {
          "output_type": "execute_result",
          "data": {
            "text/plain": [
              "True    3871697\n",
              "Name: device_type, dtype: int64"
            ]
          },
          "metadata": {
            "tags": []
          },
          "execution_count": 39
        }
      ]
    },
    {
      "cell_type": "code",
      "metadata": {
        "id": "pXLqHcXu18Gr",
        "colab_type": "code",
        "outputId": "1d083440-fc19-46a3-a820-322267d97dab",
        "colab": {
          "base_uri": "https://localhost:8080/",
          "height": 51
        }
      },
      "source": [
        "test_data[\"app_code\"].isin(train_data[\"app_code\"]).value_counts()"
      ],
      "execution_count": 40,
      "outputs": [
        {
          "output_type": "execute_result",
          "data": {
            "text/plain": [
              "True    3871697\n",
              "Name: app_code, dtype: int64"
            ]
          },
          "metadata": {
            "tags": []
          },
          "execution_count": 40
        }
      ]
    },
    {
      "cell_type": "code",
      "metadata": {
        "id": "XYAtWkrO1qQn",
        "colab_type": "code",
        "outputId": "636d4710-e9be-4abb-f474-906f76adedfe",
        "colab": {
          "base_uri": "https://localhost:8080/",
          "height": 51
        }
      },
      "source": [
        "test_data[\"user_id\"].isin(train_data[\"user_id\"]).value_counts()"
      ],
      "execution_count": 41,
      "outputs": [
        {
          "output_type": "execute_result",
          "data": {
            "text/plain": [
              "True    3871697\n",
              "Name: user_id, dtype: int64"
            ]
          },
          "metadata": {
            "tags": []
          },
          "execution_count": 41
        }
      ]
    },
    {
      "cell_type": "code",
      "metadata": {
        "id": "p0pmYmqf0qTF",
        "colab_type": "code",
        "outputId": "c23d305a-3580-4ec2-9f46-0c58941224ba",
        "colab": {
          "base_uri": "https://localhost:8080/",
          "height": 51
        }
      },
      "source": [
        "test_data[\"session_id\"].isin(train_data[\"session_id\"]).value_counts()"
      ],
      "execution_count": 42,
      "outputs": [
        {
          "output_type": "execute_result",
          "data": {
            "text/plain": [
              "True    3871697\n",
              "Name: session_id, dtype: int64"
            ]
          },
          "metadata": {
            "tags": []
          },
          "execution_count": 42
        }
      ]
    },
    {
      "cell_type": "code",
      "metadata": {
        "id": "_MFnsEtC05wP",
        "colab_type": "code",
        "outputId": "c3567f1e-ab09-4494-d7f1-1dbeb05fe81f",
        "colab": {
          "base_uri": "https://localhost:8080/",
          "height": 51
        }
      },
      "source": [
        "test_data[\"item_id\"].isin(train_data[\"item_id\"]).value_counts()"
      ],
      "execution_count": 43,
      "outputs": [
        {
          "output_type": "execute_result",
          "data": {
            "text/plain": [
              "True    3871697\n",
              "Name: item_id, dtype: int64"
            ]
          },
          "metadata": {
            "tags": []
          },
          "execution_count": 43
        }
      ]
    },
    {
      "cell_type": "code",
      "metadata": {
        "id": "sDAY8oJc1Ons",
        "colab_type": "code",
        "outputId": "e5b45cb5-6748-4837-d89a-b9d0e4baad4d",
        "colab": {
          "base_uri": "https://localhost:8080/",
          "height": 68
        }
      },
      "source": [
        "test_data[\"product_type\"].isin(train_data[\"product_type\"]).value_counts()"
      ],
      "execution_count": 44,
      "outputs": [
        {
          "output_type": "execute_result",
          "data": {
            "text/plain": [
              "True     3869280\n",
              "False       2417\n",
              "Name: product_type, dtype: int64"
            ]
          },
          "metadata": {
            "tags": []
          },
          "execution_count": 44
        }
      ]
    },
    {
      "cell_type": "code",
      "metadata": {
        "id": "ROYR6BUm1n64",
        "colab_type": "code",
        "outputId": "72587844-71f8-4743-d466-a7dc741c030a",
        "colab": {
          "base_uri": "https://localhost:8080/",
          "height": 68
        }
      },
      "source": [
        "test_data[\"category_1\"].isin(train_data[\"category_1\"]).value_counts()"
      ],
      "execution_count": 45,
      "outputs": [
        {
          "output_type": "execute_result",
          "data": {
            "text/plain": [
              "True     3869280\n",
              "False       2417\n",
              "Name: category_1, dtype: int64"
            ]
          },
          "metadata": {
            "tags": []
          },
          "execution_count": 45
        }
      ]
    },
    {
      "cell_type": "code",
      "metadata": {
        "id": "huSTEJqH1oJ-",
        "colab_type": "code",
        "outputId": "81b005d8-3ae6-4e07-d37f-06772f756afd",
        "colab": {
          "base_uri": "https://localhost:8080/",
          "height": 68
        }
      },
      "source": [
        "test_data[\"category_2\"].isin(train_data[\"category_2\"]).value_counts()"
      ],
      "execution_count": 46,
      "outputs": [
        {
          "output_type": "execute_result",
          "data": {
            "text/plain": [
              "True     3869280\n",
              "False       2417\n",
              "Name: category_2, dtype: int64"
            ]
          },
          "metadata": {
            "tags": []
          },
          "execution_count": 46
        }
      ]
    },
    {
      "cell_type": "code",
      "metadata": {
        "id": "NUlicVL31oS7",
        "colab_type": "code",
        "outputId": "9d906ec1-4ca8-4137-ee7b-b4b341f5c02a",
        "colab": {
          "base_uri": "https://localhost:8080/",
          "height": 68
        }
      },
      "source": [
        "test_data[\"category_3\"].isin(train_data[\"category_3\"]).value_counts()"
      ],
      "execution_count": 47,
      "outputs": [
        {
          "output_type": "execute_result",
          "data": {
            "text/plain": [
              "True     3869280\n",
              "False       2417\n",
              "Name: category_3, dtype: int64"
            ]
          },
          "metadata": {
            "tags": []
          },
          "execution_count": 47
        }
      ]
    },
    {
      "cell_type": "code",
      "metadata": {
        "id": "fOmqtg2j7W3X",
        "colab_type": "code",
        "outputId": "4d83d8ac-8acd-4c09-eeef-35d66bc68387",
        "colab": {
          "base_uri": "https://localhost:8080/",
          "height": 68
        }
      },
      "source": [
        "test_data[\"item_price\"].isin(train_data[\"item_price\"]).value_counts()"
      ],
      "execution_count": 48,
      "outputs": [
        {
          "output_type": "execute_result",
          "data": {
            "text/plain": [
              "True     3869280\n",
              "False       2417\n",
              "Name: item_price, dtype: int64"
            ]
          },
          "metadata": {
            "tags": []
          },
          "execution_count": 48
        }
      ]
    },
    {
      "cell_type": "code",
      "metadata": {
        "id": "rmY6XFVK11CY",
        "colab_type": "code",
        "colab": {}
      },
      "source": [
        ""
      ],
      "execution_count": 0,
      "outputs": []
    },
    {
      "cell_type": "code",
      "metadata": {
        "id": "CGx5LDwT11G3",
        "colab_type": "code",
        "colab": {}
      },
      "source": [
        ""
      ],
      "execution_count": 0,
      "outputs": []
    },
    {
      "cell_type": "code",
      "metadata": {
        "id": "7C7qHhWBru7x",
        "colab_type": "code",
        "outputId": "3c7a2305-560d-4eb7-a13f-6cc16aa69821",
        "colab": {
          "base_uri": "https://localhost:8080/",
          "height": 309
        }
      },
      "source": [
        "test_data.head(5)"
      ],
      "execution_count": 49,
      "outputs": [
        {
          "output_type": "execute_result",
          "data": {
            "text/html": [
              "<div>\n",
              "<style scoped>\n",
              "    .dataframe tbody tr th:only-of-type {\n",
              "        vertical-align: middle;\n",
              "    }\n",
              "\n",
              "    .dataframe tbody tr th {\n",
              "        vertical-align: top;\n",
              "    }\n",
              "\n",
              "    .dataframe thead th {\n",
              "        text-align: right;\n",
              "    }\n",
              "</style>\n",
              "<table border=\"1\" class=\"dataframe\">\n",
              "  <thead>\n",
              "    <tr style=\"text-align: right;\">\n",
              "      <th></th>\n",
              "      <th>impression_id</th>\n",
              "      <th>impression_time</th>\n",
              "      <th>user_id</th>\n",
              "      <th>app_code</th>\n",
              "      <th>os_version</th>\n",
              "      <th>is_4G</th>\n",
              "      <th>server_time</th>\n",
              "      <th>device_type</th>\n",
              "      <th>session_id</th>\n",
              "      <th>item_id</th>\n",
              "      <th>item_price</th>\n",
              "      <th>category_1</th>\n",
              "      <th>category_2</th>\n",
              "      <th>category_3</th>\n",
              "      <th>product_type</th>\n",
              "      <th>count</th>\n",
              "    </tr>\n",
              "  </thead>\n",
              "  <tbody>\n",
              "    <tr>\n",
              "      <th>0</th>\n",
              "      <td>a9e7126a585a69a32bc7414e9d0c0ada</td>\n",
              "      <td>2018-12-13 07:44:00</td>\n",
              "      <td>44754</td>\n",
              "      <td>127</td>\n",
              "      <td>latest</td>\n",
              "      <td>1</td>\n",
              "      <td>2018-12-11 19:01:00</td>\n",
              "      <td>android</td>\n",
              "      <td>923045</td>\n",
              "      <td>128995</td>\n",
              "      <td>23424.0</td>\n",
              "      <td>1.0</td>\n",
              "      <td>42.0</td>\n",
              "      <td>220.0</td>\n",
              "      <td>1617.0</td>\n",
              "      <td>1</td>\n",
              "    </tr>\n",
              "    <tr>\n",
              "      <th>1</th>\n",
              "      <td>caac14a5bf2ba283db7708bb34855760</td>\n",
              "      <td>2018-12-13 07:45:00</td>\n",
              "      <td>29656</td>\n",
              "      <td>44</td>\n",
              "      <td>latest</td>\n",
              "      <td>0</td>\n",
              "      <td>2018-10-16 10:47:00</td>\n",
              "      <td>android</td>\n",
              "      <td>368797</td>\n",
              "      <td>55912</td>\n",
              "      <td>1529.0</td>\n",
              "      <td>9.0</td>\n",
              "      <td>44.0</td>\n",
              "      <td>114.0</td>\n",
              "      <td>9857.0</td>\n",
              "      <td>72</td>\n",
              "    </tr>\n",
              "    <tr>\n",
              "      <th>2</th>\n",
              "      <td>caac14a5bf2ba283db7708bb34855760</td>\n",
              "      <td>2018-12-13 07:45:00</td>\n",
              "      <td>29656</td>\n",
              "      <td>44</td>\n",
              "      <td>latest</td>\n",
              "      <td>0</td>\n",
              "      <td>2018-10-16 10:48:00</td>\n",
              "      <td>android</td>\n",
              "      <td>368797</td>\n",
              "      <td>80771</td>\n",
              "      <td>11697.0</td>\n",
              "      <td>9.0</td>\n",
              "      <td>3.0</td>\n",
              "      <td>48.0</td>\n",
              "      <td>6347.0</td>\n",
              "      <td>72</td>\n",
              "    </tr>\n",
              "    <tr>\n",
              "      <th>3</th>\n",
              "      <td>caac14a5bf2ba283db7708bb34855760</td>\n",
              "      <td>2018-12-13 07:45:00</td>\n",
              "      <td>29656</td>\n",
              "      <td>44</td>\n",
              "      <td>latest</td>\n",
              "      <td>0</td>\n",
              "      <td>2018-10-16 10:49:00</td>\n",
              "      <td>android</td>\n",
              "      <td>368797</td>\n",
              "      <td>80771</td>\n",
              "      <td>11697.0</td>\n",
              "      <td>9.0</td>\n",
              "      <td>3.0</td>\n",
              "      <td>48.0</td>\n",
              "      <td>6347.0</td>\n",
              "      <td>72</td>\n",
              "    </tr>\n",
              "    <tr>\n",
              "      <th>4</th>\n",
              "      <td>caac14a5bf2ba283db7708bb34855760</td>\n",
              "      <td>2018-12-13 07:45:00</td>\n",
              "      <td>29656</td>\n",
              "      <td>44</td>\n",
              "      <td>latest</td>\n",
              "      <td>0</td>\n",
              "      <td>2018-10-16 10:54:00</td>\n",
              "      <td>android</td>\n",
              "      <td>368797</td>\n",
              "      <td>8365</td>\n",
              "      <td>18176.0</td>\n",
              "      <td>1.0</td>\n",
              "      <td>42.0</td>\n",
              "      <td>157.0</td>\n",
              "      <td>1617.0</td>\n",
              "      <td>72</td>\n",
              "    </tr>\n",
              "  </tbody>\n",
              "</table>\n",
              "</div>"
            ],
            "text/plain": [
              "                      impression_id      impression_time  ...  product_type  count\n",
              "0  a9e7126a585a69a32bc7414e9d0c0ada  2018-12-13 07:44:00  ...        1617.0      1\n",
              "1  caac14a5bf2ba283db7708bb34855760  2018-12-13 07:45:00  ...        9857.0     72\n",
              "2  caac14a5bf2ba283db7708bb34855760  2018-12-13 07:45:00  ...        6347.0     72\n",
              "3  caac14a5bf2ba283db7708bb34855760  2018-12-13 07:45:00  ...        6347.0     72\n",
              "4  caac14a5bf2ba283db7708bb34855760  2018-12-13 07:45:00  ...        1617.0     72\n",
              "\n",
              "[5 rows x 16 columns]"
            ]
          },
          "metadata": {
            "tags": []
          },
          "execution_count": 49
        }
      ]
    },
    {
      "cell_type": "code",
      "metadata": {
        "id": "J5zp37G_ru_D",
        "colab_type": "code",
        "colab": {}
      },
      "source": [
        "#train_data[\"cat_new1\"] = (train_data[\"category_1\"]-train_data[\"category_2\"])/train_data[\"category_2\"]\n",
        "#train_data[\"cat_new2\"] = (train_data[\"category_1\"]+train_data[\"category_2\"])/train_data[\"category_1\"]\n",
        "#train_data[\"cat_new3\"] = (train_data[\"category_1\"]-train_data[\"category_3\"])/train_data[\"category_3\"]\n",
        "#train_data[\"cat_new4\"] = (train_data[\"category_1\"]+train_data[\"category_3\"])/train_data[\"category_1\"]\n",
        "#train_data[\"cat_new5\"] = (train_data[\"category_3\"]-train_data[\"category_2\"])/train_data[\"category_2\"]\n",
        "#train_data[\"cat_new6\"] = (train_data[\"category_3\"]+train_data[\"category_2\"])/train_data[\"category_3\"]"
      ],
      "execution_count": 0,
      "outputs": []
    },
    {
      "cell_type": "code",
      "metadata": {
        "id": "ErcR39_JiNVb",
        "colab_type": "code",
        "colab": {}
      },
      "source": [
        "#test_data[\"cat_new1\"] = (test_data[\"category_1\"]-test_data[\"category_2\"])/test_data[\"category_2\"]\n",
        "#test_data[\"cat_new2\"] = (test_data[\"category_1\"]+test_data[\"category_2\"])/test_data[\"category_1\"]\n",
        "#test_data[\"cat_new3\"] = (test_data[\"category_1\"]-test_data[\"category_3\"])/test_data[\"category_3\"]\n",
        "#test_data[\"cat_new4\"] = (test_data[\"category_1\"]+test_data[\"category_3\"])/test_data[\"category_1\"]\n",
        "#test_data[\"cat_new5\"] = (test_data[\"category_3\"]-test_data[\"category_2\"])/test_data[\"category_2\"]\n",
        "#test_data[\"cat_new6\"] = (test_data[\"category_3\"]+test_data[\"category_2\"])/test_data[\"category_3\"]"
      ],
      "execution_count": 0,
      "outputs": []
    },
    {
      "cell_type": "code",
      "metadata": {
        "id": "ZXx3vTIdKsHV",
        "colab_type": "code",
        "colab": {}
      },
      "source": [
        "#train_data[\"cat_new1\"] = train_data[\"category_1\"]/train_data[\"count\"]\n",
        "#train_data[\"cat_new2\"] = train_data[\"category_2\"]/train_data[\"count\"]\n",
        "#train_data[\"cat_new3\"] = train_data[\"category_3\"]/train_data[\"count\"]"
      ],
      "execution_count": 0,
      "outputs": []
    },
    {
      "cell_type": "code",
      "metadata": {
        "id": "ay3QsBGGKX0Y",
        "colab_type": "code",
        "colab": {}
      },
      "source": [
        "#test_data[\"cat_new1\"] = test_data[\"category_1\"]/test_data[\"count\"]\n",
        "#test_data[\"cat_new2\"] = test_data[\"category_2\"]/test_data[\"count\"]\n",
        "#test_data[\"cat_new3\"] = test_data[\"category_3\"]/test_data[\"count\"]"
      ],
      "execution_count": 0,
      "outputs": []
    },
    {
      "cell_type": "markdown",
      "metadata": {
        "id": "1vFDW6wywYsw",
        "colab_type": "text"
      },
      "source": [
        "# Price/Count"
      ]
    },
    {
      "cell_type": "code",
      "metadata": {
        "id": "MInu2Nl4wa21",
        "colab_type": "code",
        "colab": {}
      },
      "source": [
        "#train_data[\"ctr\"] = train_data[\"item_price\"]/train_data[\"count\"]\n",
        "#test_data[\"ctr\"] = test_data[\"item_price\"]/test_data[\"count\"]"
      ],
      "execution_count": 0,
      "outputs": []
    },
    {
      "cell_type": "code",
      "metadata": {
        "id": "smkwxKfXuaK3",
        "colab_type": "code",
        "colab": {}
      },
      "source": [
        "#sub.tail(5)"
      ],
      "execution_count": 0,
      "outputs": []
    },
    {
      "cell_type": "code",
      "metadata": {
        "id": "EjxeBiaOvmMY",
        "colab_type": "code",
        "colab": {}
      },
      "source": [
        "#sub.drop_duplicates(subset=[\"impression_id\"], keep=\"first\", inplace=True)\n",
        "#sub.shape"
      ],
      "execution_count": 0,
      "outputs": []
    },
    {
      "cell_type": "markdown",
      "metadata": {
        "id": "CycNmZBbM2Fb",
        "colab_type": "text"
      },
      "source": [
        "# Datetime"
      ]
    },
    {
      "cell_type": "code",
      "metadata": {
        "id": "SULlp3UWM-BB",
        "colab_type": "code",
        "outputId": "87658d3a-1eb2-4c02-ca02-da8ca78ce655",
        "colab": {
          "base_uri": "https://localhost:8080/",
          "height": 213
        }
      },
      "source": [
        "train_data.head(3)"
      ],
      "execution_count": 57,
      "outputs": [
        {
          "output_type": "execute_result",
          "data": {
            "text/html": [
              "<div>\n",
              "<style scoped>\n",
              "    .dataframe tbody tr th:only-of-type {\n",
              "        vertical-align: middle;\n",
              "    }\n",
              "\n",
              "    .dataframe tbody tr th {\n",
              "        vertical-align: top;\n",
              "    }\n",
              "\n",
              "    .dataframe thead th {\n",
              "        text-align: right;\n",
              "    }\n",
              "</style>\n",
              "<table border=\"1\" class=\"dataframe\">\n",
              "  <thead>\n",
              "    <tr style=\"text-align: right;\">\n",
              "      <th></th>\n",
              "      <th>impression_id</th>\n",
              "      <th>impression_time</th>\n",
              "      <th>user_id</th>\n",
              "      <th>app_code</th>\n",
              "      <th>os_version</th>\n",
              "      <th>is_4G</th>\n",
              "      <th>server_time</th>\n",
              "      <th>device_type</th>\n",
              "      <th>session_id</th>\n",
              "      <th>item_id</th>\n",
              "      <th>item_price</th>\n",
              "      <th>category_1</th>\n",
              "      <th>category_2</th>\n",
              "      <th>category_3</th>\n",
              "      <th>product_type</th>\n",
              "      <th>count_1</th>\n",
              "      <th>ctr</th>\n",
              "      <th>cat_new1</th>\n",
              "      <th>cat_new2</th>\n",
              "      <th>cat_new3</th>\n",
              "      <th>count_12</th>\n",
              "      <th>count_4</th>\n",
              "      <th>count_14</th>\n",
              "      <th>count_6</th>\n",
              "      <th>count_16</th>\n",
              "      <th>count_8</th>\n",
              "      <th>count_18</th>\n",
              "      <th>count_20</th>\n",
              "      <th>count_200</th>\n",
              "      <th>count</th>\n",
              "    </tr>\n",
              "  </thead>\n",
              "  <tbody>\n",
              "    <tr>\n",
              "      <th>0</th>\n",
              "      <td>c4ca4238a0b923820dcc509a6f75849b</td>\n",
              "      <td>2018-11-15 00:00:00</td>\n",
              "      <td>87862</td>\n",
              "      <td>422</td>\n",
              "      <td>old</td>\n",
              "      <td>0</td>\n",
              "      <td>2018-10-19 18:11:00</td>\n",
              "      <td>android</td>\n",
              "      <td>190710</td>\n",
              "      <td>43886</td>\n",
              "      <td>2350.0</td>\n",
              "      <td>11.0</td>\n",
              "      <td>35.0</td>\n",
              "      <td>20.0</td>\n",
              "      <td>5622.0</td>\n",
              "      <td>1</td>\n",
              "      <td>2350.000000</td>\n",
              "      <td>11.000000</td>\n",
              "      <td>35.000000</td>\n",
              "      <td>20.000000</td>\n",
              "      <td>30936</td>\n",
              "      <td>1129976.0</td>\n",
              "      <td>259780.0</td>\n",
              "      <td>125694.0</td>\n",
              "      <td>143701.0</td>\n",
              "      <td>3280315</td>\n",
              "      <td>3</td>\n",
              "      <td>377</td>\n",
              "      <td>995.0</td>\n",
              "      <td>3</td>\n",
              "    </tr>\n",
              "    <tr>\n",
              "      <th>1</th>\n",
              "      <td>45c48cce2e2d7fbdea1afc51c7c6ad26</td>\n",
              "      <td>2018-11-15 00:01:00</td>\n",
              "      <td>63410</td>\n",
              "      <td>467</td>\n",
              "      <td>latest</td>\n",
              "      <td>1</td>\n",
              "      <td>2018-10-21 06:13:00</td>\n",
              "      <td>android</td>\n",
              "      <td>356854</td>\n",
              "      <td>43209</td>\n",
              "      <td>3421.0</td>\n",
              "      <td>4.0</td>\n",
              "      <td>74.0</td>\n",
              "      <td>292.0</td>\n",
              "      <td>577.0</td>\n",
              "      <td>12</td>\n",
              "      <td>285.083333</td>\n",
              "      <td>0.333333</td>\n",
              "      <td>6.166667</td>\n",
              "      <td>24.333333</td>\n",
              "      <td>11867</td>\n",
              "      <td>1397337.0</td>\n",
              "      <td>492090.0</td>\n",
              "      <td>490837.0</td>\n",
              "      <td>1305.0</td>\n",
              "      <td>7844613</td>\n",
              "      <td>732</td>\n",
              "      <td>892</td>\n",
              "      <td>1019.0</td>\n",
              "      <td>122</td>\n",
              "    </tr>\n",
              "    <tr>\n",
              "      <th>2</th>\n",
              "      <td>45c48cce2e2d7fbdea1afc51c7c6ad26</td>\n",
              "      <td>2018-11-15 00:01:00</td>\n",
              "      <td>63410</td>\n",
              "      <td>467</td>\n",
              "      <td>latest</td>\n",
              "      <td>1</td>\n",
              "      <td>2018-10-21 06:13:00</td>\n",
              "      <td>android</td>\n",
              "      <td>356854</td>\n",
              "      <td>66370</td>\n",
              "      <td>14166.0</td>\n",
              "      <td>4.0</td>\n",
              "      <td>74.0</td>\n",
              "      <td>292.0</td>\n",
              "      <td>3399.0</td>\n",
              "      <td>12</td>\n",
              "      <td>1180.500000</td>\n",
              "      <td>0.333333</td>\n",
              "      <td>6.166667</td>\n",
              "      <td>24.333333</td>\n",
              "      <td>11867</td>\n",
              "      <td>1397337.0</td>\n",
              "      <td>492090.0</td>\n",
              "      <td>490837.0</td>\n",
              "      <td>47773.0</td>\n",
              "      <td>7844613</td>\n",
              "      <td>732</td>\n",
              "      <td>350</td>\n",
              "      <td>355.0</td>\n",
              "      <td>122</td>\n",
              "    </tr>\n",
              "  </tbody>\n",
              "</table>\n",
              "</div>"
            ],
            "text/plain": [
              "                      impression_id      impression_time  ...  count_200  count\n",
              "0  c4ca4238a0b923820dcc509a6f75849b  2018-11-15 00:00:00  ...      995.0      3\n",
              "1  45c48cce2e2d7fbdea1afc51c7c6ad26  2018-11-15 00:01:00  ...     1019.0    122\n",
              "2  45c48cce2e2d7fbdea1afc51c7c6ad26  2018-11-15 00:01:00  ...      355.0    122\n",
              "\n",
              "[3 rows x 30 columns]"
            ]
          },
          "metadata": {
            "tags": []
          },
          "execution_count": 57
        }
      ]
    },
    {
      "cell_type": "code",
      "metadata": {
        "id": "ngc25rmdNO59",
        "colab_type": "code",
        "colab": {}
      },
      "source": [
        "import datetime\n",
        "train_data[\"impression_time\"] = pd.to_datetime(train_data[\"impression_time\"])\n",
        "train_data[\"server_time\"] = pd.to_datetime(train_data[\"server_time\"])\n",
        "\n",
        "#test_data[\"impression_time\"] = pd.to_datetime(test_data[\"impression_time\"])\n",
        "#test_data[\"server_time\"] = pd.to_datetime(test_data[\"server_time\"])"
      ],
      "execution_count": 0,
      "outputs": []
    },
    {
      "cell_type": "code",
      "metadata": {
        "id": "7JzqAEfRN4pG",
        "colab_type": "code",
        "colab": {}
      },
      "source": [
        "train_data['day_imp'] = pd.DatetimeIndex(train_data['impression_time']).day\n",
        "train_data['day_ser'] = pd.DatetimeIndex(train_data['server_time']).day\n",
        "train_data['week_imp'] = pd.DatetimeIndex(train_data['impression_time']).week\n",
        "train_data['week_ser'] = pd.DatetimeIndex(train_data['server_time']).week\n",
        "#train_data['minute_imp'] = pd.DatetimeIndex(train_data['impression_time']).minute\n",
        "#train_data['minute_ser'] = pd.DatetimeIndex(train_data['server_time']).minute\n",
        "train_data['hour_imp'] = pd.DatetimeIndex(train_data['impression_time']).hour\n",
        "train_data['hour_ser'] = pd.DatetimeIndex(train_data['server_time']).hour\n",
        "train_data['day_week_ser'] = pd.DatetimeIndex(train_data['server_time']).dayofweek\n",
        "train_data['day_week_imp'] = pd.DatetimeIndex(train_data['impression_time']).dayofweek\n",
        "\n",
        "\n",
        "#test_data['day_imp'] = pd.DatetimeIndex(test_data['impression_time']).day\n",
        "#test_data['day_ser'] = pd.DatetimeIndex(test_data['server_time']).day\n",
        "#test_data['week_imp'] = pd.DatetimeIndex(test_data['impression_time']).week\n",
        "#test_data['week_ser'] = pd.DatetimeIndex(test_data['server_time']).week\n",
        "#test_data['minute_imp'] = pd.DatetimeIndex(test_data['impression_time']).minute\n",
        "#test_data['minute_ser'] = pd.DatetimeIndex(test_data['server_time']).minute\n",
        "#test_data['hour_imp'] = pd.DatetimeIndex(test_data['impression_time']).hour\n",
        "#test_data['hour_ser'] = pd.DatetimeIndex(test_data['server_time']).hour\n",
        "#test_data['day_week_ser'] = pd.DatetimeIndex(test_data['server_time']).dayofweek\n",
        "#test_data['day_week_imp'] = pd.DatetimeIndex(test_data['impression_time']).dayofweek\n",
        "\n",
        "\n",
        "\n",
        "\n",
        "\n"
      ],
      "execution_count": 0,
      "outputs": []
    },
    {
      "cell_type": "code",
      "metadata": {
        "id": "7VpYwmD5LR4U",
        "colab_type": "code",
        "outputId": "eee82253-66fd-4503-eb4c-241ba3654dd1",
        "colab": {
          "base_uri": "https://localhost:8080/",
          "height": 165
        }
      },
      "source": [
        "train_data.tail(2)"
      ],
      "execution_count": 60,
      "outputs": [
        {
          "output_type": "execute_result",
          "data": {
            "text/html": [
              "<div>\n",
              "<style scoped>\n",
              "    .dataframe tbody tr th:only-of-type {\n",
              "        vertical-align: middle;\n",
              "    }\n",
              "\n",
              "    .dataframe tbody tr th {\n",
              "        vertical-align: top;\n",
              "    }\n",
              "\n",
              "    .dataframe thead th {\n",
              "        text-align: right;\n",
              "    }\n",
              "</style>\n",
              "<table border=\"1\" class=\"dataframe\">\n",
              "  <thead>\n",
              "    <tr style=\"text-align: right;\">\n",
              "      <th></th>\n",
              "      <th>impression_id</th>\n",
              "      <th>impression_time</th>\n",
              "      <th>user_id</th>\n",
              "      <th>app_code</th>\n",
              "      <th>os_version</th>\n",
              "      <th>is_4G</th>\n",
              "      <th>server_time</th>\n",
              "      <th>device_type</th>\n",
              "      <th>session_id</th>\n",
              "      <th>item_id</th>\n",
              "      <th>item_price</th>\n",
              "      <th>category_1</th>\n",
              "      <th>category_2</th>\n",
              "      <th>category_3</th>\n",
              "      <th>product_type</th>\n",
              "      <th>count_1</th>\n",
              "      <th>ctr</th>\n",
              "      <th>cat_new1</th>\n",
              "      <th>cat_new2</th>\n",
              "      <th>cat_new3</th>\n",
              "      <th>count_12</th>\n",
              "      <th>count_4</th>\n",
              "      <th>count_14</th>\n",
              "      <th>count_6</th>\n",
              "      <th>count_16</th>\n",
              "      <th>count_8</th>\n",
              "      <th>count_18</th>\n",
              "      <th>count_20</th>\n",
              "      <th>count_200</th>\n",
              "      <th>count</th>\n",
              "      <th>day_imp</th>\n",
              "      <th>day_ser</th>\n",
              "      <th>week_imp</th>\n",
              "      <th>week_ser</th>\n",
              "      <th>hour_imp</th>\n",
              "      <th>hour_ser</th>\n",
              "      <th>day_week_ser</th>\n",
              "      <th>day_week_imp</th>\n",
              "    </tr>\n",
              "  </thead>\n",
              "  <tbody>\n",
              "    <tr>\n",
              "      <th>14924577</th>\n",
              "      <td>539145030fb3600d26d6a64130310035</td>\n",
              "      <td>2018-12-18 23:59:00</td>\n",
              "      <td>82078</td>\n",
              "      <td>242</td>\n",
              "      <td>latest</td>\n",
              "      <td>1</td>\n",
              "      <td>2018-12-11 09:53:00</td>\n",
              "      <td>android</td>\n",
              "      <td>994516</td>\n",
              "      <td>70965</td>\n",
              "      <td>3744.0</td>\n",
              "      <td>16.0</td>\n",
              "      <td>56.0</td>\n",
              "      <td>17.0</td>\n",
              "      <td>9227.0</td>\n",
              "      <td>9</td>\n",
              "      <td>416.000000</td>\n",
              "      <td>1.777778</td>\n",
              "      <td>6.222222</td>\n",
              "      <td>1.888889</td>\n",
              "      <td>175445</td>\n",
              "      <td>613022.0</td>\n",
              "      <td>186073.0</td>\n",
              "      <td>43999.0</td>\n",
              "      <td>29680.0</td>\n",
              "      <td>7844613</td>\n",
              "      <td>153</td>\n",
              "      <td>19716</td>\n",
              "      <td>25016.0</td>\n",
              "      <td>17</td>\n",
              "      <td>18</td>\n",
              "      <td>11</td>\n",
              "      <td>51</td>\n",
              "      <td>50</td>\n",
              "      <td>23</td>\n",
              "      <td>9</td>\n",
              "      <td>1</td>\n",
              "      <td>1</td>\n",
              "    </tr>\n",
              "    <tr>\n",
              "      <th>14924578</th>\n",
              "      <td>539145030fb3600d26d6a64130310035</td>\n",
              "      <td>2018-12-18 23:59:00</td>\n",
              "      <td>82078</td>\n",
              "      <td>242</td>\n",
              "      <td>latest</td>\n",
              "      <td>1</td>\n",
              "      <td>2018-12-11 15:47:00</td>\n",
              "      <td>android</td>\n",
              "      <td>57901</td>\n",
              "      <td>35963</td>\n",
              "      <td>22528.0</td>\n",
              "      <td>10.0</td>\n",
              "      <td>63.0</td>\n",
              "      <td>220.0</td>\n",
              "      <td>9959.0</td>\n",
              "      <td>9</td>\n",
              "      <td>2503.111111</td>\n",
              "      <td>1.111111</td>\n",
              "      <td>7.000000</td>\n",
              "      <td>24.444444</td>\n",
              "      <td>175445</td>\n",
              "      <td>831106.0</td>\n",
              "      <td>350728.0</td>\n",
              "      <td>217217.0</td>\n",
              "      <td>74867.0</td>\n",
              "      <td>7844613</td>\n",
              "      <td>153</td>\n",
              "      <td>16272</td>\n",
              "      <td>16498.0</td>\n",
              "      <td>17</td>\n",
              "      <td>18</td>\n",
              "      <td>11</td>\n",
              "      <td>51</td>\n",
              "      <td>50</td>\n",
              "      <td>23</td>\n",
              "      <td>15</td>\n",
              "      <td>1</td>\n",
              "      <td>1</td>\n",
              "    </tr>\n",
              "  </tbody>\n",
              "</table>\n",
              "</div>"
            ],
            "text/plain": [
              "                             impression_id  ... day_week_imp\n",
              "14924577  539145030fb3600d26d6a64130310035  ...            1\n",
              "14924578  539145030fb3600d26d6a64130310035  ...            1\n",
              "\n",
              "[2 rows x 38 columns]"
            ]
          },
          "metadata": {
            "tags": []
          },
          "execution_count": 60
        }
      ]
    },
    {
      "cell_type": "code",
      "metadata": {
        "id": "MZpsoUlRRtW3",
        "colab_type": "code",
        "outputId": "4b02558e-96ac-4418-c2b7-8d42d223b9e7",
        "colab": {
          "base_uri": "https://localhost:8080/",
          "height": 34
        }
      },
      "source": [
        "'''\n",
        "Taking into account just the CLICKS \n",
        "'''\n",
        "#item_df = pd.DataFrame() \n",
        "#item_df['pos_clicks'] = train_data[['item_id','is_click']].groupby(['item_id']).count().reset_index().sort_values('is_click',ascending=False)['is_click']\n",
        "            \n",
        "#item_df"
      ],
      "execution_count": 61,
      "outputs": [
        {
          "output_type": "execute_result",
          "data": {
            "text/plain": [
              "'\\nTaking into account just the CLICKS \\n'"
            ]
          },
          "metadata": {
            "tags": []
          },
          "execution_count": 61
        }
      ]
    },
    {
      "cell_type": "code",
      "metadata": {
        "id": "WAnpGzokRVd0",
        "colab_type": "code",
        "outputId": "af94a8bc-fe47-42b8-951a-34fe02431d6b",
        "colab": {
          "base_uri": "https://localhost:8080/",
          "height": 34
        }
      },
      "source": [
        "'''\n",
        "Taking into account just the CLICKS \n",
        "'''\n",
        "#session_df = pd.DataFrame() \n",
        "#session_df['pos_clicks'] = train_data[['session_id','is_click']].groupby(['session_id']).count().reset_index().sort_values('is_click',ascending=False)['is_click']\n",
        "            \n",
        "#session_df"
      ],
      "execution_count": 62,
      "outputs": [
        {
          "output_type": "execute_result",
          "data": {
            "text/plain": [
              "'\\nTaking into account just the CLICKS \\n'"
            ]
          },
          "metadata": {
            "tags": []
          },
          "execution_count": 62
        }
      ]
    },
    {
      "cell_type": "code",
      "metadata": {
        "id": "IPWfO57jQ8G4",
        "colab_type": "code",
        "outputId": "ed177aec-157e-4914-ebca-5c724258836d",
        "colab": {
          "base_uri": "https://localhost:8080/",
          "height": 34
        }
      },
      "source": [
        "'''\n",
        "Taking into account just the CLICKS \n",
        "'''\n",
        "#user_df = pd.DataFrame() \n",
        "#user_df['pos_clicks'] = train_data[['user_id','is_click']].groupby(['user_id']).count().reset_index().sort_values('is_click',ascending=False)['is_click']\n",
        "            \n",
        "#user_df"
      ],
      "execution_count": 63,
      "outputs": [
        {
          "output_type": "execute_result",
          "data": {
            "text/plain": [
              "'\\nTaking into account just the CLICKS \\n'"
            ]
          },
          "metadata": {
            "tags": []
          },
          "execution_count": 63
        }
      ]
    },
    {
      "cell_type": "code",
      "metadata": {
        "id": "75gFynx_QlWH",
        "colab_type": "code",
        "outputId": "1c3dc8f4-fc64-445d-fddd-7621a42989f5",
        "colab": {
          "base_uri": "https://localhost:8080/",
          "height": 34
        }
      },
      "source": [
        "'''\n",
        "Taking into account just the CLICKS \n",
        "'''\n",
        "#app_df = pd.DataFrame() \n",
        "#app_df['pos_clicks'] = train_data[['app_code','is_click']].groupby(['app_code']).count().reset_index().sort_values('is_click',ascending=False)['is_click']\n",
        "            \n",
        "#app_df"
      ],
      "execution_count": 64,
      "outputs": [
        {
          "output_type": "execute_result",
          "data": {
            "text/plain": [
              "'\\nTaking into account just the CLICKS \\n'"
            ]
          },
          "metadata": {
            "tags": []
          },
          "execution_count": 64
        }
      ]
    },
    {
      "cell_type": "code",
      "metadata": {
        "id": "G1GrjXN6OJ_p",
        "colab_type": "code",
        "outputId": "f8ab0c67-576e-4769-bacd-28d7820521e3",
        "colab": {
          "base_uri": "https://localhost:8080/",
          "height": 34
        }
      },
      "source": [
        "'''\n",
        "Taking into account just the CLICKS \n",
        "'''\n",
        "#hour_df = pd.DataFrame() \n",
        "#hour_df['pos_clicks'] = train_data[['hour_imp','is_click']].groupby(['hour_imp']).count().reset_index().sort_values('is_click',ascending=False)['is_click']\n",
        "            \n",
        "#hour_df"
      ],
      "execution_count": 65,
      "outputs": [
        {
          "output_type": "execute_result",
          "data": {
            "text/plain": [
              "'\\nTaking into account just the CLICKS \\n'"
            ]
          },
          "metadata": {
            "tags": []
          },
          "execution_count": 65
        }
      ]
    },
    {
      "cell_type": "code",
      "metadata": {
        "id": "EtDdoW3dMIu5",
        "colab_type": "code",
        "outputId": "ac8ca114-7ecf-4dc7-ee0e-07f0b4843035",
        "colab": {
          "base_uri": "https://localhost:8080/",
          "height": 34
        }
      },
      "source": [
        "'''\n",
        "Taking into account just the CLICKS \n",
        "'''\n",
        "#hour_df = pd.DataFrame() \n",
        "#hour_df['pos_clicks'] = train_data[['hour_ser','is_click']].groupby(['hour_ser']).count().reset_index().sort_values('is_click',ascending=False)['is_click']\n",
        "            \n",
        "#hour_df"
      ],
      "execution_count": 66,
      "outputs": [
        {
          "output_type": "execute_result",
          "data": {
            "text/plain": [
              "'\\nTaking into account just the CLICKS \\n'"
            ]
          },
          "metadata": {
            "tags": []
          },
          "execution_count": 66
        }
      ]
    },
    {
      "cell_type": "code",
      "metadata": {
        "id": "z09BWK4cPnyq",
        "colab_type": "code",
        "outputId": "eee04274-d1fe-4664-8d12-be71b1f3c724",
        "colab": {
          "base_uri": "https://localhost:8080/",
          "height": 34
        }
      },
      "source": [
        "'''\n",
        "Taking into account just the CLICKS \n",
        "'''\n",
        "#week_df = pd.DataFrame() \n",
        "#week_df['pos_clicks'] = train_data[['week_imp','is_click']].groupby(['week_imp']).count().reset_index().sort_values('is_click',ascending=False)['is_click']\n",
        "            \n",
        "#week_df"
      ],
      "execution_count": 67,
      "outputs": [
        {
          "output_type": "execute_result",
          "data": {
            "text/plain": [
              "'\\nTaking into account just the CLICKS \\n'"
            ]
          },
          "metadata": {
            "tags": []
          },
          "execution_count": 67
        }
      ]
    },
    {
      "cell_type": "code",
      "metadata": {
        "id": "kD6RYtmKNm2F",
        "colab_type": "code",
        "outputId": "5aaaf021-b3d1-4906-bc63-6dd7a15279e0",
        "colab": {
          "base_uri": "https://localhost:8080/",
          "height": 34
        }
      },
      "source": [
        "'''\n",
        "Taking into account just the CLICKS \n",
        "'''\n",
        "#week_df = pd.DataFrame() \n",
        "#week_df['pos_clicks'] = train_data[['week_ser','is_click']].groupby(['week_ser']).count().reset_index().sort_values('is_click',ascending=False)['is_click']\n",
        "            \n",
        "#week_df"
      ],
      "execution_count": 68,
      "outputs": [
        {
          "output_type": "execute_result",
          "data": {
            "text/plain": [
              "'\\nTaking into account just the CLICKS \\n'"
            ]
          },
          "metadata": {
            "tags": []
          },
          "execution_count": 68
        }
      ]
    },
    {
      "cell_type": "code",
      "metadata": {
        "id": "M--92AniO5Cd",
        "colab_type": "code",
        "outputId": "d725df2a-5064-4b9e-f689-e3ab085823cb",
        "colab": {
          "base_uri": "https://localhost:8080/",
          "height": 34
        }
      },
      "source": [
        "'''\n",
        "Taking into account just the CLICKS \n",
        "'''\n",
        "#day_week_df = pd.DataFrame() \n",
        "#day_week_df['pos_clicks'] = train_data[['day_week_ser','is_click']].groupby(['day_week_ser']).count().reset_index().sort_values('is_click',ascending=False)['is_click']\n",
        "            \n",
        "#day_week_df"
      ],
      "execution_count": 69,
      "outputs": [
        {
          "output_type": "execute_result",
          "data": {
            "text/plain": [
              "'\\nTaking into account just the CLICKS \\n'"
            ]
          },
          "metadata": {
            "tags": []
          },
          "execution_count": 69
        }
      ]
    },
    {
      "cell_type": "code",
      "metadata": {
        "id": "FTJbSK-6O4_q",
        "colab_type": "code",
        "outputId": "21a3cb59-98b5-4ba5-ffbe-7d3f5e0b7142",
        "colab": {
          "base_uri": "https://localhost:8080/",
          "height": 34
        }
      },
      "source": [
        "'''\n",
        "Taking into account just the CLICKS \n",
        "'''\n",
        "#day_week_df = pd.DataFrame() \n",
        "#day_week_df['pos_clicks'] = train_data[['day_week_imp','is_click']].groupby(['day_week_imp']).count().reset_index().sort_values('is_click',ascending=False)['is_click']\n",
        "            \n",
        "#day_week_df"
      ],
      "execution_count": 70,
      "outputs": [
        {
          "output_type": "execute_result",
          "data": {
            "text/plain": [
              "'\\nTaking into account just the CLICKS \\n'"
            ]
          },
          "metadata": {
            "tags": []
          },
          "execution_count": 70
        }
      ]
    },
    {
      "cell_type": "code",
      "metadata": {
        "id": "93bYZJ5WN4sC",
        "colab_type": "code",
        "colab": {}
      },
      "source": [
        "#def noon_or(c):\n",
        "#  noon_or_not = []\n",
        "#  for i in c:\n",
        "#    if i<=12:\n",
        "#      noon_or_not.append(\"noon\")\n",
        "#    else:\n",
        "#      noon_or_not.append(\"not_noon\")\n",
        "#  return noon_or_not    "
      ],
      "execution_count": 0,
      "outputs": []
    },
    {
      "cell_type": "code",
      "metadata": {
        "id": "qXpshVaJaLVd",
        "colab_type": "code",
        "colab": {}
      },
      "source": [
        "train_data[\"noon_ser\"] = noon_or(train_data[\"hour_ser\"])\n",
        "train_data[\"noon_imp\"] = noon_or(train_data[\"hour_imp\"])\n",
        "\n",
        "#test_data[\"noon_ser\"] = noon_or(test_data[\"hour_ser\"])\n",
        "#test_data[\"noon_imp\"] = noon_or(test_data[\"hour_imp\"])\n",
        "\n"
      ],
      "execution_count": 0,
      "outputs": []
    },
    {
      "cell_type": "code",
      "metadata": {
        "id": "JD-oanEdduDW",
        "colab_type": "code",
        "colab": {}
      },
      "source": [
        "train_data[\"diff\"] = (train_data[\"hour_ser\"]-train_data[\"hour_imp\"])*60 \n",
        "#test_data[\"diff\"] = (test_data[\"hour_ser\"]-test_data[\"hour_imp\"])*60 "
      ],
      "execution_count": 0,
      "outputs": []
    },
    {
      "cell_type": "code",
      "metadata": {
        "id": "WOQCs5Tpfi7k",
        "colab_type": "code",
        "outputId": "5caad492-3004-4ec0-c719-6bcc5298bce9",
        "colab": {
          "base_uri": "https://localhost:8080/",
          "height": 119
        }
      },
      "source": [
        "train_1= train_data.groupby(train_data.noon_ser).agg({\"noon_ser\":[\"count\"]})[\"noon_ser\"].reset_index()\n",
        "train_data = pd.merge(train_data, train_1, on=\"noon_ser\", how=\"left\", suffixes=('_22', '_212'))\n",
        "print(train_data.shape)\n",
        "\n",
        "train_1= train_data.groupby(train_data.noon_imp).agg({\"noon_imp\":[\"count\"]})[\"noon_imp\"].reset_index()\n",
        "train_data = pd.merge(train_data, train_1, on=\"noon_imp\", how=\"left\", suffixes=('_22', '_212'))\n",
        "print(train_data.shape)\n",
        "\n",
        "train_1= train_data.groupby(train_data.day_imp).agg({\"day_imp\":[\"count\"]})[\"day_imp\"].reset_index()\n",
        "train_data = pd.merge(train_data, train_1, on=\"day_imp\", how=\"left\")\n",
        "print(train_data.shape)\n",
        "\n",
        "train_1= train_data.groupby(train_data.day_ser).agg({\"day_ser\":[\"count\"]})[\"day_ser\"].reset_index()\n",
        "train_data = pd.merge(train_data, train_1, on=\"day_ser\", how=\"left\", suffixes=('_23', '_213'))\n",
        "\n",
        "print(train_data.shape)\n",
        "\n",
        "train_1= train_data.groupby(train_data.day_week_ser).agg({\"day_week_ser\":[\"count\"]})[\"day_week_ser\"].reset_index()\n",
        "train_data = pd.merge(train_data, train_1, on=\"day_week_ser\", how=\"left\", suffixes=('_24', '_214'))\n",
        "\n",
        "print(train_data.shape)\n",
        "\n",
        "train_1= train_data.groupby(train_data.week_ser).agg({\"week_ser\":[\"count\"]})[\"week_ser\"].reset_index()\n",
        "train_data = pd.merge(train_data, train_1, on=\"week_ser\", how=\"left\", suffixes=('_25', '_215'))\n",
        "\n",
        "print(train_data.shape)\n",
        "\n"
      ],
      "execution_count": 74,
      "outputs": [
        {
          "output_type": "stream",
          "text": [
            "(14924579, 42)\n",
            "(14924579, 43)\n",
            "(14924579, 44)\n",
            "(14924579, 45)\n",
            "(14924579, 46)\n",
            "(14924579, 47)\n"
          ],
          "name": "stdout"
        }
      ]
    },
    {
      "cell_type": "code",
      "metadata": {
        "id": "FWQxkwAFgiem",
        "colab_type": "code",
        "colab": {}
      },
      "source": [
        "#test_2= test_data.groupby(test_data.noon_ser).agg({\"noon_ser\":[\"count\"]})[\"noon_ser\"].reset_index()\n",
        "#test_data = pd.merge(test_data, test_2, on=\"noon_ser\", how=\"left\")\n",
        "#print(test_data.shape)\n",
        "\n",
        "#test_2= test_data.groupby(test_data.noon_imp).agg({\"noon_imp\":[\"count\"]})[\"noon_imp\"].reset_index()\n",
        "#test_data = pd.merge(test_data, test_2, on=\"noon_imp\", how=\"left\")\n",
        "#print(test_data.shape)\n",
        "\n",
        "#test_2= test_data.groupby(test_data.day_imp).agg({\"day_imp\":[\"count\"]})[\"day_imp\"].reset_index()\n",
        "#test_data = pd.merge(test_data, test_2, on=\"day_imp\", how=\"left\")\n",
        "#print(test_data.shape)\n",
        "\n",
        "#test_2= test_data.groupby(test_data.day_ser).agg({\"day_ser\":[\"count\"]})[\"day_ser\"].reset_index()\n",
        "#test_data = pd.merge(test_data, test_2, on=\"day_ser\", how=\"left\")\n",
        "#print(test_data.shape)\n",
        "\n",
        "#test_2= test_data.groupby(test_data.day_week_ser).agg({\"day_week_ser\":[\"count\"]})[\"day_week_ser\"].reset_index()\n",
        "#test_data = pd.merge(test_data, test_2, on=\"day_week_ser\", how=\"left\")\n",
        "#print(test_data.shape)\n",
        "\n",
        "#test_2= test_data.groupby(test_data.week_ser).agg({\"week_ser\":[\"count\"]})[\"week_ser\"].reset_index()\n",
        "#test_data = pd.merge(test_data, test_2, on=\"week_ser\", how=\"left\")\n",
        "#print(test_data.shape)"
      ],
      "execution_count": 0,
      "outputs": []
    },
    {
      "cell_type": "code",
      "metadata": {
        "id": "9VwfbwRZsTc0",
        "colab_type": "code",
        "colab": {
          "base_uri": "https://localhost:8080/",
          "height": 165
        },
        "outputId": "dcd81b61-3956-443c-ce6a-571620e3f333"
      },
      "source": [
        "train_data.tail(2)"
      ],
      "execution_count": 76,
      "outputs": [
        {
          "output_type": "execute_result",
          "data": {
            "text/html": [
              "<div>\n",
              "<style scoped>\n",
              "    .dataframe tbody tr th:only-of-type {\n",
              "        vertical-align: middle;\n",
              "    }\n",
              "\n",
              "    .dataframe tbody tr th {\n",
              "        vertical-align: top;\n",
              "    }\n",
              "\n",
              "    .dataframe thead th {\n",
              "        text-align: right;\n",
              "    }\n",
              "</style>\n",
              "<table border=\"1\" class=\"dataframe\">\n",
              "  <thead>\n",
              "    <tr style=\"text-align: right;\">\n",
              "      <th></th>\n",
              "      <th>impression_id</th>\n",
              "      <th>impression_time</th>\n",
              "      <th>user_id</th>\n",
              "      <th>app_code</th>\n",
              "      <th>os_version</th>\n",
              "      <th>is_4G</th>\n",
              "      <th>server_time</th>\n",
              "      <th>device_type</th>\n",
              "      <th>session_id</th>\n",
              "      <th>item_id</th>\n",
              "      <th>item_price</th>\n",
              "      <th>category_1</th>\n",
              "      <th>category_2</th>\n",
              "      <th>category_3</th>\n",
              "      <th>product_type</th>\n",
              "      <th>count_1</th>\n",
              "      <th>ctr</th>\n",
              "      <th>cat_new1</th>\n",
              "      <th>cat_new2</th>\n",
              "      <th>cat_new3</th>\n",
              "      <th>count_12</th>\n",
              "      <th>count_4</th>\n",
              "      <th>count_14</th>\n",
              "      <th>count_6</th>\n",
              "      <th>count_16</th>\n",
              "      <th>count_8</th>\n",
              "      <th>count_18</th>\n",
              "      <th>count_20</th>\n",
              "      <th>count_200</th>\n",
              "      <th>count_22</th>\n",
              "      <th>day_imp</th>\n",
              "      <th>day_ser</th>\n",
              "      <th>week_imp</th>\n",
              "      <th>week_ser</th>\n",
              "      <th>hour_imp</th>\n",
              "      <th>hour_ser</th>\n",
              "      <th>day_week_ser</th>\n",
              "      <th>day_week_imp</th>\n",
              "      <th>noon_ser</th>\n",
              "      <th>noon_imp</th>\n",
              "      <th>diff</th>\n",
              "      <th>count_212</th>\n",
              "      <th>count_x</th>\n",
              "      <th>count_y</th>\n",
              "      <th>count_24</th>\n",
              "      <th>count_214</th>\n",
              "      <th>count</th>\n",
              "    </tr>\n",
              "  </thead>\n",
              "  <tbody>\n",
              "    <tr>\n",
              "      <th>14924577</th>\n",
              "      <td>539145030fb3600d26d6a64130310035</td>\n",
              "      <td>2018-12-18 23:59:00</td>\n",
              "      <td>82078</td>\n",
              "      <td>242</td>\n",
              "      <td>latest</td>\n",
              "      <td>1</td>\n",
              "      <td>2018-12-11 09:53:00</td>\n",
              "      <td>android</td>\n",
              "      <td>994516</td>\n",
              "      <td>70965</td>\n",
              "      <td>3744.0</td>\n",
              "      <td>16.0</td>\n",
              "      <td>56.0</td>\n",
              "      <td>17.0</td>\n",
              "      <td>9227.0</td>\n",
              "      <td>9</td>\n",
              "      <td>416.000000</td>\n",
              "      <td>1.777778</td>\n",
              "      <td>6.222222</td>\n",
              "      <td>1.888889</td>\n",
              "      <td>175445</td>\n",
              "      <td>613022.0</td>\n",
              "      <td>186073.0</td>\n",
              "      <td>43999.0</td>\n",
              "      <td>29680.0</td>\n",
              "      <td>7844613</td>\n",
              "      <td>153</td>\n",
              "      <td>19716</td>\n",
              "      <td>25016.0</td>\n",
              "      <td>17</td>\n",
              "      <td>18</td>\n",
              "      <td>11</td>\n",
              "      <td>51</td>\n",
              "      <td>50</td>\n",
              "      <td>23</td>\n",
              "      <td>9</td>\n",
              "      <td>1</td>\n",
              "      <td>1</td>\n",
              "      <td>morning</td>\n",
              "      <td>evening</td>\n",
              "      <td>-840</td>\n",
              "      <td>1996522</td>\n",
              "      <td>8272707</td>\n",
              "      <td>884387</td>\n",
              "      <td>586207</td>\n",
              "      <td>2389736</td>\n",
              "      <td>609920</td>\n",
              "    </tr>\n",
              "    <tr>\n",
              "      <th>14924578</th>\n",
              "      <td>539145030fb3600d26d6a64130310035</td>\n",
              "      <td>2018-12-18 23:59:00</td>\n",
              "      <td>82078</td>\n",
              "      <td>242</td>\n",
              "      <td>latest</td>\n",
              "      <td>1</td>\n",
              "      <td>2018-12-11 15:47:00</td>\n",
              "      <td>android</td>\n",
              "      <td>57901</td>\n",
              "      <td>35963</td>\n",
              "      <td>22528.0</td>\n",
              "      <td>10.0</td>\n",
              "      <td>63.0</td>\n",
              "      <td>220.0</td>\n",
              "      <td>9959.0</td>\n",
              "      <td>9</td>\n",
              "      <td>2503.111111</td>\n",
              "      <td>1.111111</td>\n",
              "      <td>7.000000</td>\n",
              "      <td>24.444444</td>\n",
              "      <td>175445</td>\n",
              "      <td>831106.0</td>\n",
              "      <td>350728.0</td>\n",
              "      <td>217217.0</td>\n",
              "      <td>74867.0</td>\n",
              "      <td>7844613</td>\n",
              "      <td>153</td>\n",
              "      <td>16272</td>\n",
              "      <td>16498.0</td>\n",
              "      <td>17</td>\n",
              "      <td>18</td>\n",
              "      <td>11</td>\n",
              "      <td>51</td>\n",
              "      <td>50</td>\n",
              "      <td>23</td>\n",
              "      <td>15</td>\n",
              "      <td>1</td>\n",
              "      <td>1</td>\n",
              "      <td>evening</td>\n",
              "      <td>evening</td>\n",
              "      <td>-480</td>\n",
              "      <td>8301721</td>\n",
              "      <td>8272707</td>\n",
              "      <td>884387</td>\n",
              "      <td>586207</td>\n",
              "      <td>2389736</td>\n",
              "      <td>609920</td>\n",
              "    </tr>\n",
              "  </tbody>\n",
              "</table>\n",
              "</div>"
            ],
            "text/plain": [
              "                             impression_id  ...   count\n",
              "14924577  539145030fb3600d26d6a64130310035  ...  609920\n",
              "14924578  539145030fb3600d26d6a64130310035  ...  609920\n",
              "\n",
              "[2 rows x 47 columns]"
            ]
          },
          "metadata": {
            "tags": []
          },
          "execution_count": 76
        }
      ]
    },
    {
      "cell_type": "code",
      "metadata": {
        "id": "Bt8HCbY1g-gb",
        "colab_type": "code",
        "colab": {}
      },
      "source": [
        "train_data[\"301\"] = train_data[\"count_12\"]/train_data[\"count_1\"]\n",
        "train_data[\"302\"] = train_data[\"count_4\"]/train_data[\"count_1\"]\n",
        "train_data[\"303\"] = train_data[\"count_14\"]/train_data[\"count_1\"]\n",
        "train_data[\"304\"] = train_data[\"count_6\"]/train_data[\"count_1\"]\n",
        "train_data[\"305\"] = train_data[\"count_16\"]/train_data[\"count_1\"]\n",
        "train_data[\"306\"] = train_data[\"count_18\"]/train_data[\"count_1\"]\n",
        "train_data[\"307\"] = train_data[\"count_200\"]/train_data[\"count_1\"]\n",
        "train_data[\"308\"] = train_data[\"count_22\"]/train_data[\"count_1\"]\n",
        "train_data[\"309\"] = train_data[\"count_212\"]/train_data[\"count_1\"]\n",
        "train_data[\"310\"] = train_data[\"count_24\"]/train_data[\"count_1\"]\n",
        "train_data[\"311\"] = train_data[\"count_214\"]/train_data[\"count_1\"]\n",
        "train_data[\"312\"] = train_data[\"count\"]/train_data[\"count_1\"]\n",
        "train_data[\"313\"] = train_data[\"count_8\"]/train_data[\"count_1\"]\n",
        "train_data[\"314\"] = train_data[\"count_20\"]/train_data[\"count_1\"]\n",
        "train_data[\"315\"] = train_data[\"count_x\"]/train_data[\"count_1\"]\n",
        "train_data[\"316\"] = train_data[\"count_y\"]/train_data[\"count_1\"]\n",
        "\n",
        "\n",
        "\n",
        "\n"
      ],
      "execution_count": 0,
      "outputs": []
    },
    {
      "cell_type": "code",
      "metadata": {
        "id": "0TpEdl5HNzG_",
        "colab_type": "code",
        "outputId": "555f5751-ddc6-4a1a-8c15-f405a9853b5b",
        "colab": {
          "base_uri": "https://localhost:8080/",
          "height": 165
        }
      },
      "source": [
        "#train_data.sort_values(\"server_time\")\n",
        "train_data.tail(2)"
      ],
      "execution_count": 78,
      "outputs": [
        {
          "output_type": "execute_result",
          "data": {
            "text/html": [
              "<div>\n",
              "<style scoped>\n",
              "    .dataframe tbody tr th:only-of-type {\n",
              "        vertical-align: middle;\n",
              "    }\n",
              "\n",
              "    .dataframe tbody tr th {\n",
              "        vertical-align: top;\n",
              "    }\n",
              "\n",
              "    .dataframe thead th {\n",
              "        text-align: right;\n",
              "    }\n",
              "</style>\n",
              "<table border=\"1\" class=\"dataframe\">\n",
              "  <thead>\n",
              "    <tr style=\"text-align: right;\">\n",
              "      <th></th>\n",
              "      <th>impression_id</th>\n",
              "      <th>impression_time</th>\n",
              "      <th>user_id</th>\n",
              "      <th>app_code</th>\n",
              "      <th>os_version</th>\n",
              "      <th>is_4G</th>\n",
              "      <th>server_time</th>\n",
              "      <th>device_type</th>\n",
              "      <th>session_id</th>\n",
              "      <th>item_id</th>\n",
              "      <th>item_price</th>\n",
              "      <th>category_1</th>\n",
              "      <th>category_2</th>\n",
              "      <th>category_3</th>\n",
              "      <th>product_type</th>\n",
              "      <th>count_1</th>\n",
              "      <th>ctr</th>\n",
              "      <th>cat_new1</th>\n",
              "      <th>cat_new2</th>\n",
              "      <th>cat_new3</th>\n",
              "      <th>count_12</th>\n",
              "      <th>count_4</th>\n",
              "      <th>count_14</th>\n",
              "      <th>count_6</th>\n",
              "      <th>count_16</th>\n",
              "      <th>count_8</th>\n",
              "      <th>count_18</th>\n",
              "      <th>count_20</th>\n",
              "      <th>count_200</th>\n",
              "      <th>count_22</th>\n",
              "      <th>day_imp</th>\n",
              "      <th>day_ser</th>\n",
              "      <th>week_imp</th>\n",
              "      <th>week_ser</th>\n",
              "      <th>hour_imp</th>\n",
              "      <th>hour_ser</th>\n",
              "      <th>day_week_ser</th>\n",
              "      <th>day_week_imp</th>\n",
              "      <th>noon_ser</th>\n",
              "      <th>noon_imp</th>\n",
              "      <th>diff</th>\n",
              "      <th>count_212</th>\n",
              "      <th>count_x</th>\n",
              "      <th>count_y</th>\n",
              "      <th>count_24</th>\n",
              "      <th>count_214</th>\n",
              "      <th>count</th>\n",
              "      <th>301</th>\n",
              "      <th>302</th>\n",
              "      <th>303</th>\n",
              "      <th>304</th>\n",
              "      <th>305</th>\n",
              "      <th>306</th>\n",
              "      <th>307</th>\n",
              "      <th>308</th>\n",
              "      <th>309</th>\n",
              "      <th>310</th>\n",
              "      <th>311</th>\n",
              "      <th>312</th>\n",
              "      <th>313</th>\n",
              "      <th>314</th>\n",
              "      <th>315</th>\n",
              "      <th>316</th>\n",
              "    </tr>\n",
              "  </thead>\n",
              "  <tbody>\n",
              "    <tr>\n",
              "      <th>14924577</th>\n",
              "      <td>539145030fb3600d26d6a64130310035</td>\n",
              "      <td>2018-12-18 23:59:00</td>\n",
              "      <td>82078</td>\n",
              "      <td>242</td>\n",
              "      <td>latest</td>\n",
              "      <td>1</td>\n",
              "      <td>2018-12-11 09:53:00</td>\n",
              "      <td>android</td>\n",
              "      <td>994516</td>\n",
              "      <td>70965</td>\n",
              "      <td>3744.0</td>\n",
              "      <td>16.0</td>\n",
              "      <td>56.0</td>\n",
              "      <td>17.0</td>\n",
              "      <td>9227.0</td>\n",
              "      <td>9</td>\n",
              "      <td>416.000000</td>\n",
              "      <td>1.777778</td>\n",
              "      <td>6.222222</td>\n",
              "      <td>1.888889</td>\n",
              "      <td>175445</td>\n",
              "      <td>613022.0</td>\n",
              "      <td>186073.0</td>\n",
              "      <td>43999.0</td>\n",
              "      <td>29680.0</td>\n",
              "      <td>7844613</td>\n",
              "      <td>153</td>\n",
              "      <td>19716</td>\n",
              "      <td>25016.0</td>\n",
              "      <td>17</td>\n",
              "      <td>18</td>\n",
              "      <td>11</td>\n",
              "      <td>51</td>\n",
              "      <td>50</td>\n",
              "      <td>23</td>\n",
              "      <td>9</td>\n",
              "      <td>1</td>\n",
              "      <td>1</td>\n",
              "      <td>morning</td>\n",
              "      <td>evening</td>\n",
              "      <td>-840</td>\n",
              "      <td>1996522</td>\n",
              "      <td>8272707</td>\n",
              "      <td>884387</td>\n",
              "      <td>586207</td>\n",
              "      <td>2389736</td>\n",
              "      <td>609920</td>\n",
              "      <td>19493.888889</td>\n",
              "      <td>68113.555556</td>\n",
              "      <td>20674.777778</td>\n",
              "      <td>4888.777778</td>\n",
              "      <td>3297.777778</td>\n",
              "      <td>17.0</td>\n",
              "      <td>2779.555556</td>\n",
              "      <td>1.888889</td>\n",
              "      <td>221835.777778</td>\n",
              "      <td>65134.111111</td>\n",
              "      <td>265526.222222</td>\n",
              "      <td>67768.888889</td>\n",
              "      <td>871623.666667</td>\n",
              "      <td>2190.666667</td>\n",
              "      <td>919189.666667</td>\n",
              "      <td>98265.222222</td>\n",
              "    </tr>\n",
              "    <tr>\n",
              "      <th>14924578</th>\n",
              "      <td>539145030fb3600d26d6a64130310035</td>\n",
              "      <td>2018-12-18 23:59:00</td>\n",
              "      <td>82078</td>\n",
              "      <td>242</td>\n",
              "      <td>latest</td>\n",
              "      <td>1</td>\n",
              "      <td>2018-12-11 15:47:00</td>\n",
              "      <td>android</td>\n",
              "      <td>57901</td>\n",
              "      <td>35963</td>\n",
              "      <td>22528.0</td>\n",
              "      <td>10.0</td>\n",
              "      <td>63.0</td>\n",
              "      <td>220.0</td>\n",
              "      <td>9959.0</td>\n",
              "      <td>9</td>\n",
              "      <td>2503.111111</td>\n",
              "      <td>1.111111</td>\n",
              "      <td>7.000000</td>\n",
              "      <td>24.444444</td>\n",
              "      <td>175445</td>\n",
              "      <td>831106.0</td>\n",
              "      <td>350728.0</td>\n",
              "      <td>217217.0</td>\n",
              "      <td>74867.0</td>\n",
              "      <td>7844613</td>\n",
              "      <td>153</td>\n",
              "      <td>16272</td>\n",
              "      <td>16498.0</td>\n",
              "      <td>17</td>\n",
              "      <td>18</td>\n",
              "      <td>11</td>\n",
              "      <td>51</td>\n",
              "      <td>50</td>\n",
              "      <td>23</td>\n",
              "      <td>15</td>\n",
              "      <td>1</td>\n",
              "      <td>1</td>\n",
              "      <td>evening</td>\n",
              "      <td>evening</td>\n",
              "      <td>-480</td>\n",
              "      <td>8301721</td>\n",
              "      <td>8272707</td>\n",
              "      <td>884387</td>\n",
              "      <td>586207</td>\n",
              "      <td>2389736</td>\n",
              "      <td>609920</td>\n",
              "      <td>19493.888889</td>\n",
              "      <td>92345.111111</td>\n",
              "      <td>38969.777778</td>\n",
              "      <td>24135.222222</td>\n",
              "      <td>8318.555556</td>\n",
              "      <td>17.0</td>\n",
              "      <td>1833.111111</td>\n",
              "      <td>1.888889</td>\n",
              "      <td>922413.444444</td>\n",
              "      <td>65134.111111</td>\n",
              "      <td>265526.222222</td>\n",
              "      <td>67768.888889</td>\n",
              "      <td>871623.666667</td>\n",
              "      <td>1808.000000</td>\n",
              "      <td>919189.666667</td>\n",
              "      <td>98265.222222</td>\n",
              "    </tr>\n",
              "  </tbody>\n",
              "</table>\n",
              "</div>"
            ],
            "text/plain": [
              "                             impression_id  ...           316\n",
              "14924577  539145030fb3600d26d6a64130310035  ...  98265.222222\n",
              "14924578  539145030fb3600d26d6a64130310035  ...  98265.222222\n",
              "\n",
              "[2 rows x 63 columns]"
            ]
          },
          "metadata": {
            "tags": []
          },
          "execution_count": 78
        }
      ]
    },
    {
      "cell_type": "markdown",
      "metadata": {
        "id": "ywAXUjuTThfg",
        "colab_type": "text"
      },
      "source": [
        "# Final"
      ]
    },
    {
      "cell_type": "code",
      "metadata": {
        "id": "NYARsetM5EuB",
        "colab_type": "code",
        "outputId": "d51a82a4-8f2d-4415-aae2-ba1743c351c5",
        "colab": {
          "base_uri": "https://localhost:8080/",
          "height": 34
        }
      },
      "source": [
        "train_data.shape"
      ],
      "execution_count": 79,
      "outputs": [
        {
          "output_type": "execute_result",
          "data": {
            "text/plain": [
              "(14924579, 63)"
            ]
          },
          "metadata": {
            "tags": []
          },
          "execution_count": 79
        }
      ]
    },
    {
      "cell_type": "code",
      "metadata": {
        "id": "ehsIxDwPU13t",
        "colab_type": "code",
        "colab": {}
      },
      "source": [
        "train_data.fillna(0, inplace=True)\n",
        "#test_data.fillna(0, inplace=True)"
      ],
      "execution_count": 0,
      "outputs": []
    },
    {
      "cell_type": "code",
      "metadata": {
        "id": "PiuZQxwqTi-d",
        "colab_type": "code",
        "colab": {}
      },
      "source": [
        "#train_data[\"impression_time\"] = pd.to_datetime(train_data[\"impression_time\"])"
      ],
      "execution_count": 0,
      "outputs": []
    },
    {
      "cell_type": "code",
      "metadata": {
        "id": "J597lO6sTjDM",
        "colab_type": "code",
        "outputId": "c729872b-8dab-4775-c523-090b8ca1b7fd",
        "colab": {
          "base_uri": "https://localhost:8080/",
          "height": 165
        }
      },
      "source": [
        "#train_data.sort_values(\"impression_time\")\n",
        "train_data.head(2)"
      ],
      "execution_count": 82,
      "outputs": [
        {
          "output_type": "execute_result",
          "data": {
            "text/html": [
              "<div>\n",
              "<style scoped>\n",
              "    .dataframe tbody tr th:only-of-type {\n",
              "        vertical-align: middle;\n",
              "    }\n",
              "\n",
              "    .dataframe tbody tr th {\n",
              "        vertical-align: top;\n",
              "    }\n",
              "\n",
              "    .dataframe thead th {\n",
              "        text-align: right;\n",
              "    }\n",
              "</style>\n",
              "<table border=\"1\" class=\"dataframe\">\n",
              "  <thead>\n",
              "    <tr style=\"text-align: right;\">\n",
              "      <th></th>\n",
              "      <th>impression_id</th>\n",
              "      <th>impression_time</th>\n",
              "      <th>user_id</th>\n",
              "      <th>app_code</th>\n",
              "      <th>os_version</th>\n",
              "      <th>is_4G</th>\n",
              "      <th>server_time</th>\n",
              "      <th>device_type</th>\n",
              "      <th>session_id</th>\n",
              "      <th>item_id</th>\n",
              "      <th>item_price</th>\n",
              "      <th>category_1</th>\n",
              "      <th>category_2</th>\n",
              "      <th>category_3</th>\n",
              "      <th>product_type</th>\n",
              "      <th>count_1</th>\n",
              "      <th>ctr</th>\n",
              "      <th>cat_new1</th>\n",
              "      <th>cat_new2</th>\n",
              "      <th>cat_new3</th>\n",
              "      <th>count_12</th>\n",
              "      <th>count_4</th>\n",
              "      <th>count_14</th>\n",
              "      <th>count_6</th>\n",
              "      <th>count_16</th>\n",
              "      <th>count_8</th>\n",
              "      <th>count_18</th>\n",
              "      <th>count_20</th>\n",
              "      <th>count_200</th>\n",
              "      <th>count_22</th>\n",
              "      <th>day_imp</th>\n",
              "      <th>day_ser</th>\n",
              "      <th>week_imp</th>\n",
              "      <th>week_ser</th>\n",
              "      <th>hour_imp</th>\n",
              "      <th>hour_ser</th>\n",
              "      <th>day_week_ser</th>\n",
              "      <th>day_week_imp</th>\n",
              "      <th>noon_ser</th>\n",
              "      <th>noon_imp</th>\n",
              "      <th>diff</th>\n",
              "      <th>count_212</th>\n",
              "      <th>count_x</th>\n",
              "      <th>count_y</th>\n",
              "      <th>count_24</th>\n",
              "      <th>count_214</th>\n",
              "      <th>count</th>\n",
              "      <th>301</th>\n",
              "      <th>302</th>\n",
              "      <th>303</th>\n",
              "      <th>304</th>\n",
              "      <th>305</th>\n",
              "      <th>306</th>\n",
              "      <th>307</th>\n",
              "      <th>308</th>\n",
              "      <th>309</th>\n",
              "      <th>310</th>\n",
              "      <th>311</th>\n",
              "      <th>312</th>\n",
              "      <th>313</th>\n",
              "      <th>314</th>\n",
              "      <th>315</th>\n",
              "      <th>316</th>\n",
              "    </tr>\n",
              "  </thead>\n",
              "  <tbody>\n",
              "    <tr>\n",
              "      <th>0</th>\n",
              "      <td>c4ca4238a0b923820dcc509a6f75849b</td>\n",
              "      <td>2018-11-15 00:00:00</td>\n",
              "      <td>87862</td>\n",
              "      <td>422</td>\n",
              "      <td>old</td>\n",
              "      <td>0</td>\n",
              "      <td>2018-10-19 18:11:00</td>\n",
              "      <td>android</td>\n",
              "      <td>190710</td>\n",
              "      <td>43886</td>\n",
              "      <td>2350.0</td>\n",
              "      <td>11.0</td>\n",
              "      <td>35.0</td>\n",
              "      <td>20.0</td>\n",
              "      <td>5622.0</td>\n",
              "      <td>1</td>\n",
              "      <td>2350.000000</td>\n",
              "      <td>11.000000</td>\n",
              "      <td>35.000000</td>\n",
              "      <td>20.000000</td>\n",
              "      <td>30936</td>\n",
              "      <td>1129976.0</td>\n",
              "      <td>259780.0</td>\n",
              "      <td>125694.0</td>\n",
              "      <td>143701.0</td>\n",
              "      <td>3280315</td>\n",
              "      <td>3</td>\n",
              "      <td>377</td>\n",
              "      <td>995.0</td>\n",
              "      <td>3</td>\n",
              "      <td>15</td>\n",
              "      <td>19</td>\n",
              "      <td>46</td>\n",
              "      <td>42</td>\n",
              "      <td>0</td>\n",
              "      <td>18</td>\n",
              "      <td>4</td>\n",
              "      <td>3</td>\n",
              "      <td>evening</td>\n",
              "      <td>midnignt</td>\n",
              "      <td>1080</td>\n",
              "      <td>8301721</td>\n",
              "      <td>2519262</td>\n",
              "      <td>1068778</td>\n",
              "      <td>491494</td>\n",
              "      <td>1925657</td>\n",
              "      <td>1576070</td>\n",
              "      <td>30936.000000</td>\n",
              "      <td>1129976.00</td>\n",
              "      <td>259780.0</td>\n",
              "      <td>125694.000000</td>\n",
              "      <td>143701.00</td>\n",
              "      <td>3.0</td>\n",
              "      <td>995.000000</td>\n",
              "      <td>3.000000</td>\n",
              "      <td>8.301721e+06</td>\n",
              "      <td>491494.000000</td>\n",
              "      <td>1.925657e+06</td>\n",
              "      <td>1.576070e+06</td>\n",
              "      <td>3280315.00</td>\n",
              "      <td>377.000000</td>\n",
              "      <td>2519262.0</td>\n",
              "      <td>1.068778e+06</td>\n",
              "    </tr>\n",
              "    <tr>\n",
              "      <th>1</th>\n",
              "      <td>45c48cce2e2d7fbdea1afc51c7c6ad26</td>\n",
              "      <td>2018-11-15 00:01:00</td>\n",
              "      <td>63410</td>\n",
              "      <td>467</td>\n",
              "      <td>latest</td>\n",
              "      <td>1</td>\n",
              "      <td>2018-10-21 06:13:00</td>\n",
              "      <td>android</td>\n",
              "      <td>356854</td>\n",
              "      <td>43209</td>\n",
              "      <td>3421.0</td>\n",
              "      <td>4.0</td>\n",
              "      <td>74.0</td>\n",
              "      <td>292.0</td>\n",
              "      <td>577.0</td>\n",
              "      <td>12</td>\n",
              "      <td>285.083333</td>\n",
              "      <td>0.333333</td>\n",
              "      <td>6.166667</td>\n",
              "      <td>24.333333</td>\n",
              "      <td>11867</td>\n",
              "      <td>1397337.0</td>\n",
              "      <td>492090.0</td>\n",
              "      <td>490837.0</td>\n",
              "      <td>1305.0</td>\n",
              "      <td>7844613</td>\n",
              "      <td>732</td>\n",
              "      <td>892</td>\n",
              "      <td>1019.0</td>\n",
              "      <td>122</td>\n",
              "      <td>15</td>\n",
              "      <td>21</td>\n",
              "      <td>46</td>\n",
              "      <td>42</td>\n",
              "      <td>0</td>\n",
              "      <td>6</td>\n",
              "      <td>6</td>\n",
              "      <td>3</td>\n",
              "      <td>morning</td>\n",
              "      <td>midnignt</td>\n",
              "      <td>360</td>\n",
              "      <td>1996522</td>\n",
              "      <td>2519262</td>\n",
              "      <td>1068778</td>\n",
              "      <td>545764</td>\n",
              "      <td>2191111</td>\n",
              "      <td>1576070</td>\n",
              "      <td>988.916667</td>\n",
              "      <td>116444.75</td>\n",
              "      <td>41007.5</td>\n",
              "      <td>40903.083333</td>\n",
              "      <td>108.75</td>\n",
              "      <td>61.0</td>\n",
              "      <td>84.916667</td>\n",
              "      <td>10.166667</td>\n",
              "      <td>1.663768e+05</td>\n",
              "      <td>45480.333333</td>\n",
              "      <td>1.825926e+05</td>\n",
              "      <td>1.313392e+05</td>\n",
              "      <td>653717.75</td>\n",
              "      <td>74.333333</td>\n",
              "      <td>209938.5</td>\n",
              "      <td>8.906483e+04</td>\n",
              "    </tr>\n",
              "  </tbody>\n",
              "</table>\n",
              "</div>"
            ],
            "text/plain": [
              "                      impression_id  ...           316\n",
              "0  c4ca4238a0b923820dcc509a6f75849b  ...  1.068778e+06\n",
              "1  45c48cce2e2d7fbdea1afc51c7c6ad26  ...  8.906483e+04\n",
              "\n",
              "[2 rows x 63 columns]"
            ]
          },
          "metadata": {
            "tags": []
          },
          "execution_count": 82
        }
      ]
    },
    {
      "cell_type": "code",
      "metadata": {
        "id": "iKLwreYcwjWd",
        "colab_type": "code",
        "colab": {}
      },
      "source": [
        "#test_data.head(2)"
      ],
      "execution_count": 0,
      "outputs": []
    },
    {
      "cell_type": "code",
      "metadata": {
        "id": "sy5LNLsFTjGb",
        "colab_type": "code",
        "colab": {}
      },
      "source": [
        "#target = train_data[\"is_click\"] \n",
        "#train_data.drop(['is_click'], axis=1, inplace=True)\n",
        "#test_1 = test_data.copy()"
      ],
      "execution_count": 0,
      "outputs": []
    },
    {
      "cell_type": "code",
      "metadata": {
        "id": "RMzvRloAdAHI",
        "colab_type": "code",
        "colab": {}
      },
      "source": [
        ""
      ],
      "execution_count": 0,
      "outputs": []
    },
    {
      "cell_type": "code",
      "metadata": {
        "id": "lHv0b6hCaNJw",
        "colab_type": "code",
        "colab": {}
      },
      "source": [
        "train_data.drop_duplicates(subset=[\"impression_id\"], keep=\"first\", inplace=True)\n"
      ],
      "execution_count": 0,
      "outputs": []
    },
    {
      "cell_type": "code",
      "metadata": {
        "id": "G96TjmlaWAud",
        "colab_type": "code",
        "colab": {}
      },
      "source": [
        "\n",
        "#test_data.drop(['impression_id', \"impression_time\", \"server_time\", \"user_id\",\"os_version\",\"device_type\",\"noon_ser\", \"noon_imp\"], axis=1, inplace=True)"
      ],
      "execution_count": 0,
      "outputs": []
    },
    {
      "cell_type": "code",
      "metadata": {
        "id": "ghtF46wBlmMQ",
        "colab_type": "code",
        "colab": {}
      },
      "source": [
        "# [\"noon_ser\", \"noon_imp\", \"hour_ser\", \"hour_imp\",\"device_type\",\"os_version\",\"session_id\",\"item_id\",\"product_type\",\"user_id\"\\\n",
        "#                       ,\"day_week_imp\",\"day_week_ser\",\"week_ser\",\"week_imp\",\"app_code\",\"day_ser\",\"count\",\"count_y\",\"diff\"]"
      ],
      "execution_count": 0,
      "outputs": []
    },
    {
      "cell_type": "code",
      "metadata": {
        "id": "jw3axBoJO1aJ",
        "colab_type": "code",
        "colab": {}
      },
      "source": [
        "#! pip3 install catboost"
      ],
      "execution_count": 0,
      "outputs": []
    },
    {
      "cell_type": "code",
      "metadata": {
        "id": "xMuQqCavMtdU",
        "colab_type": "code",
        "colab": {}
      },
      "source": [
        "#a = pd.get_dummies(train_data[\"device_type\"])\n",
        "b = pd.get_dummies(train_data[\"noon_ser\"])\n",
        "c = pd.get_dummies(train_data[\"noon_imp\"])\n",
        "d = pd.get_dummies(train_data[\"os_version\"])\n",
        "frames = [train_data,b,c,d]\n",
        "train_data = pd.concat(frames, axis=1)"
      ],
      "execution_count": 0,
      "outputs": []
    },
    {
      "cell_type": "code",
      "metadata": {
        "id": "pWGOWKBsj7dR",
        "colab_type": "code",
        "colab": {}
      },
      "source": [
        "train_data.drop(['impression_id', \"impression_time\", \"server_time\", \"device_type\", \"noon_ser\", \"noon_imp\", \"os_version\"], axis=1, inplace=True)"
      ],
      "execution_count": 0,
      "outputs": []
    },
    {
      "cell_type": "code",
      "metadata": {
        "id": "VmLSYnWQN3cB",
        "colab_type": "code",
        "colab": {}
      },
      "source": [
        "#train_data.drop(['impression_id', \"impression_time\", \"server_time\", \"device_type\", \"noon_ser\", \"noon_imp\", \"os_version\"\\\n",
        "#                ,\"app_code\", \"user_id\", \"item_id\", \"item_price\", \"category_1\", \"category_2\", \"category_3\", \"product_type\"], axis=1, inplace=True)"
      ],
      "execution_count": 0,
      "outputs": []
    },
    {
      "cell_type": "code",
      "metadata": {
        "id": "4KAGn3nyPCBM",
        "colab_type": "code",
        "colab": {}
      },
      "source": [
        "train = train_data.iloc[0:237609]\n"
      ],
      "execution_count": 0,
      "outputs": []
    },
    {
      "cell_type": "code",
      "metadata": {
        "id": "eYDbAn8_VEJM",
        "colab_type": "code",
        "colab": {}
      },
      "source": [
        "test = train_data.iloc[237609:]"
      ],
      "execution_count": 0,
      "outputs": []
    },
    {
      "cell_type": "code",
      "metadata": {
        "id": "1Ep_wgv6FEdX",
        "colab_type": "code",
        "outputId": "049b5b2d-001b-45e6-9969-29b9d3904756",
        "colab": {
          "base_uri": "https://localhost:8080/",
          "height": 162
        }
      },
      "source": [
        "train.head(3)"
      ],
      "execution_count": 94,
      "outputs": [
        {
          "output_type": "execute_result",
          "data": {
            "text/html": [
              "<div>\n",
              "<style scoped>\n",
              "    .dataframe tbody tr th:only-of-type {\n",
              "        vertical-align: middle;\n",
              "    }\n",
              "\n",
              "    .dataframe tbody tr th {\n",
              "        vertical-align: top;\n",
              "    }\n",
              "\n",
              "    .dataframe thead th {\n",
              "        text-align: right;\n",
              "    }\n",
              "</style>\n",
              "<table border=\"1\" class=\"dataframe\">\n",
              "  <thead>\n",
              "    <tr style=\"text-align: right;\">\n",
              "      <th></th>\n",
              "      <th>user_id</th>\n",
              "      <th>app_code</th>\n",
              "      <th>is_4G</th>\n",
              "      <th>session_id</th>\n",
              "      <th>item_id</th>\n",
              "      <th>item_price</th>\n",
              "      <th>category_1</th>\n",
              "      <th>category_2</th>\n",
              "      <th>category_3</th>\n",
              "      <th>product_type</th>\n",
              "      <th>count_1</th>\n",
              "      <th>ctr</th>\n",
              "      <th>cat_new1</th>\n",
              "      <th>cat_new2</th>\n",
              "      <th>cat_new3</th>\n",
              "      <th>count_12</th>\n",
              "      <th>count_4</th>\n",
              "      <th>count_14</th>\n",
              "      <th>count_6</th>\n",
              "      <th>count_16</th>\n",
              "      <th>count_8</th>\n",
              "      <th>count_18</th>\n",
              "      <th>count_20</th>\n",
              "      <th>count_200</th>\n",
              "      <th>count_22</th>\n",
              "      <th>day_imp</th>\n",
              "      <th>day_ser</th>\n",
              "      <th>week_imp</th>\n",
              "      <th>week_ser</th>\n",
              "      <th>hour_imp</th>\n",
              "      <th>hour_ser</th>\n",
              "      <th>day_week_ser</th>\n",
              "      <th>day_week_imp</th>\n",
              "      <th>diff</th>\n",
              "      <th>count_212</th>\n",
              "      <th>count_x</th>\n",
              "      <th>count_y</th>\n",
              "      <th>count_24</th>\n",
              "      <th>count_214</th>\n",
              "      <th>count</th>\n",
              "      <th>301</th>\n",
              "      <th>302</th>\n",
              "      <th>303</th>\n",
              "      <th>304</th>\n",
              "      <th>305</th>\n",
              "      <th>306</th>\n",
              "      <th>307</th>\n",
              "      <th>308</th>\n",
              "      <th>309</th>\n",
              "      <th>310</th>\n",
              "      <th>311</th>\n",
              "      <th>312</th>\n",
              "      <th>313</th>\n",
              "      <th>314</th>\n",
              "      <th>315</th>\n",
              "      <th>316</th>\n",
              "      <th>evening</th>\n",
              "      <th>midnignt</th>\n",
              "      <th>morning</th>\n",
              "      <th>noon</th>\n",
              "      <th>evening</th>\n",
              "      <th>midnignt</th>\n",
              "      <th>morning</th>\n",
              "      <th>noon</th>\n",
              "      <th>intermediate</th>\n",
              "      <th>latest</th>\n",
              "      <th>old</th>\n",
              "    </tr>\n",
              "  </thead>\n",
              "  <tbody>\n",
              "    <tr>\n",
              "      <th>0</th>\n",
              "      <td>87862</td>\n",
              "      <td>422</td>\n",
              "      <td>0</td>\n",
              "      <td>190710</td>\n",
              "      <td>43886</td>\n",
              "      <td>2350.0</td>\n",
              "      <td>11.0</td>\n",
              "      <td>35.0</td>\n",
              "      <td>20.0</td>\n",
              "      <td>5622.0</td>\n",
              "      <td>1</td>\n",
              "      <td>2350.000000</td>\n",
              "      <td>11.000000</td>\n",
              "      <td>35.000000</td>\n",
              "      <td>20.000000</td>\n",
              "      <td>30936</td>\n",
              "      <td>1129976.0</td>\n",
              "      <td>259780.0</td>\n",
              "      <td>125694.0</td>\n",
              "      <td>143701.0</td>\n",
              "      <td>3280315</td>\n",
              "      <td>3</td>\n",
              "      <td>377</td>\n",
              "      <td>995.0</td>\n",
              "      <td>3</td>\n",
              "      <td>15</td>\n",
              "      <td>19</td>\n",
              "      <td>46</td>\n",
              "      <td>42</td>\n",
              "      <td>0</td>\n",
              "      <td>18</td>\n",
              "      <td>4</td>\n",
              "      <td>3</td>\n",
              "      <td>1080</td>\n",
              "      <td>8301721</td>\n",
              "      <td>2519262</td>\n",
              "      <td>1068778</td>\n",
              "      <td>491494</td>\n",
              "      <td>1925657</td>\n",
              "      <td>1576070</td>\n",
              "      <td>30936.000000</td>\n",
              "      <td>1129976.00</td>\n",
              "      <td>259780.0</td>\n",
              "      <td>125694.000000</td>\n",
              "      <td>143701.00</td>\n",
              "      <td>3.0</td>\n",
              "      <td>995.000000</td>\n",
              "      <td>3.000000</td>\n",
              "      <td>8.301721e+06</td>\n",
              "      <td>491494.000000</td>\n",
              "      <td>1.925657e+06</td>\n",
              "      <td>1.576070e+06</td>\n",
              "      <td>3280315.00</td>\n",
              "      <td>377.000000</td>\n",
              "      <td>2519262.0</td>\n",
              "      <td>1.068778e+06</td>\n",
              "      <td>1</td>\n",
              "      <td>0</td>\n",
              "      <td>0</td>\n",
              "      <td>0</td>\n",
              "      <td>0</td>\n",
              "      <td>1</td>\n",
              "      <td>0</td>\n",
              "      <td>0</td>\n",
              "      <td>0</td>\n",
              "      <td>0</td>\n",
              "      <td>1</td>\n",
              "    </tr>\n",
              "    <tr>\n",
              "      <th>1</th>\n",
              "      <td>63410</td>\n",
              "      <td>467</td>\n",
              "      <td>1</td>\n",
              "      <td>356854</td>\n",
              "      <td>43209</td>\n",
              "      <td>3421.0</td>\n",
              "      <td>4.0</td>\n",
              "      <td>74.0</td>\n",
              "      <td>292.0</td>\n",
              "      <td>577.0</td>\n",
              "      <td>12</td>\n",
              "      <td>285.083333</td>\n",
              "      <td>0.333333</td>\n",
              "      <td>6.166667</td>\n",
              "      <td>24.333333</td>\n",
              "      <td>11867</td>\n",
              "      <td>1397337.0</td>\n",
              "      <td>492090.0</td>\n",
              "      <td>490837.0</td>\n",
              "      <td>1305.0</td>\n",
              "      <td>7844613</td>\n",
              "      <td>732</td>\n",
              "      <td>892</td>\n",
              "      <td>1019.0</td>\n",
              "      <td>122</td>\n",
              "      <td>15</td>\n",
              "      <td>21</td>\n",
              "      <td>46</td>\n",
              "      <td>42</td>\n",
              "      <td>0</td>\n",
              "      <td>6</td>\n",
              "      <td>6</td>\n",
              "      <td>3</td>\n",
              "      <td>360</td>\n",
              "      <td>1996522</td>\n",
              "      <td>2519262</td>\n",
              "      <td>1068778</td>\n",
              "      <td>545764</td>\n",
              "      <td>2191111</td>\n",
              "      <td>1576070</td>\n",
              "      <td>988.916667</td>\n",
              "      <td>116444.75</td>\n",
              "      <td>41007.5</td>\n",
              "      <td>40903.083333</td>\n",
              "      <td>108.75</td>\n",
              "      <td>61.0</td>\n",
              "      <td>84.916667</td>\n",
              "      <td>10.166667</td>\n",
              "      <td>1.663768e+05</td>\n",
              "      <td>45480.333333</td>\n",
              "      <td>1.825926e+05</td>\n",
              "      <td>1.313392e+05</td>\n",
              "      <td>653717.75</td>\n",
              "      <td>74.333333</td>\n",
              "      <td>209938.5</td>\n",
              "      <td>8.906483e+04</td>\n",
              "      <td>0</td>\n",
              "      <td>0</td>\n",
              "      <td>1</td>\n",
              "      <td>0</td>\n",
              "      <td>0</td>\n",
              "      <td>1</td>\n",
              "      <td>0</td>\n",
              "      <td>0</td>\n",
              "      <td>0</td>\n",
              "      <td>1</td>\n",
              "      <td>0</td>\n",
              "    </tr>\n",
              "    <tr>\n",
              "      <th>13</th>\n",
              "      <td>71748</td>\n",
              "      <td>259</td>\n",
              "      <td>1</td>\n",
              "      <td>658178</td>\n",
              "      <td>122348</td>\n",
              "      <td>973.0</td>\n",
              "      <td>13.0</td>\n",
              "      <td>67.0</td>\n",
              "      <td>170.0</td>\n",
              "      <td>2874.0</td>\n",
              "      <td>2</td>\n",
              "      <td>486.500000</td>\n",
              "      <td>6.500000</td>\n",
              "      <td>33.500000</td>\n",
              "      <td>85.000000</td>\n",
              "      <td>13007</td>\n",
              "      <td>1173480.0</td>\n",
              "      <td>239963.0</td>\n",
              "      <td>104225.0</td>\n",
              "      <td>474782.0</td>\n",
              "      <td>3799651</td>\n",
              "      <td>26</td>\n",
              "      <td>5190</td>\n",
              "      <td>5877.0</td>\n",
              "      <td>13</td>\n",
              "      <td>15</td>\n",
              "      <td>23</td>\n",
              "      <td>46</td>\n",
              "      <td>43</td>\n",
              "      <td>0</td>\n",
              "      <td>12</td>\n",
              "      <td>1</td>\n",
              "      <td>3</td>\n",
              "      <td>720</td>\n",
              "      <td>2994623</td>\n",
              "      <td>2519262</td>\n",
              "      <td>1068778</td>\n",
              "      <td>519326</td>\n",
              "      <td>2389736</td>\n",
              "      <td>1601341</td>\n",
              "      <td>6503.500000</td>\n",
              "      <td>586740.00</td>\n",
              "      <td>119981.5</td>\n",
              "      <td>52112.500000</td>\n",
              "      <td>237391.00</td>\n",
              "      <td>13.0</td>\n",
              "      <td>2938.500000</td>\n",
              "      <td>6.500000</td>\n",
              "      <td>1.497312e+06</td>\n",
              "      <td>259663.000000</td>\n",
              "      <td>1.194868e+06</td>\n",
              "      <td>8.006705e+05</td>\n",
              "      <td>1899825.50</td>\n",
              "      <td>2595.000000</td>\n",
              "      <td>1259631.0</td>\n",
              "      <td>5.343890e+05</td>\n",
              "      <td>0</td>\n",
              "      <td>0</td>\n",
              "      <td>0</td>\n",
              "      <td>1</td>\n",
              "      <td>0</td>\n",
              "      <td>1</td>\n",
              "      <td>0</td>\n",
              "      <td>0</td>\n",
              "      <td>1</td>\n",
              "      <td>0</td>\n",
              "      <td>0</td>\n",
              "    </tr>\n",
              "  </tbody>\n",
              "</table>\n",
              "</div>"
            ],
            "text/plain": [
              "    user_id  app_code  is_4G  session_id  ...  noon  intermediate  latest  old\n",
              "0     87862       422      0      190710  ...     0             0       0    1\n",
              "1     63410       467      1      356854  ...     0             0       1    0\n",
              "13    71748       259      1      658178  ...     0             1       0    0\n",
              "\n",
              "[3 rows x 67 columns]"
            ]
          },
          "metadata": {
            "tags": []
          },
          "execution_count": 94
        }
      ]
    },
    {
      "cell_type": "code",
      "metadata": {
        "id": "y9N1Zh_lFHFP",
        "colab_type": "code",
        "outputId": "b924a6e6-363c-4203-dd62-758d7cfefcd1",
        "colab": {
          "base_uri": "https://localhost:8080/",
          "height": 162
        }
      },
      "source": [
        "test.head(3)"
      ],
      "execution_count": 95,
      "outputs": [
        {
          "output_type": "execute_result",
          "data": {
            "text/html": [
              "<div>\n",
              "<style scoped>\n",
              "    .dataframe tbody tr th:only-of-type {\n",
              "        vertical-align: middle;\n",
              "    }\n",
              "\n",
              "    .dataframe tbody tr th {\n",
              "        vertical-align: top;\n",
              "    }\n",
              "\n",
              "    .dataframe thead th {\n",
              "        text-align: right;\n",
              "    }\n",
              "</style>\n",
              "<table border=\"1\" class=\"dataframe\">\n",
              "  <thead>\n",
              "    <tr style=\"text-align: right;\">\n",
              "      <th></th>\n",
              "      <th>user_id</th>\n",
              "      <th>app_code</th>\n",
              "      <th>is_4G</th>\n",
              "      <th>session_id</th>\n",
              "      <th>item_id</th>\n",
              "      <th>item_price</th>\n",
              "      <th>category_1</th>\n",
              "      <th>category_2</th>\n",
              "      <th>category_3</th>\n",
              "      <th>product_type</th>\n",
              "      <th>count_1</th>\n",
              "      <th>ctr</th>\n",
              "      <th>cat_new1</th>\n",
              "      <th>cat_new2</th>\n",
              "      <th>cat_new3</th>\n",
              "      <th>count_12</th>\n",
              "      <th>count_4</th>\n",
              "      <th>count_14</th>\n",
              "      <th>count_6</th>\n",
              "      <th>count_16</th>\n",
              "      <th>count_8</th>\n",
              "      <th>count_18</th>\n",
              "      <th>count_20</th>\n",
              "      <th>count_200</th>\n",
              "      <th>count_22</th>\n",
              "      <th>day_imp</th>\n",
              "      <th>day_ser</th>\n",
              "      <th>week_imp</th>\n",
              "      <th>week_ser</th>\n",
              "      <th>hour_imp</th>\n",
              "      <th>hour_ser</th>\n",
              "      <th>day_week_ser</th>\n",
              "      <th>day_week_imp</th>\n",
              "      <th>diff</th>\n",
              "      <th>count_212</th>\n",
              "      <th>count_x</th>\n",
              "      <th>count_y</th>\n",
              "      <th>count_24</th>\n",
              "      <th>count_214</th>\n",
              "      <th>count</th>\n",
              "      <th>301</th>\n",
              "      <th>302</th>\n",
              "      <th>303</th>\n",
              "      <th>304</th>\n",
              "      <th>305</th>\n",
              "      <th>306</th>\n",
              "      <th>307</th>\n",
              "      <th>308</th>\n",
              "      <th>309</th>\n",
              "      <th>310</th>\n",
              "      <th>311</th>\n",
              "      <th>312</th>\n",
              "      <th>313</th>\n",
              "      <th>314</th>\n",
              "      <th>315</th>\n",
              "      <th>316</th>\n",
              "      <th>evening</th>\n",
              "      <th>midnignt</th>\n",
              "      <th>morning</th>\n",
              "      <th>noon</th>\n",
              "      <th>evening</th>\n",
              "      <th>midnignt</th>\n",
              "      <th>morning</th>\n",
              "      <th>noon</th>\n",
              "      <th>intermediate</th>\n",
              "      <th>latest</th>\n",
              "      <th>old</th>\n",
              "    </tr>\n",
              "  </thead>\n",
              "  <tbody>\n",
              "    <tr>\n",
              "      <th>11052882</th>\n",
              "      <td>44754</td>\n",
              "      <td>127</td>\n",
              "      <td>1</td>\n",
              "      <td>923045</td>\n",
              "      <td>128995</td>\n",
              "      <td>23424.0</td>\n",
              "      <td>1.0</td>\n",
              "      <td>42.0</td>\n",
              "      <td>220.0</td>\n",
              "      <td>1617.0</td>\n",
              "      <td>1</td>\n",
              "      <td>23424.000000</td>\n",
              "      <td>1.000</td>\n",
              "      <td>42.000000</td>\n",
              "      <td>220.000000</td>\n",
              "      <td>627447</td>\n",
              "      <td>1776423.0</td>\n",
              "      <td>603243.0</td>\n",
              "      <td>217217.0</td>\n",
              "      <td>54835.0</td>\n",
              "      <td>7844613</td>\n",
              "      <td>10</td>\n",
              "      <td>8556</td>\n",
              "      <td>9032.0</td>\n",
              "      <td>10</td>\n",
              "      <td>13</td>\n",
              "      <td>11</td>\n",
              "      <td>50</td>\n",
              "      <td>50</td>\n",
              "      <td>7</td>\n",
              "      <td>19</td>\n",
              "      <td>1</td>\n",
              "      <td>3</td>\n",
              "      <td>720</td>\n",
              "      <td>8301721</td>\n",
              "      <td>1606856</td>\n",
              "      <td>599351</td>\n",
              "      <td>586207</td>\n",
              "      <td>2389736</td>\n",
              "      <td>609920</td>\n",
              "      <td>627447.000000</td>\n",
              "      <td>1776423.000</td>\n",
              "      <td>603243.000000</td>\n",
              "      <td>217217.000000</td>\n",
              "      <td>54835.000000</td>\n",
              "      <td>10.0</td>\n",
              "      <td>9032.000000</td>\n",
              "      <td>10.000000</td>\n",
              "      <td>8.301721e+06</td>\n",
              "      <td>586207.000000</td>\n",
              "      <td>2.389736e+06</td>\n",
              "      <td>609920.000000</td>\n",
              "      <td>7.844613e+06</td>\n",
              "      <td>8556.000000</td>\n",
              "      <td>1.606856e+06</td>\n",
              "      <td>599351.000000</td>\n",
              "      <td>1</td>\n",
              "      <td>0</td>\n",
              "      <td>0</td>\n",
              "      <td>0</td>\n",
              "      <td>0</td>\n",
              "      <td>0</td>\n",
              "      <td>1</td>\n",
              "      <td>0</td>\n",
              "      <td>0</td>\n",
              "      <td>1</td>\n",
              "      <td>0</td>\n",
              "    </tr>\n",
              "    <tr>\n",
              "      <th>11052883</th>\n",
              "      <td>29656</td>\n",
              "      <td>44</td>\n",
              "      <td>0</td>\n",
              "      <td>368797</td>\n",
              "      <td>55912</td>\n",
              "      <td>1529.0</td>\n",
              "      <td>9.0</td>\n",
              "      <td>44.0</td>\n",
              "      <td>114.0</td>\n",
              "      <td>9857.0</td>\n",
              "      <td>72</td>\n",
              "      <td>21.236111</td>\n",
              "      <td>0.125</td>\n",
              "      <td>0.611111</td>\n",
              "      <td>1.583333</td>\n",
              "      <td>316532</td>\n",
              "      <td>1963161.0</td>\n",
              "      <td>518001.0</td>\n",
              "      <td>373319.0</td>\n",
              "      <td>14983.0</td>\n",
              "      <td>7844613</td>\n",
              "      <td>648</td>\n",
              "      <td>14961</td>\n",
              "      <td>43030.0</td>\n",
              "      <td>45</td>\n",
              "      <td>13</td>\n",
              "      <td>16</td>\n",
              "      <td>50</td>\n",
              "      <td>42</td>\n",
              "      <td>7</td>\n",
              "      <td>10</td>\n",
              "      <td>1</td>\n",
              "      <td>3</td>\n",
              "      <td>180</td>\n",
              "      <td>2994623</td>\n",
              "      <td>1606856</td>\n",
              "      <td>599351</td>\n",
              "      <td>516880</td>\n",
              "      <td>2389736</td>\n",
              "      <td>1576070</td>\n",
              "      <td>4396.277778</td>\n",
              "      <td>27266.125</td>\n",
              "      <td>7194.458333</td>\n",
              "      <td>5184.986111</td>\n",
              "      <td>208.097222</td>\n",
              "      <td>9.0</td>\n",
              "      <td>597.638889</td>\n",
              "      <td>0.625000</td>\n",
              "      <td>4.159199e+04</td>\n",
              "      <td>7178.888889</td>\n",
              "      <td>3.319078e+04</td>\n",
              "      <td>21889.861111</td>\n",
              "      <td>1.089530e+05</td>\n",
              "      <td>207.791667</td>\n",
              "      <td>2.231744e+04</td>\n",
              "      <td>8324.319444</td>\n",
              "      <td>0</td>\n",
              "      <td>0</td>\n",
              "      <td>0</td>\n",
              "      <td>1</td>\n",
              "      <td>0</td>\n",
              "      <td>0</td>\n",
              "      <td>1</td>\n",
              "      <td>0</td>\n",
              "      <td>0</td>\n",
              "      <td>1</td>\n",
              "      <td>0</td>\n",
              "    </tr>\n",
              "    <tr>\n",
              "      <th>11052955</th>\n",
              "      <td>25234</td>\n",
              "      <td>296</td>\n",
              "      <td>1</td>\n",
              "      <td>568979</td>\n",
              "      <td>94943</td>\n",
              "      <td>20309.0</td>\n",
              "      <td>9.0</td>\n",
              "      <td>3.0</td>\n",
              "      <td>312.0</td>\n",
              "      <td>5161.0</td>\n",
              "      <td>9</td>\n",
              "      <td>2256.555556</td>\n",
              "      <td>1.000</td>\n",
              "      <td>0.333333</td>\n",
              "      <td>34.666667</td>\n",
              "      <td>534191</td>\n",
              "      <td>1963161.0</td>\n",
              "      <td>609048.0</td>\n",
              "      <td>42973.0</td>\n",
              "      <td>9495.0</td>\n",
              "      <td>7844613</td>\n",
              "      <td>18</td>\n",
              "      <td>1313</td>\n",
              "      <td>1316.0</td>\n",
              "      <td>2</td>\n",
              "      <td>13</td>\n",
              "      <td>21</td>\n",
              "      <td>50</td>\n",
              "      <td>42</td>\n",
              "      <td>7</td>\n",
              "      <td>7</td>\n",
              "      <td>6</td>\n",
              "      <td>3</td>\n",
              "      <td>0</td>\n",
              "      <td>1996522</td>\n",
              "      <td>1606856</td>\n",
              "      <td>599351</td>\n",
              "      <td>545764</td>\n",
              "      <td>2191111</td>\n",
              "      <td>1576070</td>\n",
              "      <td>59354.555556</td>\n",
              "      <td>218129.000</td>\n",
              "      <td>67672.000000</td>\n",
              "      <td>4774.777778</td>\n",
              "      <td>1055.000000</td>\n",
              "      <td>2.0</td>\n",
              "      <td>146.222222</td>\n",
              "      <td>0.222222</td>\n",
              "      <td>2.218358e+05</td>\n",
              "      <td>60640.444444</td>\n",
              "      <td>2.434568e+05</td>\n",
              "      <td>175118.888889</td>\n",
              "      <td>8.716237e+05</td>\n",
              "      <td>145.888889</td>\n",
              "      <td>1.785396e+05</td>\n",
              "      <td>66594.555556</td>\n",
              "      <td>0</td>\n",
              "      <td>0</td>\n",
              "      <td>1</td>\n",
              "      <td>0</td>\n",
              "      <td>0</td>\n",
              "      <td>0</td>\n",
              "      <td>1</td>\n",
              "      <td>0</td>\n",
              "      <td>0</td>\n",
              "      <td>1</td>\n",
              "      <td>0</td>\n",
              "    </tr>\n",
              "  </tbody>\n",
              "</table>\n",
              "</div>"
            ],
            "text/plain": [
              "          user_id  app_code  is_4G  session_id  ...  noon  intermediate  latest  old\n",
              "11052882    44754       127      1      923045  ...     0             0       1    0\n",
              "11052883    29656        44      0      368797  ...     0             0       1    0\n",
              "11052955    25234       296      1      568979  ...     0             0       1    0\n",
              "\n",
              "[3 rows x 67 columns]"
            ]
          },
          "metadata": {
            "tags": []
          },
          "execution_count": 95
        }
      ]
    },
    {
      "cell_type": "code",
      "metadata": {
        "id": "-9TZCFojTrKG",
        "colab_type": "code",
        "colab": {
          "base_uri": "https://localhost:8080/",
          "height": 34
        },
        "outputId": "0318b749-8e2b-4cb9-ae46-1697db230a35"
      },
      "source": [
        "train.shape, test.shape"
      ],
      "execution_count": 96,
      "outputs": [
        {
          "output_type": "execute_result",
          "data": {
            "text/plain": [
              "((237609, 67), (90675, 67))"
            ]
          },
          "metadata": {
            "tags": []
          },
          "execution_count": 96
        }
      ]
    },
    {
      "cell_type": "code",
      "metadata": {
        "id": "pMTa1dkcbX35",
        "colab_type": "code",
        "colab": {}
      },
      "source": [
        "#! pip3 install category-encoders"
      ],
      "execution_count": 0,
      "outputs": []
    },
    {
      "cell_type": "code",
      "metadata": {
        "id": "g-wZDr3mhpBx",
        "colab_type": "code",
        "colab": {
          "base_uri": "https://localhost:8080/",
          "height": 131
        },
        "outputId": "2de9e4a0-4b17-4154-bc32-535c586128d5"
      },
      "source": [
        "train.head(2)"
      ],
      "execution_count": 98,
      "outputs": [
        {
          "output_type": "execute_result",
          "data": {
            "text/html": [
              "<div>\n",
              "<style scoped>\n",
              "    .dataframe tbody tr th:only-of-type {\n",
              "        vertical-align: middle;\n",
              "    }\n",
              "\n",
              "    .dataframe tbody tr th {\n",
              "        vertical-align: top;\n",
              "    }\n",
              "\n",
              "    .dataframe thead th {\n",
              "        text-align: right;\n",
              "    }\n",
              "</style>\n",
              "<table border=\"1\" class=\"dataframe\">\n",
              "  <thead>\n",
              "    <tr style=\"text-align: right;\">\n",
              "      <th></th>\n",
              "      <th>user_id</th>\n",
              "      <th>app_code</th>\n",
              "      <th>is_4G</th>\n",
              "      <th>session_id</th>\n",
              "      <th>item_id</th>\n",
              "      <th>item_price</th>\n",
              "      <th>category_1</th>\n",
              "      <th>category_2</th>\n",
              "      <th>category_3</th>\n",
              "      <th>product_type</th>\n",
              "      <th>count_1</th>\n",
              "      <th>ctr</th>\n",
              "      <th>cat_new1</th>\n",
              "      <th>cat_new2</th>\n",
              "      <th>cat_new3</th>\n",
              "      <th>count_12</th>\n",
              "      <th>count_4</th>\n",
              "      <th>count_14</th>\n",
              "      <th>count_6</th>\n",
              "      <th>count_16</th>\n",
              "      <th>count_8</th>\n",
              "      <th>count_18</th>\n",
              "      <th>count_20</th>\n",
              "      <th>count_200</th>\n",
              "      <th>count_22</th>\n",
              "      <th>day_imp</th>\n",
              "      <th>day_ser</th>\n",
              "      <th>week_imp</th>\n",
              "      <th>week_ser</th>\n",
              "      <th>hour_imp</th>\n",
              "      <th>hour_ser</th>\n",
              "      <th>day_week_ser</th>\n",
              "      <th>day_week_imp</th>\n",
              "      <th>diff</th>\n",
              "      <th>count_212</th>\n",
              "      <th>count_x</th>\n",
              "      <th>count_y</th>\n",
              "      <th>count_24</th>\n",
              "      <th>count_214</th>\n",
              "      <th>count</th>\n",
              "      <th>301</th>\n",
              "      <th>302</th>\n",
              "      <th>303</th>\n",
              "      <th>304</th>\n",
              "      <th>305</th>\n",
              "      <th>306</th>\n",
              "      <th>307</th>\n",
              "      <th>308</th>\n",
              "      <th>309</th>\n",
              "      <th>310</th>\n",
              "      <th>311</th>\n",
              "      <th>312</th>\n",
              "      <th>313</th>\n",
              "      <th>314</th>\n",
              "      <th>315</th>\n",
              "      <th>316</th>\n",
              "      <th>evening</th>\n",
              "      <th>midnignt</th>\n",
              "      <th>morning</th>\n",
              "      <th>noon</th>\n",
              "      <th>evening</th>\n",
              "      <th>midnignt</th>\n",
              "      <th>morning</th>\n",
              "      <th>noon</th>\n",
              "      <th>intermediate</th>\n",
              "      <th>latest</th>\n",
              "      <th>old</th>\n",
              "    </tr>\n",
              "  </thead>\n",
              "  <tbody>\n",
              "    <tr>\n",
              "      <th>0</th>\n",
              "      <td>87862</td>\n",
              "      <td>422</td>\n",
              "      <td>0</td>\n",
              "      <td>190710</td>\n",
              "      <td>43886</td>\n",
              "      <td>2350.0</td>\n",
              "      <td>11.0</td>\n",
              "      <td>35.0</td>\n",
              "      <td>20.0</td>\n",
              "      <td>5622.0</td>\n",
              "      <td>1</td>\n",
              "      <td>2350.000000</td>\n",
              "      <td>11.000000</td>\n",
              "      <td>35.000000</td>\n",
              "      <td>20.000000</td>\n",
              "      <td>30936</td>\n",
              "      <td>1129976.0</td>\n",
              "      <td>259780.0</td>\n",
              "      <td>125694.0</td>\n",
              "      <td>143701.0</td>\n",
              "      <td>3280315</td>\n",
              "      <td>3</td>\n",
              "      <td>377</td>\n",
              "      <td>995.0</td>\n",
              "      <td>3</td>\n",
              "      <td>15</td>\n",
              "      <td>19</td>\n",
              "      <td>46</td>\n",
              "      <td>42</td>\n",
              "      <td>0</td>\n",
              "      <td>18</td>\n",
              "      <td>4</td>\n",
              "      <td>3</td>\n",
              "      <td>1080</td>\n",
              "      <td>8301721</td>\n",
              "      <td>2519262</td>\n",
              "      <td>1068778</td>\n",
              "      <td>491494</td>\n",
              "      <td>1925657</td>\n",
              "      <td>1576070</td>\n",
              "      <td>30936.000000</td>\n",
              "      <td>1129976.00</td>\n",
              "      <td>259780.0</td>\n",
              "      <td>125694.000000</td>\n",
              "      <td>143701.00</td>\n",
              "      <td>3.0</td>\n",
              "      <td>995.000000</td>\n",
              "      <td>3.000000</td>\n",
              "      <td>8.301721e+06</td>\n",
              "      <td>491494.000000</td>\n",
              "      <td>1.925657e+06</td>\n",
              "      <td>1.576070e+06</td>\n",
              "      <td>3280315.00</td>\n",
              "      <td>377.000000</td>\n",
              "      <td>2519262.0</td>\n",
              "      <td>1.068778e+06</td>\n",
              "      <td>1</td>\n",
              "      <td>0</td>\n",
              "      <td>0</td>\n",
              "      <td>0</td>\n",
              "      <td>0</td>\n",
              "      <td>1</td>\n",
              "      <td>0</td>\n",
              "      <td>0</td>\n",
              "      <td>0</td>\n",
              "      <td>0</td>\n",
              "      <td>1</td>\n",
              "    </tr>\n",
              "    <tr>\n",
              "      <th>1</th>\n",
              "      <td>63410</td>\n",
              "      <td>467</td>\n",
              "      <td>1</td>\n",
              "      <td>356854</td>\n",
              "      <td>43209</td>\n",
              "      <td>3421.0</td>\n",
              "      <td>4.0</td>\n",
              "      <td>74.0</td>\n",
              "      <td>292.0</td>\n",
              "      <td>577.0</td>\n",
              "      <td>12</td>\n",
              "      <td>285.083333</td>\n",
              "      <td>0.333333</td>\n",
              "      <td>6.166667</td>\n",
              "      <td>24.333333</td>\n",
              "      <td>11867</td>\n",
              "      <td>1397337.0</td>\n",
              "      <td>492090.0</td>\n",
              "      <td>490837.0</td>\n",
              "      <td>1305.0</td>\n",
              "      <td>7844613</td>\n",
              "      <td>732</td>\n",
              "      <td>892</td>\n",
              "      <td>1019.0</td>\n",
              "      <td>122</td>\n",
              "      <td>15</td>\n",
              "      <td>21</td>\n",
              "      <td>46</td>\n",
              "      <td>42</td>\n",
              "      <td>0</td>\n",
              "      <td>6</td>\n",
              "      <td>6</td>\n",
              "      <td>3</td>\n",
              "      <td>360</td>\n",
              "      <td>1996522</td>\n",
              "      <td>2519262</td>\n",
              "      <td>1068778</td>\n",
              "      <td>545764</td>\n",
              "      <td>2191111</td>\n",
              "      <td>1576070</td>\n",
              "      <td>988.916667</td>\n",
              "      <td>116444.75</td>\n",
              "      <td>41007.5</td>\n",
              "      <td>40903.083333</td>\n",
              "      <td>108.75</td>\n",
              "      <td>61.0</td>\n",
              "      <td>84.916667</td>\n",
              "      <td>10.166667</td>\n",
              "      <td>1.663768e+05</td>\n",
              "      <td>45480.333333</td>\n",
              "      <td>1.825926e+05</td>\n",
              "      <td>1.313392e+05</td>\n",
              "      <td>653717.75</td>\n",
              "      <td>74.333333</td>\n",
              "      <td>209938.5</td>\n",
              "      <td>8.906483e+04</td>\n",
              "      <td>0</td>\n",
              "      <td>0</td>\n",
              "      <td>1</td>\n",
              "      <td>0</td>\n",
              "      <td>0</td>\n",
              "      <td>1</td>\n",
              "      <td>0</td>\n",
              "      <td>0</td>\n",
              "      <td>0</td>\n",
              "      <td>1</td>\n",
              "      <td>0</td>\n",
              "    </tr>\n",
              "  </tbody>\n",
              "</table>\n",
              "</div>"
            ],
            "text/plain": [
              "   user_id  app_code  is_4G  session_id  ...  noon  intermediate  latest  old\n",
              "0    87862       422      0      190710  ...     0             0       0    1\n",
              "1    63410       467      1      356854  ...     0             0       1    0\n",
              "\n",
              "[2 rows x 67 columns]"
            ]
          },
          "metadata": {
            "tags": []
          },
          "execution_count": 98
        }
      ]
    },
    {
      "cell_type": "code",
      "metadata": {
        "id": "JdqWP-nFTjBF",
        "colab_type": "code",
        "colab": {}
      },
      "source": [
        "#from category_encoders.target_encoder import TargetEncoder\n",
        "#clf=TargetEncoder(cols=[9,5,35, 36])\n",
        "#clf=clf.fit(train, target)\n",
        "#train=clf.transform(train)\n",
        "#test=clf.transform(test)"
      ],
      "execution_count": 0,
      "outputs": []
    },
    {
      "cell_type": "code",
      "metadata": {
        "id": "e3Rs8JFpsZ4V",
        "colab_type": "code",
        "colab": {}
      },
      "source": [
        "#from sklearn.preprocessing import normalize\n",
        "#train = np.array(train)\n",
        "#test = np.array(test)\n",
        "#train = pd.DataFrame(train)\n",
        "#test = pd.DataFrame(test)"
      ],
      "execution_count": 0,
      "outputs": []
    },
    {
      "cell_type": "code",
      "metadata": {
        "id": "pqlDSqikRBd9",
        "colab_type": "code",
        "colab": {}
      },
      "source": [
        "#a = pd.get_dummies(test_data[\"device_type\"])\n",
        "#b = pd.get_dummies(test_data[\"noon_ser\"])\n",
        "#c = pd.get_dummies(test_data[\"noon_imp\"])\n",
        "#d = pd.get_dummies(test_data[\"hour_imp\"])\n",
        "#e = pd.get_dummies(test_data[\"hour_ser\"])\n",
        "#frames = [test_data,a,b,c,d]\n",
        "#test_data = pd.concat(frames, axis=1)"
      ],
      "execution_count": 0,
      "outputs": []
    },
    {
      "cell_type": "code",
      "metadata": {
        "id": "mhU0ya8bjC5U",
        "colab_type": "code",
        "colab": {}
      },
      "source": [
        "# , \"day_imp\", \"day_ser\", \"hour_imp\", \"hour_ser\"\n",
        "#, \"day_imp\", \"day_ser\", \"hour_imp\", \"hour_ser\""
      ],
      "execution_count": 0,
      "outputs": []
    },
    {
      "cell_type": "code",
      "metadata": {
        "id": "X9wczcSsGXGj",
        "colab_type": "code",
        "colab": {}
      },
      "source": [
        "#train_data.drop([\"noon_ser\", \"noon_imp\", \"hour_ser\", \"hour_imp\",\"device_type\",\"os_version\",\"session_id\",\"item_id\",\"product_type\"], axis=1, inplace=True)\n"
      ],
      "execution_count": 0,
      "outputs": []
    },
    {
      "cell_type": "code",
      "metadata": {
        "id": "p0u4k9Qej-s2",
        "colab_type": "code",
        "colab": {}
      },
      "source": [
        "#test_data.drop([\"noon_ser\", \"noon_imp\", \"hour_ser\", \"hour_imp\",\"device_type\",\"os_version\",\"session_id\",\"item_id\",\"product_type\"], axis=1, inplace=True)"
      ],
      "execution_count": 0,
      "outputs": []
    },
    {
      "cell_type": "code",
      "metadata": {
        "id": "2LtSrGjDYHc6",
        "colab_type": "code",
        "outputId": "43998fab-0dfe-448c-92c8-f9b28682c004",
        "colab": {
          "base_uri": "https://localhost:8080/",
          "height": 34
        }
      },
      "source": [
        "train.shape, test.shape"
      ],
      "execution_count": 104,
      "outputs": [
        {
          "output_type": "execute_result",
          "data": {
            "text/plain": [
              "((237609, 67), (90675, 67))"
            ]
          },
          "metadata": {
            "tags": []
          },
          "execution_count": 104
        }
      ]
    },
    {
      "cell_type": "code",
      "metadata": {
        "id": "8_tECLDAqlGj",
        "colab_type": "code",
        "outputId": "562a61e3-88e0-4de1-a67e-266efa2d3843",
        "colab": {
          "base_uri": "https://localhost:8080/",
          "height": 162
        }
      },
      "source": [
        "train.head(3)"
      ],
      "execution_count": 105,
      "outputs": [
        {
          "output_type": "execute_result",
          "data": {
            "text/html": [
              "<div>\n",
              "<style scoped>\n",
              "    .dataframe tbody tr th:only-of-type {\n",
              "        vertical-align: middle;\n",
              "    }\n",
              "\n",
              "    .dataframe tbody tr th {\n",
              "        vertical-align: top;\n",
              "    }\n",
              "\n",
              "    .dataframe thead th {\n",
              "        text-align: right;\n",
              "    }\n",
              "</style>\n",
              "<table border=\"1\" class=\"dataframe\">\n",
              "  <thead>\n",
              "    <tr style=\"text-align: right;\">\n",
              "      <th></th>\n",
              "      <th>user_id</th>\n",
              "      <th>app_code</th>\n",
              "      <th>is_4G</th>\n",
              "      <th>session_id</th>\n",
              "      <th>item_id</th>\n",
              "      <th>item_price</th>\n",
              "      <th>category_1</th>\n",
              "      <th>category_2</th>\n",
              "      <th>category_3</th>\n",
              "      <th>product_type</th>\n",
              "      <th>count_1</th>\n",
              "      <th>ctr</th>\n",
              "      <th>cat_new1</th>\n",
              "      <th>cat_new2</th>\n",
              "      <th>cat_new3</th>\n",
              "      <th>count_12</th>\n",
              "      <th>count_4</th>\n",
              "      <th>count_14</th>\n",
              "      <th>count_6</th>\n",
              "      <th>count_16</th>\n",
              "      <th>count_8</th>\n",
              "      <th>count_18</th>\n",
              "      <th>count_20</th>\n",
              "      <th>count_200</th>\n",
              "      <th>count_22</th>\n",
              "      <th>day_imp</th>\n",
              "      <th>day_ser</th>\n",
              "      <th>week_imp</th>\n",
              "      <th>week_ser</th>\n",
              "      <th>hour_imp</th>\n",
              "      <th>hour_ser</th>\n",
              "      <th>day_week_ser</th>\n",
              "      <th>day_week_imp</th>\n",
              "      <th>diff</th>\n",
              "      <th>count_212</th>\n",
              "      <th>count_x</th>\n",
              "      <th>count_y</th>\n",
              "      <th>count_24</th>\n",
              "      <th>count_214</th>\n",
              "      <th>count</th>\n",
              "      <th>301</th>\n",
              "      <th>302</th>\n",
              "      <th>303</th>\n",
              "      <th>304</th>\n",
              "      <th>305</th>\n",
              "      <th>306</th>\n",
              "      <th>307</th>\n",
              "      <th>308</th>\n",
              "      <th>309</th>\n",
              "      <th>310</th>\n",
              "      <th>311</th>\n",
              "      <th>312</th>\n",
              "      <th>313</th>\n",
              "      <th>314</th>\n",
              "      <th>315</th>\n",
              "      <th>316</th>\n",
              "      <th>evening</th>\n",
              "      <th>midnignt</th>\n",
              "      <th>morning</th>\n",
              "      <th>noon</th>\n",
              "      <th>evening</th>\n",
              "      <th>midnignt</th>\n",
              "      <th>morning</th>\n",
              "      <th>noon</th>\n",
              "      <th>intermediate</th>\n",
              "      <th>latest</th>\n",
              "      <th>old</th>\n",
              "    </tr>\n",
              "  </thead>\n",
              "  <tbody>\n",
              "    <tr>\n",
              "      <th>0</th>\n",
              "      <td>87862</td>\n",
              "      <td>422</td>\n",
              "      <td>0</td>\n",
              "      <td>190710</td>\n",
              "      <td>43886</td>\n",
              "      <td>2350.0</td>\n",
              "      <td>11.0</td>\n",
              "      <td>35.0</td>\n",
              "      <td>20.0</td>\n",
              "      <td>5622.0</td>\n",
              "      <td>1</td>\n",
              "      <td>2350.000000</td>\n",
              "      <td>11.000000</td>\n",
              "      <td>35.000000</td>\n",
              "      <td>20.000000</td>\n",
              "      <td>30936</td>\n",
              "      <td>1129976.0</td>\n",
              "      <td>259780.0</td>\n",
              "      <td>125694.0</td>\n",
              "      <td>143701.0</td>\n",
              "      <td>3280315</td>\n",
              "      <td>3</td>\n",
              "      <td>377</td>\n",
              "      <td>995.0</td>\n",
              "      <td>3</td>\n",
              "      <td>15</td>\n",
              "      <td>19</td>\n",
              "      <td>46</td>\n",
              "      <td>42</td>\n",
              "      <td>0</td>\n",
              "      <td>18</td>\n",
              "      <td>4</td>\n",
              "      <td>3</td>\n",
              "      <td>1080</td>\n",
              "      <td>8301721</td>\n",
              "      <td>2519262</td>\n",
              "      <td>1068778</td>\n",
              "      <td>491494</td>\n",
              "      <td>1925657</td>\n",
              "      <td>1576070</td>\n",
              "      <td>30936.000000</td>\n",
              "      <td>1129976.00</td>\n",
              "      <td>259780.0</td>\n",
              "      <td>125694.000000</td>\n",
              "      <td>143701.00</td>\n",
              "      <td>3.0</td>\n",
              "      <td>995.000000</td>\n",
              "      <td>3.000000</td>\n",
              "      <td>8.301721e+06</td>\n",
              "      <td>491494.000000</td>\n",
              "      <td>1.925657e+06</td>\n",
              "      <td>1.576070e+06</td>\n",
              "      <td>3280315.00</td>\n",
              "      <td>377.000000</td>\n",
              "      <td>2519262.0</td>\n",
              "      <td>1.068778e+06</td>\n",
              "      <td>1</td>\n",
              "      <td>0</td>\n",
              "      <td>0</td>\n",
              "      <td>0</td>\n",
              "      <td>0</td>\n",
              "      <td>1</td>\n",
              "      <td>0</td>\n",
              "      <td>0</td>\n",
              "      <td>0</td>\n",
              "      <td>0</td>\n",
              "      <td>1</td>\n",
              "    </tr>\n",
              "    <tr>\n",
              "      <th>1</th>\n",
              "      <td>63410</td>\n",
              "      <td>467</td>\n",
              "      <td>1</td>\n",
              "      <td>356854</td>\n",
              "      <td>43209</td>\n",
              "      <td>3421.0</td>\n",
              "      <td>4.0</td>\n",
              "      <td>74.0</td>\n",
              "      <td>292.0</td>\n",
              "      <td>577.0</td>\n",
              "      <td>12</td>\n",
              "      <td>285.083333</td>\n",
              "      <td>0.333333</td>\n",
              "      <td>6.166667</td>\n",
              "      <td>24.333333</td>\n",
              "      <td>11867</td>\n",
              "      <td>1397337.0</td>\n",
              "      <td>492090.0</td>\n",
              "      <td>490837.0</td>\n",
              "      <td>1305.0</td>\n",
              "      <td>7844613</td>\n",
              "      <td>732</td>\n",
              "      <td>892</td>\n",
              "      <td>1019.0</td>\n",
              "      <td>122</td>\n",
              "      <td>15</td>\n",
              "      <td>21</td>\n",
              "      <td>46</td>\n",
              "      <td>42</td>\n",
              "      <td>0</td>\n",
              "      <td>6</td>\n",
              "      <td>6</td>\n",
              "      <td>3</td>\n",
              "      <td>360</td>\n",
              "      <td>1996522</td>\n",
              "      <td>2519262</td>\n",
              "      <td>1068778</td>\n",
              "      <td>545764</td>\n",
              "      <td>2191111</td>\n",
              "      <td>1576070</td>\n",
              "      <td>988.916667</td>\n",
              "      <td>116444.75</td>\n",
              "      <td>41007.5</td>\n",
              "      <td>40903.083333</td>\n",
              "      <td>108.75</td>\n",
              "      <td>61.0</td>\n",
              "      <td>84.916667</td>\n",
              "      <td>10.166667</td>\n",
              "      <td>1.663768e+05</td>\n",
              "      <td>45480.333333</td>\n",
              "      <td>1.825926e+05</td>\n",
              "      <td>1.313392e+05</td>\n",
              "      <td>653717.75</td>\n",
              "      <td>74.333333</td>\n",
              "      <td>209938.5</td>\n",
              "      <td>8.906483e+04</td>\n",
              "      <td>0</td>\n",
              "      <td>0</td>\n",
              "      <td>1</td>\n",
              "      <td>0</td>\n",
              "      <td>0</td>\n",
              "      <td>1</td>\n",
              "      <td>0</td>\n",
              "      <td>0</td>\n",
              "      <td>0</td>\n",
              "      <td>1</td>\n",
              "      <td>0</td>\n",
              "    </tr>\n",
              "    <tr>\n",
              "      <th>13</th>\n",
              "      <td>71748</td>\n",
              "      <td>259</td>\n",
              "      <td>1</td>\n",
              "      <td>658178</td>\n",
              "      <td>122348</td>\n",
              "      <td>973.0</td>\n",
              "      <td>13.0</td>\n",
              "      <td>67.0</td>\n",
              "      <td>170.0</td>\n",
              "      <td>2874.0</td>\n",
              "      <td>2</td>\n",
              "      <td>486.500000</td>\n",
              "      <td>6.500000</td>\n",
              "      <td>33.500000</td>\n",
              "      <td>85.000000</td>\n",
              "      <td>13007</td>\n",
              "      <td>1173480.0</td>\n",
              "      <td>239963.0</td>\n",
              "      <td>104225.0</td>\n",
              "      <td>474782.0</td>\n",
              "      <td>3799651</td>\n",
              "      <td>26</td>\n",
              "      <td>5190</td>\n",
              "      <td>5877.0</td>\n",
              "      <td>13</td>\n",
              "      <td>15</td>\n",
              "      <td>23</td>\n",
              "      <td>46</td>\n",
              "      <td>43</td>\n",
              "      <td>0</td>\n",
              "      <td>12</td>\n",
              "      <td>1</td>\n",
              "      <td>3</td>\n",
              "      <td>720</td>\n",
              "      <td>2994623</td>\n",
              "      <td>2519262</td>\n",
              "      <td>1068778</td>\n",
              "      <td>519326</td>\n",
              "      <td>2389736</td>\n",
              "      <td>1601341</td>\n",
              "      <td>6503.500000</td>\n",
              "      <td>586740.00</td>\n",
              "      <td>119981.5</td>\n",
              "      <td>52112.500000</td>\n",
              "      <td>237391.00</td>\n",
              "      <td>13.0</td>\n",
              "      <td>2938.500000</td>\n",
              "      <td>6.500000</td>\n",
              "      <td>1.497312e+06</td>\n",
              "      <td>259663.000000</td>\n",
              "      <td>1.194868e+06</td>\n",
              "      <td>8.006705e+05</td>\n",
              "      <td>1899825.50</td>\n",
              "      <td>2595.000000</td>\n",
              "      <td>1259631.0</td>\n",
              "      <td>5.343890e+05</td>\n",
              "      <td>0</td>\n",
              "      <td>0</td>\n",
              "      <td>0</td>\n",
              "      <td>1</td>\n",
              "      <td>0</td>\n",
              "      <td>1</td>\n",
              "      <td>0</td>\n",
              "      <td>0</td>\n",
              "      <td>1</td>\n",
              "      <td>0</td>\n",
              "      <td>0</td>\n",
              "    </tr>\n",
              "  </tbody>\n",
              "</table>\n",
              "</div>"
            ],
            "text/plain": [
              "    user_id  app_code  is_4G  session_id  ...  noon  intermediate  latest  old\n",
              "0     87862       422      0      190710  ...     0             0       0    1\n",
              "1     63410       467      1      356854  ...     0             0       1    0\n",
              "13    71748       259      1      658178  ...     0             1       0    0\n",
              "\n",
              "[3 rows x 67 columns]"
            ]
          },
          "metadata": {
            "tags": []
          },
          "execution_count": 105
        }
      ]
    },
    {
      "cell_type": "code",
      "metadata": {
        "id": "IqqIbpJVkLEj",
        "colab_type": "code",
        "outputId": "7ad0342e-733a-427b-adb9-00eb6a956ce8",
        "colab": {
          "base_uri": "https://localhost:8080/",
          "height": 162
        }
      },
      "source": [
        "test.head(3)"
      ],
      "execution_count": 106,
      "outputs": [
        {
          "output_type": "execute_result",
          "data": {
            "text/html": [
              "<div>\n",
              "<style scoped>\n",
              "    .dataframe tbody tr th:only-of-type {\n",
              "        vertical-align: middle;\n",
              "    }\n",
              "\n",
              "    .dataframe tbody tr th {\n",
              "        vertical-align: top;\n",
              "    }\n",
              "\n",
              "    .dataframe thead th {\n",
              "        text-align: right;\n",
              "    }\n",
              "</style>\n",
              "<table border=\"1\" class=\"dataframe\">\n",
              "  <thead>\n",
              "    <tr style=\"text-align: right;\">\n",
              "      <th></th>\n",
              "      <th>user_id</th>\n",
              "      <th>app_code</th>\n",
              "      <th>is_4G</th>\n",
              "      <th>session_id</th>\n",
              "      <th>item_id</th>\n",
              "      <th>item_price</th>\n",
              "      <th>category_1</th>\n",
              "      <th>category_2</th>\n",
              "      <th>category_3</th>\n",
              "      <th>product_type</th>\n",
              "      <th>count_1</th>\n",
              "      <th>ctr</th>\n",
              "      <th>cat_new1</th>\n",
              "      <th>cat_new2</th>\n",
              "      <th>cat_new3</th>\n",
              "      <th>count_12</th>\n",
              "      <th>count_4</th>\n",
              "      <th>count_14</th>\n",
              "      <th>count_6</th>\n",
              "      <th>count_16</th>\n",
              "      <th>count_8</th>\n",
              "      <th>count_18</th>\n",
              "      <th>count_20</th>\n",
              "      <th>count_200</th>\n",
              "      <th>count_22</th>\n",
              "      <th>day_imp</th>\n",
              "      <th>day_ser</th>\n",
              "      <th>week_imp</th>\n",
              "      <th>week_ser</th>\n",
              "      <th>hour_imp</th>\n",
              "      <th>hour_ser</th>\n",
              "      <th>day_week_ser</th>\n",
              "      <th>day_week_imp</th>\n",
              "      <th>diff</th>\n",
              "      <th>count_212</th>\n",
              "      <th>count_x</th>\n",
              "      <th>count_y</th>\n",
              "      <th>count_24</th>\n",
              "      <th>count_214</th>\n",
              "      <th>count</th>\n",
              "      <th>301</th>\n",
              "      <th>302</th>\n",
              "      <th>303</th>\n",
              "      <th>304</th>\n",
              "      <th>305</th>\n",
              "      <th>306</th>\n",
              "      <th>307</th>\n",
              "      <th>308</th>\n",
              "      <th>309</th>\n",
              "      <th>310</th>\n",
              "      <th>311</th>\n",
              "      <th>312</th>\n",
              "      <th>313</th>\n",
              "      <th>314</th>\n",
              "      <th>315</th>\n",
              "      <th>316</th>\n",
              "      <th>evening</th>\n",
              "      <th>midnignt</th>\n",
              "      <th>morning</th>\n",
              "      <th>noon</th>\n",
              "      <th>evening</th>\n",
              "      <th>midnignt</th>\n",
              "      <th>morning</th>\n",
              "      <th>noon</th>\n",
              "      <th>intermediate</th>\n",
              "      <th>latest</th>\n",
              "      <th>old</th>\n",
              "    </tr>\n",
              "  </thead>\n",
              "  <tbody>\n",
              "    <tr>\n",
              "      <th>11052882</th>\n",
              "      <td>44754</td>\n",
              "      <td>127</td>\n",
              "      <td>1</td>\n",
              "      <td>923045</td>\n",
              "      <td>128995</td>\n",
              "      <td>23424.0</td>\n",
              "      <td>1.0</td>\n",
              "      <td>42.0</td>\n",
              "      <td>220.0</td>\n",
              "      <td>1617.0</td>\n",
              "      <td>1</td>\n",
              "      <td>23424.000000</td>\n",
              "      <td>1.000</td>\n",
              "      <td>42.000000</td>\n",
              "      <td>220.000000</td>\n",
              "      <td>627447</td>\n",
              "      <td>1776423.0</td>\n",
              "      <td>603243.0</td>\n",
              "      <td>217217.0</td>\n",
              "      <td>54835.0</td>\n",
              "      <td>7844613</td>\n",
              "      <td>10</td>\n",
              "      <td>8556</td>\n",
              "      <td>9032.0</td>\n",
              "      <td>10</td>\n",
              "      <td>13</td>\n",
              "      <td>11</td>\n",
              "      <td>50</td>\n",
              "      <td>50</td>\n",
              "      <td>7</td>\n",
              "      <td>19</td>\n",
              "      <td>1</td>\n",
              "      <td>3</td>\n",
              "      <td>720</td>\n",
              "      <td>8301721</td>\n",
              "      <td>1606856</td>\n",
              "      <td>599351</td>\n",
              "      <td>586207</td>\n",
              "      <td>2389736</td>\n",
              "      <td>609920</td>\n",
              "      <td>627447.000000</td>\n",
              "      <td>1776423.000</td>\n",
              "      <td>603243.000000</td>\n",
              "      <td>217217.000000</td>\n",
              "      <td>54835.000000</td>\n",
              "      <td>10.0</td>\n",
              "      <td>9032.000000</td>\n",
              "      <td>10.000000</td>\n",
              "      <td>8.301721e+06</td>\n",
              "      <td>586207.000000</td>\n",
              "      <td>2.389736e+06</td>\n",
              "      <td>609920.000000</td>\n",
              "      <td>7.844613e+06</td>\n",
              "      <td>8556.000000</td>\n",
              "      <td>1.606856e+06</td>\n",
              "      <td>599351.000000</td>\n",
              "      <td>1</td>\n",
              "      <td>0</td>\n",
              "      <td>0</td>\n",
              "      <td>0</td>\n",
              "      <td>0</td>\n",
              "      <td>0</td>\n",
              "      <td>1</td>\n",
              "      <td>0</td>\n",
              "      <td>0</td>\n",
              "      <td>1</td>\n",
              "      <td>0</td>\n",
              "    </tr>\n",
              "    <tr>\n",
              "      <th>11052883</th>\n",
              "      <td>29656</td>\n",
              "      <td>44</td>\n",
              "      <td>0</td>\n",
              "      <td>368797</td>\n",
              "      <td>55912</td>\n",
              "      <td>1529.0</td>\n",
              "      <td>9.0</td>\n",
              "      <td>44.0</td>\n",
              "      <td>114.0</td>\n",
              "      <td>9857.0</td>\n",
              "      <td>72</td>\n",
              "      <td>21.236111</td>\n",
              "      <td>0.125</td>\n",
              "      <td>0.611111</td>\n",
              "      <td>1.583333</td>\n",
              "      <td>316532</td>\n",
              "      <td>1963161.0</td>\n",
              "      <td>518001.0</td>\n",
              "      <td>373319.0</td>\n",
              "      <td>14983.0</td>\n",
              "      <td>7844613</td>\n",
              "      <td>648</td>\n",
              "      <td>14961</td>\n",
              "      <td>43030.0</td>\n",
              "      <td>45</td>\n",
              "      <td>13</td>\n",
              "      <td>16</td>\n",
              "      <td>50</td>\n",
              "      <td>42</td>\n",
              "      <td>7</td>\n",
              "      <td>10</td>\n",
              "      <td>1</td>\n",
              "      <td>3</td>\n",
              "      <td>180</td>\n",
              "      <td>2994623</td>\n",
              "      <td>1606856</td>\n",
              "      <td>599351</td>\n",
              "      <td>516880</td>\n",
              "      <td>2389736</td>\n",
              "      <td>1576070</td>\n",
              "      <td>4396.277778</td>\n",
              "      <td>27266.125</td>\n",
              "      <td>7194.458333</td>\n",
              "      <td>5184.986111</td>\n",
              "      <td>208.097222</td>\n",
              "      <td>9.0</td>\n",
              "      <td>597.638889</td>\n",
              "      <td>0.625000</td>\n",
              "      <td>4.159199e+04</td>\n",
              "      <td>7178.888889</td>\n",
              "      <td>3.319078e+04</td>\n",
              "      <td>21889.861111</td>\n",
              "      <td>1.089530e+05</td>\n",
              "      <td>207.791667</td>\n",
              "      <td>2.231744e+04</td>\n",
              "      <td>8324.319444</td>\n",
              "      <td>0</td>\n",
              "      <td>0</td>\n",
              "      <td>0</td>\n",
              "      <td>1</td>\n",
              "      <td>0</td>\n",
              "      <td>0</td>\n",
              "      <td>1</td>\n",
              "      <td>0</td>\n",
              "      <td>0</td>\n",
              "      <td>1</td>\n",
              "      <td>0</td>\n",
              "    </tr>\n",
              "    <tr>\n",
              "      <th>11052955</th>\n",
              "      <td>25234</td>\n",
              "      <td>296</td>\n",
              "      <td>1</td>\n",
              "      <td>568979</td>\n",
              "      <td>94943</td>\n",
              "      <td>20309.0</td>\n",
              "      <td>9.0</td>\n",
              "      <td>3.0</td>\n",
              "      <td>312.0</td>\n",
              "      <td>5161.0</td>\n",
              "      <td>9</td>\n",
              "      <td>2256.555556</td>\n",
              "      <td>1.000</td>\n",
              "      <td>0.333333</td>\n",
              "      <td>34.666667</td>\n",
              "      <td>534191</td>\n",
              "      <td>1963161.0</td>\n",
              "      <td>609048.0</td>\n",
              "      <td>42973.0</td>\n",
              "      <td>9495.0</td>\n",
              "      <td>7844613</td>\n",
              "      <td>18</td>\n",
              "      <td>1313</td>\n",
              "      <td>1316.0</td>\n",
              "      <td>2</td>\n",
              "      <td>13</td>\n",
              "      <td>21</td>\n",
              "      <td>50</td>\n",
              "      <td>42</td>\n",
              "      <td>7</td>\n",
              "      <td>7</td>\n",
              "      <td>6</td>\n",
              "      <td>3</td>\n",
              "      <td>0</td>\n",
              "      <td>1996522</td>\n",
              "      <td>1606856</td>\n",
              "      <td>599351</td>\n",
              "      <td>545764</td>\n",
              "      <td>2191111</td>\n",
              "      <td>1576070</td>\n",
              "      <td>59354.555556</td>\n",
              "      <td>218129.000</td>\n",
              "      <td>67672.000000</td>\n",
              "      <td>4774.777778</td>\n",
              "      <td>1055.000000</td>\n",
              "      <td>2.0</td>\n",
              "      <td>146.222222</td>\n",
              "      <td>0.222222</td>\n",
              "      <td>2.218358e+05</td>\n",
              "      <td>60640.444444</td>\n",
              "      <td>2.434568e+05</td>\n",
              "      <td>175118.888889</td>\n",
              "      <td>8.716237e+05</td>\n",
              "      <td>145.888889</td>\n",
              "      <td>1.785396e+05</td>\n",
              "      <td>66594.555556</td>\n",
              "      <td>0</td>\n",
              "      <td>0</td>\n",
              "      <td>1</td>\n",
              "      <td>0</td>\n",
              "      <td>0</td>\n",
              "      <td>0</td>\n",
              "      <td>1</td>\n",
              "      <td>0</td>\n",
              "      <td>0</td>\n",
              "      <td>1</td>\n",
              "      <td>0</td>\n",
              "    </tr>\n",
              "  </tbody>\n",
              "</table>\n",
              "</div>"
            ],
            "text/plain": [
              "          user_id  app_code  is_4G  session_id  ...  noon  intermediate  latest  old\n",
              "11052882    44754       127      1      923045  ...     0             0       1    0\n",
              "11052883    29656        44      0      368797  ...     0             0       1    0\n",
              "11052955    25234       296      1      568979  ...     0             0       1    0\n",
              "\n",
              "[3 rows x 67 columns]"
            ]
          },
          "metadata": {
            "tags": []
          },
          "execution_count": 106
        }
      ]
    },
    {
      "cell_type": "code",
      "metadata": {
        "id": "RakKLOyDsMTE",
        "colab_type": "code",
        "colab": {}
      },
      "source": [
        "#train.drop([13, 20, 14, 4, 11, 12], axis=1, inplace=True)\n",
        "#test.drop([13, 20, 14, 4, 11, 12], axis=1, inplace=True)"
      ],
      "execution_count": 0,
      "outputs": []
    },
    {
      "cell_type": "markdown",
      "metadata": {
        "id": "emZT1Nd0SB3e",
        "colab_type": "text"
      },
      "source": [
        "# Model"
      ]
    },
    {
      "cell_type": "code",
      "metadata": {
        "id": "BrNnUOdDVDxR",
        "colab_type": "code",
        "colab": {}
      },
      "source": [
        "#from catboost import CatBoostClassifier\n",
        "#categorical_var = np.where(train.dtypes != np.float)[0]\n",
        "#print('\\nCategorical Variables indices : ',categorical_var)\n"
      ],
      "execution_count": 0,
      "outputs": []
    },
    {
      "cell_type": "code",
      "metadata": {
        "id": "rW3KezXSesoc",
        "colab_type": "code",
        "colab": {}
      },
      "source": [
        "import lightgbm as lgb \n",
        "from sklearn.metrics import roc_auc_score\n",
        "\n",
        "features= [col for col in train.columns]\n"
      ],
      "execution_count": 0,
      "outputs": []
    },
    {
      "cell_type": "code",
      "metadata": {
        "id": "KF_wZWBde1Bj",
        "colab_type": "code",
        "outputId": "6d4ffe6f-1016-4b82-a1ab-593bb0fda35f",
        "colab": {
          "base_uri": "https://localhost:8080/",
          "height": 884
        }
      },
      "source": [
        "from sklearn.model_selection import StratifiedKFold\n",
        "#%time\n",
        "skf=StratifiedKFold(n_splits=10, shuffle=True, random_state=2019)\n",
        "oof=np.zeros(len(train))\n",
        "predictions=np.zeros(len(test))\n",
        "feature_importance_df = pd.DataFrame()\n",
        "\n",
        "#start = time.time()\n",
        "param = {\"objective\":\"binary\",\n",
        "         \"boost\":\"gbdt\",\n",
        "         \"metric\":\"auc\",\n",
        "         \"learning_rate\":0.2,\n",
        "         \"num_leaves\":12,\n",
        "         \"max_depth\":-1,\n",
        "         \"tree_learner\":\"serial\",\n",
        "         \"feature_fraction\":0.4,\n",
        "         #\"bagging_freq\":5,\n",
        "         #\"bagging_fraction\":0.4,\n",
        "         \"min_data_in_leaf\":60,\n",
        "         \"min_sum_hessian_in_leaf\":10,\n",
        "         \"n_jobs\":-1,\n",
        "         }\n",
        "\n",
        "for fold_, (trn_idx, val_idx) in enumerate(skf.split(train.values , target.values )):\n",
        "    #print(\"fold n{}\".format(fold_))\n",
        "    \n",
        "    trn_data = lgb.Dataset(train[features].iloc[trn_idx], label = target.iloc[trn_idx])\n",
        "    val_data = lgb.Dataset(train[features].iloc[val_idx], label = target.iloc[val_idx])\n",
        "    \n",
        "    num_round = 1000000\n",
        "    clf = lgb.train(param, trn_data, num_round, valid_sets=[trn_data, val_data], verbose_eval = 1000, early_stopping_rounds=2000)\n",
        "    oof[val_idx] = clf.predict(train[features].iloc[val_idx], num_iteration = clf.best_iteration)\n",
        "    \n",
        "    #fold_importance_df = pd.DataFrame()\n",
        "    #fold_importance_df[\"feature\"]=features\n",
        "    #fold_importance_df[\"importance\"]=clf.feature_importance()\n",
        "    #fold_importance_df[\"fold\"]=fold_+1\n",
        "    #feature_importance_df = pd.concat([feature_importance_df, fold_importance_df], axis=0)\n",
        "    \n",
        "    \n",
        "    \n",
        "    predictions+=clf.predict(test[features], num_iteration = clf.best_iteration)/skf.n_splits\n",
        "    \n",
        "#feature_importance_df = feature_importance_df[[\"feature\", 'importance']].groupby(\"feature\").mean().sort_values(by = \"importance\", ascending=2000)    \n",
        "print(\"cv score: {:<8.5f}\".format(roc_auc_score(target, oof)))"
      ],
      "execution_count": 109,
      "outputs": [
        {
          "output_type": "stream",
          "text": [
            "Training until validation scores don't improve for 2000 rounds.\n",
            "[1000]\ttraining's auc: 0.933457\tvalid_1's auc: 0.737189\n",
            "[2000]\ttraining's auc: 0.974968\tvalid_1's auc: 0.730248\n",
            "Early stopping, best iteration is:\n",
            "[502]\ttraining's auc: 0.880982\tvalid_1's auc: 0.744567\n",
            "Training until validation scores don't improve for 2000 rounds.\n",
            "[1000]\ttraining's auc: 0.933213\tvalid_1's auc: 0.712071\n",
            "[2000]\ttraining's auc: 0.975744\tvalid_1's auc: 0.705327\n",
            "Early stopping, best iteration is:\n",
            "[193]\ttraining's auc: 0.813429\tvalid_1's auc: 0.722252\n",
            "Training until validation scores don't improve for 2000 rounds.\n",
            "[1000]\ttraining's auc: 0.933293\tvalid_1's auc: 0.727056\n",
            "[2000]\ttraining's auc: 0.974812\tvalid_1's auc: 0.723344\n",
            "Early stopping, best iteration is:\n",
            "[206]\ttraining's auc: 0.81738\tvalid_1's auc: 0.735373\n",
            "Training until validation scores don't improve for 2000 rounds.\n",
            "[1000]\ttraining's auc: 0.931152\tvalid_1's auc: 0.727072\n",
            "[2000]\ttraining's auc: 0.974181\tvalid_1's auc: 0.719042\n",
            "Early stopping, best iteration is:\n",
            "[355]\ttraining's auc: 0.853896\tvalid_1's auc: 0.738507\n",
            "Training until validation scores don't improve for 2000 rounds.\n",
            "[1000]\ttraining's auc: 0.93258\tvalid_1's auc: 0.724733\n",
            "[2000]\ttraining's auc: 0.974521\tvalid_1's auc: 0.715125\n",
            "Early stopping, best iteration is:\n",
            "[176]\ttraining's auc: 0.806645\tvalid_1's auc: 0.734472\n",
            "Training until validation scores don't improve for 2000 rounds.\n",
            "[1000]\ttraining's auc: 0.933554\tvalid_1's auc: 0.725689\n",
            "[2000]\ttraining's auc: 0.974653\tvalid_1's auc: 0.719119\n",
            "Early stopping, best iteration is:\n",
            "[453]\ttraining's auc: 0.871757\tvalid_1's auc: 0.729468\n",
            "Training until validation scores don't improve for 2000 rounds.\n",
            "[1000]\ttraining's auc: 0.933855\tvalid_1's auc: 0.730277\n",
            "[2000]\ttraining's auc: 0.974903\tvalid_1's auc: 0.720173\n",
            "Early stopping, best iteration is:\n",
            "[446]\ttraining's auc: 0.870871\tvalid_1's auc: 0.735944\n",
            "Training until validation scores don't improve for 2000 rounds.\n",
            "[1000]\ttraining's auc: 0.933053\tvalid_1's auc: 0.724481\n",
            "[2000]\ttraining's auc: 0.975944\tvalid_1's auc: 0.716998\n",
            "Early stopping, best iteration is:\n",
            "[327]\ttraining's auc: 0.84698\tvalid_1's auc: 0.728206\n",
            "Training until validation scores don't improve for 2000 rounds.\n",
            "[1000]\ttraining's auc: 0.933145\tvalid_1's auc: 0.726742\n",
            "[2000]\ttraining's auc: 0.975137\tvalid_1's auc: 0.719086\n",
            "Early stopping, best iteration is:\n",
            "[190]\ttraining's auc: 0.813669\tvalid_1's auc: 0.736275\n",
            "Training until validation scores don't improve for 2000 rounds.\n",
            "[1000]\ttraining's auc: 0.934783\tvalid_1's auc: 0.731636\n",
            "[2000]\ttraining's auc: 0.975674\tvalid_1's auc: 0.721351\n",
            "Early stopping, best iteration is:\n",
            "[346]\ttraining's auc: 0.852405\tvalid_1's auc: 0.740524\n",
            "cv score: 0.73449 \n"
          ],
          "name": "stdout"
        }
      ]
    },
    {
      "cell_type": "code",
      "metadata": {
        "id": "FPwcum4-3YsM",
        "colab_type": "code",
        "colab": {
          "base_uri": "https://localhost:8080/",
          "height": 34
        },
        "outputId": "042f7982-d276-486c-f02d-6a75f0a17b0e"
      },
      "source": [
        "clf.best_iteration"
      ],
      "execution_count": 110,
      "outputs": [
        {
          "output_type": "execute_result",
          "data": {
            "text/plain": [
              "346"
            ]
          },
          "metadata": {
            "tags": []
          },
          "execution_count": 110
        }
      ]
    },
    {
      "cell_type": "code",
      "metadata": {
        "id": "MCQlfB9He8My",
        "colab_type": "code",
        "outputId": "44d4681b-4363-4d95-ca77-7884fcb738fa",
        "colab": {
          "base_uri": "https://localhost:8080/",
          "height": 119
        }
      },
      "source": [
        "clf.feature_importance()"
      ],
      "execution_count": 111,
      "outputs": [
        {
          "output_type": "execute_result",
          "data": {
            "text/plain": [
              "array([134, 169,  13, 124,  97, 108,  26,  56,  65,  70,  38, 104,  72,\n",
              "        71,  79, 152,  27,  46,  55,  83,  10,  82,  81, 105,  91,  63,\n",
              "        50,  11,  31,  73,  51,  32,  29,  58,   7,   9,  47,  48,  32,\n",
              "        30, 122,  63,  64, 100,  77,  86,  86, 121,  75,  60,  49,  46,\n",
              "        61,  71,  61,  83,   3,   2,   1,   0,   3,   3,   7,   7,   0,\n",
              "         2,   1,   1,   1,   4,   3,   1,   9,   3,   1])"
            ]
          },
          "metadata": {
            "tags": []
          },
          "execution_count": 111
        }
      ]
    },
    {
      "cell_type": "code",
      "metadata": {
        "id": "4LgrnkHLe8J2",
        "colab_type": "code",
        "colab": {}
      },
      "source": [
        "result_new=pd.DataFrame({\"impression_id\":test_1[\"impression_id\"], \"is_click\":predictions}) \n",
        "result_new.to_csv(\"result_new40.csv\", index=False)"
      ],
      "execution_count": 0,
      "outputs": []
    },
    {
      "cell_type": "code",
      "metadata": {
        "id": "sy2C4t62NMbL",
        "colab_type": "code",
        "colab": {}
      },
      "source": [
        ""
      ],
      "execution_count": 0,
      "outputs": []
    }
  ]
}