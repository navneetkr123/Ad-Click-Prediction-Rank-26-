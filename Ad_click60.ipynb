{
 "cells": [
  {
   "cell_type": "code",
   "execution_count": 0,
   "metadata": {
    "colab": {},
    "colab_type": "code",
    "id": "mEzK9-5DWQIL"
   },
   "outputs": [],
   "source": [
    "#! wget --header=\"Host: datahack-prod.s3.amazonaws.com\" --header=\"User-Agent: Mozilla/5.0 (Macintosh; Intel Mac OS X 10_14_6) AppleWebKit/537.36 (KHTML, like Gecko) Chrome/76.0.3809.100 Safari/537.36\" --header=\"Accept: text/html,application/xhtml+xml,application/xml;q=0.9,image/webp,image/apng,*/*;q=0.8,application/signed-exchange;v=b3\" --header=\"Accept-Language: en-US,en;q=0.9\" --header=\"Referer: https://datahack.analyticsvidhya.com/contest/wns-analytics-wizard-2019/\" \"https://datahack-prod.s3.amazonaws.com/train_file/train_NA17Sgz.zip\" -O \"train_NA17Sgz.zip\" -c"
   ]
  },
  {
   "cell_type": "code",
   "execution_count": 0,
   "metadata": {
    "colab": {},
    "colab_type": "code",
    "id": "KIKamdesWZJ-"
   },
   "outputs": [],
   "source": [
    "#! wget --header=\"Host: datahack-prod.s3.amazonaws.com\" --header=\"User-Agent: Mozilla/5.0 (Macintosh; Intel Mac OS X 10_14_6) AppleWebKit/537.36 (KHTML, like Gecko) Chrome/76.0.3809.100 Safari/537.36\" --header=\"Accept: text/html,application/xhtml+xml,application/xml;q=0.9,image/webp,image/apng,*/*;q=0.8,application/signed-exchange;v=b3\" --header=\"Accept-Language: en-US,en;q=0.9\" --header=\"Referer: https://datahack.analyticsvidhya.com/contest/wns-analytics-wizard-2019/\" \"https://datahack-prod.s3.amazonaws.com/test_file/test_aq1FGdB.zip\" -O \"test_aq1FGdB.zip\" -c"
   ]
  },
  {
   "cell_type": "code",
   "execution_count": 0,
   "metadata": {
    "colab": {},
    "colab_type": "code",
    "id": "Uxx0kKHbTvVf"
   },
   "outputs": [],
   "source": [
    "import pandas as pd\n",
    "import numpy as np"
   ]
  },
  {
   "cell_type": "code",
   "execution_count": 0,
   "metadata": {
    "colab": {},
    "colab_type": "code",
    "id": "QByrMGjLTvcb"
   },
   "outputs": [],
   "source": [
    "import zipfile\n",
    "#with zipfile.ZipFile(\"/content/train_NA17Sgz.zip\", 'r') as zip_ref:\n",
    " #   zip_ref.extractall(\"train\")"
   ]
  },
  {
   "cell_type": "code",
   "execution_count": 0,
   "metadata": {
    "colab": {},
    "colab_type": "code",
    "id": "PAgvqlQNTnAL"
   },
   "outputs": [],
   "source": [
    "import zipfile\n",
    "#with zipfile.ZipFile(\"/content/test_aq1FGdB.zip\", 'r') as zip_ref:\n",
    " #   zip_ref.extractall(\"test\")"
   ]
  },
  {
   "cell_type": "code",
   "execution_count": 0,
   "metadata": {
    "colab": {},
    "colab_type": "code",
    "id": "DFw7DPyIUdYb"
   },
   "outputs": [],
   "source": [
    "item = pd.read_csv(\"train/item_data.csv\")"
   ]
  },
  {
   "cell_type": "code",
   "execution_count": 7,
   "metadata": {
    "colab": {
     "base_uri": "https://localhost:8080/",
     "height": 34
    },
    "colab_type": "code",
    "id": "Js2O8nU9vuL9",
    "outputId": "87957c50-c7c1-4cb1-822a-f37623012489"
   },
   "outputs": [
    {
     "data": {
      "text/plain": [
       "(132761, 6)"
      ]
     },
     "execution_count": 7,
     "metadata": {
      "tags": []
     },
     "output_type": "execute_result"
    }
   ],
   "source": [
    "item.shape"
   ]
  },
  {
   "cell_type": "code",
   "execution_count": 8,
   "metadata": {
    "colab": {
     "base_uri": "https://localhost:8080/",
     "height": 669
    },
    "colab_type": "code",
    "id": "vlUO1zHzUkTJ",
    "outputId": "de6b3788-cca4-45c7-949a-c7fa6fbf56da"
   },
   "outputs": [
    {
     "data": {
      "text/html": [
       "<div>\n",
       "<style scoped>\n",
       "    .dataframe tbody tr th:only-of-type {\n",
       "        vertical-align: middle;\n",
       "    }\n",
       "\n",
       "    .dataframe tbody tr th {\n",
       "        vertical-align: top;\n",
       "    }\n",
       "\n",
       "    .dataframe thead th {\n",
       "        text-align: right;\n",
       "    }\n",
       "</style>\n",
       "<table border=\"1\" class=\"dataframe\">\n",
       "  <thead>\n",
       "    <tr style=\"text-align: right;\">\n",
       "      <th></th>\n",
       "      <th>item_id</th>\n",
       "      <th>item_price</th>\n",
       "      <th>category_1</th>\n",
       "      <th>category_2</th>\n",
       "      <th>category_3</th>\n",
       "      <th>product_type</th>\n",
       "    </tr>\n",
       "  </thead>\n",
       "  <tbody>\n",
       "    <tr>\n",
       "      <th>0</th>\n",
       "      <td>26880</td>\n",
       "      <td>4602</td>\n",
       "      <td>11</td>\n",
       "      <td>35</td>\n",
       "      <td>20</td>\n",
       "      <td>3040</td>\n",
       "    </tr>\n",
       "    <tr>\n",
       "      <th>1</th>\n",
       "      <td>54939</td>\n",
       "      <td>3513</td>\n",
       "      <td>12</td>\n",
       "      <td>57</td>\n",
       "      <td>85</td>\n",
       "      <td>6822</td>\n",
       "    </tr>\n",
       "    <tr>\n",
       "      <th>2</th>\n",
       "      <td>40383</td>\n",
       "      <td>825</td>\n",
       "      <td>17</td>\n",
       "      <td>8</td>\n",
       "      <td>279</td>\n",
       "      <td>1619</td>\n",
       "    </tr>\n",
       "    <tr>\n",
       "      <th>3</th>\n",
       "      <td>8777</td>\n",
       "      <td>2355</td>\n",
       "      <td>13</td>\n",
       "      <td>58</td>\n",
       "      <td>189</td>\n",
       "      <td>5264</td>\n",
       "    </tr>\n",
       "    <tr>\n",
       "      <th>4</th>\n",
       "      <td>113705</td>\n",
       "      <td>1267</td>\n",
       "      <td>17</td>\n",
       "      <td>39</td>\n",
       "      <td>151</td>\n",
       "      <td>10239</td>\n",
       "    </tr>\n",
       "    <tr>\n",
       "      <th>5</th>\n",
       "      <td>108843</td>\n",
       "      <td>953</td>\n",
       "      <td>9</td>\n",
       "      <td>9</td>\n",
       "      <td>90</td>\n",
       "      <td>703</td>\n",
       "    </tr>\n",
       "    <tr>\n",
       "      <th>6</th>\n",
       "      <td>129807</td>\n",
       "      <td>18118</td>\n",
       "      <td>16</td>\n",
       "      <td>56</td>\n",
       "      <td>188</td>\n",
       "      <td>2537</td>\n",
       "    </tr>\n",
       "    <tr>\n",
       "      <th>7</th>\n",
       "      <td>44250</td>\n",
       "      <td>17856</td>\n",
       "      <td>16</td>\n",
       "      <td>56</td>\n",
       "      <td>42</td>\n",
       "      <td>9641</td>\n",
       "    </tr>\n",
       "    <tr>\n",
       "      <th>8</th>\n",
       "      <td>49862</td>\n",
       "      <td>2868</td>\n",
       "      <td>7</td>\n",
       "      <td>23</td>\n",
       "      <td>219</td>\n",
       "      <td>842</td>\n",
       "    </tr>\n",
       "    <tr>\n",
       "      <th>9</th>\n",
       "      <td>77042</td>\n",
       "      <td>4032</td>\n",
       "      <td>17</td>\n",
       "      <td>55</td>\n",
       "      <td>58</td>\n",
       "      <td>623</td>\n",
       "    </tr>\n",
       "    <tr>\n",
       "      <th>10</th>\n",
       "      <td>229</td>\n",
       "      <td>2183</td>\n",
       "      <td>13</td>\n",
       "      <td>58</td>\n",
       "      <td>265</td>\n",
       "      <td>3248</td>\n",
       "    </tr>\n",
       "    <tr>\n",
       "      <th>11</th>\n",
       "      <td>77286</td>\n",
       "      <td>8552</td>\n",
       "      <td>7</td>\n",
       "      <td>31</td>\n",
       "      <td>271</td>\n",
       "      <td>6864</td>\n",
       "    </tr>\n",
       "    <tr>\n",
       "      <th>12</th>\n",
       "      <td>31157</td>\n",
       "      <td>1952</td>\n",
       "      <td>10</td>\n",
       "      <td>43</td>\n",
       "      <td>223</td>\n",
       "      <td>3328</td>\n",
       "    </tr>\n",
       "    <tr>\n",
       "      <th>13</th>\n",
       "      <td>107227</td>\n",
       "      <td>4135</td>\n",
       "      <td>16</td>\n",
       "      <td>68</td>\n",
       "      <td>40</td>\n",
       "      <td>4181</td>\n",
       "    </tr>\n",
       "    <tr>\n",
       "      <th>14</th>\n",
       "      <td>47099</td>\n",
       "      <td>4467</td>\n",
       "      <td>9</td>\n",
       "      <td>9</td>\n",
       "      <td>90</td>\n",
       "      <td>7151</td>\n",
       "    </tr>\n",
       "    <tr>\n",
       "      <th>15</th>\n",
       "      <td>95657</td>\n",
       "      <td>377</td>\n",
       "      <td>7</td>\n",
       "      <td>23</td>\n",
       "      <td>137</td>\n",
       "      <td>7233</td>\n",
       "    </tr>\n",
       "    <tr>\n",
       "      <th>16</th>\n",
       "      <td>127016</td>\n",
       "      <td>6854</td>\n",
       "      <td>12</td>\n",
       "      <td>57</td>\n",
       "      <td>171</td>\n",
       "      <td>4036</td>\n",
       "    </tr>\n",
       "    <tr>\n",
       "      <th>17</th>\n",
       "      <td>95953</td>\n",
       "      <td>2067</td>\n",
       "      <td>7</td>\n",
       "      <td>23</td>\n",
       "      <td>149</td>\n",
       "      <td>7203</td>\n",
       "    </tr>\n",
       "    <tr>\n",
       "      <th>18</th>\n",
       "      <td>131809</td>\n",
       "      <td>1267</td>\n",
       "      <td>17</td>\n",
       "      <td>8</td>\n",
       "      <td>113</td>\n",
       "      <td>6936</td>\n",
       "    </tr>\n",
       "    <tr>\n",
       "      <th>19</th>\n",
       "      <td>31202</td>\n",
       "      <td>3552</td>\n",
       "      <td>13</td>\n",
       "      <td>58</td>\n",
       "      <td>47</td>\n",
       "      <td>7387</td>\n",
       "    </tr>\n",
       "  </tbody>\n",
       "</table>\n",
       "</div>"
      ],
      "text/plain": [
       "    item_id  item_price  category_1  category_2  category_3  product_type\n",
       "0     26880        4602          11          35          20          3040\n",
       "1     54939        3513          12          57          85          6822\n",
       "2     40383         825          17           8         279          1619\n",
       "3      8777        2355          13          58         189          5264\n",
       "4    113705        1267          17          39         151         10239\n",
       "5    108843         953           9           9          90           703\n",
       "6    129807       18118          16          56         188          2537\n",
       "7     44250       17856          16          56          42          9641\n",
       "8     49862        2868           7          23         219           842\n",
       "9     77042        4032          17          55          58           623\n",
       "10      229        2183          13          58         265          3248\n",
       "11    77286        8552           7          31         271          6864\n",
       "12    31157        1952          10          43         223          3328\n",
       "13   107227        4135          16          68          40          4181\n",
       "14    47099        4467           9           9          90          7151\n",
       "15    95657         377           7          23         137          7233\n",
       "16   127016        6854          12          57         171          4036\n",
       "17    95953        2067           7          23         149          7203\n",
       "18   131809        1267          17           8         113          6936\n",
       "19    31202        3552          13          58          47          7387"
      ]
     },
     "execution_count": 8,
     "metadata": {
      "tags": []
     },
     "output_type": "execute_result"
    }
   ],
   "source": [
    "item.head(20)"
   ]
  },
  {
   "cell_type": "code",
   "execution_count": 9,
   "metadata": {
    "colab": {
     "base_uri": "https://localhost:8080/",
     "height": 204
    },
    "colab_type": "code",
    "id": "9dwqS0qsUnP-",
    "outputId": "f5b92500-143e-4545-ae66-342ad5400c15"
   },
   "outputs": [
    {
     "data": {
      "text/html": [
       "<div>\n",
       "<style scoped>\n",
       "    .dataframe tbody tr th:only-of-type {\n",
       "        vertical-align: middle;\n",
       "    }\n",
       "\n",
       "    .dataframe tbody tr th {\n",
       "        vertical-align: top;\n",
       "    }\n",
       "\n",
       "    .dataframe thead th {\n",
       "        text-align: right;\n",
       "    }\n",
       "</style>\n",
       "<table border=\"1\" class=\"dataframe\">\n",
       "  <thead>\n",
       "    <tr style=\"text-align: right;\">\n",
       "      <th></th>\n",
       "      <th>impression_id</th>\n",
       "      <th>impression_time</th>\n",
       "      <th>user_id</th>\n",
       "      <th>app_code</th>\n",
       "      <th>os_version</th>\n",
       "      <th>is_4G</th>\n",
       "      <th>is_click</th>\n",
       "    </tr>\n",
       "  </thead>\n",
       "  <tbody>\n",
       "    <tr>\n",
       "      <th>0</th>\n",
       "      <td>c4ca4238a0b923820dcc509a6f75849b</td>\n",
       "      <td>2018-11-15 00:00:00</td>\n",
       "      <td>87862</td>\n",
       "      <td>422</td>\n",
       "      <td>old</td>\n",
       "      <td>0</td>\n",
       "      <td>0</td>\n",
       "    </tr>\n",
       "    <tr>\n",
       "      <th>1</th>\n",
       "      <td>45c48cce2e2d7fbdea1afc51c7c6ad26</td>\n",
       "      <td>2018-11-15 00:01:00</td>\n",
       "      <td>63410</td>\n",
       "      <td>467</td>\n",
       "      <td>latest</td>\n",
       "      <td>1</td>\n",
       "      <td>1</td>\n",
       "    </tr>\n",
       "    <tr>\n",
       "      <th>2</th>\n",
       "      <td>70efdf2ec9b086079795c442636b55fb</td>\n",
       "      <td>2018-11-15 00:02:00</td>\n",
       "      <td>71748</td>\n",
       "      <td>259</td>\n",
       "      <td>intermediate</td>\n",
       "      <td>1</td>\n",
       "      <td>0</td>\n",
       "    </tr>\n",
       "    <tr>\n",
       "      <th>3</th>\n",
       "      <td>8e296a067a37563370ded05f5a3bf3ec</td>\n",
       "      <td>2018-11-15 00:02:00</td>\n",
       "      <td>69209</td>\n",
       "      <td>244</td>\n",
       "      <td>latest</td>\n",
       "      <td>1</td>\n",
       "      <td>0</td>\n",
       "    </tr>\n",
       "    <tr>\n",
       "      <th>4</th>\n",
       "      <td>182be0c5cdcd5072bb1864cdee4d3d6e</td>\n",
       "      <td>2018-11-15 00:02:00</td>\n",
       "      <td>62873</td>\n",
       "      <td>473</td>\n",
       "      <td>latest</td>\n",
       "      <td>0</td>\n",
       "      <td>0</td>\n",
       "    </tr>\n",
       "  </tbody>\n",
       "</table>\n",
       "</div>"
      ],
      "text/plain": [
       "                      impression_id      impression_time  ...  is_4G  is_click\n",
       "0  c4ca4238a0b923820dcc509a6f75849b  2018-11-15 00:00:00  ...      0         0\n",
       "1  45c48cce2e2d7fbdea1afc51c7c6ad26  2018-11-15 00:01:00  ...      1         1\n",
       "2  70efdf2ec9b086079795c442636b55fb  2018-11-15 00:02:00  ...      1         0\n",
       "3  8e296a067a37563370ded05f5a3bf3ec  2018-11-15 00:02:00  ...      1         0\n",
       "4  182be0c5cdcd5072bb1864cdee4d3d6e  2018-11-15 00:02:00  ...      0         0\n",
       "\n",
       "[5 rows x 7 columns]"
      ]
     },
     "execution_count": 9,
     "metadata": {
      "tags": []
     },
     "output_type": "execute_result"
    }
   ],
   "source": [
    "train = pd.read_csv(\"train/train.csv\")\n",
    "train.head(5)\n"
   ]
  },
  {
   "cell_type": "code",
   "execution_count": 10,
   "metadata": {
    "colab": {
     "base_uri": "https://localhost:8080/",
     "height": 297
    },
    "colab_type": "code",
    "id": "hg8CaBeFHF3Q",
    "outputId": "6b905899-6fb6-4e20-c536-04b3a7660b81"
   },
   "outputs": [
    {
     "data": {
      "text/html": [
       "<div>\n",
       "<style scoped>\n",
       "    .dataframe tbody tr th:only-of-type {\n",
       "        vertical-align: middle;\n",
       "    }\n",
       "\n",
       "    .dataframe tbody tr th {\n",
       "        vertical-align: top;\n",
       "    }\n",
       "\n",
       "    .dataframe thead th {\n",
       "        text-align: right;\n",
       "    }\n",
       "</style>\n",
       "<table border=\"1\" class=\"dataframe\">\n",
       "  <thead>\n",
       "    <tr style=\"text-align: right;\">\n",
       "      <th></th>\n",
       "      <th>user_id</th>\n",
       "      <th>app_code</th>\n",
       "      <th>is_4G</th>\n",
       "      <th>is_click</th>\n",
       "    </tr>\n",
       "  </thead>\n",
       "  <tbody>\n",
       "    <tr>\n",
       "      <th>count</th>\n",
       "      <td>237609.000000</td>\n",
       "      <td>237609.000000</td>\n",
       "      <td>237609.000000</td>\n",
       "      <td>237609.000000</td>\n",
       "    </tr>\n",
       "    <tr>\n",
       "      <th>mean</th>\n",
       "      <td>46454.526828</td>\n",
       "      <td>249.099971</td>\n",
       "      <td>0.361312</td>\n",
       "      <td>0.045714</td>\n",
       "    </tr>\n",
       "    <tr>\n",
       "      <th>std</th>\n",
       "      <td>26802.726666</td>\n",
       "      <td>135.213609</td>\n",
       "      <td>0.480382</td>\n",
       "      <td>0.208864</td>\n",
       "    </tr>\n",
       "    <tr>\n",
       "      <th>min</th>\n",
       "      <td>0.000000</td>\n",
       "      <td>0.000000</td>\n",
       "      <td>0.000000</td>\n",
       "      <td>0.000000</td>\n",
       "    </tr>\n",
       "    <tr>\n",
       "      <th>25%</th>\n",
       "      <td>23197.000000</td>\n",
       "      <td>163.000000</td>\n",
       "      <td>0.000000</td>\n",
       "      <td>0.000000</td>\n",
       "    </tr>\n",
       "    <tr>\n",
       "      <th>50%</th>\n",
       "      <td>46597.000000</td>\n",
       "      <td>213.000000</td>\n",
       "      <td>0.000000</td>\n",
       "      <td>0.000000</td>\n",
       "    </tr>\n",
       "    <tr>\n",
       "      <th>75%</th>\n",
       "      <td>69684.000000</td>\n",
       "      <td>385.000000</td>\n",
       "      <td>1.000000</td>\n",
       "      <td>0.000000</td>\n",
       "    </tr>\n",
       "    <tr>\n",
       "      <th>max</th>\n",
       "      <td>92586.000000</td>\n",
       "      <td>522.000000</td>\n",
       "      <td>1.000000</td>\n",
       "      <td>1.000000</td>\n",
       "    </tr>\n",
       "  </tbody>\n",
       "</table>\n",
       "</div>"
      ],
      "text/plain": [
       "             user_id       app_code          is_4G       is_click\n",
       "count  237609.000000  237609.000000  237609.000000  237609.000000\n",
       "mean    46454.526828     249.099971       0.361312       0.045714\n",
       "std     26802.726666     135.213609       0.480382       0.208864\n",
       "min         0.000000       0.000000       0.000000       0.000000\n",
       "25%     23197.000000     163.000000       0.000000       0.000000\n",
       "50%     46597.000000     213.000000       0.000000       0.000000\n",
       "75%     69684.000000     385.000000       1.000000       0.000000\n",
       "max     92586.000000     522.000000       1.000000       1.000000"
      ]
     },
     "execution_count": 10,
     "metadata": {
      "tags": []
     },
     "output_type": "execute_result"
    }
   ],
   "source": [
    "train.describe()"
   ]
  },
  {
   "cell_type": "code",
   "execution_count": 11,
   "metadata": {
    "colab": {
     "base_uri": "https://localhost:8080/",
     "height": 331
    },
    "colab_type": "code",
    "id": "3qeSYBEeHbqQ",
    "outputId": "95384e48-032b-4a79-d400-6c57672c97b4"
   },
   "outputs": [
    {
     "data": {
      "text/plain": [
       "0    0.954286\n",
       "1    0.045714\n",
       "Name: is_click, dtype: float64"
      ]
     },
     "execution_count": 11,
     "metadata": {
      "tags": []
     },
     "output_type": "execute_result"
    },
    {
     "data": {
      "image/png": "[encoded data removed]",
      "text/plain": [
       "<Figure size 432x288 with 1 Axes>"
      ]
     },
     "metadata": {
      "tags": []
     },
     "output_type": "display_data"
    }
   ],
   "source": [
    "%matplotlib inline\n",
    "\n",
    "train.groupby('is_click').size().plot(kind = 'bar')\n",
    "rows = train.shape[0]\n",
    "\n",
    "click_through_rate = train['is_click'].value_counts()/rows \n",
    "\n",
    "click_through_rate\n"
   ]
  },
  {
   "cell_type": "code",
   "execution_count": 12,
   "metadata": {
    "colab": {
     "base_uri": "https://localhost:8080/",
     "height": 204
    },
    "colab_type": "code",
    "id": "1NXkkHw-U1gx",
    "outputId": "51bdd08e-7710-4897-a151-26f8ff5e75ad"
   },
   "outputs": [
    {
     "data": {
      "text/html": [
       "<div>\n",
       "<style scoped>\n",
       "    .dataframe tbody tr th:only-of-type {\n",
       "        vertical-align: middle;\n",
       "    }\n",
       "\n",
       "    .dataframe tbody tr th {\n",
       "        vertical-align: top;\n",
       "    }\n",
       "\n",
       "    .dataframe thead th {\n",
       "        text-align: right;\n",
       "    }\n",
       "</style>\n",
       "<table border=\"1\" class=\"dataframe\">\n",
       "  <thead>\n",
       "    <tr style=\"text-align: right;\">\n",
       "      <th></th>\n",
       "      <th>server_time</th>\n",
       "      <th>device_type</th>\n",
       "      <th>session_id</th>\n",
       "      <th>user_id</th>\n",
       "      <th>item_id</th>\n",
       "    </tr>\n",
       "  </thead>\n",
       "  <tbody>\n",
       "    <tr>\n",
       "      <th>0</th>\n",
       "      <td>2018-10-15 08:58:00</td>\n",
       "      <td>android</td>\n",
       "      <td>112333</td>\n",
       "      <td>4557</td>\n",
       "      <td>32970</td>\n",
       "    </tr>\n",
       "    <tr>\n",
       "      <th>1</th>\n",
       "      <td>2018-10-15 08:58:00</td>\n",
       "      <td>android</td>\n",
       "      <td>503590</td>\n",
       "      <td>74788</td>\n",
       "      <td>7640</td>\n",
       "    </tr>\n",
       "    <tr>\n",
       "      <th>2</th>\n",
       "      <td>2018-10-15 08:58:00</td>\n",
       "      <td>android</td>\n",
       "      <td>573960</td>\n",
       "      <td>23628</td>\n",
       "      <td>128855</td>\n",
       "    </tr>\n",
       "    <tr>\n",
       "      <th>3</th>\n",
       "      <td>2018-10-15 08:58:00</td>\n",
       "      <td>android</td>\n",
       "      <td>121691</td>\n",
       "      <td>2430</td>\n",
       "      <td>12774</td>\n",
       "    </tr>\n",
       "    <tr>\n",
       "      <th>4</th>\n",
       "      <td>2018-10-15 08:58:00</td>\n",
       "      <td>android</td>\n",
       "      <td>218564</td>\n",
       "      <td>19227</td>\n",
       "      <td>28296</td>\n",
       "    </tr>\n",
       "  </tbody>\n",
       "</table>\n",
       "</div>"
      ],
      "text/plain": [
       "           server_time device_type  session_id  user_id  item_id\n",
       "0  2018-10-15 08:58:00     android      112333     4557    32970\n",
       "1  2018-10-15 08:58:00     android      503590    74788     7640\n",
       "2  2018-10-15 08:58:00     android      573960    23628   128855\n",
       "3  2018-10-15 08:58:00     android      121691     2430    12774\n",
       "4  2018-10-15 08:58:00     android      218564    19227    28296"
      ]
     },
     "execution_count": 12,
     "metadata": {
      "tags": []
     },
     "output_type": "execute_result"
    }
   ],
   "source": [
    "view_log = pd.read_csv(\"train/view_log.csv\")\n",
    "view_log.head(5)"
   ]
  },
  {
   "cell_type": "code",
   "execution_count": 13,
   "metadata": {
    "colab": {
     "base_uri": "https://localhost:8080/",
     "height": 204
    },
    "colab_type": "code",
    "id": "KRkuXYnRVK_Z",
    "outputId": "15115c8c-84bc-41b1-9b7f-ad38d037ab8c"
   },
   "outputs": [
    {
     "data": {
      "text/html": [
       "<div>\n",
       "<style scoped>\n",
       "    .dataframe tbody tr th:only-of-type {\n",
       "        vertical-align: middle;\n",
       "    }\n",
       "\n",
       "    .dataframe tbody tr th {\n",
       "        vertical-align: top;\n",
       "    }\n",
       "\n",
       "    .dataframe thead th {\n",
       "        text-align: right;\n",
       "    }\n",
       "</style>\n",
       "<table border=\"1\" class=\"dataframe\">\n",
       "  <thead>\n",
       "    <tr style=\"text-align: right;\">\n",
       "      <th></th>\n",
       "      <th>impression_id</th>\n",
       "      <th>impression_time</th>\n",
       "      <th>user_id</th>\n",
       "      <th>app_code</th>\n",
       "      <th>os_version</th>\n",
       "      <th>is_4G</th>\n",
       "    </tr>\n",
       "  </thead>\n",
       "  <tbody>\n",
       "    <tr>\n",
       "      <th>0</th>\n",
       "      <td>a9e7126a585a69a32bc7414e9d0c0ada</td>\n",
       "      <td>2018-12-13 07:44:00</td>\n",
       "      <td>44754</td>\n",
       "      <td>127</td>\n",
       "      <td>latest</td>\n",
       "      <td>1</td>\n",
       "    </tr>\n",
       "    <tr>\n",
       "      <th>1</th>\n",
       "      <td>caac14a5bf2ba283db7708bb34855760</td>\n",
       "      <td>2018-12-13 07:45:00</td>\n",
       "      <td>29656</td>\n",
       "      <td>44</td>\n",
       "      <td>latest</td>\n",
       "      <td>0</td>\n",
       "    </tr>\n",
       "    <tr>\n",
       "      <th>2</th>\n",
       "      <td>13f10ba306a19ce7bec2f3cae507b698</td>\n",
       "      <td>2018-12-13 07:46:00</td>\n",
       "      <td>25234</td>\n",
       "      <td>296</td>\n",
       "      <td>latest</td>\n",
       "      <td>1</td>\n",
       "    </tr>\n",
       "    <tr>\n",
       "      <th>3</th>\n",
       "      <td>39c4b4dc0e9701b55a0a4f072008fb3f</td>\n",
       "      <td>2018-12-13 07:47:00</td>\n",
       "      <td>22988</td>\n",
       "      <td>207</td>\n",
       "      <td>latest</td>\n",
       "      <td>1</td>\n",
       "    </tr>\n",
       "    <tr>\n",
       "      <th>4</th>\n",
       "      <td>bf5a572cca75f5fc67f4b14e58b11d70</td>\n",
       "      <td>2018-12-13 07:48:00</td>\n",
       "      <td>35431</td>\n",
       "      <td>242</td>\n",
       "      <td>latest</td>\n",
       "      <td>1</td>\n",
       "    </tr>\n",
       "  </tbody>\n",
       "</table>\n",
       "</div>"
      ],
      "text/plain": [
       "                      impression_id      impression_time  ...  os_version  is_4G\n",
       "0  a9e7126a585a69a32bc7414e9d0c0ada  2018-12-13 07:44:00  ...      latest      1\n",
       "1  caac14a5bf2ba283db7708bb34855760  2018-12-13 07:45:00  ...      latest      0\n",
       "2  13f10ba306a19ce7bec2f3cae507b698  2018-12-13 07:46:00  ...      latest      1\n",
       "3  39c4b4dc0e9701b55a0a4f072008fb3f  2018-12-13 07:47:00  ...      latest      1\n",
       "4  bf5a572cca75f5fc67f4b14e58b11d70  2018-12-13 07:48:00  ...      latest      1\n",
       "\n",
       "[5 rows x 6 columns]"
      ]
     },
     "execution_count": 13,
     "metadata": {
      "tags": []
     },
     "output_type": "execute_result"
    }
   ],
   "source": [
    "test = pd.read_csv(\"test/test.csv\")\n",
    "test.head(5)"
   ]
  },
  {
   "cell_type": "code",
   "execution_count": 14,
   "metadata": {
    "colab": {
     "base_uri": "https://localhost:8080/",
     "height": 34
    },
    "colab_type": "code",
    "id": "M7_hVMwMV6kZ",
    "outputId": "72e415dd-9afe-4f06-82ae-71cb630ffda4"
   },
   "outputs": [
    {
     "data": {
      "text/plain": [
       "((237609, 7), (132761, 6), (3118622, 5), (90675, 6))"
      ]
     },
     "execution_count": 14,
     "metadata": {
      "tags": []
     },
     "output_type": "execute_result"
    }
   ],
   "source": [
    "train.shape, item.shape, view_log.shape, test.shape"
   ]
  },
  {
   "cell_type": "code",
   "execution_count": 0,
   "metadata": {
    "colab": {},
    "colab_type": "code",
    "id": "T7AhyMfFZs8t"
   },
   "outputs": [],
   "source": [
    "target = train[\"is_click\"] \n",
    "\n",
    "test_1 = test.copy()"
   ]
  },
  {
   "cell_type": "code",
   "execution_count": 0,
   "metadata": {
    "colab": {},
    "colab_type": "code",
    "id": "Zs-GHya-cD0V"
   },
   "outputs": [],
   "source": [
    "ite = pd.merge(train, view_log,  on='user_id', how=\"left\")"
   ]
  },
  {
   "cell_type": "code",
   "execution_count": 17,
   "metadata": {
    "colab": {
     "base_uri": "https://localhost:8080/",
     "height": 309
    },
    "colab_type": "code",
    "id": "N-gKKDLqz5wR",
    "outputId": "4efa453a-d411-4f58-8eee-c6a4f54d12b5"
   },
   "outputs": [
    {
     "data": {
      "text/html": [
       "<div>\n",
       "<style scoped>\n",
       "    .dataframe tbody tr th:only-of-type {\n",
       "        vertical-align: middle;\n",
       "    }\n",
       "\n",
       "    .dataframe tbody tr th {\n",
       "        vertical-align: top;\n",
       "    }\n",
       "\n",
       "    .dataframe thead th {\n",
       "        text-align: right;\n",
       "    }\n",
       "</style>\n",
       "<table border=\"1\" class=\"dataframe\">\n",
       "  <thead>\n",
       "    <tr style=\"text-align: right;\">\n",
       "      <th></th>\n",
       "      <th>impression_id</th>\n",
       "      <th>impression_time</th>\n",
       "      <th>user_id</th>\n",
       "      <th>app_code</th>\n",
       "      <th>os_version</th>\n",
       "      <th>is_4G</th>\n",
       "      <th>is_click</th>\n",
       "      <th>server_time</th>\n",
       "      <th>device_type</th>\n",
       "      <th>session_id</th>\n",
       "      <th>item_id</th>\n",
       "    </tr>\n",
       "  </thead>\n",
       "  <tbody>\n",
       "    <tr>\n",
       "      <th>0</th>\n",
       "      <td>c4ca4238a0b923820dcc509a6f75849b</td>\n",
       "      <td>2018-11-15 00:00:00</td>\n",
       "      <td>87862</td>\n",
       "      <td>422</td>\n",
       "      <td>old</td>\n",
       "      <td>0</td>\n",
       "      <td>0</td>\n",
       "      <td>2018-10-19 18:11:00</td>\n",
       "      <td>android</td>\n",
       "      <td>190710</td>\n",
       "      <td>43886</td>\n",
       "    </tr>\n",
       "    <tr>\n",
       "      <th>1</th>\n",
       "      <td>45c48cce2e2d7fbdea1afc51c7c6ad26</td>\n",
       "      <td>2018-11-15 00:01:00</td>\n",
       "      <td>63410</td>\n",
       "      <td>467</td>\n",
       "      <td>latest</td>\n",
       "      <td>1</td>\n",
       "      <td>1</td>\n",
       "      <td>2018-10-21 06:13:00</td>\n",
       "      <td>android</td>\n",
       "      <td>356854</td>\n",
       "      <td>43209</td>\n",
       "    </tr>\n",
       "    <tr>\n",
       "      <th>2</th>\n",
       "      <td>45c48cce2e2d7fbdea1afc51c7c6ad26</td>\n",
       "      <td>2018-11-15 00:01:00</td>\n",
       "      <td>63410</td>\n",
       "      <td>467</td>\n",
       "      <td>latest</td>\n",
       "      <td>1</td>\n",
       "      <td>1</td>\n",
       "      <td>2018-10-21 06:13:00</td>\n",
       "      <td>android</td>\n",
       "      <td>356854</td>\n",
       "      <td>66370</td>\n",
       "    </tr>\n",
       "    <tr>\n",
       "      <th>3</th>\n",
       "      <td>45c48cce2e2d7fbdea1afc51c7c6ad26</td>\n",
       "      <td>2018-11-15 00:01:00</td>\n",
       "      <td>63410</td>\n",
       "      <td>467</td>\n",
       "      <td>latest</td>\n",
       "      <td>1</td>\n",
       "      <td>1</td>\n",
       "      <td>2018-10-21 17:01:00</td>\n",
       "      <td>android</td>\n",
       "      <td>345289</td>\n",
       "      <td>43209</td>\n",
       "    </tr>\n",
       "    <tr>\n",
       "      <th>4</th>\n",
       "      <td>45c48cce2e2d7fbdea1afc51c7c6ad26</td>\n",
       "      <td>2018-11-15 00:01:00</td>\n",
       "      <td>63410</td>\n",
       "      <td>467</td>\n",
       "      <td>latest</td>\n",
       "      <td>1</td>\n",
       "      <td>1</td>\n",
       "      <td>2018-10-22 09:54:00</td>\n",
       "      <td>android</td>\n",
       "      <td>406658</td>\n",
       "      <td>43209</td>\n",
       "    </tr>\n",
       "  </tbody>\n",
       "</table>\n",
       "</div>"
      ],
      "text/plain": [
       "                      impression_id      impression_time  ...  session_id  item_id\n",
       "0  c4ca4238a0b923820dcc509a6f75849b  2018-11-15 00:00:00  ...      190710    43886\n",
       "1  45c48cce2e2d7fbdea1afc51c7c6ad26  2018-11-15 00:01:00  ...      356854    43209\n",
       "2  45c48cce2e2d7fbdea1afc51c7c6ad26  2018-11-15 00:01:00  ...      356854    66370\n",
       "3  45c48cce2e2d7fbdea1afc51c7c6ad26  2018-11-15 00:01:00  ...      345289    43209\n",
       "4  45c48cce2e2d7fbdea1afc51c7c6ad26  2018-11-15 00:01:00  ...      406658    43209\n",
       "\n",
       "[5 rows x 11 columns]"
      ]
     },
     "execution_count": 17,
     "metadata": {
      "tags": []
     },
     "output_type": "execute_result"
    }
   ],
   "source": [
    "ite.head(5)"
   ]
  },
  {
   "cell_type": "code",
   "execution_count": 18,
   "metadata": {
    "colab": {
     "base_uri": "https://localhost:8080/",
     "height": 34
    },
    "colab_type": "code",
    "id": "oZLt41fTcD9W",
    "outputId": "313ec7a3-961e-48c9-e799-be701ec65c11"
   },
   "outputs": [
    {
     "data": {
      "text/plain": [
       "(11052882, 16)"
      ]
     },
     "execution_count": 18,
     "metadata": {
      "tags": []
     },
     "output_type": "execute_result"
    }
   ],
   "source": [
    "train_data = pd.merge(ite, item, on=\"item_id\", how=\"left\")\n",
    "train_data.shape"
   ]
  },
  {
   "cell_type": "code",
   "execution_count": 19,
   "metadata": {
    "colab": {
     "base_uri": "https://localhost:8080/",
     "height": 213
    },
    "colab_type": "code",
    "id": "dUcDLBSJ0fyo",
    "outputId": "c74c4100-4f50-4bec-e0ca-647e139166ad"
   },
   "outputs": [
    {
     "data": {
      "text/html": [
       "<div>\n",
       "<style scoped>\n",
       "    .dataframe tbody tr th:only-of-type {\n",
       "        vertical-align: middle;\n",
       "    }\n",
       "\n",
       "    .dataframe tbody tr th {\n",
       "        vertical-align: top;\n",
       "    }\n",
       "\n",
       "    .dataframe thead th {\n",
       "        text-align: right;\n",
       "    }\n",
       "</style>\n",
       "<table border=\"1\" class=\"dataframe\">\n",
       "  <thead>\n",
       "    <tr style=\"text-align: right;\">\n",
       "      <th></th>\n",
       "      <th>impression_id</th>\n",
       "      <th>impression_time</th>\n",
       "      <th>user_id</th>\n",
       "      <th>app_code</th>\n",
       "      <th>os_version</th>\n",
       "      <th>is_4G</th>\n",
       "      <th>is_click</th>\n",
       "      <th>server_time</th>\n",
       "      <th>device_type</th>\n",
       "      <th>session_id</th>\n",
       "      <th>item_id</th>\n",
       "      <th>item_price</th>\n",
       "      <th>category_1</th>\n",
       "      <th>category_2</th>\n",
       "      <th>category_3</th>\n",
       "      <th>product_type</th>\n",
       "    </tr>\n",
       "  </thead>\n",
       "  <tbody>\n",
       "    <tr>\n",
       "      <th>0</th>\n",
       "      <td>c4ca4238a0b923820dcc509a6f75849b</td>\n",
       "      <td>2018-11-15 00:00:00</td>\n",
       "      <td>87862</td>\n",
       "      <td>422</td>\n",
       "      <td>old</td>\n",
       "      <td>0</td>\n",
       "      <td>0</td>\n",
       "      <td>2018-10-19 18:11:00</td>\n",
       "      <td>android</td>\n",
       "      <td>190710</td>\n",
       "      <td>43886</td>\n",
       "      <td>2350.0</td>\n",
       "      <td>11.0</td>\n",
       "      <td>35.0</td>\n",
       "      <td>20.0</td>\n",
       "      <td>5622.0</td>\n",
       "    </tr>\n",
       "    <tr>\n",
       "      <th>1</th>\n",
       "      <td>45c48cce2e2d7fbdea1afc51c7c6ad26</td>\n",
       "      <td>2018-11-15 00:01:00</td>\n",
       "      <td>63410</td>\n",
       "      <td>467</td>\n",
       "      <td>latest</td>\n",
       "      <td>1</td>\n",
       "      <td>1</td>\n",
       "      <td>2018-10-21 06:13:00</td>\n",
       "      <td>android</td>\n",
       "      <td>356854</td>\n",
       "      <td>43209</td>\n",
       "      <td>3421.0</td>\n",
       "      <td>4.0</td>\n",
       "      <td>74.0</td>\n",
       "      <td>292.0</td>\n",
       "      <td>577.0</td>\n",
       "    </tr>\n",
       "    <tr>\n",
       "      <th>2</th>\n",
       "      <td>45c48cce2e2d7fbdea1afc51c7c6ad26</td>\n",
       "      <td>2018-11-15 00:01:00</td>\n",
       "      <td>63410</td>\n",
       "      <td>467</td>\n",
       "      <td>latest</td>\n",
       "      <td>1</td>\n",
       "      <td>1</td>\n",
       "      <td>2018-10-21 06:13:00</td>\n",
       "      <td>android</td>\n",
       "      <td>356854</td>\n",
       "      <td>66370</td>\n",
       "      <td>14166.0</td>\n",
       "      <td>4.0</td>\n",
       "      <td>74.0</td>\n",
       "      <td>292.0</td>\n",
       "      <td>3399.0</td>\n",
       "    </tr>\n",
       "  </tbody>\n",
       "</table>\n",
       "</div>"
      ],
      "text/plain": [
       "                      impression_id  ... product_type\n",
       "0  c4ca4238a0b923820dcc509a6f75849b  ...       5622.0\n",
       "1  45c48cce2e2d7fbdea1afc51c7c6ad26  ...        577.0\n",
       "2  45c48cce2e2d7fbdea1afc51c7c6ad26  ...       3399.0\n",
       "\n",
       "[3 rows x 16 columns]"
      ]
     },
     "execution_count": 19,
     "metadata": {
      "tags": []
     },
     "output_type": "execute_result"
    }
   ],
   "source": [
    "train_data.head(3)"
   ]
  },
  {
   "cell_type": "code",
   "execution_count": 0,
   "metadata": {
    "colab": {},
    "colab_type": "code",
    "id": "Iyz-6MDX2l79"
   },
   "outputs": [],
   "source": [
    "#train_data.dropna(inplace=True)"
   ]
  },
  {
   "cell_type": "code",
   "execution_count": 21,
   "metadata": {
    "colab": {
     "base_uri": "https://localhost:8080/",
     "height": 34
    },
    "colab_type": "code",
    "id": "1If2gmuk2wPe",
    "outputId": "237c30bd-0ac3-427c-a891-daa27e056a6d"
   },
   "outputs": [
    {
     "data": {
      "text/plain": [
       "(11052882, 16)"
      ]
     },
     "execution_count": 21,
     "metadata": {
      "tags": []
     },
     "output_type": "execute_result"
    }
   ],
   "source": [
    "train_data.shape"
   ]
  },
  {
   "cell_type": "code",
   "execution_count": 22,
   "metadata": {
    "colab": {
     "base_uri": "https://localhost:8080/",
     "height": 306
    },
    "colab_type": "code",
    "id": "rcC0mupc1VLq",
    "outputId": "bf89ac0d-2dd4-4ce5-c72b-c92f70949856"
   },
   "outputs": [
    {
     "data": {
      "text/plain": [
       "impression_id         0\n",
       "impression_time       0\n",
       "user_id               0\n",
       "app_code              0\n",
       "os_version            0\n",
       "is_4G                 0\n",
       "is_click              0\n",
       "server_time           0\n",
       "device_type           0\n",
       "session_id            0\n",
       "item_id               0\n",
       "item_price         6843\n",
       "category_1         6843\n",
       "category_2         6843\n",
       "category_3         6843\n",
       "product_type       6843\n",
       "dtype: int64"
      ]
     },
     "execution_count": 22,
     "metadata": {
      "tags": []
     },
     "output_type": "execute_result"
    }
   ],
   "source": [
    "train_data.isnull().sum()"
   ]
  },
  {
   "cell_type": "code",
   "execution_count": 0,
   "metadata": {
    "colab": {},
    "colab_type": "code",
    "id": "GJN9NIQL0HyW"
   },
   "outputs": [],
   "source": [
    "#prob = pd.merge(train_data, ite, on=\"item_id\", how=\"left\")"
   ]
  },
  {
   "cell_type": "code",
   "execution_count": 0,
   "metadata": {
    "colab": {},
    "colab_type": "code",
    "id": "wHjfYSjC1__l"
   },
   "outputs": [],
   "source": [
    "#prob = ite[[\"item_id\",\"user_id\"]]\n",
    "#prob_tr = train_data[[\"item_id\", \"is_click\"]]"
   ]
  },
  {
   "cell_type": "code",
   "execution_count": 0,
   "metadata": {
    "colab": {},
    "colab_type": "code",
    "id": "HGMHaSoE4WJW"
   },
   "outputs": [],
   "source": [
    "#prob.shape, prob_tr.shape"
   ]
  },
  {
   "cell_type": "code",
   "execution_count": 0,
   "metadata": {
    "colab": {},
    "colab_type": "code",
    "id": "G_uhsr8o4k5f"
   },
   "outputs": [],
   "source": [
    "#prob.drop_duplicates(subset=[\"item_id\"], keep=\"first\", inplace=True)\n"
   ]
  },
  {
   "cell_type": "code",
   "execution_count": 0,
   "metadata": {
    "colab": {},
    "colab_type": "code",
    "id": "KRllKDwQ3xv1"
   },
   "outputs": [],
   "source": [
    "#prob_cl = pd.merge(prob_tr,prob, on=\"item_id\", how=\"left\")"
   ]
  },
  {
   "cell_type": "code",
   "execution_count": 0,
   "metadata": {
    "colab": {},
    "colab_type": "code",
    "id": "VHJCH8oa5FLI"
   },
   "outputs": [],
   "source": [
    "#prob_cl.shape"
   ]
  },
  {
   "cell_type": "code",
   "execution_count": 0,
   "metadata": {
    "colab": {},
    "colab_type": "code",
    "id": "KWtGAYjb5l2V"
   },
   "outputs": [],
   "source": [
    "#prob = train_data.groupby(prob_cl.item_id).agg({\"is_click\":[\"sum\"]})[\"is_click\"].reset_index()\n",
    "#prob_tr = train_data.groupby(prob_cl.item_id).agg({\"is_click\":[\"count\"]})[\"is_click\"].reset_index()\n",
    "#prob[\"sum\"] = prob[\"sum\"]/prob_tr[\"count\"] \n",
    "#click = prob"
   ]
  },
  {
   "cell_type": "code",
   "execution_count": 29,
   "metadata": {
    "colab": {
     "base_uri": "https://localhost:8080/",
     "height": 51
    },
    "colab_type": "code",
    "id": "Gy0tS5gZwnkZ",
    "outputId": "6e4589d0-9a6c-44d8-9d35-6c87a28a252a"
   },
   "outputs": [
    {
     "data": {
      "text/plain": [
       "True    11052882\n",
       "Name: item_id, dtype: int64"
      ]
     },
     "execution_count": 29,
     "metadata": {
      "tags": []
     },
     "output_type": "execute_result"
    }
   ],
   "source": [
    "train_data[\"item_id\"].isin(ite[\"item_id\"]).value_counts()"
   ]
  },
  {
   "cell_type": "code",
   "execution_count": 30,
   "metadata": {
    "colab": {
     "base_uri": "https://localhost:8080/",
     "height": 51
    },
    "colab_type": "code",
    "id": "6PZCYUN10tiy",
    "outputId": "7ec05b60-f7cc-4059-8961-223155b46b54"
   },
   "outputs": [
    {
     "data": {
      "text/plain": [
       "True    11052882\n",
       "Name: user_id, dtype: int64"
      ]
     },
     "execution_count": 30,
     "metadata": {
      "tags": []
     },
     "output_type": "execute_result"
    }
   ],
   "source": [
    "train_data[\"user_id\"].isin(ite[\"user_id\"]).value_counts()"
   ]
  },
  {
   "cell_type": "code",
   "execution_count": 0,
   "metadata": {
    "colab": {},
    "colab_type": "code",
    "id": "6KufTdpY5_KY"
   },
   "outputs": [],
   "source": [
    "def noon_or(c):\n",
    "  noon_or_not = []\n",
    "  for i in c:\n",
    "    if i>=4 and i<12:\n",
    "      noon_or_not.append(\"morning\")\n",
    "    elif i>=12 and i<20:\n",
    "      noon_or_not.append(\"noon\")\n",
    "     \n",
    "    else:\n",
    "      noon_or_not.append(\"nignt\")\n",
    "  return noon_or_not    "
   ]
  },
  {
   "cell_type": "code",
   "execution_count": 0,
   "metadata": {
    "colab": {},
    "colab_type": "code",
    "id": "8fLmVudA0Lya"
   },
   "outputs": [],
   "source": [
    "#click = train_data.groupby(train_data.category_2).agg({\"is_click\":[\"sum\"]})[\"is_click\"].reset_index()\n",
    "#click1 = train_data.groupby(train_data.category_2).agg({\"is_click\":[\"count\"]})[\"is_click\"].reset_index()\n",
    "#click[\"sum\"] = click[\"sum\"]/click1[\"count\"]"
   ]
  },
  {
   "cell_type": "code",
   "execution_count": 0,
   "metadata": {
    "colab": {},
    "colab_type": "code",
    "id": "1z8h_NsY04PG"
   },
   "outputs": [],
   "source": [
    "#click.head(5)"
   ]
  },
  {
   "cell_type": "code",
   "execution_count": 0,
   "metadata": {
    "colab": {},
    "colab_type": "code",
    "id": "_XwVzk0zFvbm"
   },
   "outputs": [],
   "source": [
    "#click.shape"
   ]
  },
  {
   "cell_type": "code",
   "execution_count": 0,
   "metadata": {
    "colab": {},
    "colab_type": "code",
    "id": "-sBZYePMF2h3"
   },
   "outputs": [],
   "source": [
    "#click[\"sum\"] = click[\"sum\"]/click1[\"count\"] "
   ]
  },
  {
   "cell_type": "code",
   "execution_count": 0,
   "metadata": {
    "colab": {},
    "colab_type": "code",
    "id": "cEJUhdi51Moq"
   },
   "outputs": [],
   "source": [
    "train_data.drop(['is_click'], axis=1, inplace=True)"
   ]
  },
  {
   "cell_type": "code",
   "execution_count": 37,
   "metadata": {
    "colab": {
     "base_uri": "https://localhost:8080/",
     "height": 34
    },
    "colab_type": "code",
    "id": "whCg_bNl0-p2",
    "outputId": "61ece5a5-cfb9-44ce-eb6e-a38040dd08c9"
   },
   "outputs": [
    {
     "name": "stdout",
     "output_type": "stream",
     "text": [
      "(11052882, 16)\n"
     ]
    }
   ],
   "source": [
    "train_1= train_data.groupby(train_data.impression_id).agg({\"impression_id\":[\"count\"]})[\"impression_id\"].reset_index()\n",
    "train_data = pd.merge(train_data, train_1, on=\"impression_id\", how=\"left\")\n",
    "print(train_data.shape)\n",
    "\n",
    "\n"
   ]
  },
  {
   "cell_type": "code",
   "execution_count": 0,
   "metadata": {
    "colab": {},
    "colab_type": "code",
    "id": "C-6C7Cr65bwH"
   },
   "outputs": [],
   "source": [
    "#import datetime\n",
    "#train_data[\"impression_time\"] = pd.to_datetime(train_data[\"impression_time\"])\n",
    "#train_data[\"server_time\"] = pd.to_datetime(train_data[\"server_time\"])\n"
   ]
  },
  {
   "cell_type": "code",
   "execution_count": 0,
   "metadata": {
    "colab": {},
    "colab_type": "code",
    "id": "YOjVsQa75yyD"
   },
   "outputs": [],
   "source": [
    "#train_data['day_imp'] = pd.DatetimeIndex(train_data['impression_time']).day\n",
    "#train_data['day_ser'] = pd.DatetimeIndex(train_data['server_time']).day\n",
    "#train_data['month_imp'] = pd.DatetimeIndex(train_data['impression_time']).month\n",
    "#train_data['month_ser'] = pd.DatetimeIndex(train_data['server_time']).month\n",
    "#train_data['minute_imp'] = pd.DatetimeIndex(train_data['impression_time']).minute\n",
    "#train_data['minute_ser'] = pd.DatetimeIndex(train_data['server_time']).minute\n",
    "#train_data['hour_imp'] = pd.DatetimeIndex(train_data['impression_time']).hour\n",
    "#train_data['hour_ser'] = pd.DatetimeIndex(train_data['server_time']).hour\n"
   ]
  },
  {
   "cell_type": "code",
   "execution_count": 38,
   "metadata": {
    "colab": {
     "base_uri": "https://localhost:8080/",
     "height": 165
    },
    "colab_type": "code",
    "id": "PxkO7WhBBtya",
    "outputId": "31eea7be-5d60-4f25-80b6-0e76c0941f6c"
   },
   "outputs": [
    {
     "data": {
      "text/html": [
       "<div>\n",
       "<style scoped>\n",
       "    .dataframe tbody tr th:only-of-type {\n",
       "        vertical-align: middle;\n",
       "    }\n",
       "\n",
       "    .dataframe tbody tr th {\n",
       "        vertical-align: top;\n",
       "    }\n",
       "\n",
       "    .dataframe thead th {\n",
       "        text-align: right;\n",
       "    }\n",
       "</style>\n",
       "<table border=\"1\" class=\"dataframe\">\n",
       "  <thead>\n",
       "    <tr style=\"text-align: right;\">\n",
       "      <th></th>\n",
       "      <th>impression_id</th>\n",
       "      <th>impression_time</th>\n",
       "      <th>user_id</th>\n",
       "      <th>app_code</th>\n",
       "      <th>os_version</th>\n",
       "      <th>is_4G</th>\n",
       "      <th>server_time</th>\n",
       "      <th>device_type</th>\n",
       "      <th>session_id</th>\n",
       "      <th>item_id</th>\n",
       "      <th>item_price</th>\n",
       "      <th>category_1</th>\n",
       "      <th>category_2</th>\n",
       "      <th>category_3</th>\n",
       "      <th>product_type</th>\n",
       "      <th>count</th>\n",
       "    </tr>\n",
       "  </thead>\n",
       "  <tbody>\n",
       "    <tr>\n",
       "      <th>0</th>\n",
       "      <td>c4ca4238a0b923820dcc509a6f75849b</td>\n",
       "      <td>2018-11-15 00:00:00</td>\n",
       "      <td>87862</td>\n",
       "      <td>422</td>\n",
       "      <td>old</td>\n",
       "      <td>0</td>\n",
       "      <td>2018-10-19 18:11:00</td>\n",
       "      <td>android</td>\n",
       "      <td>190710</td>\n",
       "      <td>43886</td>\n",
       "      <td>2350.0</td>\n",
       "      <td>11.0</td>\n",
       "      <td>35.0</td>\n",
       "      <td>20.0</td>\n",
       "      <td>5622.0</td>\n",
       "      <td>1</td>\n",
       "    </tr>\n",
       "    <tr>\n",
       "      <th>1</th>\n",
       "      <td>45c48cce2e2d7fbdea1afc51c7c6ad26</td>\n",
       "      <td>2018-11-15 00:01:00</td>\n",
       "      <td>63410</td>\n",
       "      <td>467</td>\n",
       "      <td>latest</td>\n",
       "      <td>1</td>\n",
       "      <td>2018-10-21 06:13:00</td>\n",
       "      <td>android</td>\n",
       "      <td>356854</td>\n",
       "      <td>43209</td>\n",
       "      <td>3421.0</td>\n",
       "      <td>4.0</td>\n",
       "      <td>74.0</td>\n",
       "      <td>292.0</td>\n",
       "      <td>577.0</td>\n",
       "      <td>12</td>\n",
       "    </tr>\n",
       "  </tbody>\n",
       "</table>\n",
       "</div>"
      ],
      "text/plain": [
       "                      impression_id      impression_time  ...  product_type  count\n",
       "0  c4ca4238a0b923820dcc509a6f75849b  2018-11-15 00:00:00  ...        5622.0      1\n",
       "1  45c48cce2e2d7fbdea1afc51c7c6ad26  2018-11-15 00:01:00  ...         577.0     12\n",
       "\n",
       "[2 rows x 16 columns]"
      ]
     },
     "execution_count": 38,
     "metadata": {
      "tags": []
     },
     "output_type": "execute_result"
    }
   ],
   "source": [
    "train_data.head(2)"
   ]
  },
  {
   "cell_type": "code",
   "execution_count": 0,
   "metadata": {
    "colab": {},
    "colab_type": "code",
    "id": "QZsju9vW6QwM"
   },
   "outputs": [],
   "source": [
    "#train_data[\"noon_ser\"] = noon_or(train_data[\"hour_ser\"])\n",
    "#train_data[\"noon_imp\"] = noon_or(train_data[\"hour_imp\"])"
   ]
  },
  {
   "cell_type": "code",
   "execution_count": 0,
   "metadata": {
    "colab": {},
    "colab_type": "code",
    "id": "FsS7lDTp6hWZ"
   },
   "outputs": [],
   "source": [
    "#train_1= train_data.groupby(train_data.noon_ser).agg({\"noon_ser\":[\"count\"]})[\"noon_ser\"].reset_index()\n",
    "#train_data = pd.merge(train_data, train_1, on=\"noon_ser\", how=\"left\")\n",
    "\n",
    "#train_1= train_data.groupby(train_data.noon_imp).agg({\"noon_imp\":[\"count\"]})[\"noon_imp\"].reset_index()\n",
    "#train_data = pd.merge(train_data, train_1, on=\"noon_imp\", how=\"left\")\n",
    "\n",
    "#train_1= train_data.groupby(train_data.day_imp).agg({\"day_imp\":[\"count\"]})[\"day_imp\"].reset_index()\n",
    "#train_data = pd.merge(train_data, train_1, on=\"day_imp\", how=\"left\")\n",
    "\n",
    "#train_1= train_data.groupby(train_data.day_ser).agg({\"day_ser\":[\"count\"]})[\"day_ser\"].reset_index()\n",
    "#train_data = pd.merge(train_data, train_1, on=\"day_ser\", how=\"left\")\n",
    "\n",
    "#print(train_data.shape)\n",
    "\n",
    "\n"
   ]
  },
  {
   "cell_type": "code",
   "execution_count": 0,
   "metadata": {
    "colab": {},
    "colab_type": "code",
    "id": "lUjf4QoswQcS"
   },
   "outputs": [],
   "source": [
    "#train_data.drop_duplicates(subset=[\"impression_id\"], keep=\"first\", inplace=True)\n"
   ]
  },
  {
   "cell_type": "code",
   "execution_count": 0,
   "metadata": {
    "colab": {},
    "colab_type": "code",
    "id": "xDNDAZ-VnzBw"
   },
   "outputs": [],
   "source": [
    "#train_data[\"ctr\"] = train_data[\"item_price\"]/train_data[\"count\"]\n",
    "#train_data[\"cat_new1\"] = train_data[\"category_1\"]/train_data[\"count\"]\n",
    "#train_data[\"cat_new2\"] = train_data[\"category_2\"]/train_data[\"count\"]\n",
    "#train_data[\"cat_new3\"] = train_data[\"category_3\"]/train_data[\"count\"]\n",
    "\n",
    "#train_1= train_data.groupby(train_data.app_code).agg({\"app_code\":[\"count\"]})[\"app_code\"].reset_index()\n",
    "#train_data = pd.merge(train_data, train_1, on=\"app_code\", how=\"left\")\n",
    "#print(train_data.shape)\n",
    "\n",
    "#train_1= train_data.groupby(train_data.category_1).agg({\"category_1\":[\"count\"]})[\"category_1\"].reset_index()\n",
    "#train_data = pd.merge(train_data, train_1, on=\"category_1\", how=\"left\")\n",
    "#print(train_data.shape)\n",
    "\n",
    "#train_1= train_data.groupby(train_data.category_2).agg({\"category_2\":[\"count\"]})[\"category_2\"].reset_index()\n",
    "#train_data = pd.merge(train_data, train_1, on=\"category_2\", how=\"left\")\n",
    "#print(train_data.shape)\n",
    "\n",
    "#train_1= train_data.groupby(train_data.category_3).agg({\"category_3\":[\"count\"]})[\"category_3\"].reset_index()\n",
    "#train_data = pd.merge(train_data, train_1, on=\"category_3\", how=\"left\")\n",
    "#print(train_data.shape)\n",
    "\n",
    "#train_1= train_data.groupby(train_data.product_type).agg({\"product_type\":[\"count\"]})[\"product_type\"].reset_index()\n",
    "#train_data = pd.merge(train_data, train_1, on=\"product_type\", how=\"left\")\n",
    "#print(train_data.shape)\n",
    "\n",
    "#train_1= train_data.groupby(train_data.device_type).agg({\"device_type\":[\"count\"]})[\"device_type\"].reset_index()\n",
    "#train_data = pd.merge(train_data, train_1, on=\"device_type\", how=\"left\")\n",
    "#print(train_data.shape)\n",
    "\n",
    "#train_1= train_data.groupby(train_data.os_version).agg({\"os_version\":[\"count\"]})[\"os_version\"].reset_index()\n",
    "#train_data = pd.merge(train_data, train_1, on=\"os_version\", how=\"left\")\n",
    "#print(train_data.shape)\n",
    "\n",
    "#train_1= train_data.groupby(train_data.user_id).agg({\"user_id\":[\"count\"]})[\"user_id\"].reset_index()\n",
    "#train_data = pd.merge(train_data, train_1, on=\"user_id\", how=\"left\")\n",
    "#print(train_data.shape)\n",
    "\n",
    "#train_1= train_data.groupby(train_data.item_id).agg({\"item_id\":[\"count\"]})[\"item_id\"].reset_index()\n",
    "#train_data = pd.merge(train_data, train_1, on=\"item_id\", how=\"left\")\n",
    "#print(train_data.shape)\n",
    "\n",
    "\n",
    "\n",
    "\n"
   ]
  },
  {
   "cell_type": "code",
   "execution_count": 40,
   "metadata": {
    "colab": {
     "base_uri": "https://localhost:8080/",
     "height": 34
    },
    "colab_type": "code",
    "id": "lJe48vDPXjdB",
    "outputId": "a74ebcea-638d-425f-e298-5789b767a4e4"
   },
   "outputs": [
    {
     "data": {
      "text/plain": [
       "(11052882, 16)"
      ]
     },
     "execution_count": 40,
     "metadata": {
      "tags": []
     },
     "output_type": "execute_result"
    }
   ],
   "source": [
    "train_data.shape"
   ]
  },
  {
   "cell_type": "code",
   "execution_count": 0,
   "metadata": {
    "colab": {},
    "colab_type": "code",
    "id": "qsLFODNg70pG"
   },
   "outputs": [],
   "source": [
    "#train_data[\"impression\"] = train_data[\"impression_id\"].value_counts()"
   ]
  },
  {
   "cell_type": "code",
   "execution_count": 42,
   "metadata": {
    "colab": {
     "base_uri": "https://localhost:8080/",
     "height": 309
    },
    "colab_type": "code",
    "id": "PtJRTEQOcsre",
    "outputId": "8f75fb14-b483-4f14-8a04-278505f65cdd"
   },
   "outputs": [
    {
     "data": {
      "text/html": [
       "<div>\n",
       "<style scoped>\n",
       "    .dataframe tbody tr th:only-of-type {\n",
       "        vertical-align: middle;\n",
       "    }\n",
       "\n",
       "    .dataframe tbody tr th {\n",
       "        vertical-align: top;\n",
       "    }\n",
       "\n",
       "    .dataframe thead th {\n",
       "        text-align: right;\n",
       "    }\n",
       "</style>\n",
       "<table border=\"1\" class=\"dataframe\">\n",
       "  <thead>\n",
       "    <tr style=\"text-align: right;\">\n",
       "      <th></th>\n",
       "      <th>impression_id</th>\n",
       "      <th>impression_time</th>\n",
       "      <th>user_id</th>\n",
       "      <th>app_code</th>\n",
       "      <th>os_version</th>\n",
       "      <th>is_4G</th>\n",
       "      <th>server_time</th>\n",
       "      <th>device_type</th>\n",
       "      <th>session_id</th>\n",
       "      <th>item_id</th>\n",
       "      <th>item_price</th>\n",
       "      <th>category_1</th>\n",
       "      <th>category_2</th>\n",
       "      <th>category_3</th>\n",
       "      <th>product_type</th>\n",
       "      <th>count</th>\n",
       "    </tr>\n",
       "  </thead>\n",
       "  <tbody>\n",
       "    <tr>\n",
       "      <th>0</th>\n",
       "      <td>c4ca4238a0b923820dcc509a6f75849b</td>\n",
       "      <td>2018-11-15 00:00:00</td>\n",
       "      <td>87862</td>\n",
       "      <td>422</td>\n",
       "      <td>old</td>\n",
       "      <td>0</td>\n",
       "      <td>2018-10-19 18:11:00</td>\n",
       "      <td>android</td>\n",
       "      <td>190710</td>\n",
       "      <td>43886</td>\n",
       "      <td>2350.0</td>\n",
       "      <td>11.0</td>\n",
       "      <td>35.0</td>\n",
       "      <td>20.0</td>\n",
       "      <td>5622.0</td>\n",
       "      <td>1</td>\n",
       "    </tr>\n",
       "    <tr>\n",
       "      <th>1</th>\n",
       "      <td>45c48cce2e2d7fbdea1afc51c7c6ad26</td>\n",
       "      <td>2018-11-15 00:01:00</td>\n",
       "      <td>63410</td>\n",
       "      <td>467</td>\n",
       "      <td>latest</td>\n",
       "      <td>1</td>\n",
       "      <td>2018-10-21 06:13:00</td>\n",
       "      <td>android</td>\n",
       "      <td>356854</td>\n",
       "      <td>43209</td>\n",
       "      <td>3421.0</td>\n",
       "      <td>4.0</td>\n",
       "      <td>74.0</td>\n",
       "      <td>292.0</td>\n",
       "      <td>577.0</td>\n",
       "      <td>12</td>\n",
       "    </tr>\n",
       "    <tr>\n",
       "      <th>2</th>\n",
       "      <td>45c48cce2e2d7fbdea1afc51c7c6ad26</td>\n",
       "      <td>2018-11-15 00:01:00</td>\n",
       "      <td>63410</td>\n",
       "      <td>467</td>\n",
       "      <td>latest</td>\n",
       "      <td>1</td>\n",
       "      <td>2018-10-21 06:13:00</td>\n",
       "      <td>android</td>\n",
       "      <td>356854</td>\n",
       "      <td>66370</td>\n",
       "      <td>14166.0</td>\n",
       "      <td>4.0</td>\n",
       "      <td>74.0</td>\n",
       "      <td>292.0</td>\n",
       "      <td>3399.0</td>\n",
       "      <td>12</td>\n",
       "    </tr>\n",
       "    <tr>\n",
       "      <th>3</th>\n",
       "      <td>45c48cce2e2d7fbdea1afc51c7c6ad26</td>\n",
       "      <td>2018-11-15 00:01:00</td>\n",
       "      <td>63410</td>\n",
       "      <td>467</td>\n",
       "      <td>latest</td>\n",
       "      <td>1</td>\n",
       "      <td>2018-10-21 17:01:00</td>\n",
       "      <td>android</td>\n",
       "      <td>345289</td>\n",
       "      <td>43209</td>\n",
       "      <td>3421.0</td>\n",
       "      <td>4.0</td>\n",
       "      <td>74.0</td>\n",
       "      <td>292.0</td>\n",
       "      <td>577.0</td>\n",
       "      <td>12</td>\n",
       "    </tr>\n",
       "    <tr>\n",
       "      <th>4</th>\n",
       "      <td>45c48cce2e2d7fbdea1afc51c7c6ad26</td>\n",
       "      <td>2018-11-15 00:01:00</td>\n",
       "      <td>63410</td>\n",
       "      <td>467</td>\n",
       "      <td>latest</td>\n",
       "      <td>1</td>\n",
       "      <td>2018-10-22 09:54:00</td>\n",
       "      <td>android</td>\n",
       "      <td>406658</td>\n",
       "      <td>43209</td>\n",
       "      <td>3421.0</td>\n",
       "      <td>4.0</td>\n",
       "      <td>74.0</td>\n",
       "      <td>292.0</td>\n",
       "      <td>577.0</td>\n",
       "      <td>12</td>\n",
       "    </tr>\n",
       "  </tbody>\n",
       "</table>\n",
       "</div>"
      ],
      "text/plain": [
       "                      impression_id      impression_time  ...  product_type  count\n",
       "0  c4ca4238a0b923820dcc509a6f75849b  2018-11-15 00:00:00  ...        5622.0      1\n",
       "1  45c48cce2e2d7fbdea1afc51c7c6ad26  2018-11-15 00:01:00  ...         577.0     12\n",
       "2  45c48cce2e2d7fbdea1afc51c7c6ad26  2018-11-15 00:01:00  ...        3399.0     12\n",
       "3  45c48cce2e2d7fbdea1afc51c7c6ad26  2018-11-15 00:01:00  ...         577.0     12\n",
       "4  45c48cce2e2d7fbdea1afc51c7c6ad26  2018-11-15 00:01:00  ...         577.0     12\n",
       "\n",
       "[5 rows x 16 columns]"
      ]
     },
     "execution_count": 42,
     "metadata": {
      "tags": []
     },
     "output_type": "execute_result"
    }
   ],
   "source": [
    "train_data.head(5)"
   ]
  },
  {
   "cell_type": "code",
   "execution_count": 43,
   "metadata": {
    "colab": {
     "base_uri": "https://localhost:8080/",
     "height": 51
    },
    "colab_type": "code",
    "id": "AbyWPTPQc0NT",
    "outputId": "5b266f99-a831-43b8-ac5d-605f7f1fb4b1"
   },
   "outputs": [
    {
     "name": "stdout",
     "output_type": "stream",
     "text": [
      "(3871697, 10)\n",
      "(3871697, 15)\n"
     ]
    }
   ],
   "source": [
    "te = pd.merge(test, view_log,  on='user_id', how=\"left\")\n",
    "print(te.shape)\n",
    "test_data = pd.merge(te, item, on=\"item_id\", how=\"left\")\n",
    "print(test_data.shape)\n",
    "#test_data = pd.merge(test_data, item, on=\"item_id\")"
   ]
  },
  {
   "cell_type": "code",
   "execution_count": 44,
   "metadata": {
    "colab": {
     "base_uri": "https://localhost:8080/",
     "height": 68
    },
    "colab_type": "code",
    "id": "XdZTkSEgyWgQ",
    "outputId": "ad1001e0-382f-4e6f-bdbb-993357a3a5be"
   },
   "outputs": [
    {
     "data": {
      "text/plain": [
       "True     3850401\n",
       "False      21296\n",
       "Name: item_id, dtype: int64"
      ]
     },
     "execution_count": 44,
     "metadata": {
      "tags": []
     },
     "output_type": "execute_result"
    }
   ],
   "source": [
    "test_data[\"item_id\"].isin(train_data[\"item_id\"]).value_counts()"
   ]
  },
  {
   "cell_type": "code",
   "execution_count": 45,
   "metadata": {
    "colab": {
     "base_uri": "https://localhost:8080/",
     "height": 68
    },
    "colab_type": "code",
    "id": "1T9tLiUTznse",
    "outputId": "3ea293e4-78c1-4de4-bfb6-060afc2cb078"
   },
   "outputs": [
    {
     "data": {
      "text/plain": [
       "True     3850401\n",
       "False      21296\n",
       "Name: item_id, dtype: int64"
      ]
     },
     "execution_count": 45,
     "metadata": {
      "tags": []
     },
     "output_type": "execute_result"
    }
   ],
   "source": [
    "test_data[\"item_id\"].isin(ite[\"item_id\"]).value_counts()"
   ]
  },
  {
   "cell_type": "code",
   "execution_count": 46,
   "metadata": {
    "colab": {
     "base_uri": "https://localhost:8080/",
     "height": 51
    },
    "colab_type": "code",
    "id": "Jcj1SSm6ztRv",
    "outputId": "e8647ef2-62c8-40ef-ffa2-801ef74f79f9"
   },
   "outputs": [
    {
     "data": {
      "text/plain": [
       "True    3871697\n",
       "Name: item_id, dtype: int64"
      ]
     },
     "execution_count": 46,
     "metadata": {
      "tags": []
     },
     "output_type": "execute_result"
    }
   ],
   "source": [
    "test_data[\"item_id\"].isin(te[\"item_id\"]).value_counts()"
   ]
  },
  {
   "cell_type": "code",
   "execution_count": 47,
   "metadata": {
    "colab": {
     "base_uri": "https://localhost:8080/",
     "height": 51
    },
    "colab_type": "code",
    "id": "aSgGeW9K1AMb",
    "outputId": "0e740ae2-3746-4566-e9fe-9b4a06cff00d"
   },
   "outputs": [
    {
     "data": {
      "text/plain": [
       "True    3871697\n",
       "Name: user_id, dtype: int64"
      ]
     },
     "execution_count": 47,
     "metadata": {
      "tags": []
     },
     "output_type": "execute_result"
    }
   ],
   "source": [
    "test_data[\"user_id\"].isin(te[\"user_id\"]).value_counts()"
   ]
  },
  {
   "cell_type": "code",
   "execution_count": 48,
   "metadata": {
    "colab": {
     "base_uri": "https://localhost:8080/",
     "height": 68
    },
    "colab_type": "code",
    "id": "Iwb9V0x21Gif",
    "outputId": "abda2ff6-2b20-444c-c28b-b72280ee891a"
   },
   "outputs": [
    {
     "data": {
      "text/plain": [
       "True     3145191\n",
       "False     726506\n",
       "Name: user_id, dtype: int64"
      ]
     },
     "execution_count": 48,
     "metadata": {
      "tags": []
     },
     "output_type": "execute_result"
    }
   ],
   "source": [
    "test_data[\"user_id\"].isin(train_data[\"user_id\"]).value_counts()"
   ]
  },
  {
   "cell_type": "code",
   "execution_count": 49,
   "metadata": {
    "colab": {
     "base_uri": "https://localhost:8080/",
     "height": 34
    },
    "colab_type": "code",
    "id": "zAU0helD2bEZ",
    "outputId": "89706b33-b5c0-4ebb-f141-fb883d400a8c"
   },
   "outputs": [
    {
     "name": "stdout",
     "output_type": "stream",
     "text": [
      "(3871697, 16)\n"
     ]
    }
   ],
   "source": [
    "test_2= test_data.groupby(test_data.impression_id).agg({\"impression_id\":[\"count\"]})[\"impression_id\"].reset_index()\n",
    "test_data = pd.merge(test_data, test_2, on=\"impression_id\", how=\"left\")\n",
    "print(test_data.shape)\n",
    "\n"
   ]
  },
  {
   "cell_type": "code",
   "execution_count": 0,
   "metadata": {
    "colab": {},
    "colab_type": "code",
    "id": "r86I75yXaDJo"
   },
   "outputs": [],
   "source": [
    "train_data = pd.concat([train_data,test_data])"
   ]
  },
  {
   "cell_type": "code",
   "execution_count": 0,
   "metadata": {
    "colab": {},
    "colab_type": "code",
    "id": "KZUydhIz7BU6"
   },
   "outputs": [],
   "source": [
    "#test_data[\"impression_time\"] = pd.to_datetime(test_data[\"impression_time\"])\n",
    "#test_data[\"server_time\"] = pd.to_datetime(test_data[\"server_time\"])"
   ]
  },
  {
   "cell_type": "code",
   "execution_count": 0,
   "metadata": {
    "colab": {},
    "colab_type": "code",
    "id": "y4P5KPEa650g"
   },
   "outputs": [],
   "source": [
    "#test_data['day_imp'] = pd.DatetimeIndex(test_data['impression_time']).day\n",
    "#test_data['day_ser'] = pd.DatetimeIndex(test_data['server_time']).day\n",
    "#test_data['month_imp'] = pd.DatetimeIndex(test_data['impression_time']).month\n",
    "#test_data['month_ser'] = pd.DatetimeIndex(test_data['server_time']).month\n",
    "#test_data['minute_imp'] = pd.DatetimeIndex(test_data['impression_time']).minute\n",
    "#test_data['minute_ser'] = pd.DatetimeIndex(test_data['server_time']).minute\n",
    "#test_data['hour_imp'] = pd.DatetimeIndex(test_data['impression_time']).hour\n",
    "#test_data['hour_ser'] = pd.DatetimeIndex(test_data['server_time']).hour\n",
    "\n"
   ]
  },
  {
   "cell_type": "code",
   "execution_count": 0,
   "metadata": {
    "colab": {},
    "colab_type": "code",
    "id": "0DqaO2957Ihw"
   },
   "outputs": [],
   "source": [
    "#test_data[\"noon_ser\"] = noon_or(test_data[\"hour_ser\"])\n",
    "#test_data[\"noon_imp\"] = noon_or(test_data[\"hour_imp\"])\n",
    "\n"
   ]
  },
  {
   "cell_type": "code",
   "execution_count": 0,
   "metadata": {
    "colab": {},
    "colab_type": "code",
    "id": "qXVxkxfU7TYu"
   },
   "outputs": [],
   "source": [
    "#test_2= test_data.groupby(test_data.noon_ser).agg({\"noon_ser\":[\"count\"]})[\"noon_ser\"].reset_index()\n",
    "#test_data = pd.merge(test_data, test_2, on=\"noon_ser\", how=\"left\")\n",
    "#print(test_data.shape)\n",
    "\n",
    "#test_2= test_data.groupby(test_data.noon_imp).agg({\"noon_imp\":[\"count\"]})[\"noon_imp\"].reset_index()\n",
    "#test_data = pd.merge(test_data, test_2, on=\"noon_imp\", how=\"left\")\n",
    "#print(test_data.shape)\n",
    "\n",
    "#test_2= test_data.groupby(test_data.day_imp).agg({\"day_imp\":[\"count\"]})[\"day_imp\"].reset_index()\n",
    "#test_data = pd.merge(test_data, test_2, on=\"day_imp\", how=\"left\")\n",
    "#print(test_data.shape)\n",
    "\n",
    "#test_2= test_data.groupby(test_data.day_ser).agg({\"day_ser\":[\"count\"]})[\"day_ser\"].reset_index()\n",
    "#test_data = pd.merge(test_data, test_2, on=\"day_ser\", how=\"left\")\n",
    "#print(test_data.shape)"
   ]
  },
  {
   "cell_type": "code",
   "execution_count": 53,
   "metadata": {
    "colab": {
     "base_uri": "https://localhost:8080/",
     "height": 34
    },
    "colab_type": "code",
    "id": "C4kjp6hEce3a",
    "outputId": "79b8e782-a2e8-4426-8ca6-59cfa43b6ba3"
   },
   "outputs": [
    {
     "data": {
      "text/plain": [
       "(3871697, 16)"
      ]
     },
     "execution_count": 53,
     "metadata": {
      "tags": []
     },
     "output_type": "execute_result"
    }
   ],
   "source": [
    "\n",
    "test_data.shape"
   ]
  },
  {
   "cell_type": "code",
   "execution_count": 54,
   "metadata": {
    "colab": {
     "base_uri": "https://localhost:8080/",
     "height": 309
    },
    "colab_type": "code",
    "id": "lJm39qp8dGEH",
    "outputId": "8b31bac9-b704-48e2-9b91-a7268828d724"
   },
   "outputs": [
    {
     "data": {
      "text/html": [
       "<div>\n",
       "<style scoped>\n",
       "    .dataframe tbody tr th:only-of-type {\n",
       "        vertical-align: middle;\n",
       "    }\n",
       "\n",
       "    .dataframe tbody tr th {\n",
       "        vertical-align: top;\n",
       "    }\n",
       "\n",
       "    .dataframe thead th {\n",
       "        text-align: right;\n",
       "    }\n",
       "</style>\n",
       "<table border=\"1\" class=\"dataframe\">\n",
       "  <thead>\n",
       "    <tr style=\"text-align: right;\">\n",
       "      <th></th>\n",
       "      <th>impression_id</th>\n",
       "      <th>impression_time</th>\n",
       "      <th>user_id</th>\n",
       "      <th>app_code</th>\n",
       "      <th>os_version</th>\n",
       "      <th>is_4G</th>\n",
       "      <th>server_time</th>\n",
       "      <th>device_type</th>\n",
       "      <th>session_id</th>\n",
       "      <th>item_id</th>\n",
       "      <th>item_price</th>\n",
       "      <th>category_1</th>\n",
       "      <th>category_2</th>\n",
       "      <th>category_3</th>\n",
       "      <th>product_type</th>\n",
       "      <th>count</th>\n",
       "    </tr>\n",
       "  </thead>\n",
       "  <tbody>\n",
       "    <tr>\n",
       "      <th>3871692</th>\n",
       "      <td>539145030fb3600d26d6a64130310035</td>\n",
       "      <td>2018-12-18 23:59:00</td>\n",
       "      <td>82078</td>\n",
       "      <td>242</td>\n",
       "      <td>latest</td>\n",
       "      <td>1</td>\n",
       "      <td>2018-11-30 11:36:00</td>\n",
       "      <td>android</td>\n",
       "      <td>580845</td>\n",
       "      <td>76156</td>\n",
       "      <td>627.0</td>\n",
       "      <td>12.0</td>\n",
       "      <td>57.0</td>\n",
       "      <td>184.0</td>\n",
       "      <td>9622.0</td>\n",
       "      <td>9</td>\n",
       "    </tr>\n",
       "    <tr>\n",
       "      <th>3871693</th>\n",
       "      <td>539145030fb3600d26d6a64130310035</td>\n",
       "      <td>2018-12-18 23:59:00</td>\n",
       "      <td>82078</td>\n",
       "      <td>242</td>\n",
       "      <td>latest</td>\n",
       "      <td>1</td>\n",
       "      <td>2018-12-05 09:43:00</td>\n",
       "      <td>android</td>\n",
       "      <td>997191</td>\n",
       "      <td>2580</td>\n",
       "      <td>5120.0</td>\n",
       "      <td>0.0</td>\n",
       "      <td>45.0</td>\n",
       "      <td>73.0</td>\n",
       "      <td>6718.0</td>\n",
       "      <td>9</td>\n",
       "    </tr>\n",
       "    <tr>\n",
       "      <th>3871694</th>\n",
       "      <td>539145030fb3600d26d6a64130310035</td>\n",
       "      <td>2018-12-18 23:59:00</td>\n",
       "      <td>82078</td>\n",
       "      <td>242</td>\n",
       "      <td>latest</td>\n",
       "      <td>1</td>\n",
       "      <td>2018-12-10 09:49:00</td>\n",
       "      <td>android</td>\n",
       "      <td>266654</td>\n",
       "      <td>70965</td>\n",
       "      <td>3744.0</td>\n",
       "      <td>16.0</td>\n",
       "      <td>56.0</td>\n",
       "      <td>17.0</td>\n",
       "      <td>9227.0</td>\n",
       "      <td>9</td>\n",
       "    </tr>\n",
       "    <tr>\n",
       "      <th>3871695</th>\n",
       "      <td>539145030fb3600d26d6a64130310035</td>\n",
       "      <td>2018-12-18 23:59:00</td>\n",
       "      <td>82078</td>\n",
       "      <td>242</td>\n",
       "      <td>latest</td>\n",
       "      <td>1</td>\n",
       "      <td>2018-12-11 09:53:00</td>\n",
       "      <td>android</td>\n",
       "      <td>994516</td>\n",
       "      <td>70965</td>\n",
       "      <td>3744.0</td>\n",
       "      <td>16.0</td>\n",
       "      <td>56.0</td>\n",
       "      <td>17.0</td>\n",
       "      <td>9227.0</td>\n",
       "      <td>9</td>\n",
       "    </tr>\n",
       "    <tr>\n",
       "      <th>3871696</th>\n",
       "      <td>539145030fb3600d26d6a64130310035</td>\n",
       "      <td>2018-12-18 23:59:00</td>\n",
       "      <td>82078</td>\n",
       "      <td>242</td>\n",
       "      <td>latest</td>\n",
       "      <td>1</td>\n",
       "      <td>2018-12-11 15:47:00</td>\n",
       "      <td>android</td>\n",
       "      <td>57901</td>\n",
       "      <td>35963</td>\n",
       "      <td>22528.0</td>\n",
       "      <td>10.0</td>\n",
       "      <td>63.0</td>\n",
       "      <td>220.0</td>\n",
       "      <td>9959.0</td>\n",
       "      <td>9</td>\n",
       "    </tr>\n",
       "  </tbody>\n",
       "</table>\n",
       "</div>"
      ],
      "text/plain": [
       "                            impression_id  ... count\n",
       "3871692  539145030fb3600d26d6a64130310035  ...     9\n",
       "3871693  539145030fb3600d26d6a64130310035  ...     9\n",
       "3871694  539145030fb3600d26d6a64130310035  ...     9\n",
       "3871695  539145030fb3600d26d6a64130310035  ...     9\n",
       "3871696  539145030fb3600d26d6a64130310035  ...     9\n",
       "\n",
       "[5 rows x 16 columns]"
      ]
     },
     "execution_count": 54,
     "metadata": {
      "tags": []
     },
     "output_type": "execute_result"
    }
   ],
   "source": [
    "test_data.tail(5)"
   ]
  },
  {
   "cell_type": "code",
   "execution_count": 0,
   "metadata": {
    "colab": {},
    "colab_type": "code",
    "id": "g5salSRaru4k"
   },
   "outputs": [],
   "source": [
    "#train_data.drop_duplicates(subset=[\"impression_id\"], keep=\"first\", inplace=True)"
   ]
  },
  {
   "cell_type": "markdown",
   "metadata": {
    "colab_type": "text",
    "id": "rQ4uwpl2Nhd-"
   },
   "source": [
    "# Drop target and merge train and test"
   ]
  },
  {
   "cell_type": "code",
   "execution_count": 0,
   "metadata": {
    "colab": {},
    "colab_type": "code",
    "id": "_MotPxItQIzn"
   },
   "outputs": [],
   "source": []
  },
  {
   "cell_type": "code",
   "execution_count": 0,
   "metadata": {
    "colab": {},
    "colab_type": "code",
    "id": "06XmYr1aQhWD"
   },
   "outputs": [],
   "source": []
  },
  {
   "cell_type": "code",
   "execution_count": 56,
   "metadata": {
    "colab": {
     "base_uri": "https://localhost:8080/",
     "height": 34
    },
    "colab_type": "code",
    "id": "_rjglqrRQhlx",
    "outputId": "091ea5ab-e6ea-4d24-e9b0-c81eceb0003a"
   },
   "outputs": [
    {
     "data": {
      "text/plain": [
       "(14924579, 16)"
      ]
     },
     "execution_count": 56,
     "metadata": {
      "tags": []
     },
     "output_type": "execute_result"
    }
   ],
   "source": [
    "train_data.shape"
   ]
  },
  {
   "cell_type": "code",
   "execution_count": 0,
   "metadata": {
    "colab": {},
    "colab_type": "code",
    "id": "vXNXGju8UVJp"
   },
   "outputs": [],
   "source": [
    "#train_data.reset_index(inplace=True)"
   ]
  },
  {
   "cell_type": "code",
   "execution_count": 58,
   "metadata": {
    "colab": {
     "base_uri": "https://localhost:8080/",
     "height": 165
    },
    "colab_type": "code",
    "id": "SNypQ4R8T9MQ",
    "outputId": "b527e968-497b-4e02-9f2e-1d3ed9d06a39"
   },
   "outputs": [
    {
     "data": {
      "text/html": [
       "<div>\n",
       "<style scoped>\n",
       "    .dataframe tbody tr th:only-of-type {\n",
       "        vertical-align: middle;\n",
       "    }\n",
       "\n",
       "    .dataframe tbody tr th {\n",
       "        vertical-align: top;\n",
       "    }\n",
       "\n",
       "    .dataframe thead th {\n",
       "        text-align: right;\n",
       "    }\n",
       "</style>\n",
       "<table border=\"1\" class=\"dataframe\">\n",
       "  <thead>\n",
       "    <tr style=\"text-align: right;\">\n",
       "      <th></th>\n",
       "      <th>impression_id</th>\n",
       "      <th>impression_time</th>\n",
       "      <th>user_id</th>\n",
       "      <th>app_code</th>\n",
       "      <th>os_version</th>\n",
       "      <th>is_4G</th>\n",
       "      <th>server_time</th>\n",
       "      <th>device_type</th>\n",
       "      <th>session_id</th>\n",
       "      <th>item_id</th>\n",
       "      <th>item_price</th>\n",
       "      <th>category_1</th>\n",
       "      <th>category_2</th>\n",
       "      <th>category_3</th>\n",
       "      <th>product_type</th>\n",
       "      <th>count</th>\n",
       "    </tr>\n",
       "  </thead>\n",
       "  <tbody>\n",
       "    <tr>\n",
       "      <th>3871695</th>\n",
       "      <td>539145030fb3600d26d6a64130310035</td>\n",
       "      <td>2018-12-18 23:59:00</td>\n",
       "      <td>82078</td>\n",
       "      <td>242</td>\n",
       "      <td>latest</td>\n",
       "      <td>1</td>\n",
       "      <td>2018-12-11 09:53:00</td>\n",
       "      <td>android</td>\n",
       "      <td>994516</td>\n",
       "      <td>70965</td>\n",
       "      <td>3744.0</td>\n",
       "      <td>16.0</td>\n",
       "      <td>56.0</td>\n",
       "      <td>17.0</td>\n",
       "      <td>9227.0</td>\n",
       "      <td>9</td>\n",
       "    </tr>\n",
       "    <tr>\n",
       "      <th>3871696</th>\n",
       "      <td>539145030fb3600d26d6a64130310035</td>\n",
       "      <td>2018-12-18 23:59:00</td>\n",
       "      <td>82078</td>\n",
       "      <td>242</td>\n",
       "      <td>latest</td>\n",
       "      <td>1</td>\n",
       "      <td>2018-12-11 15:47:00</td>\n",
       "      <td>android</td>\n",
       "      <td>57901</td>\n",
       "      <td>35963</td>\n",
       "      <td>22528.0</td>\n",
       "      <td>10.0</td>\n",
       "      <td>63.0</td>\n",
       "      <td>220.0</td>\n",
       "      <td>9959.0</td>\n",
       "      <td>9</td>\n",
       "    </tr>\n",
       "  </tbody>\n",
       "</table>\n",
       "</div>"
      ],
      "text/plain": [
       "                            impression_id  ... count\n",
       "3871695  539145030fb3600d26d6a64130310035  ...     9\n",
       "3871696  539145030fb3600d26d6a64130310035  ...     9\n",
       "\n",
       "[2 rows x 16 columns]"
      ]
     },
     "execution_count": 58,
     "metadata": {
      "tags": []
     },
     "output_type": "execute_result"
    }
   ],
   "source": [
    "train_data.tail(2)"
   ]
  },
  {
   "cell_type": "code",
   "execution_count": 59,
   "metadata": {
    "colab": {
     "base_uri": "https://localhost:8080/",
     "height": 204
    },
    "colab_type": "code",
    "id": "uzzBeIJtSpyJ",
    "outputId": "8381d899-115b-460a-a154-4cb39efc0704"
   },
   "outputs": [
    {
     "name": "stdout",
     "output_type": "stream",
     "text": [
      "(14924579, 16)\n",
      "(14924579, 21)\n",
      "(14924579, 22)\n",
      "(14924579, 23)\n",
      "(14924579, 24)\n",
      "(14924579, 25)\n",
      "(14924579, 26)\n",
      "(14924579, 27)\n",
      "(14924579, 28)\n",
      "(14924579, 29)\n",
      "(14924579, 30)\n"
     ]
    }
   ],
   "source": [
    "#train_data = pd.merge(train_data, click, on=\"category_2\", how=\"left\", suffixes=(\"_1\", '_12'))\n",
    "print(train_data.shape)\n",
    "\n",
    "#train_data[\"ctr\"] = train_data[\"sum\"]/train_data[\"count\"]\n",
    "train_data[\"pp\"] = train_data[\"item_price\"]/train_data[\"count\"]\n",
    "train_data[\"cat_new1\"] = train_data[\"category_1\"]/train_data[\"count\"]\n",
    "train_data[\"cat_new2\"] = train_data[\"category_2\"]/train_data[\"count\"]\n",
    "train_data[\"cat_new3\"] = train_data[\"category_3\"]/train_data[\"count\"]\n",
    "\n",
    "\n",
    "train_1= train_data.groupby(train_data.app_code).agg({\"app_code\":[\"count\"]})[\"app_code\"].reset_index()\n",
    "train_data = pd.merge(train_data, train_1, on=\"app_code\", how=\"left\", suffixes=(\"_1\", '_12'))\n",
    "print(train_data.shape)\n",
    "\n",
    "train_1= train_data.groupby(train_data.category_1).agg({\"category_1\":[\"count\"]})[\"category_1\"].reset_index()\n",
    "train_data = pd.merge(train_data, train_1, on=\"category_1\", how=\"left\", suffixes=(\"_3\", '_13'))\n",
    "print(train_data.shape)\n",
    "\n",
    "train_1= train_data.groupby(train_data.category_2).agg({\"category_2\":[\"count\"]})[\"category_2\"].reset_index()\n",
    "train_data = pd.merge(train_data, train_1, on=\"category_2\", how=\"left\", suffixes=(\"_4\", '_14'))\n",
    "print(train_data.shape)\n",
    "\n",
    "train_1= train_data.groupby(train_data.category_3).agg({\"category_3\":[\"count\"]})[\"category_3\"].reset_index()\n",
    "train_data = pd.merge(train_data, train_1, on=\"category_3\", how=\"left\", suffixes=(\"_5\", '_15'))\n",
    "print(train_data.shape)\n",
    "\n",
    "train_1= train_data.groupby(train_data.product_type).agg({\"product_type\":[\"count\"]})[\"product_type\"].reset_index()\n",
    "train_data = pd.merge(train_data, train_1, on=\"product_type\", how=\"left\", suffixes=(\"_6\", '_16'))\n",
    "print(train_data.shape)\n",
    "\n",
    "#train_1= train_data.groupby(train_data.device_type).agg({\"device_type\":[\"count\"]})[\"device_type\"].reset_index()\n",
    "#train_data = pd.merge(train_data, train_1, on=\"device_type\", how=\"left\")\n",
    "#print(train_data.shape)\n",
    "\n",
    "train_1= train_data.groupby(train_data.os_version).agg({\"os_version\":[\"count\"]})[\"os_version\"].reset_index()\n",
    "train_data = pd.merge(train_data, train_1, on=\"os_version\", how=\"left\", suffixes=(\"_7\", '_17'))\n",
    "print(train_data.shape)\n",
    "\n",
    "train_1= train_data.groupby(train_data.user_id).agg({\"user_id\":[\"count\"]})[\"user_id\"].reset_index()\n",
    "train_data = pd.merge(train_data, train_1, on=\"user_id\", how=\"left\", suffixes=(\"_8\", '_18'))\n",
    "print(train_data.shape)\n",
    "\n",
    "train_1= train_data.groupby(train_data.item_id).agg({\"item_id\":[\"count\"]})[\"item_id\"].reset_index()\n",
    "train_data = pd.merge(train_data, train_1, on=\"item_id\", how=\"left\", suffixes=(\"_9\", '_19'))\n",
    "print(train_data.shape)\n",
    "\n",
    "train_1= train_data.groupby(train_data.item_price).agg({\"item_price\":[\"count\"]})[\"item_price\"].reset_index()\n",
    "train_data = pd.merge(train_data, train_1, on=\"item_price\", how=\"left\", suffixes=(\"_20\", '_200'))\n",
    "print(train_data.shape)\n",
    "\n",
    "train_1= train_data.groupby(train_data.session_id).agg({\"session_id\":[\"count\"]})[\"session_id\"].reset_index()\n",
    "train_data = pd.merge(train_data, train_1, on=\"session_id\", how=\"left\", suffixes=(\"21\", '_211'))\n",
    "print(train_data.shape)\n",
    "\n",
    "\n",
    "\n",
    "\n",
    "\n"
   ]
  },
  {
   "cell_type": "code",
   "execution_count": 60,
   "metadata": {
    "colab": {
     "base_uri": "https://localhost:8080/",
     "height": 549
    },
    "colab_type": "code",
    "id": "GQd4p-wxUmhp",
    "outputId": "a4a4ced6-a03b-4a52-b958-ee50d07db5b7"
   },
   "outputs": [
    {
     "data": {
      "text/html": [
       "<div>\n",
       "<style scoped>\n",
       "    .dataframe tbody tr th:only-of-type {\n",
       "        vertical-align: middle;\n",
       "    }\n",
       "\n",
       "    .dataframe tbody tr th {\n",
       "        vertical-align: top;\n",
       "    }\n",
       "\n",
       "    .dataframe thead th {\n",
       "        text-align: right;\n",
       "    }\n",
       "</style>\n",
       "<table border=\"1\" class=\"dataframe\">\n",
       "  <thead>\n",
       "    <tr style=\"text-align: right;\">\n",
       "      <th></th>\n",
       "      <th>impression_id</th>\n",
       "      <th>impression_time</th>\n",
       "      <th>user_id</th>\n",
       "      <th>app_code</th>\n",
       "      <th>os_version</th>\n",
       "      <th>is_4G</th>\n",
       "      <th>server_time</th>\n",
       "      <th>device_type</th>\n",
       "      <th>session_id</th>\n",
       "      <th>item_id</th>\n",
       "      <th>item_price</th>\n",
       "      <th>category_1</th>\n",
       "      <th>category_2</th>\n",
       "      <th>category_3</th>\n",
       "      <th>product_type</th>\n",
       "      <th>count_1</th>\n",
       "      <th>pp</th>\n",
       "      <th>cat_new1</th>\n",
       "      <th>cat_new2</th>\n",
       "      <th>cat_new3</th>\n",
       "      <th>count_12</th>\n",
       "      <th>count_4</th>\n",
       "      <th>count_14</th>\n",
       "      <th>count_6</th>\n",
       "      <th>count_16</th>\n",
       "      <th>count_8</th>\n",
       "      <th>count_18</th>\n",
       "      <th>count_20</th>\n",
       "      <th>count_200</th>\n",
       "      <th>count</th>\n",
       "    </tr>\n",
       "  </thead>\n",
       "  <tbody>\n",
       "    <tr>\n",
       "      <th>0</th>\n",
       "      <td>c4ca4238a0b923820dcc509a6f75849b</td>\n",
       "      <td>2018-11-15 00:00:00</td>\n",
       "      <td>87862</td>\n",
       "      <td>422</td>\n",
       "      <td>old</td>\n",
       "      <td>0</td>\n",
       "      <td>2018-10-19 18:11:00</td>\n",
       "      <td>android</td>\n",
       "      <td>190710</td>\n",
       "      <td>43886</td>\n",
       "      <td>2350.0</td>\n",
       "      <td>11.0</td>\n",
       "      <td>35.0</td>\n",
       "      <td>20.0</td>\n",
       "      <td>5622.0</td>\n",
       "      <td>1</td>\n",
       "      <td>2350.000000</td>\n",
       "      <td>11.000000</td>\n",
       "      <td>35.000000</td>\n",
       "      <td>20.000000</td>\n",
       "      <td>30936</td>\n",
       "      <td>1129976.0</td>\n",
       "      <td>259780.0</td>\n",
       "      <td>125694.0</td>\n",
       "      <td>143701.0</td>\n",
       "      <td>3280315</td>\n",
       "      <td>3</td>\n",
       "      <td>377</td>\n",
       "      <td>995.0</td>\n",
       "      <td>3</td>\n",
       "    </tr>\n",
       "    <tr>\n",
       "      <th>1</th>\n",
       "      <td>45c48cce2e2d7fbdea1afc51c7c6ad26</td>\n",
       "      <td>2018-11-15 00:01:00</td>\n",
       "      <td>63410</td>\n",
       "      <td>467</td>\n",
       "      <td>latest</td>\n",
       "      <td>1</td>\n",
       "      <td>2018-10-21 06:13:00</td>\n",
       "      <td>android</td>\n",
       "      <td>356854</td>\n",
       "      <td>43209</td>\n",
       "      <td>3421.0</td>\n",
       "      <td>4.0</td>\n",
       "      <td>74.0</td>\n",
       "      <td>292.0</td>\n",
       "      <td>577.0</td>\n",
       "      <td>12</td>\n",
       "      <td>285.083333</td>\n",
       "      <td>0.333333</td>\n",
       "      <td>6.166667</td>\n",
       "      <td>24.333333</td>\n",
       "      <td>11867</td>\n",
       "      <td>1397337.0</td>\n",
       "      <td>492090.0</td>\n",
       "      <td>490837.0</td>\n",
       "      <td>1305.0</td>\n",
       "      <td>7844613</td>\n",
       "      <td>732</td>\n",
       "      <td>892</td>\n",
       "      <td>1019.0</td>\n",
       "      <td>122</td>\n",
       "    </tr>\n",
       "    <tr>\n",
       "      <th>2</th>\n",
       "      <td>45c48cce2e2d7fbdea1afc51c7c6ad26</td>\n",
       "      <td>2018-11-15 00:01:00</td>\n",
       "      <td>63410</td>\n",
       "      <td>467</td>\n",
       "      <td>latest</td>\n",
       "      <td>1</td>\n",
       "      <td>2018-10-21 06:13:00</td>\n",
       "      <td>android</td>\n",
       "      <td>356854</td>\n",
       "      <td>66370</td>\n",
       "      <td>14166.0</td>\n",
       "      <td>4.0</td>\n",
       "      <td>74.0</td>\n",
       "      <td>292.0</td>\n",
       "      <td>3399.0</td>\n",
       "      <td>12</td>\n",
       "      <td>1180.500000</td>\n",
       "      <td>0.333333</td>\n",
       "      <td>6.166667</td>\n",
       "      <td>24.333333</td>\n",
       "      <td>11867</td>\n",
       "      <td>1397337.0</td>\n",
       "      <td>492090.0</td>\n",
       "      <td>490837.0</td>\n",
       "      <td>47773.0</td>\n",
       "      <td>7844613</td>\n",
       "      <td>732</td>\n",
       "      <td>350</td>\n",
       "      <td>355.0</td>\n",
       "      <td>122</td>\n",
       "    </tr>\n",
       "    <tr>\n",
       "      <th>3</th>\n",
       "      <td>45c48cce2e2d7fbdea1afc51c7c6ad26</td>\n",
       "      <td>2018-11-15 00:01:00</td>\n",
       "      <td>63410</td>\n",
       "      <td>467</td>\n",
       "      <td>latest</td>\n",
       "      <td>1</td>\n",
       "      <td>2018-10-21 17:01:00</td>\n",
       "      <td>android</td>\n",
       "      <td>345289</td>\n",
       "      <td>43209</td>\n",
       "      <td>3421.0</td>\n",
       "      <td>4.0</td>\n",
       "      <td>74.0</td>\n",
       "      <td>292.0</td>\n",
       "      <td>577.0</td>\n",
       "      <td>12</td>\n",
       "      <td>285.083333</td>\n",
       "      <td>0.333333</td>\n",
       "      <td>6.166667</td>\n",
       "      <td>24.333333</td>\n",
       "      <td>11867</td>\n",
       "      <td>1397337.0</td>\n",
       "      <td>492090.0</td>\n",
       "      <td>490837.0</td>\n",
       "      <td>1305.0</td>\n",
       "      <td>7844613</td>\n",
       "      <td>732</td>\n",
       "      <td>892</td>\n",
       "      <td>1019.0</td>\n",
       "      <td>61</td>\n",
       "    </tr>\n",
       "    <tr>\n",
       "      <th>4</th>\n",
       "      <td>45c48cce2e2d7fbdea1afc51c7c6ad26</td>\n",
       "      <td>2018-11-15 00:01:00</td>\n",
       "      <td>63410</td>\n",
       "      <td>467</td>\n",
       "      <td>latest</td>\n",
       "      <td>1</td>\n",
       "      <td>2018-10-22 09:54:00</td>\n",
       "      <td>android</td>\n",
       "      <td>406658</td>\n",
       "      <td>43209</td>\n",
       "      <td>3421.0</td>\n",
       "      <td>4.0</td>\n",
       "      <td>74.0</td>\n",
       "      <td>292.0</td>\n",
       "      <td>577.0</td>\n",
       "      <td>12</td>\n",
       "      <td>285.083333</td>\n",
       "      <td>0.333333</td>\n",
       "      <td>6.166667</td>\n",
       "      <td>24.333333</td>\n",
       "      <td>11867</td>\n",
       "      <td>1397337.0</td>\n",
       "      <td>492090.0</td>\n",
       "      <td>490837.0</td>\n",
       "      <td>1305.0</td>\n",
       "      <td>7844613</td>\n",
       "      <td>732</td>\n",
       "      <td>892</td>\n",
       "      <td>1019.0</td>\n",
       "      <td>61</td>\n",
       "    </tr>\n",
       "    <tr>\n",
       "      <th>5</th>\n",
       "      <td>45c48cce2e2d7fbdea1afc51c7c6ad26</td>\n",
       "      <td>2018-11-15 00:01:00</td>\n",
       "      <td>63410</td>\n",
       "      <td>467</td>\n",
       "      <td>latest</td>\n",
       "      <td>1</td>\n",
       "      <td>2018-10-24 11:14:00</td>\n",
       "      <td>android</td>\n",
       "      <td>15568</td>\n",
       "      <td>71877</td>\n",
       "      <td>3961.0</td>\n",
       "      <td>10.0</td>\n",
       "      <td>63.0</td>\n",
       "      <td>295.0</td>\n",
       "      <td>2270.0</td>\n",
       "      <td>12</td>\n",
       "      <td>330.083333</td>\n",
       "      <td>0.833333</td>\n",
       "      <td>5.250000</td>\n",
       "      <td>24.583333</td>\n",
       "      <td>11867</td>\n",
       "      <td>831106.0</td>\n",
       "      <td>350728.0</td>\n",
       "      <td>85765.0</td>\n",
       "      <td>40127.0</td>\n",
       "      <td>7844613</td>\n",
       "      <td>732</td>\n",
       "      <td>4510</td>\n",
       "      <td>5073.0</td>\n",
       "      <td>61</td>\n",
       "    </tr>\n",
       "    <tr>\n",
       "      <th>6</th>\n",
       "      <td>45c48cce2e2d7fbdea1afc51c7c6ad26</td>\n",
       "      <td>2018-11-15 00:01:00</td>\n",
       "      <td>63410</td>\n",
       "      <td>467</td>\n",
       "      <td>latest</td>\n",
       "      <td>1</td>\n",
       "      <td>2018-10-25 05:00:00</td>\n",
       "      <td>android</td>\n",
       "      <td>343558</td>\n",
       "      <td>43209</td>\n",
       "      <td>3421.0</td>\n",
       "      <td>4.0</td>\n",
       "      <td>74.0</td>\n",
       "      <td>292.0</td>\n",
       "      <td>577.0</td>\n",
       "      <td>12</td>\n",
       "      <td>285.083333</td>\n",
       "      <td>0.333333</td>\n",
       "      <td>6.166667</td>\n",
       "      <td>24.333333</td>\n",
       "      <td>11867</td>\n",
       "      <td>1397337.0</td>\n",
       "      <td>492090.0</td>\n",
       "      <td>490837.0</td>\n",
       "      <td>1305.0</td>\n",
       "      <td>7844613</td>\n",
       "      <td>732</td>\n",
       "      <td>892</td>\n",
       "      <td>1019.0</td>\n",
       "      <td>122</td>\n",
       "    </tr>\n",
       "    <tr>\n",
       "      <th>7</th>\n",
       "      <td>45c48cce2e2d7fbdea1afc51c7c6ad26</td>\n",
       "      <td>2018-11-15 00:01:00</td>\n",
       "      <td>63410</td>\n",
       "      <td>467</td>\n",
       "      <td>latest</td>\n",
       "      <td>1</td>\n",
       "      <td>2018-10-25 05:03:00</td>\n",
       "      <td>android</td>\n",
       "      <td>343558</td>\n",
       "      <td>43209</td>\n",
       "      <td>3421.0</td>\n",
       "      <td>4.0</td>\n",
       "      <td>74.0</td>\n",
       "      <td>292.0</td>\n",
       "      <td>577.0</td>\n",
       "      <td>12</td>\n",
       "      <td>285.083333</td>\n",
       "      <td>0.333333</td>\n",
       "      <td>6.166667</td>\n",
       "      <td>24.333333</td>\n",
       "      <td>11867</td>\n",
       "      <td>1397337.0</td>\n",
       "      <td>492090.0</td>\n",
       "      <td>490837.0</td>\n",
       "      <td>1305.0</td>\n",
       "      <td>7844613</td>\n",
       "      <td>732</td>\n",
       "      <td>892</td>\n",
       "      <td>1019.0</td>\n",
       "      <td>122</td>\n",
       "    </tr>\n",
       "    <tr>\n",
       "      <th>8</th>\n",
       "      <td>45c48cce2e2d7fbdea1afc51c7c6ad26</td>\n",
       "      <td>2018-11-15 00:01:00</td>\n",
       "      <td>63410</td>\n",
       "      <td>467</td>\n",
       "      <td>latest</td>\n",
       "      <td>1</td>\n",
       "      <td>2018-11-24 05:29:00</td>\n",
       "      <td>android</td>\n",
       "      <td>983607</td>\n",
       "      <td>97274</td>\n",
       "      <td>2630.0</td>\n",
       "      <td>10.0</td>\n",
       "      <td>43.0</td>\n",
       "      <td>223.0</td>\n",
       "      <td>3055.0</td>\n",
       "      <td>12</td>\n",
       "      <td>219.166667</td>\n",
       "      <td>0.833333</td>\n",
       "      <td>3.583333</td>\n",
       "      <td>18.583333</td>\n",
       "      <td>11867</td>\n",
       "      <td>831106.0</td>\n",
       "      <td>480378.0</td>\n",
       "      <td>297202.0</td>\n",
       "      <td>75800.0</td>\n",
       "      <td>7844613</td>\n",
       "      <td>732</td>\n",
       "      <td>3868</td>\n",
       "      <td>3904.0</td>\n",
       "      <td>61</td>\n",
       "    </tr>\n",
       "    <tr>\n",
       "      <th>9</th>\n",
       "      <td>45c48cce2e2d7fbdea1afc51c7c6ad26</td>\n",
       "      <td>2018-11-15 00:01:00</td>\n",
       "      <td>63410</td>\n",
       "      <td>467</td>\n",
       "      <td>latest</td>\n",
       "      <td>1</td>\n",
       "      <td>2018-12-10 19:48:00</td>\n",
       "      <td>android</td>\n",
       "      <td>135003</td>\n",
       "      <td>109074</td>\n",
       "      <td>6330.0</td>\n",
       "      <td>10.0</td>\n",
       "      <td>63.0</td>\n",
       "      <td>295.0</td>\n",
       "      <td>9337.0</td>\n",
       "      <td>12</td>\n",
       "      <td>527.500000</td>\n",
       "      <td>0.833333</td>\n",
       "      <td>5.250000</td>\n",
       "      <td>24.583333</td>\n",
       "      <td>11867</td>\n",
       "      <td>831106.0</td>\n",
       "      <td>350728.0</td>\n",
       "      <td>85765.0</td>\n",
       "      <td>9415.0</td>\n",
       "      <td>7844613</td>\n",
       "      <td>732</td>\n",
       "      <td>9223</td>\n",
       "      <td>9259.0</td>\n",
       "      <td>244</td>\n",
       "    </tr>\n",
       "  </tbody>\n",
       "</table>\n",
       "</div>"
      ],
      "text/plain": [
       "                      impression_id      impression_time  ...  count_200  count\n",
       "0  c4ca4238a0b923820dcc509a6f75849b  2018-11-15 00:00:00  ...      995.0      3\n",
       "1  45c48cce2e2d7fbdea1afc51c7c6ad26  2018-11-15 00:01:00  ...     1019.0    122\n",
       "2  45c48cce2e2d7fbdea1afc51c7c6ad26  2018-11-15 00:01:00  ...      355.0    122\n",
       "3  45c48cce2e2d7fbdea1afc51c7c6ad26  2018-11-15 00:01:00  ...     1019.0     61\n",
       "4  45c48cce2e2d7fbdea1afc51c7c6ad26  2018-11-15 00:01:00  ...     1019.0     61\n",
       "5  45c48cce2e2d7fbdea1afc51c7c6ad26  2018-11-15 00:01:00  ...     5073.0     61\n",
       "6  45c48cce2e2d7fbdea1afc51c7c6ad26  2018-11-15 00:01:00  ...     1019.0    122\n",
       "7  45c48cce2e2d7fbdea1afc51c7c6ad26  2018-11-15 00:01:00  ...     1019.0    122\n",
       "8  45c48cce2e2d7fbdea1afc51c7c6ad26  2018-11-15 00:01:00  ...     3904.0     61\n",
       "9  45c48cce2e2d7fbdea1afc51c7c6ad26  2018-11-15 00:01:00  ...     9259.0    244\n",
       "\n",
       "[10 rows x 30 columns]"
      ]
     },
     "execution_count": 60,
     "metadata": {
      "tags": []
     },
     "output_type": "execute_result"
    }
   ],
   "source": [
    "train_data.head(10)"
   ]
  },
  {
   "cell_type": "code",
   "execution_count": 0,
   "metadata": {
    "colab": {},
    "colab_type": "code",
    "id": "F313vLUVoDIS"
   },
   "outputs": [],
   "source": [
    "#test_data[\"ctr\"] = test_data[\"item_price\"]/test_data[\"count\"]\n",
    "#test_data[\"cat_new1\"] = test_data[\"category_1\"]/test_data[\"count\"]\n",
    "#test_data[\"cat_new2\"] = test_data[\"category_2\"]/test_data[\"count\"]\n",
    "#test_data[\"cat_new3\"] = test_data[\"category_3\"]/test_data[\"count\"]\n",
    "\n",
    "#test_2= test_data.groupby(test_data.app_code).agg({\"app_code\":[\"count\"]})[\"app_code\"].reset_index()\n",
    "#test_data = pd.merge(test_data, test_2, on=\"app_code\", how=\"left\")\n",
    "#print(test_data.shape)\n",
    "\n",
    "#test_2= test_data.groupby(test_data.category_1).agg({\"category_1\":[\"count\"]})[\"category_1\"].reset_index()\n",
    "#test_data = pd.merge(test_data, test_2, on=\"category_1\", how=\"left\")\n",
    "#print(test_data.shape)\n",
    "\n",
    "#test_2= test_data.groupby(test_data.category_2).agg({\"category_2\":[\"count\"]})[\"category_2\"].reset_index()\n",
    "#test_data = pd.merge(test_data, test_2, on=\"category_2\", how=\"left\")\n",
    "#test_2= test_data.groupby(test_data.category_3).agg({\"category_3\":[\"count\"]})[\"category_3\"].reset_index()\n",
    "#test_data = pd.merge(test_data, test_2, on=\"category_3\", how=\"left\")\n",
    "#print(test_data.shape)\n",
    "\n",
    "#test_2= test_data.groupby(test_data.product_type).agg({\"product_type\":[\"count\"]})[\"product_type\"].reset_index()\n",
    "#test_data = pd.merge(test_data, test_2, on=\"product_type\", how=\"left\")\n",
    "#print(test_data.shape)\n",
    "\n",
    "#test_2= test_data.groupby(test_data.device_type).agg({\"device_type\":[\"count\"]})[\"device_type\"].reset_index()\n",
    "#test_data = pd.merge(test_data, test_2, on=\"device_type\", how=\"left\")\n",
    "#print(test_data.shape)\n",
    "\n",
    "#test_2= test_data.groupby(test_data.os_version).agg({\"os_version\":[\"count\"]})[\"os_version\"].reset_index()\n",
    "#test_data = pd.merge(test_data, test_2, on=\"os_version\", how=\"left\")\n",
    "#print(test_data.shape)\n",
    "\n",
    "#test_2= test_data.groupby(test_data.user_id).agg({\"user_id\":[\"count\"]})[\"user_id\"].reset_index()\n",
    "#test_data = pd.merge(test_data, test_2, on=\"user_id\", how=\"left\")\n",
    "#print(test_data.shape)\n",
    "\n",
    "#test_2= test_data.groupby(test_data.item_id).agg({\"item_id\":[\"count\"]})[\"item_id\"].reset_index()\n",
    "#test_data = pd.merge(test_data, test_2, on=\"item_id\", how=\"left\")\n",
    "#print(test_data.shape)\n",
    "\n",
    "\n",
    "\n",
    "\n",
    "\n"
   ]
  },
  {
   "cell_type": "code",
   "execution_count": 61,
   "metadata": {
    "colab": {
     "base_uri": "https://localhost:8080/",
     "height": 34
    },
    "colab_type": "code",
    "id": "x8qERGVOs7zj",
    "outputId": "3cdf2d1a-4ef6-48fe-9c1f-f9dce4e70881"
   },
   "outputs": [
    {
     "data": {
      "text/plain": [
       "(3871697, 16)"
      ]
     },
     "execution_count": 61,
     "metadata": {
      "tags": []
     },
     "output_type": "execute_result"
    }
   ],
   "source": [
    "#test_data = test_data.groupby([\"impression_id\"])\n",
    "test_data.shape"
   ]
  },
  {
   "cell_type": "code",
   "execution_count": 62,
   "metadata": {
    "colab": {
     "base_uri": "https://localhost:8080/",
     "height": 51
    },
    "colab_type": "code",
    "id": "eZnK61wH2Mwb",
    "outputId": "e40362d7-6e7e-4e36-92e0-384d57e3df8c"
   },
   "outputs": [
    {
     "data": {
      "text/plain": [
       "True    3871697\n",
       "Name: os_version, dtype: int64"
      ]
     },
     "execution_count": 62,
     "metadata": {
      "tags": []
     },
     "output_type": "execute_result"
    }
   ],
   "source": [
    "test_data[\"os_version\"].isin(train_data[\"os_version\"]).value_counts()"
   ]
  },
  {
   "cell_type": "code",
   "execution_count": 63,
   "metadata": {
    "colab": {
     "base_uri": "https://localhost:8080/",
     "height": 51
    },
    "colab_type": "code",
    "id": "p_2bCCY22V1T",
    "outputId": "87ccf5ed-c8e5-4e81-8d08-3dea3bc11a3f"
   },
   "outputs": [
    {
     "data": {
      "text/plain": [
       "True    3871697\n",
       "Name: device_type, dtype: int64"
      ]
     },
     "execution_count": 63,
     "metadata": {
      "tags": []
     },
     "output_type": "execute_result"
    }
   ],
   "source": [
    "test_data[\"device_type\"].isin(train_data[\"device_type\"]).value_counts()"
   ]
  },
  {
   "cell_type": "code",
   "execution_count": 64,
   "metadata": {
    "colab": {
     "base_uri": "https://localhost:8080/",
     "height": 51
    },
    "colab_type": "code",
    "id": "pXLqHcXu18Gr",
    "outputId": "68ba39d2-b763-45c0-fa6e-6e3f18c5b46c"
   },
   "outputs": [
    {
     "data": {
      "text/plain": [
       "True    3871697\n",
       "Name: app_code, dtype: int64"
      ]
     },
     "execution_count": 64,
     "metadata": {
      "tags": []
     },
     "output_type": "execute_result"
    }
   ],
   "source": [
    "test_data[\"app_code\"].isin(train_data[\"app_code\"]).value_counts()"
   ]
  },
  {
   "cell_type": "code",
   "execution_count": 65,
   "metadata": {
    "colab": {
     "base_uri": "https://localhost:8080/",
     "height": 51
    },
    "colab_type": "code",
    "id": "XYAtWkrO1qQn",
    "outputId": "10c80c05-5179-49a5-b749-ea931c256563"
   },
   "outputs": [
    {
     "data": {
      "text/plain": [
       "True    3871697\n",
       "Name: user_id, dtype: int64"
      ]
     },
     "execution_count": 65,
     "metadata": {
      "tags": []
     },
     "output_type": "execute_result"
    }
   ],
   "source": [
    "test_data[\"user_id\"].isin(train_data[\"user_id\"]).value_counts()"
   ]
  },
  {
   "cell_type": "code",
   "execution_count": 66,
   "metadata": {
    "colab": {
     "base_uri": "https://localhost:8080/",
     "height": 51
    },
    "colab_type": "code",
    "id": "p0pmYmqf0qTF",
    "outputId": "8e0c401d-8f02-4e60-8b0c-8dfce54c821f"
   },
   "outputs": [
    {
     "data": {
      "text/plain": [
       "True    3871697\n",
       "Name: session_id, dtype: int64"
      ]
     },
     "execution_count": 66,
     "metadata": {
      "tags": []
     },
     "output_type": "execute_result"
    }
   ],
   "source": [
    "test_data[\"session_id\"].isin(train_data[\"session_id\"]).value_counts()"
   ]
  },
  {
   "cell_type": "code",
   "execution_count": 67,
   "metadata": {
    "colab": {
     "base_uri": "https://localhost:8080/",
     "height": 51
    },
    "colab_type": "code",
    "id": "_MFnsEtC05wP",
    "outputId": "d83faa91-8d3e-4a49-ac83-2f434287e369"
   },
   "outputs": [
    {
     "data": {
      "text/plain": [
       "True    3871697\n",
       "Name: item_id, dtype: int64"
      ]
     },
     "execution_count": 67,
     "metadata": {
      "tags": []
     },
     "output_type": "execute_result"
    }
   ],
   "source": [
    "test_data[\"item_id\"].isin(train_data[\"item_id\"]).value_counts()"
   ]
  },
  {
   "cell_type": "code",
   "execution_count": 68,
   "metadata": {
    "colab": {
     "base_uri": "https://localhost:8080/",
     "height": 68
    },
    "colab_type": "code",
    "id": "sDAY8oJc1Ons",
    "outputId": "367e3684-ea6a-43c2-cab0-447dc0dea4b3"
   },
   "outputs": [
    {
     "data": {
      "text/plain": [
       "True     3869280\n",
       "False       2417\n",
       "Name: product_type, dtype: int64"
      ]
     },
     "execution_count": 68,
     "metadata": {
      "tags": []
     },
     "output_type": "execute_result"
    }
   ],
   "source": [
    "test_data[\"product_type\"].isin(train_data[\"product_type\"]).value_counts()"
   ]
  },
  {
   "cell_type": "code",
   "execution_count": 69,
   "metadata": {
    "colab": {
     "base_uri": "https://localhost:8080/",
     "height": 68
    },
    "colab_type": "code",
    "id": "ROYR6BUm1n64",
    "outputId": "817d81ce-ac34-4228-983c-096d20425064"
   },
   "outputs": [
    {
     "data": {
      "text/plain": [
       "True     3869280\n",
       "False       2417\n",
       "Name: category_1, dtype: int64"
      ]
     },
     "execution_count": 69,
     "metadata": {
      "tags": []
     },
     "output_type": "execute_result"
    }
   ],
   "source": [
    "test_data[\"category_1\"].isin(train_data[\"category_1\"]).value_counts()"
   ]
  },
  {
   "cell_type": "code",
   "execution_count": 70,
   "metadata": {
    "colab": {
     "base_uri": "https://localhost:8080/",
     "height": 68
    },
    "colab_type": "code",
    "id": "huSTEJqH1oJ-",
    "outputId": "445d0eca-3e9e-4d09-b3c4-a4b648248bc2"
   },
   "outputs": [
    {
     "data": {
      "text/plain": [
       "True     3869280\n",
       "False       2417\n",
       "Name: category_2, dtype: int64"
      ]
     },
     "execution_count": 70,
     "metadata": {
      "tags": []
     },
     "output_type": "execute_result"
    }
   ],
   "source": [
    "test_data[\"category_2\"].isin(train_data[\"category_2\"]).value_counts()"
   ]
  },
  {
   "cell_type": "code",
   "execution_count": 71,
   "metadata": {
    "colab": {
     "base_uri": "https://localhost:8080/",
     "height": 68
    },
    "colab_type": "code",
    "id": "NUlicVL31oS7",
    "outputId": "b380517f-f9cd-466d-831d-7b4c51765b51"
   },
   "outputs": [
    {
     "data": {
      "text/plain": [
       "True     3869280\n",
       "False       2417\n",
       "Name: category_3, dtype: int64"
      ]
     },
     "execution_count": 71,
     "metadata": {
      "tags": []
     },
     "output_type": "execute_result"
    }
   ],
   "source": [
    "test_data[\"category_3\"].isin(train_data[\"category_3\"]).value_counts()"
   ]
  },
  {
   "cell_type": "code",
   "execution_count": 72,
   "metadata": {
    "colab": {
     "base_uri": "https://localhost:8080/",
     "height": 68
    },
    "colab_type": "code",
    "id": "fOmqtg2j7W3X",
    "outputId": "b0650152-b517-42b1-897c-0d4f5b897bff"
   },
   "outputs": [
    {
     "data": {
      "text/plain": [
       "True     3869280\n",
       "False       2417\n",
       "Name: item_price, dtype: int64"
      ]
     },
     "execution_count": 72,
     "metadata": {
      "tags": []
     },
     "output_type": "execute_result"
    }
   ],
   "source": [
    "test_data[\"item_price\"].isin(train_data[\"item_price\"]).value_counts()"
   ]
  },
  {
   "cell_type": "code",
   "execution_count": 0,
   "metadata": {
    "colab": {},
    "colab_type": "code",
    "id": "rmY6XFVK11CY"
   },
   "outputs": [],
   "source": []
  },
  {
   "cell_type": "code",
   "execution_count": 0,
   "metadata": {
    "colab": {},
    "colab_type": "code",
    "id": "CGx5LDwT11G3"
   },
   "outputs": [],
   "source": []
  },
  {
   "cell_type": "code",
   "execution_count": 73,
   "metadata": {
    "colab": {
     "base_uri": "https://localhost:8080/",
     "height": 309
    },
    "colab_type": "code",
    "id": "7C7qHhWBru7x",
    "outputId": "608a4fdf-02d3-4edf-b5b8-80afc29888d0"
   },
   "outputs": [
    {
     "data": {
      "text/html": [
       "<div>\n",
       "<style scoped>\n",
       "    .dataframe tbody tr th:only-of-type {\n",
       "        vertical-align: middle;\n",
       "    }\n",
       "\n",
       "    .dataframe tbody tr th {\n",
       "        vertical-align: top;\n",
       "    }\n",
       "\n",
       "    .dataframe thead th {\n",
       "        text-align: right;\n",
       "    }\n",
       "</style>\n",
       "<table border=\"1\" class=\"dataframe\">\n",
       "  <thead>\n",
       "    <tr style=\"text-align: right;\">\n",
       "      <th></th>\n",
       "      <th>impression_id</th>\n",
       "      <th>impression_time</th>\n",
       "      <th>user_id</th>\n",
       "      <th>app_code</th>\n",
       "      <th>os_version</th>\n",
       "      <th>is_4G</th>\n",
       "      <th>server_time</th>\n",
       "      <th>device_type</th>\n",
       "      <th>session_id</th>\n",
       "      <th>item_id</th>\n",
       "      <th>item_price</th>\n",
       "      <th>category_1</th>\n",
       "      <th>category_2</th>\n",
       "      <th>category_3</th>\n",
       "      <th>product_type</th>\n",
       "      <th>count</th>\n",
       "    </tr>\n",
       "  </thead>\n",
       "  <tbody>\n",
       "    <tr>\n",
       "      <th>0</th>\n",
       "      <td>a9e7126a585a69a32bc7414e9d0c0ada</td>\n",
       "      <td>2018-12-13 07:44:00</td>\n",
       "      <td>44754</td>\n",
       "      <td>127</td>\n",
       "      <td>latest</td>\n",
       "      <td>1</td>\n",
       "      <td>2018-12-11 19:01:00</td>\n",
       "      <td>android</td>\n",
       "      <td>923045</td>\n",
       "      <td>128995</td>\n",
       "      <td>23424.0</td>\n",
       "      <td>1.0</td>\n",
       "      <td>42.0</td>\n",
       "      <td>220.0</td>\n",
       "      <td>1617.0</td>\n",
       "      <td>1</td>\n",
       "    </tr>\n",
       "    <tr>\n",
       "      <th>1</th>\n",
       "      <td>caac14a5bf2ba283db7708bb34855760</td>\n",
       "      <td>2018-12-13 07:45:00</td>\n",
       "      <td>29656</td>\n",
       "      <td>44</td>\n",
       "      <td>latest</td>\n",
       "      <td>0</td>\n",
       "      <td>2018-10-16 10:47:00</td>\n",
       "      <td>android</td>\n",
       "      <td>368797</td>\n",
       "      <td>55912</td>\n",
       "      <td>1529.0</td>\n",
       "      <td>9.0</td>\n",
       "      <td>44.0</td>\n",
       "      <td>114.0</td>\n",
       "      <td>9857.0</td>\n",
       "      <td>72</td>\n",
       "    </tr>\n",
       "    <tr>\n",
       "      <th>2</th>\n",
       "      <td>caac14a5bf2ba283db7708bb34855760</td>\n",
       "      <td>2018-12-13 07:45:00</td>\n",
       "      <td>29656</td>\n",
       "      <td>44</td>\n",
       "      <td>latest</td>\n",
       "      <td>0</td>\n",
       "      <td>2018-10-16 10:48:00</td>\n",
       "      <td>android</td>\n",
       "      <td>368797</td>\n",
       "      <td>80771</td>\n",
       "      <td>11697.0</td>\n",
       "      <td>9.0</td>\n",
       "      <td>3.0</td>\n",
       "      <td>48.0</td>\n",
       "      <td>6347.0</td>\n",
       "      <td>72</td>\n",
       "    </tr>\n",
       "    <tr>\n",
       "      <th>3</th>\n",
       "      <td>caac14a5bf2ba283db7708bb34855760</td>\n",
       "      <td>2018-12-13 07:45:00</td>\n",
       "      <td>29656</td>\n",
       "      <td>44</td>\n",
       "      <td>latest</td>\n",
       "      <td>0</td>\n",
       "      <td>2018-10-16 10:49:00</td>\n",
       "      <td>android</td>\n",
       "      <td>368797</td>\n",
       "      <td>80771</td>\n",
       "      <td>11697.0</td>\n",
       "      <td>9.0</td>\n",
       "      <td>3.0</td>\n",
       "      <td>48.0</td>\n",
       "      <td>6347.0</td>\n",
       "      <td>72</td>\n",
       "    </tr>\n",
       "    <tr>\n",
       "      <th>4</th>\n",
       "      <td>caac14a5bf2ba283db7708bb34855760</td>\n",
       "      <td>2018-12-13 07:45:00</td>\n",
       "      <td>29656</td>\n",
       "      <td>44</td>\n",
       "      <td>latest</td>\n",
       "      <td>0</td>\n",
       "      <td>2018-10-16 10:54:00</td>\n",
       "      <td>android</td>\n",
       "      <td>368797</td>\n",
       "      <td>8365</td>\n",
       "      <td>18176.0</td>\n",
       "      <td>1.0</td>\n",
       "      <td>42.0</td>\n",
       "      <td>157.0</td>\n",
       "      <td>1617.0</td>\n",
       "      <td>72</td>\n",
       "    </tr>\n",
       "  </tbody>\n",
       "</table>\n",
       "</div>"
      ],
      "text/plain": [
       "                      impression_id      impression_time  ...  product_type  count\n",
       "0  a9e7126a585a69a32bc7414e9d0c0ada  2018-12-13 07:44:00  ...        1617.0      1\n",
       "1  caac14a5bf2ba283db7708bb34855760  2018-12-13 07:45:00  ...        9857.0     72\n",
       "2  caac14a5bf2ba283db7708bb34855760  2018-12-13 07:45:00  ...        6347.0     72\n",
       "3  caac14a5bf2ba283db7708bb34855760  2018-12-13 07:45:00  ...        6347.0     72\n",
       "4  caac14a5bf2ba283db7708bb34855760  2018-12-13 07:45:00  ...        1617.0     72\n",
       "\n",
       "[5 rows x 16 columns]"
      ]
     },
     "execution_count": 73,
     "metadata": {
      "tags": []
     },
     "output_type": "execute_result"
    }
   ],
   "source": [
    "test_data.head(5)"
   ]
  },
  {
   "cell_type": "code",
   "execution_count": 0,
   "metadata": {
    "colab": {},
    "colab_type": "code",
    "id": "J5zp37G_ru_D"
   },
   "outputs": [],
   "source": [
    "#train_data[\"new1\"] = train_data[\"item_price\"]/train_data[\"category_1\"]\n",
    "#train_data[\"new2\"] = train_data[\"item_price\"]/train_data[\"category_2\"]\n",
    "#train_data[\"new3\"] = train_data[\"item_price\"]/train_data[\"category_3\"]\n"
   ]
  },
  {
   "cell_type": "code",
   "execution_count": 0,
   "metadata": {
    "colab": {},
    "colab_type": "code",
    "id": "ErcR39_JiNVb"
   },
   "outputs": [],
   "source": [
    "#test_data[\"cat_new1\"] = (test_data[\"category_1\"]-test_data[\"category_2\"])/test_data[\"category_2\"]\n",
    "#test_data[\"cat_new2\"] = (test_data[\"category_1\"]+test_data[\"category_2\"])/test_data[\"category_1\"]\n",
    "#test_data[\"cat_new3\"] = (test_data[\"category_1\"]-test_data[\"category_3\"])/test_data[\"category_3\"]\n",
    "#test_data[\"cat_new4\"] = (test_data[\"category_1\"]+test_data[\"category_3\"])/test_data[\"category_1\"]\n",
    "#test_data[\"cat_new5\"] = (test_data[\"category_3\"]-test_data[\"category_2\"])/test_data[\"category_2\"]\n",
    "#test_data[\"cat_new6\"] = (test_data[\"category_3\"]+test_data[\"category_2\"])/test_data[\"category_3\"]"
   ]
  },
  {
   "cell_type": "code",
   "execution_count": 0,
   "metadata": {
    "colab": {},
    "colab_type": "code",
    "id": "ZXx3vTIdKsHV"
   },
   "outputs": [],
   "source": [
    "#train_data[\"cat_new1\"] = train_data[\"category_1\"]/train_data[\"count\"]\n",
    "#train_data[\"cat_new2\"] = train_data[\"category_2\"]/train_data[\"count\"]\n",
    "#train_data[\"cat_new3\"] = train_data[\"category_3\"]/train_data[\"count\"]"
   ]
  },
  {
   "cell_type": "code",
   "execution_count": 0,
   "metadata": {
    "colab": {},
    "colab_type": "code",
    "id": "ay3QsBGGKX0Y"
   },
   "outputs": [],
   "source": [
    "#test_data[\"cat_new1\"] = test_data[\"category_1\"]/test_data[\"count\"]\n",
    "#test_data[\"cat_new2\"] = test_data[\"category_2\"]/test_data[\"count\"]\n",
    "#test_data[\"cat_new3\"] = test_data[\"category_3\"]/test_data[\"count\"]"
   ]
  },
  {
   "cell_type": "markdown",
   "metadata": {
    "colab_type": "text",
    "id": "1vFDW6wywYsw"
   },
   "source": [
    "# Price/Count"
   ]
  },
  {
   "cell_type": "code",
   "execution_count": 0,
   "metadata": {
    "colab": {},
    "colab_type": "code",
    "id": "MInu2Nl4wa21"
   },
   "outputs": [],
   "source": [
    "#train_data[\"ctr\"] = train_data[\"item_price\"]/train_data[\"count\"]\n",
    "#test_data[\"ctr\"] = test_data[\"item_price\"]/test_data[\"count\"]"
   ]
  },
  {
   "cell_type": "code",
   "execution_count": 0,
   "metadata": {
    "colab": {},
    "colab_type": "code",
    "id": "smkwxKfXuaK3"
   },
   "outputs": [],
   "source": [
    "#sub.tail(5)"
   ]
  },
  {
   "cell_type": "code",
   "execution_count": 0,
   "metadata": {
    "colab": {},
    "colab_type": "code",
    "id": "EjxeBiaOvmMY"
   },
   "outputs": [],
   "source": [
    "#sub.drop_duplicates(subset=[\"impression_id\"], keep=\"first\", inplace=True)\n",
    "#sub.shape"
   ]
  },
  {
   "cell_type": "markdown",
   "metadata": {
    "colab_type": "text",
    "id": "CycNmZBbM2Fb"
   },
   "source": [
    "# Datetime"
   ]
  },
  {
   "cell_type": "code",
   "execution_count": 80,
   "metadata": {
    "colab": {
     "base_uri": "https://localhost:8080/",
     "height": 213
    },
    "colab_type": "code",
    "id": "SULlp3UWM-BB",
    "outputId": "76dde15b-9608-48a1-a072-320718f690c5"
   },
   "outputs": [
    {
     "data": {
      "text/html": [
       "<div>\n",
       "<style scoped>\n",
       "    .dataframe tbody tr th:only-of-type {\n",
       "        vertical-align: middle;\n",
       "    }\n",
       "\n",
       "    .dataframe tbody tr th {\n",
       "        vertical-align: top;\n",
       "    }\n",
       "\n",
       "    .dataframe thead th {\n",
       "        text-align: right;\n",
       "    }\n",
       "</style>\n",
       "<table border=\"1\" class=\"dataframe\">\n",
       "  <thead>\n",
       "    <tr style=\"text-align: right;\">\n",
       "      <th></th>\n",
       "      <th>impression_id</th>\n",
       "      <th>impression_time</th>\n",
       "      <th>user_id</th>\n",
       "      <th>app_code</th>\n",
       "      <th>os_version</th>\n",
       "      <th>is_4G</th>\n",
       "      <th>server_time</th>\n",
       "      <th>device_type</th>\n",
       "      <th>session_id</th>\n",
       "      <th>item_id</th>\n",
       "      <th>item_price</th>\n",
       "      <th>category_1</th>\n",
       "      <th>category_2</th>\n",
       "      <th>category_3</th>\n",
       "      <th>product_type</th>\n",
       "      <th>count_1</th>\n",
       "      <th>pp</th>\n",
       "      <th>cat_new1</th>\n",
       "      <th>cat_new2</th>\n",
       "      <th>cat_new3</th>\n",
       "      <th>count_12</th>\n",
       "      <th>count_4</th>\n",
       "      <th>count_14</th>\n",
       "      <th>count_6</th>\n",
       "      <th>count_16</th>\n",
       "      <th>count_8</th>\n",
       "      <th>count_18</th>\n",
       "      <th>count_20</th>\n",
       "      <th>count_200</th>\n",
       "      <th>count</th>\n",
       "    </tr>\n",
       "  </thead>\n",
       "  <tbody>\n",
       "    <tr>\n",
       "      <th>0</th>\n",
       "      <td>c4ca4238a0b923820dcc509a6f75849b</td>\n",
       "      <td>2018-11-15 00:00:00</td>\n",
       "      <td>87862</td>\n",
       "      <td>422</td>\n",
       "      <td>old</td>\n",
       "      <td>0</td>\n",
       "      <td>2018-10-19 18:11:00</td>\n",
       "      <td>android</td>\n",
       "      <td>190710</td>\n",
       "      <td>43886</td>\n",
       "      <td>2350.0</td>\n",
       "      <td>11.0</td>\n",
       "      <td>35.0</td>\n",
       "      <td>20.0</td>\n",
       "      <td>5622.0</td>\n",
       "      <td>1</td>\n",
       "      <td>2350.000000</td>\n",
       "      <td>11.000000</td>\n",
       "      <td>35.000000</td>\n",
       "      <td>20.000000</td>\n",
       "      <td>30936</td>\n",
       "      <td>1129976.0</td>\n",
       "      <td>259780.0</td>\n",
       "      <td>125694.0</td>\n",
       "      <td>143701.0</td>\n",
       "      <td>3280315</td>\n",
       "      <td>3</td>\n",
       "      <td>377</td>\n",
       "      <td>995.0</td>\n",
       "      <td>3</td>\n",
       "    </tr>\n",
       "    <tr>\n",
       "      <th>1</th>\n",
       "      <td>45c48cce2e2d7fbdea1afc51c7c6ad26</td>\n",
       "      <td>2018-11-15 00:01:00</td>\n",
       "      <td>63410</td>\n",
       "      <td>467</td>\n",
       "      <td>latest</td>\n",
       "      <td>1</td>\n",
       "      <td>2018-10-21 06:13:00</td>\n",
       "      <td>android</td>\n",
       "      <td>356854</td>\n",
       "      <td>43209</td>\n",
       "      <td>3421.0</td>\n",
       "      <td>4.0</td>\n",
       "      <td>74.0</td>\n",
       "      <td>292.0</td>\n",
       "      <td>577.0</td>\n",
       "      <td>12</td>\n",
       "      <td>285.083333</td>\n",
       "      <td>0.333333</td>\n",
       "      <td>6.166667</td>\n",
       "      <td>24.333333</td>\n",
       "      <td>11867</td>\n",
       "      <td>1397337.0</td>\n",
       "      <td>492090.0</td>\n",
       "      <td>490837.0</td>\n",
       "      <td>1305.0</td>\n",
       "      <td>7844613</td>\n",
       "      <td>732</td>\n",
       "      <td>892</td>\n",
       "      <td>1019.0</td>\n",
       "      <td>122</td>\n",
       "    </tr>\n",
       "    <tr>\n",
       "      <th>2</th>\n",
       "      <td>45c48cce2e2d7fbdea1afc51c7c6ad26</td>\n",
       "      <td>2018-11-15 00:01:00</td>\n",
       "      <td>63410</td>\n",
       "      <td>467</td>\n",
       "      <td>latest</td>\n",
       "      <td>1</td>\n",
       "      <td>2018-10-21 06:13:00</td>\n",
       "      <td>android</td>\n",
       "      <td>356854</td>\n",
       "      <td>66370</td>\n",
       "      <td>14166.0</td>\n",
       "      <td>4.0</td>\n",
       "      <td>74.0</td>\n",
       "      <td>292.0</td>\n",
       "      <td>3399.0</td>\n",
       "      <td>12</td>\n",
       "      <td>1180.500000</td>\n",
       "      <td>0.333333</td>\n",
       "      <td>6.166667</td>\n",
       "      <td>24.333333</td>\n",
       "      <td>11867</td>\n",
       "      <td>1397337.0</td>\n",
       "      <td>492090.0</td>\n",
       "      <td>490837.0</td>\n",
       "      <td>47773.0</td>\n",
       "      <td>7844613</td>\n",
       "      <td>732</td>\n",
       "      <td>350</td>\n",
       "      <td>355.0</td>\n",
       "      <td>122</td>\n",
       "    </tr>\n",
       "  </tbody>\n",
       "</table>\n",
       "</div>"
      ],
      "text/plain": [
       "                      impression_id      impression_time  ...  count_200  count\n",
       "0  c4ca4238a0b923820dcc509a6f75849b  2018-11-15 00:00:00  ...      995.0      3\n",
       "1  45c48cce2e2d7fbdea1afc51c7c6ad26  2018-11-15 00:01:00  ...     1019.0    122\n",
       "2  45c48cce2e2d7fbdea1afc51c7c6ad26  2018-11-15 00:01:00  ...      355.0    122\n",
       "\n",
       "[3 rows x 30 columns]"
      ]
     },
     "execution_count": 80,
     "metadata": {
      "tags": []
     },
     "output_type": "execute_result"
    }
   ],
   "source": [
    "train_data.head(3)"
   ]
  },
  {
   "cell_type": "code",
   "execution_count": 0,
   "metadata": {
    "colab": {},
    "colab_type": "code",
    "id": "ngc25rmdNO59"
   },
   "outputs": [],
   "source": [
    "import datetime\n",
    "train_data[\"impression_time\"] = pd.to_datetime(train_data[\"impression_time\"])\n",
    "train_data[\"server_time\"] = pd.to_datetime(train_data[\"server_time\"])\n",
    "\n",
    "#test_data[\"impression_time\"] = pd.to_datetime(test_data[\"impression_time\"])\n",
    "#test_data[\"server_time\"] = pd.to_datetime(test_data[\"server_time\"])"
   ]
  },
  {
   "cell_type": "code",
   "execution_count": 0,
   "metadata": {
    "colab": {},
    "colab_type": "code",
    "id": "7JzqAEfRN4pG"
   },
   "outputs": [],
   "source": [
    "#train_data['day_imp'] = pd.DatetimeIndex(train_data['impression_time']).day\n",
    "train_data['day_ser'] = pd.DatetimeIndex(train_data['server_time']).day\n",
    "#train_data['week_imp'] = pd.DatetimeIndex(train_data['impression_time']).week\n",
    "train_data['week_ser'] = pd.DatetimeIndex(train_data['server_time']).week\n",
    "#train_data['minute_imp'] = pd.DatetimeIndex(train_data['impression_time']).minute\n",
    "#train_data['minute_ser'] = pd.DatetimeIndex(train_data['server_time']).minute\n",
    "train_data['hour_imp'] = pd.DatetimeIndex(train_data['impression_time']).hour\n",
    "train_data['hour_ser'] = pd.DatetimeIndex(train_data['server_time']).hour\n",
    "train_data['day_week_ser'] = pd.DatetimeIndex(train_data['server_time']).dayofweek\n",
    "train_data['day_week_imp'] = pd.DatetimeIndex(train_data['impression_time']).dayofweek\n",
    "\n",
    "\n",
    "#test_data['day_imp'] = pd.DatetimeIndex(test_data['impression_time']).day\n",
    "#test_data['day_ser'] = pd.DatetimeIndex(test_data['server_time']).day\n",
    "#test_data['week_imp'] = pd.DatetimeIndex(test_data['impression_time']).week\n",
    "#test_data['week_ser'] = pd.DatetimeIndex(test_data['server_time']).week\n",
    "#test_data['minute_imp'] = pd.DatetimeIndex(test_data['impression_time']).minute\n",
    "#test_data['minute_ser'] = pd.DatetimeIndex(test_data['server_time']).minute\n",
    "#test_data['hour_imp'] = pd.DatetimeIndex(test_data['impression_time']).hour\n",
    "#test_data['hour_ser'] = pd.DatetimeIndex(test_data['server_time']).hour\n",
    "#test_data['day_week_ser'] = pd.DatetimeIndex(test_data['server_time']).dayofweek\n",
    "#test_data['day_week_imp'] = pd.DatetimeIndex(test_data['impression_time']).dayofweek\n",
    "\n",
    "\n",
    "\n",
    "\n",
    "\n"
   ]
  },
  {
   "cell_type": "code",
   "execution_count": 83,
   "metadata": {
    "colab": {
     "base_uri": "https://localhost:8080/",
     "height": 309
    },
    "colab_type": "code",
    "id": "7VpYwmD5LR4U",
    "outputId": "28bcc16d-7073-4880-9a83-42c03c95788f"
   },
   "outputs": [
    {
     "data": {
      "text/html": [
       "<div>\n",
       "<style scoped>\n",
       "    .dataframe tbody tr th:only-of-type {\n",
       "        vertical-align: middle;\n",
       "    }\n",
       "\n",
       "    .dataframe tbody tr th {\n",
       "        vertical-align: top;\n",
       "    }\n",
       "\n",
       "    .dataframe thead th {\n",
       "        text-align: right;\n",
       "    }\n",
       "</style>\n",
       "<table border=\"1\" class=\"dataframe\">\n",
       "  <thead>\n",
       "    <tr style=\"text-align: right;\">\n",
       "      <th></th>\n",
       "      <th>impression_id</th>\n",
       "      <th>impression_time</th>\n",
       "      <th>user_id</th>\n",
       "      <th>app_code</th>\n",
       "      <th>os_version</th>\n",
       "      <th>is_4G</th>\n",
       "      <th>server_time</th>\n",
       "      <th>device_type</th>\n",
       "      <th>session_id</th>\n",
       "      <th>item_id</th>\n",
       "      <th>item_price</th>\n",
       "      <th>category_1</th>\n",
       "      <th>category_2</th>\n",
       "      <th>category_3</th>\n",
       "      <th>product_type</th>\n",
       "      <th>count_1</th>\n",
       "      <th>pp</th>\n",
       "      <th>cat_new1</th>\n",
       "      <th>cat_new2</th>\n",
       "      <th>cat_new3</th>\n",
       "      <th>count_12</th>\n",
       "      <th>count_4</th>\n",
       "      <th>count_14</th>\n",
       "      <th>count_6</th>\n",
       "      <th>count_16</th>\n",
       "      <th>count_8</th>\n",
       "      <th>count_18</th>\n",
       "      <th>count_20</th>\n",
       "      <th>count_200</th>\n",
       "      <th>count</th>\n",
       "      <th>day_ser</th>\n",
       "      <th>week_ser</th>\n",
       "      <th>hour_imp</th>\n",
       "      <th>hour_ser</th>\n",
       "      <th>day_week_ser</th>\n",
       "      <th>day_week_imp</th>\n",
       "    </tr>\n",
       "  </thead>\n",
       "  <tbody>\n",
       "    <tr>\n",
       "      <th>14924574</th>\n",
       "      <td>539145030fb3600d26d6a64130310035</td>\n",
       "      <td>2018-12-18 23:59:00</td>\n",
       "      <td>82078</td>\n",
       "      <td>242</td>\n",
       "      <td>latest</td>\n",
       "      <td>1</td>\n",
       "      <td>2018-11-30 11:36:00</td>\n",
       "      <td>android</td>\n",
       "      <td>580845</td>\n",
       "      <td>76156</td>\n",
       "      <td>627.0</td>\n",
       "      <td>12.0</td>\n",
       "      <td>57.0</td>\n",
       "      <td>184.0</td>\n",
       "      <td>9622.0</td>\n",
       "      <td>9</td>\n",
       "      <td>69.666667</td>\n",
       "      <td>1.333333</td>\n",
       "      <td>6.333333</td>\n",
       "      <td>20.444444</td>\n",
       "      <td>175445</td>\n",
       "      <td>656338.0</td>\n",
       "      <td>620216.0</td>\n",
       "      <td>55302.0</td>\n",
       "      <td>31553.0</td>\n",
       "      <td>7844613</td>\n",
       "      <td>153</td>\n",
       "      <td>31518</td>\n",
       "      <td>78598.0</td>\n",
       "      <td>85</td>\n",
       "      <td>30</td>\n",
       "      <td>48</td>\n",
       "      <td>23</td>\n",
       "      <td>11</td>\n",
       "      <td>4</td>\n",
       "      <td>1</td>\n",
       "    </tr>\n",
       "    <tr>\n",
       "      <th>14924575</th>\n",
       "      <td>539145030fb3600d26d6a64130310035</td>\n",
       "      <td>2018-12-18 23:59:00</td>\n",
       "      <td>82078</td>\n",
       "      <td>242</td>\n",
       "      <td>latest</td>\n",
       "      <td>1</td>\n",
       "      <td>2018-12-05 09:43:00</td>\n",
       "      <td>android</td>\n",
       "      <td>997191</td>\n",
       "      <td>2580</td>\n",
       "      <td>5120.0</td>\n",
       "      <td>0.0</td>\n",
       "      <td>45.0</td>\n",
       "      <td>73.0</td>\n",
       "      <td>6718.0</td>\n",
       "      <td>9</td>\n",
       "      <td>568.888889</td>\n",
       "      <td>0.000000</td>\n",
       "      <td>5.000000</td>\n",
       "      <td>8.111111</td>\n",
       "      <td>175445</td>\n",
       "      <td>570413.0</td>\n",
       "      <td>346221.0</td>\n",
       "      <td>184607.0</td>\n",
       "      <td>29687.0</td>\n",
       "      <td>7844613</td>\n",
       "      <td>153</td>\n",
       "      <td>24459</td>\n",
       "      <td>31058.0</td>\n",
       "      <td>17</td>\n",
       "      <td>5</td>\n",
       "      <td>49</td>\n",
       "      <td>23</td>\n",
       "      <td>9</td>\n",
       "      <td>2</td>\n",
       "      <td>1</td>\n",
       "    </tr>\n",
       "    <tr>\n",
       "      <th>14924576</th>\n",
       "      <td>539145030fb3600d26d6a64130310035</td>\n",
       "      <td>2018-12-18 23:59:00</td>\n",
       "      <td>82078</td>\n",
       "      <td>242</td>\n",
       "      <td>latest</td>\n",
       "      <td>1</td>\n",
       "      <td>2018-12-10 09:49:00</td>\n",
       "      <td>android</td>\n",
       "      <td>266654</td>\n",
       "      <td>70965</td>\n",
       "      <td>3744.0</td>\n",
       "      <td>16.0</td>\n",
       "      <td>56.0</td>\n",
       "      <td>17.0</td>\n",
       "      <td>9227.0</td>\n",
       "      <td>9</td>\n",
       "      <td>416.000000</td>\n",
       "      <td>1.777778</td>\n",
       "      <td>6.222222</td>\n",
       "      <td>1.888889</td>\n",
       "      <td>175445</td>\n",
       "      <td>613022.0</td>\n",
       "      <td>186073.0</td>\n",
       "      <td>43999.0</td>\n",
       "      <td>29680.0</td>\n",
       "      <td>7844613</td>\n",
       "      <td>153</td>\n",
       "      <td>19716</td>\n",
       "      <td>25016.0</td>\n",
       "      <td>17</td>\n",
       "      <td>10</td>\n",
       "      <td>50</td>\n",
       "      <td>23</td>\n",
       "      <td>9</td>\n",
       "      <td>0</td>\n",
       "      <td>1</td>\n",
       "    </tr>\n",
       "    <tr>\n",
       "      <th>14924577</th>\n",
       "      <td>539145030fb3600d26d6a64130310035</td>\n",
       "      <td>2018-12-18 23:59:00</td>\n",
       "      <td>82078</td>\n",
       "      <td>242</td>\n",
       "      <td>latest</td>\n",
       "      <td>1</td>\n",
       "      <td>2018-12-11 09:53:00</td>\n",
       "      <td>android</td>\n",
       "      <td>994516</td>\n",
       "      <td>70965</td>\n",
       "      <td>3744.0</td>\n",
       "      <td>16.0</td>\n",
       "      <td>56.0</td>\n",
       "      <td>17.0</td>\n",
       "      <td>9227.0</td>\n",
       "      <td>9</td>\n",
       "      <td>416.000000</td>\n",
       "      <td>1.777778</td>\n",
       "      <td>6.222222</td>\n",
       "      <td>1.888889</td>\n",
       "      <td>175445</td>\n",
       "      <td>613022.0</td>\n",
       "      <td>186073.0</td>\n",
       "      <td>43999.0</td>\n",
       "      <td>29680.0</td>\n",
       "      <td>7844613</td>\n",
       "      <td>153</td>\n",
       "      <td>19716</td>\n",
       "      <td>25016.0</td>\n",
       "      <td>17</td>\n",
       "      <td>11</td>\n",
       "      <td>50</td>\n",
       "      <td>23</td>\n",
       "      <td>9</td>\n",
       "      <td>1</td>\n",
       "      <td>1</td>\n",
       "    </tr>\n",
       "    <tr>\n",
       "      <th>14924578</th>\n",
       "      <td>539145030fb3600d26d6a64130310035</td>\n",
       "      <td>2018-12-18 23:59:00</td>\n",
       "      <td>82078</td>\n",
       "      <td>242</td>\n",
       "      <td>latest</td>\n",
       "      <td>1</td>\n",
       "      <td>2018-12-11 15:47:00</td>\n",
       "      <td>android</td>\n",
       "      <td>57901</td>\n",
       "      <td>35963</td>\n",
       "      <td>22528.0</td>\n",
       "      <td>10.0</td>\n",
       "      <td>63.0</td>\n",
       "      <td>220.0</td>\n",
       "      <td>9959.0</td>\n",
       "      <td>9</td>\n",
       "      <td>2503.111111</td>\n",
       "      <td>1.111111</td>\n",
       "      <td>7.000000</td>\n",
       "      <td>24.444444</td>\n",
       "      <td>175445</td>\n",
       "      <td>831106.0</td>\n",
       "      <td>350728.0</td>\n",
       "      <td>217217.0</td>\n",
       "      <td>74867.0</td>\n",
       "      <td>7844613</td>\n",
       "      <td>153</td>\n",
       "      <td>16272</td>\n",
       "      <td>16498.0</td>\n",
       "      <td>17</td>\n",
       "      <td>11</td>\n",
       "      <td>50</td>\n",
       "      <td>23</td>\n",
       "      <td>15</td>\n",
       "      <td>1</td>\n",
       "      <td>1</td>\n",
       "    </tr>\n",
       "  </tbody>\n",
       "</table>\n",
       "</div>"
      ],
      "text/plain": [
       "                             impression_id  ... day_week_imp\n",
       "14924574  539145030fb3600d26d6a64130310035  ...            1\n",
       "14924575  539145030fb3600d26d6a64130310035  ...            1\n",
       "14924576  539145030fb3600d26d6a64130310035  ...            1\n",
       "14924577  539145030fb3600d26d6a64130310035  ...            1\n",
       "14924578  539145030fb3600d26d6a64130310035  ...            1\n",
       "\n",
       "[5 rows x 36 columns]"
      ]
     },
     "execution_count": 83,
     "metadata": {
      "tags": []
     },
     "output_type": "execute_result"
    }
   ],
   "source": [
    "train_data.tail(5)"
   ]
  },
  {
   "cell_type": "code",
   "execution_count": 84,
   "metadata": {
    "colab": {
     "base_uri": "https://localhost:8080/",
     "height": 34
    },
    "colab_type": "code",
    "id": "MZpsoUlRRtW3",
    "outputId": "bcdd5dc7-f68c-49ce-8a90-18b16e152241"
   },
   "outputs": [
    {
     "data": {
      "text/plain": [
       "'\\nTaking into account just the CLICKS \\n'"
      ]
     },
     "execution_count": 84,
     "metadata": {
      "tags": []
     },
     "output_type": "execute_result"
    }
   ],
   "source": [
    "'''\n",
    "Taking into account just the CLICKS \n",
    "'''\n",
    "#item_df = pd.DataFrame() \n",
    "#item_df['pos_clicks'] = train_data[['item_id','is_click']].groupby(['item_id']).count().reset_index().sort_values('is_click',ascending=False)['is_click']\n",
    "            \n",
    "#item_df"
   ]
  },
  {
   "cell_type": "code",
   "execution_count": 85,
   "metadata": {
    "colab": {
     "base_uri": "https://localhost:8080/",
     "height": 34
    },
    "colab_type": "code",
    "id": "WAnpGzokRVd0",
    "outputId": "76759dc3-78da-4e79-89c2-c8a211441922"
   },
   "outputs": [
    {
     "data": {
      "text/plain": [
       "'\\nTaking into account just the CLICKS \\n'"
      ]
     },
     "execution_count": 85,
     "metadata": {
      "tags": []
     },
     "output_type": "execute_result"
    }
   ],
   "source": [
    "'''\n",
    "Taking into account just the CLICKS \n",
    "'''\n",
    "#session_df = pd.DataFrame() \n",
    "#session_df['pos_clicks'] = train_data[['session_id','is_click']].groupby(['session_id']).count().reset_index().sort_values('is_click',ascending=False)['is_click']\n",
    "            \n",
    "#session_df"
   ]
  },
  {
   "cell_type": "code",
   "execution_count": 86,
   "metadata": {
    "colab": {
     "base_uri": "https://localhost:8080/",
     "height": 34
    },
    "colab_type": "code",
    "id": "IPWfO57jQ8G4",
    "outputId": "2ecbe393-b852-44e2-ed9d-212fd358c5ca"
   },
   "outputs": [
    {
     "data": {
      "text/plain": [
       "'\\nTaking into account just the CLICKS \\n'"
      ]
     },
     "execution_count": 86,
     "metadata": {
      "tags": []
     },
     "output_type": "execute_result"
    }
   ],
   "source": [
    "'''\n",
    "Taking into account just the CLICKS \n",
    "'''\n",
    "#user_df = pd.DataFrame() \n",
    "#user_df['pos_clicks'] = train_data[['user_id','is_click']].groupby(['user_id']).count().reset_index().sort_values('is_click',ascending=False)['is_click']\n",
    "            \n",
    "#user_df"
   ]
  },
  {
   "cell_type": "code",
   "execution_count": 87,
   "metadata": {
    "colab": {
     "base_uri": "https://localhost:8080/",
     "height": 34
    },
    "colab_type": "code",
    "id": "75gFynx_QlWH",
    "outputId": "55af9a4b-fd78-419f-d2ce-c162da5caaef"
   },
   "outputs": [
    {
     "data": {
      "text/plain": [
       "'\\nTaking into account just the CLICKS \\n'"
      ]
     },
     "execution_count": 87,
     "metadata": {
      "tags": []
     },
     "output_type": "execute_result"
    }
   ],
   "source": [
    "'''\n",
    "Taking into account just the CLICKS \n",
    "'''\n",
    "#app_df = pd.DataFrame() \n",
    "#app_df['pos_clicks'] = train_data[['app_code','is_click']].groupby(['app_code']).count().reset_index().sort_values('is_click',ascending=False)['is_click']\n",
    "            \n",
    "#app_df"
   ]
  },
  {
   "cell_type": "code",
   "execution_count": 88,
   "metadata": {
    "colab": {
     "base_uri": "https://localhost:8080/",
     "height": 34
    },
    "colab_type": "code",
    "id": "G1GrjXN6OJ_p",
    "outputId": "2b1463be-1869-4ce9-f110-2fcbd3ccdf77"
   },
   "outputs": [
    {
     "data": {
      "text/plain": [
       "'\\nTaking into account just the CLICKS \\n'"
      ]
     },
     "execution_count": 88,
     "metadata": {
      "tags": []
     },
     "output_type": "execute_result"
    }
   ],
   "source": [
    "'''\n",
    "Taking into account just the CLICKS \n",
    "'''\n",
    "#hour_df = pd.DataFrame() \n",
    "#hour_df['pos_clicks'] = train_data[['hour_imp','is_click']].groupby(['hour_imp']).count().reset_index().sort_values('is_click',ascending=False)['is_click']\n",
    "            \n",
    "#hour_df"
   ]
  },
  {
   "cell_type": "code",
   "execution_count": 89,
   "metadata": {
    "colab": {
     "base_uri": "https://localhost:8080/",
     "height": 34
    },
    "colab_type": "code",
    "id": "EtDdoW3dMIu5",
    "outputId": "a64bb14b-e7bb-43b9-f2ba-15ab9138a8ce"
   },
   "outputs": [
    {
     "data": {
      "text/plain": [
       "'\\nTaking into account just the CLICKS \\n'"
      ]
     },
     "execution_count": 89,
     "metadata": {
      "tags": []
     },
     "output_type": "execute_result"
    }
   ],
   "source": [
    "'''\n",
    "Taking into account just the CLICKS \n",
    "'''\n",
    "#hour_df = pd.DataFrame() \n",
    "#hour_df['pos_clicks'] = train_data[['hour_ser','is_click']].groupby(['hour_ser']).count().reset_index().sort_values('is_click',ascending=False)['is_click']\n",
    "            \n",
    "#hour_df"
   ]
  },
  {
   "cell_type": "code",
   "execution_count": 90,
   "metadata": {
    "colab": {
     "base_uri": "https://localhost:8080/",
     "height": 34
    },
    "colab_type": "code",
    "id": "z09BWK4cPnyq",
    "outputId": "32369253-db64-4045-a37f-237a33e0e701"
   },
   "outputs": [
    {
     "data": {
      "text/plain": [
       "'\\nTaking into account just the CLICKS \\n'"
      ]
     },
     "execution_count": 90,
     "metadata": {
      "tags": []
     },
     "output_type": "execute_result"
    }
   ],
   "source": [
    "'''\n",
    "Taking into account just the CLICKS \n",
    "'''\n",
    "#week_df = pd.DataFrame() \n",
    "#week_df['pos_clicks'] = train_data[['week_imp','is_click']].groupby(['week_imp']).count().reset_index().sort_values('is_click',ascending=False)['is_click']\n",
    "            \n",
    "#week_df"
   ]
  },
  {
   "cell_type": "code",
   "execution_count": 91,
   "metadata": {
    "colab": {
     "base_uri": "https://localhost:8080/",
     "height": 34
    },
    "colab_type": "code",
    "id": "kD6RYtmKNm2F",
    "outputId": "9e1a5b30-48f4-4109-9213-1553a646d380"
   },
   "outputs": [
    {
     "data": {
      "text/plain": [
       "'\\nTaking into account just the CLICKS \\n'"
      ]
     },
     "execution_count": 91,
     "metadata": {
      "tags": []
     },
     "output_type": "execute_result"
    }
   ],
   "source": [
    "'''\n",
    "Taking into account just the CLICKS \n",
    "'''\n",
    "#week_df = pd.DataFrame() \n",
    "#week_df['pos_clicks'] = train_data[['week_ser','is_click']].groupby(['week_ser']).count().reset_index().sort_values('is_click',ascending=False)['is_click']\n",
    "            \n",
    "#week_df"
   ]
  },
  {
   "cell_type": "code",
   "execution_count": 92,
   "metadata": {
    "colab": {
     "base_uri": "https://localhost:8080/",
     "height": 34
    },
    "colab_type": "code",
    "id": "M--92AniO5Cd",
    "outputId": "ad11b1d7-6815-4e26-ae33-de24f6a904c4"
   },
   "outputs": [
    {
     "data": {
      "text/plain": [
       "'\\nTaking into account just the CLICKS \\n'"
      ]
     },
     "execution_count": 92,
     "metadata": {
      "tags": []
     },
     "output_type": "execute_result"
    }
   ],
   "source": [
    "'''\n",
    "Taking into account just the CLICKS \n",
    "'''\n",
    "#day_week_df = pd.DataFrame() \n",
    "#day_week_df['pos_clicks'] = train_data[['day_week_ser','is_click']].groupby(['day_week_ser']).count().reset_index().sort_values('is_click',ascending=False)['is_click']\n",
    "            \n",
    "#day_week_df"
   ]
  },
  {
   "cell_type": "code",
   "execution_count": 93,
   "metadata": {
    "colab": {
     "base_uri": "https://localhost:8080/",
     "height": 34
    },
    "colab_type": "code",
    "id": "FTJbSK-6O4_q",
    "outputId": "98472f67-ae7a-430f-c3df-952947b5b2f3"
   },
   "outputs": [
    {
     "data": {
      "text/plain": [
       "'\\nTaking into account just the CLICKS \\n'"
      ]
     },
     "execution_count": 93,
     "metadata": {
      "tags": []
     },
     "output_type": "execute_result"
    }
   ],
   "source": [
    "'''\n",
    "Taking into account just the CLICKS \n",
    "'''\n",
    "#day_week_df = pd.DataFrame() \n",
    "#day_week_df['pos_clicks'] = train_data[['day_week_imp','is_click']].groupby(['day_week_imp']).count().reset_index().sort_values('is_click',ascending=False)['is_click']\n",
    "            \n",
    "#day_week_df"
   ]
  },
  {
   "cell_type": "code",
   "execution_count": 0,
   "metadata": {
    "colab": {},
    "colab_type": "code",
    "id": "93bYZJ5WN4sC"
   },
   "outputs": [],
   "source": [
    "#def noon_or(c):\n",
    "#  noon_or_not = []\n",
    "#  for i in c:\n",
    "#    if i<=12:\n",
    "#      noon_or_not.append(\"noon\")\n",
    "#    else:\n",
    "#      noon_or_not.append(\"not_noon\")\n",
    "#  return noon_or_not    "
   ]
  },
  {
   "cell_type": "code",
   "execution_count": 0,
   "metadata": {
    "colab": {},
    "colab_type": "code",
    "id": "qXpshVaJaLVd"
   },
   "outputs": [],
   "source": [
    "train_data[\"noon_ser\"] = noon_or(train_data[\"hour_ser\"])\n",
    "train_data[\"noon_imp\"] = noon_or(train_data[\"hour_imp\"])\n",
    "\n",
    "#test_data[\"noon_ser\"] = noon_or(test_data[\"hour_ser\"])\n",
    "#test_data[\"noon_imp\"] = noon_or(test_data[\"hour_imp\"])\n",
    "\n"
   ]
  },
  {
   "cell_type": "code",
   "execution_count": 0,
   "metadata": {
    "colab": {},
    "colab_type": "code",
    "id": "JD-oanEdduDW"
   },
   "outputs": [],
   "source": [
    "train_data[\"diff\"] = abs((train_data[\"hour_imp\"]-train_data[\"hour_ser\"]))*60 \n",
    "#test_data[\"diff\"] = (test_data[\"hour_ser\"]-test_data[\"hour_imp\"])*60 "
   ]
  },
  {
   "cell_type": "code",
   "execution_count": 97,
   "metadata": {
    "colab": {
     "base_uri": "https://localhost:8080/",
     "height": 85
    },
    "colab_type": "code",
    "id": "WOQCs5Tpfi7k",
    "outputId": "ae9cffcf-1216-4707-85b0-0621f77d378c"
   },
   "outputs": [
    {
     "name": "stdout",
     "output_type": "stream",
     "text": [
      "(14924579, 40)\n",
      "(14924579, 41)\n",
      "(14924579, 42)\n",
      "(14924579, 43)\n"
     ]
    }
   ],
   "source": [
    "train_1= train_data.groupby(train_data.noon_ser).agg({\"noon_ser\":[\"count\"]})[\"noon_ser\"].reset_index()\n",
    "train_data = pd.merge(train_data, train_1, on=\"noon_ser\", how=\"left\", suffixes=('_22', '_212'))\n",
    "print(train_data.shape)\n",
    "\n",
    "#train_1= train_data.groupby(train_data.noon_imp).agg({\"noon_imp\":[\"count\"]})[\"noon_imp\"].reset_index()\n",
    "#train_data = pd.merge(train_data, train_1, on=\"noon_imp\", how=\"left\", suffixes=('_22', '_212'))\n",
    "#print(train_data.shape)\n",
    "\n",
    "#train_1= train_data.groupby(train_data.day_imp).agg({\"day_imp\":[\"count\"]})[\"day_imp\"].reset_index()\n",
    "#train_data = pd.merge(train_data, train_1, on=\"day_imp\", how=\"left\")\n",
    "#print(train_data.shape)\n",
    "\n",
    "train_1= train_data.groupby(train_data.day_ser).agg({\"day_ser\":[\"count\"]})[\"day_ser\"].reset_index()\n",
    "train_data = pd.merge(train_data, train_1, on=\"day_ser\", how=\"left\", suffixes=('_23', '_213'))\n",
    "\n",
    "print(train_data.shape)\n",
    "\n",
    "train_1= train_data.groupby(train_data.day_week_ser).agg({\"day_week_ser\":[\"count\"]})[\"day_week_ser\"].reset_index()\n",
    "train_data = pd.merge(train_data, train_1, on=\"day_week_ser\", how=\"left\", suffixes=('_24', '_214'))\n",
    "\n",
    "print(train_data.shape)\n",
    "\n",
    "train_1= train_data.groupby(train_data.week_ser).agg({\"week_ser\":[\"count\"]})[\"week_ser\"].reset_index()\n",
    "train_data = pd.merge(train_data, train_1, on=\"week_ser\", how=\"left\", suffixes=('_25', '_215'))\n",
    "\n",
    "print(train_data.shape)\n",
    "\n"
   ]
  },
  {
   "cell_type": "code",
   "execution_count": 0,
   "metadata": {
    "colab": {},
    "colab_type": "code",
    "id": "EcnJW4xRDmk2"
   },
   "outputs": [],
   "source": [
    "#check = train_data.groupby(train_data.item_id).agg({\"hour_imp\":[\"max\"]})[\"hour_imp\"].reset_index()\n",
    "#check1 = train_data.groupby(train_data.item_id).agg({\"hour_imp\":[\"min\"]})[\"hour_imp\"].reset_index()\n",
    "#train_data = pd.merge(train_data, check, on=\"item_id\", how=\"left\", suffixes=('_max1', '_max12'))\n",
    "\n",
    "#print(train_data.shape)\n",
    "\n",
    "#train_data = pd.merge(train_data, check1, on=\"item_id\", how=\"left\", suffixes=('_min1', '_min12'))\n",
    "\n",
    "#print(train_data.shape)\n",
    "\n",
    "#check = train_data.groupby(train_data.item_id).agg({\"day_imp\":[\"max\"]})[\"day_imp\"].reset_index()\n",
    "#check1 = train_data.groupby(train_data.item_id).agg({\"day_imp\":[\"min\"]})[\"day_imp\"].reset_index()\n",
    "#train_data = pd.merge(train_data, check, on=\"item_id\", how=\"left\", suffixes=('daymax1', 'daymax12'))\n",
    "\n",
    "#print(train_data.shape)\n",
    "\n",
    "#train_data = pd.merge(train_data, check1, on=\"item_id\", how=\"left\", suffixes=('daymin1', 'daymin12'))\n",
    "\n",
    "#print(train_data.shape)\n",
    "\n",
    "\n",
    "\n"
   ]
  },
  {
   "cell_type": "markdown",
   "metadata": {
    "colab_type": "text",
    "id": "dFgaWJj3Rc-x"
   },
   "source": [
    "# Time difference"
   ]
  },
  {
   "cell_type": "code",
   "execution_count": 0,
   "metadata": {
    "colab": {},
    "colab_type": "code",
    "id": "5IwoVkNYFtgR"
   },
   "outputs": [],
   "source": [
    "#check = train_data.groupby(train_data.item_id).agg({\"hour_ser\":[\"max\"]})[\"hour_ser\"].reset_index()\n",
    "#check1 = train_data.groupby(train_data.item_id).agg({\"hour_ser\":[\"min\"]})[\"hour_ser\"].reset_index()\n",
    "\n",
    "#train_data = pd.merge(train_data, check, on=\"item_id\", how=\"left\", suffixes=('_max_ser1', '_max_ser12'))\n",
    "\n",
    "#print(train_data.shape)\n",
    "\n",
    "#train_data = pd.merge(train_data, check1, on=\"item_id\", how=\"left\", suffixes=('_min_ser1', '_min_ser12'))\n",
    "\n",
    "#print(train_data.shape)\n",
    "\n",
    "#check = train_data.groupby(train_data.item_id).agg({\"day_ser\":[\"max\"]})[\"day_ser\"].reset_index()\n",
    "#check1 = train_data.groupby(train_data.item_id).agg({\"day_ser\":[\"min\"]})[\"day_ser\"].reset_index()\n",
    "\n",
    "#train_data = pd.merge(train_data, check, on=\"item_id\", how=\"left\", suffixes=('_max_dayser1', '_max_dayser12'))\n",
    "\n",
    "#print(train_data.shape)\n",
    "\n",
    "#train_data = pd.merge(train_data, check1, on=\"item_id\", how=\"left\", suffixes=('_min_dayser1', '_min_dayser12'))\n",
    "\n",
    "#print(train_data.shape)\n",
    "\n"
   ]
  },
  {
   "cell_type": "code",
   "execution_count": 0,
   "metadata": {
    "colab": {},
    "colab_type": "code",
    "id": "ilR-khGnKnH3"
   },
   "outputs": [],
   "source": [
    "#check.head(3)"
   ]
  },
  {
   "cell_type": "code",
   "execution_count": 0,
   "metadata": {
    "colab": {},
    "colab_type": "code",
    "id": "do7n30E_KnUy"
   },
   "outputs": [],
   "source": [
    "#check1.head(3)"
   ]
  },
  {
   "cell_type": "code",
   "execution_count": 100,
   "metadata": {
    "colab": {
     "base_uri": "https://localhost:8080/",
     "height": 309
    },
    "colab_type": "code",
    "id": "iEUDYDQwGDmW",
    "outputId": "6639a932-fbb5-4d53-a3da-3c4484bd4790"
   },
   "outputs": [
    {
     "data": {
      "text/html": [
       "<div>\n",
       "<style scoped>\n",
       "    .dataframe tbody tr th:only-of-type {\n",
       "        vertical-align: middle;\n",
       "    }\n",
       "\n",
       "    .dataframe tbody tr th {\n",
       "        vertical-align: top;\n",
       "    }\n",
       "\n",
       "    .dataframe thead th {\n",
       "        text-align: right;\n",
       "    }\n",
       "</style>\n",
       "<table border=\"1\" class=\"dataframe\">\n",
       "  <thead>\n",
       "    <tr style=\"text-align: right;\">\n",
       "      <th></th>\n",
       "      <th>impression_id</th>\n",
       "      <th>impression_time</th>\n",
       "      <th>user_id</th>\n",
       "      <th>app_code</th>\n",
       "      <th>os_version</th>\n",
       "      <th>is_4G</th>\n",
       "      <th>server_time</th>\n",
       "      <th>device_type</th>\n",
       "      <th>session_id</th>\n",
       "      <th>item_id</th>\n",
       "      <th>item_price</th>\n",
       "      <th>category_1</th>\n",
       "      <th>category_2</th>\n",
       "      <th>category_3</th>\n",
       "      <th>product_type</th>\n",
       "      <th>count_1</th>\n",
       "      <th>pp</th>\n",
       "      <th>cat_new1</th>\n",
       "      <th>cat_new2</th>\n",
       "      <th>cat_new3</th>\n",
       "      <th>count_12</th>\n",
       "      <th>count_4</th>\n",
       "      <th>count_14</th>\n",
       "      <th>count_6</th>\n",
       "      <th>count_16</th>\n",
       "      <th>count_8</th>\n",
       "      <th>count_18</th>\n",
       "      <th>count_20</th>\n",
       "      <th>count_200</th>\n",
       "      <th>count_22</th>\n",
       "      <th>day_ser</th>\n",
       "      <th>week_ser</th>\n",
       "      <th>hour_imp</th>\n",
       "      <th>hour_ser</th>\n",
       "      <th>day_week_ser</th>\n",
       "      <th>day_week_imp</th>\n",
       "      <th>noon_ser</th>\n",
       "      <th>noon_imp</th>\n",
       "      <th>diff</th>\n",
       "      <th>count_212</th>\n",
       "      <th>count_24</th>\n",
       "      <th>count_214</th>\n",
       "      <th>count</th>\n",
       "    </tr>\n",
       "  </thead>\n",
       "  <tbody>\n",
       "    <tr>\n",
       "      <th>0</th>\n",
       "      <td>c4ca4238a0b923820dcc509a6f75849b</td>\n",
       "      <td>2018-11-15 00:00:00</td>\n",
       "      <td>87862</td>\n",
       "      <td>422</td>\n",
       "      <td>old</td>\n",
       "      <td>0</td>\n",
       "      <td>2018-10-19 18:11:00</td>\n",
       "      <td>android</td>\n",
       "      <td>190710</td>\n",
       "      <td>43886</td>\n",
       "      <td>2350.0</td>\n",
       "      <td>11.0</td>\n",
       "      <td>35.0</td>\n",
       "      <td>20.0</td>\n",
       "      <td>5622.0</td>\n",
       "      <td>1</td>\n",
       "      <td>2350.000000</td>\n",
       "      <td>11.000000</td>\n",
       "      <td>35.000000</td>\n",
       "      <td>20.000000</td>\n",
       "      <td>30936</td>\n",
       "      <td>1129976.0</td>\n",
       "      <td>259780.0</td>\n",
       "      <td>125694.0</td>\n",
       "      <td>143701.0</td>\n",
       "      <td>3280315</td>\n",
       "      <td>3</td>\n",
       "      <td>377</td>\n",
       "      <td>995.0</td>\n",
       "      <td>3</td>\n",
       "      <td>19</td>\n",
       "      <td>42</td>\n",
       "      <td>0</td>\n",
       "      <td>18</td>\n",
       "      <td>4</td>\n",
       "      <td>3</td>\n",
       "      <td>noon</td>\n",
       "      <td>nignt</td>\n",
       "      <td>1080</td>\n",
       "      <td>5975953</td>\n",
       "      <td>491494</td>\n",
       "      <td>1925657</td>\n",
       "      <td>1576070</td>\n",
       "    </tr>\n",
       "    <tr>\n",
       "      <th>1</th>\n",
       "      <td>45c48cce2e2d7fbdea1afc51c7c6ad26</td>\n",
       "      <td>2018-11-15 00:01:00</td>\n",
       "      <td>63410</td>\n",
       "      <td>467</td>\n",
       "      <td>latest</td>\n",
       "      <td>1</td>\n",
       "      <td>2018-10-21 06:13:00</td>\n",
       "      <td>android</td>\n",
       "      <td>356854</td>\n",
       "      <td>43209</td>\n",
       "      <td>3421.0</td>\n",
       "      <td>4.0</td>\n",
       "      <td>74.0</td>\n",
       "      <td>292.0</td>\n",
       "      <td>577.0</td>\n",
       "      <td>12</td>\n",
       "      <td>285.083333</td>\n",
       "      <td>0.333333</td>\n",
       "      <td>6.166667</td>\n",
       "      <td>24.333333</td>\n",
       "      <td>11867</td>\n",
       "      <td>1397337.0</td>\n",
       "      <td>492090.0</td>\n",
       "      <td>490837.0</td>\n",
       "      <td>1305.0</td>\n",
       "      <td>7844613</td>\n",
       "      <td>732</td>\n",
       "      <td>892</td>\n",
       "      <td>1019.0</td>\n",
       "      <td>122</td>\n",
       "      <td>21</td>\n",
       "      <td>42</td>\n",
       "      <td>0</td>\n",
       "      <td>6</td>\n",
       "      <td>6</td>\n",
       "      <td>3</td>\n",
       "      <td>morning</td>\n",
       "      <td>nignt</td>\n",
       "      <td>360</td>\n",
       "      <td>3838254</td>\n",
       "      <td>545764</td>\n",
       "      <td>2191111</td>\n",
       "      <td>1576070</td>\n",
       "    </tr>\n",
       "    <tr>\n",
       "      <th>2</th>\n",
       "      <td>45c48cce2e2d7fbdea1afc51c7c6ad26</td>\n",
       "      <td>2018-11-15 00:01:00</td>\n",
       "      <td>63410</td>\n",
       "      <td>467</td>\n",
       "      <td>latest</td>\n",
       "      <td>1</td>\n",
       "      <td>2018-10-21 06:13:00</td>\n",
       "      <td>android</td>\n",
       "      <td>356854</td>\n",
       "      <td>66370</td>\n",
       "      <td>14166.0</td>\n",
       "      <td>4.0</td>\n",
       "      <td>74.0</td>\n",
       "      <td>292.0</td>\n",
       "      <td>3399.0</td>\n",
       "      <td>12</td>\n",
       "      <td>1180.500000</td>\n",
       "      <td>0.333333</td>\n",
       "      <td>6.166667</td>\n",
       "      <td>24.333333</td>\n",
       "      <td>11867</td>\n",
       "      <td>1397337.0</td>\n",
       "      <td>492090.0</td>\n",
       "      <td>490837.0</td>\n",
       "      <td>47773.0</td>\n",
       "      <td>7844613</td>\n",
       "      <td>732</td>\n",
       "      <td>350</td>\n",
       "      <td>355.0</td>\n",
       "      <td>122</td>\n",
       "      <td>21</td>\n",
       "      <td>42</td>\n",
       "      <td>0</td>\n",
       "      <td>6</td>\n",
       "      <td>6</td>\n",
       "      <td>3</td>\n",
       "      <td>morning</td>\n",
       "      <td>nignt</td>\n",
       "      <td>360</td>\n",
       "      <td>3838254</td>\n",
       "      <td>545764</td>\n",
       "      <td>2191111</td>\n",
       "      <td>1576070</td>\n",
       "    </tr>\n",
       "    <tr>\n",
       "      <th>3</th>\n",
       "      <td>45c48cce2e2d7fbdea1afc51c7c6ad26</td>\n",
       "      <td>2018-11-15 00:01:00</td>\n",
       "      <td>63410</td>\n",
       "      <td>467</td>\n",
       "      <td>latest</td>\n",
       "      <td>1</td>\n",
       "      <td>2018-10-21 17:01:00</td>\n",
       "      <td>android</td>\n",
       "      <td>345289</td>\n",
       "      <td>43209</td>\n",
       "      <td>3421.0</td>\n",
       "      <td>4.0</td>\n",
       "      <td>74.0</td>\n",
       "      <td>292.0</td>\n",
       "      <td>577.0</td>\n",
       "      <td>12</td>\n",
       "      <td>285.083333</td>\n",
       "      <td>0.333333</td>\n",
       "      <td>6.166667</td>\n",
       "      <td>24.333333</td>\n",
       "      <td>11867</td>\n",
       "      <td>1397337.0</td>\n",
       "      <td>492090.0</td>\n",
       "      <td>490837.0</td>\n",
       "      <td>1305.0</td>\n",
       "      <td>7844613</td>\n",
       "      <td>732</td>\n",
       "      <td>892</td>\n",
       "      <td>1019.0</td>\n",
       "      <td>61</td>\n",
       "      <td>21</td>\n",
       "      <td>42</td>\n",
       "      <td>0</td>\n",
       "      <td>17</td>\n",
       "      <td>6</td>\n",
       "      <td>3</td>\n",
       "      <td>noon</td>\n",
       "      <td>nignt</td>\n",
       "      <td>1020</td>\n",
       "      <td>5975953</td>\n",
       "      <td>545764</td>\n",
       "      <td>2191111</td>\n",
       "      <td>1576070</td>\n",
       "    </tr>\n",
       "    <tr>\n",
       "      <th>4</th>\n",
       "      <td>45c48cce2e2d7fbdea1afc51c7c6ad26</td>\n",
       "      <td>2018-11-15 00:01:00</td>\n",
       "      <td>63410</td>\n",
       "      <td>467</td>\n",
       "      <td>latest</td>\n",
       "      <td>1</td>\n",
       "      <td>2018-10-22 09:54:00</td>\n",
       "      <td>android</td>\n",
       "      <td>406658</td>\n",
       "      <td>43209</td>\n",
       "      <td>3421.0</td>\n",
       "      <td>4.0</td>\n",
       "      <td>74.0</td>\n",
       "      <td>292.0</td>\n",
       "      <td>577.0</td>\n",
       "      <td>12</td>\n",
       "      <td>285.083333</td>\n",
       "      <td>0.333333</td>\n",
       "      <td>6.166667</td>\n",
       "      <td>24.333333</td>\n",
       "      <td>11867</td>\n",
       "      <td>1397337.0</td>\n",
       "      <td>492090.0</td>\n",
       "      <td>490837.0</td>\n",
       "      <td>1305.0</td>\n",
       "      <td>7844613</td>\n",
       "      <td>732</td>\n",
       "      <td>892</td>\n",
       "      <td>1019.0</td>\n",
       "      <td>61</td>\n",
       "      <td>22</td>\n",
       "      <td>43</td>\n",
       "      <td>0</td>\n",
       "      <td>9</td>\n",
       "      <td>0</td>\n",
       "      <td>3</td>\n",
       "      <td>morning</td>\n",
       "      <td>nignt</td>\n",
       "      <td>540</td>\n",
       "      <td>3838254</td>\n",
       "      <td>503140</td>\n",
       "      <td>2338812</td>\n",
       "      <td>1601341</td>\n",
       "    </tr>\n",
       "  </tbody>\n",
       "</table>\n",
       "</div>"
      ],
      "text/plain": [
       "                      impression_id     impression_time  ...  count_214    count\n",
       "0  c4ca4238a0b923820dcc509a6f75849b 2018-11-15 00:00:00  ...    1925657  1576070\n",
       "1  45c48cce2e2d7fbdea1afc51c7c6ad26 2018-11-15 00:01:00  ...    2191111  1576070\n",
       "2  45c48cce2e2d7fbdea1afc51c7c6ad26 2018-11-15 00:01:00  ...    2191111  1576070\n",
       "3  45c48cce2e2d7fbdea1afc51c7c6ad26 2018-11-15 00:01:00  ...    2191111  1576070\n",
       "4  45c48cce2e2d7fbdea1afc51c7c6ad26 2018-11-15 00:01:00  ...    2338812  1601341\n",
       "\n",
       "[5 rows x 43 columns]"
      ]
     },
     "execution_count": 100,
     "metadata": {
      "tags": []
     },
     "output_type": "execute_result"
    }
   ],
   "source": [
    "train_data.head(5)"
   ]
  },
  {
   "cell_type": "code",
   "execution_count": 0,
   "metadata": {
    "colab": {},
    "colab_type": "code",
    "id": "oK5B9d0BGD7o"
   },
   "outputs": [],
   "source": [
    "#train_data[\"time_diff_ser\"] = ((train_data[\"maxdaymax12\"]-train_data[\"mindaymin12\"])*24 + train_data[\"maxdaymax1\"]-train_data[\"mindaymin1\"])*60\n",
    "#train_data[\"time_diff\"] = ((train_data[\"max_max_dayser12\"]-train_data[\"min_min_dayser12\"])*24 + train_data[\"max_max_dayser1\"]-train_data[\"min_min_dayser1\"])*60"
   ]
  },
  {
   "cell_type": "code",
   "execution_count": 0,
   "metadata": {
    "colab": {},
    "colab_type": "code",
    "id": "iL2uBJ4IQ6yq"
   },
   "outputs": [],
   "source": [
    "#train_data[\"both_diff\"] = abs(train_data[\"time_diff_ser\"] - train_data[\"time_diff\"])"
   ]
  },
  {
   "cell_type": "code",
   "execution_count": 103,
   "metadata": {
    "colab": {
     "base_uri": "https://localhost:8080/",
     "height": 165
    },
    "colab_type": "code",
    "id": "J-97uZ8xOgAw",
    "outputId": "dfd13e65-71f6-42bc-f59a-b279af2db587"
   },
   "outputs": [
    {
     "data": {
      "text/html": [
       "<div>\n",
       "<style scoped>\n",
       "    .dataframe tbody tr th:only-of-type {\n",
       "        vertical-align: middle;\n",
       "    }\n",
       "\n",
       "    .dataframe tbody tr th {\n",
       "        vertical-align: top;\n",
       "    }\n",
       "\n",
       "    .dataframe thead th {\n",
       "        text-align: right;\n",
       "    }\n",
       "</style>\n",
       "<table border=\"1\" class=\"dataframe\">\n",
       "  <thead>\n",
       "    <tr style=\"text-align: right;\">\n",
       "      <th></th>\n",
       "      <th>impression_id</th>\n",
       "      <th>impression_time</th>\n",
       "      <th>user_id</th>\n",
       "      <th>app_code</th>\n",
       "      <th>os_version</th>\n",
       "      <th>is_4G</th>\n",
       "      <th>server_time</th>\n",
       "      <th>device_type</th>\n",
       "      <th>session_id</th>\n",
       "      <th>item_id</th>\n",
       "      <th>item_price</th>\n",
       "      <th>category_1</th>\n",
       "      <th>category_2</th>\n",
       "      <th>category_3</th>\n",
       "      <th>product_type</th>\n",
       "      <th>count_1</th>\n",
       "      <th>pp</th>\n",
       "      <th>cat_new1</th>\n",
       "      <th>cat_new2</th>\n",
       "      <th>cat_new3</th>\n",
       "      <th>count_12</th>\n",
       "      <th>count_4</th>\n",
       "      <th>count_14</th>\n",
       "      <th>count_6</th>\n",
       "      <th>count_16</th>\n",
       "      <th>count_8</th>\n",
       "      <th>count_18</th>\n",
       "      <th>count_20</th>\n",
       "      <th>count_200</th>\n",
       "      <th>count_22</th>\n",
       "      <th>day_ser</th>\n",
       "      <th>week_ser</th>\n",
       "      <th>hour_imp</th>\n",
       "      <th>hour_ser</th>\n",
       "      <th>day_week_ser</th>\n",
       "      <th>day_week_imp</th>\n",
       "      <th>noon_ser</th>\n",
       "      <th>noon_imp</th>\n",
       "      <th>diff</th>\n",
       "      <th>count_212</th>\n",
       "      <th>count_24</th>\n",
       "      <th>count_214</th>\n",
       "      <th>count</th>\n",
       "    </tr>\n",
       "  </thead>\n",
       "  <tbody>\n",
       "    <tr>\n",
       "      <th>0</th>\n",
       "      <td>c4ca4238a0b923820dcc509a6f75849b</td>\n",
       "      <td>2018-11-15 00:00:00</td>\n",
       "      <td>87862</td>\n",
       "      <td>422</td>\n",
       "      <td>old</td>\n",
       "      <td>0</td>\n",
       "      <td>2018-10-19 18:11:00</td>\n",
       "      <td>android</td>\n",
       "      <td>190710</td>\n",
       "      <td>43886</td>\n",
       "      <td>2350.0</td>\n",
       "      <td>11.0</td>\n",
       "      <td>35.0</td>\n",
       "      <td>20.0</td>\n",
       "      <td>5622.0</td>\n",
       "      <td>1</td>\n",
       "      <td>2350.000000</td>\n",
       "      <td>11.000000</td>\n",
       "      <td>35.000000</td>\n",
       "      <td>20.000000</td>\n",
       "      <td>30936</td>\n",
       "      <td>1129976.0</td>\n",
       "      <td>259780.0</td>\n",
       "      <td>125694.0</td>\n",
       "      <td>143701.0</td>\n",
       "      <td>3280315</td>\n",
       "      <td>3</td>\n",
       "      <td>377</td>\n",
       "      <td>995.0</td>\n",
       "      <td>3</td>\n",
       "      <td>19</td>\n",
       "      <td>42</td>\n",
       "      <td>0</td>\n",
       "      <td>18</td>\n",
       "      <td>4</td>\n",
       "      <td>3</td>\n",
       "      <td>noon</td>\n",
       "      <td>nignt</td>\n",
       "      <td>1080</td>\n",
       "      <td>5975953</td>\n",
       "      <td>491494</td>\n",
       "      <td>1925657</td>\n",
       "      <td>1576070</td>\n",
       "    </tr>\n",
       "    <tr>\n",
       "      <th>1</th>\n",
       "      <td>45c48cce2e2d7fbdea1afc51c7c6ad26</td>\n",
       "      <td>2018-11-15 00:01:00</td>\n",
       "      <td>63410</td>\n",
       "      <td>467</td>\n",
       "      <td>latest</td>\n",
       "      <td>1</td>\n",
       "      <td>2018-10-21 06:13:00</td>\n",
       "      <td>android</td>\n",
       "      <td>356854</td>\n",
       "      <td>43209</td>\n",
       "      <td>3421.0</td>\n",
       "      <td>4.0</td>\n",
       "      <td>74.0</td>\n",
       "      <td>292.0</td>\n",
       "      <td>577.0</td>\n",
       "      <td>12</td>\n",
       "      <td>285.083333</td>\n",
       "      <td>0.333333</td>\n",
       "      <td>6.166667</td>\n",
       "      <td>24.333333</td>\n",
       "      <td>11867</td>\n",
       "      <td>1397337.0</td>\n",
       "      <td>492090.0</td>\n",
       "      <td>490837.0</td>\n",
       "      <td>1305.0</td>\n",
       "      <td>7844613</td>\n",
       "      <td>732</td>\n",
       "      <td>892</td>\n",
       "      <td>1019.0</td>\n",
       "      <td>122</td>\n",
       "      <td>21</td>\n",
       "      <td>42</td>\n",
       "      <td>0</td>\n",
       "      <td>6</td>\n",
       "      <td>6</td>\n",
       "      <td>3</td>\n",
       "      <td>morning</td>\n",
       "      <td>nignt</td>\n",
       "      <td>360</td>\n",
       "      <td>3838254</td>\n",
       "      <td>545764</td>\n",
       "      <td>2191111</td>\n",
       "      <td>1576070</td>\n",
       "    </tr>\n",
       "  </tbody>\n",
       "</table>\n",
       "</div>"
      ],
      "text/plain": [
       "                      impression_id     impression_time  ...  count_214    count\n",
       "0  c4ca4238a0b923820dcc509a6f75849b 2018-11-15 00:00:00  ...    1925657  1576070\n",
       "1  45c48cce2e2d7fbdea1afc51c7c6ad26 2018-11-15 00:01:00  ...    2191111  1576070\n",
       "\n",
       "[2 rows x 43 columns]"
      ]
     },
     "execution_count": 103,
     "metadata": {
      "tags": []
     },
     "output_type": "execute_result"
    }
   ],
   "source": [
    "train_data.head(2)"
   ]
  },
  {
   "cell_type": "code",
   "execution_count": 0,
   "metadata": {
    "colab": {},
    "colab_type": "code",
    "id": "A-_4ZcqUQiRs"
   },
   "outputs": [],
   "source": [
    "#train_data.drop(['maxdaymax1', \"mindaymin1\", \"maxdaymax12\", \"mindaymin12\", \"max_max_dayser1\", \"min_min_dayser1\", \"max_max_dayser12\",\"min_min_dayser12\"], axis=1, inplace=True)\n",
    "\n"
   ]
  },
  {
   "cell_type": "code",
   "execution_count": 0,
   "metadata": {
    "colab": {},
    "colab_type": "code",
    "id": "FWQxkwAFgiem"
   },
   "outputs": [],
   "source": [
    "#test_2= test_data.groupby(test_data.noon_ser).agg({\"noon_ser\":[\"count\"]})[\"noon_ser\"].reset_index()\n",
    "#test_data = pd.merge(test_data, test_2, on=\"noon_ser\", how=\"left\")\n",
    "#print(test_data.shape)\n",
    "\n",
    "#test_2= test_data.groupby(test_data.noon_imp).agg({\"noon_imp\":[\"count\"]})[\"noon_imp\"].reset_index()\n",
    "#test_data = pd.merge(test_data, test_2, on=\"noon_imp\", how=\"left\")\n",
    "#print(test_data.shape)\n",
    "\n",
    "#test_2= test_data.groupby(test_data.day_imp).agg({\"day_imp\":[\"count\"]})[\"day_imp\"].reset_index()\n",
    "#test_data = pd.merge(test_data, test_2, on=\"day_imp\", how=\"left\")\n",
    "#print(test_data.shape)\n",
    "\n",
    "#test_2= test_data.groupby(test_data.day_ser).agg({\"day_ser\":[\"count\"]})[\"day_ser\"].reset_index()\n",
    "#test_data = pd.merge(test_data, test_2, on=\"day_ser\", how=\"left\")\n",
    "#print(test_data.shape)\n",
    "\n",
    "#test_2= test_data.groupby(test_data.day_week_ser).agg({\"day_week_ser\":[\"count\"]})[\"day_week_ser\"].reset_index()\n",
    "#test_data = pd.merge(test_data, test_2, on=\"day_week_ser\", how=\"left\")\n",
    "#print(test_data.shape)\n",
    "\n",
    "#test_2= test_data.groupby(test_data.week_ser).agg({\"week_ser\":[\"count\"]})[\"week_ser\"].reset_index()\n",
    "#test_data = pd.merge(test_data, test_2, on=\"week_ser\", how=\"left\")\n",
    "#print(test_data.shape)"
   ]
  },
  {
   "cell_type": "code",
   "execution_count": 105,
   "metadata": {
    "colab": {
     "base_uri": "https://localhost:8080/",
     "height": 165
    },
    "colab_type": "code",
    "id": "9VwfbwRZsTc0",
    "outputId": "6cd4bd45-d2e3-4918-d8f4-d640e150c1b1"
   },
   "outputs": [
    {
     "data": {
      "text/html": [
       "<div>\n",
       "<style scoped>\n",
       "    .dataframe tbody tr th:only-of-type {\n",
       "        vertical-align: middle;\n",
       "    }\n",
       "\n",
       "    .dataframe tbody tr th {\n",
       "        vertical-align: top;\n",
       "    }\n",
       "\n",
       "    .dataframe thead th {\n",
       "        text-align: right;\n",
       "    }\n",
       "</style>\n",
       "<table border=\"1\" class=\"dataframe\">\n",
       "  <thead>\n",
       "    <tr style=\"text-align: right;\">\n",
       "      <th></th>\n",
       "      <th>impression_id</th>\n",
       "      <th>impression_time</th>\n",
       "      <th>user_id</th>\n",
       "      <th>app_code</th>\n",
       "      <th>os_version</th>\n",
       "      <th>is_4G</th>\n",
       "      <th>server_time</th>\n",
       "      <th>device_type</th>\n",
       "      <th>session_id</th>\n",
       "      <th>item_id</th>\n",
       "      <th>item_price</th>\n",
       "      <th>category_1</th>\n",
       "      <th>category_2</th>\n",
       "      <th>category_3</th>\n",
       "      <th>product_type</th>\n",
       "      <th>count_1</th>\n",
       "      <th>pp</th>\n",
       "      <th>cat_new1</th>\n",
       "      <th>cat_new2</th>\n",
       "      <th>cat_new3</th>\n",
       "      <th>count_12</th>\n",
       "      <th>count_4</th>\n",
       "      <th>count_14</th>\n",
       "      <th>count_6</th>\n",
       "      <th>count_16</th>\n",
       "      <th>count_8</th>\n",
       "      <th>count_18</th>\n",
       "      <th>count_20</th>\n",
       "      <th>count_200</th>\n",
       "      <th>count_22</th>\n",
       "      <th>day_ser</th>\n",
       "      <th>week_ser</th>\n",
       "      <th>hour_imp</th>\n",
       "      <th>hour_ser</th>\n",
       "      <th>day_week_ser</th>\n",
       "      <th>day_week_imp</th>\n",
       "      <th>noon_ser</th>\n",
       "      <th>noon_imp</th>\n",
       "      <th>diff</th>\n",
       "      <th>count_212</th>\n",
       "      <th>count_24</th>\n",
       "      <th>count_214</th>\n",
       "      <th>count</th>\n",
       "    </tr>\n",
       "  </thead>\n",
       "  <tbody>\n",
       "    <tr>\n",
       "      <th>14924577</th>\n",
       "      <td>539145030fb3600d26d6a64130310035</td>\n",
       "      <td>2018-12-18 23:59:00</td>\n",
       "      <td>82078</td>\n",
       "      <td>242</td>\n",
       "      <td>latest</td>\n",
       "      <td>1</td>\n",
       "      <td>2018-12-11 09:53:00</td>\n",
       "      <td>android</td>\n",
       "      <td>994516</td>\n",
       "      <td>70965</td>\n",
       "      <td>3744.0</td>\n",
       "      <td>16.0</td>\n",
       "      <td>56.0</td>\n",
       "      <td>17.0</td>\n",
       "      <td>9227.0</td>\n",
       "      <td>9</td>\n",
       "      <td>416.000000</td>\n",
       "      <td>1.777778</td>\n",
       "      <td>6.222222</td>\n",
       "      <td>1.888889</td>\n",
       "      <td>175445</td>\n",
       "      <td>613022.0</td>\n",
       "      <td>186073.0</td>\n",
       "      <td>43999.0</td>\n",
       "      <td>29680.0</td>\n",
       "      <td>7844613</td>\n",
       "      <td>153</td>\n",
       "      <td>19716</td>\n",
       "      <td>25016.0</td>\n",
       "      <td>17</td>\n",
       "      <td>11</td>\n",
       "      <td>50</td>\n",
       "      <td>23</td>\n",
       "      <td>9</td>\n",
       "      <td>1</td>\n",
       "      <td>1</td>\n",
       "      <td>morning</td>\n",
       "      <td>nignt</td>\n",
       "      <td>840</td>\n",
       "      <td>3838254</td>\n",
       "      <td>586207</td>\n",
       "      <td>2389736</td>\n",
       "      <td>609920</td>\n",
       "    </tr>\n",
       "    <tr>\n",
       "      <th>14924578</th>\n",
       "      <td>539145030fb3600d26d6a64130310035</td>\n",
       "      <td>2018-12-18 23:59:00</td>\n",
       "      <td>82078</td>\n",
       "      <td>242</td>\n",
       "      <td>latest</td>\n",
       "      <td>1</td>\n",
       "      <td>2018-12-11 15:47:00</td>\n",
       "      <td>android</td>\n",
       "      <td>57901</td>\n",
       "      <td>35963</td>\n",
       "      <td>22528.0</td>\n",
       "      <td>10.0</td>\n",
       "      <td>63.0</td>\n",
       "      <td>220.0</td>\n",
       "      <td>9959.0</td>\n",
       "      <td>9</td>\n",
       "      <td>2503.111111</td>\n",
       "      <td>1.111111</td>\n",
       "      <td>7.000000</td>\n",
       "      <td>24.444444</td>\n",
       "      <td>175445</td>\n",
       "      <td>831106.0</td>\n",
       "      <td>350728.0</td>\n",
       "      <td>217217.0</td>\n",
       "      <td>74867.0</td>\n",
       "      <td>7844613</td>\n",
       "      <td>153</td>\n",
       "      <td>16272</td>\n",
       "      <td>16498.0</td>\n",
       "      <td>17</td>\n",
       "      <td>11</td>\n",
       "      <td>50</td>\n",
       "      <td>23</td>\n",
       "      <td>15</td>\n",
       "      <td>1</td>\n",
       "      <td>1</td>\n",
       "      <td>noon</td>\n",
       "      <td>nignt</td>\n",
       "      <td>480</td>\n",
       "      <td>5975953</td>\n",
       "      <td>586207</td>\n",
       "      <td>2389736</td>\n",
       "      <td>609920</td>\n",
       "    </tr>\n",
       "  </tbody>\n",
       "</table>\n",
       "</div>"
      ],
      "text/plain": [
       "                             impression_id  ...   count\n",
       "14924577  539145030fb3600d26d6a64130310035  ...  609920\n",
       "14924578  539145030fb3600d26d6a64130310035  ...  609920\n",
       "\n",
       "[2 rows x 43 columns]"
      ]
     },
     "execution_count": 105,
     "metadata": {
      "tags": []
     },
     "output_type": "execute_result"
    }
   ],
   "source": [
    "train_data.tail(2)"
   ]
  },
  {
   "cell_type": "code",
   "execution_count": 0,
   "metadata": {
    "colab": {},
    "colab_type": "code",
    "id": "Bt8HCbY1g-gb"
   },
   "outputs": [],
   "source": [
    "train_data[\"301\"] = train_data[\"count_12\"]/train_data[\"count_1\"]\n",
    "train_data[\"302\"] = train_data[\"count_4\"]/train_data[\"count_1\"]\n",
    "train_data[\"303\"] = train_data[\"count_14\"]/train_data[\"count_1\"]\n",
    "train_data[\"304\"] = train_data[\"count_6\"]/train_data[\"count_1\"]\n",
    "train_data[\"305\"] = train_data[\"count_16\"]/train_data[\"count_1\"]\n",
    "train_data[\"306\"] = train_data[\"count_18\"]/train_data[\"count_1\"]\n",
    "train_data[\"307\"] = train_data[\"count_200\"]/train_data[\"count_1\"]\n",
    "#train_data[\"308\"] = train_data[\"count_22\"]/train_data[\"count_1\"]\n",
    "\n",
    "#train_data[\"309\"] = train_data[\"count_212\"]/train_data[\"count_1\"]\n",
    "#train_data[\"310\"] = train_data[\"count_24\"]/train_data[\"count_1\"]\n",
    "#train_data[\"311\"] = train_data[\"count_214\"]/train_data[\"count_1\"]\n",
    "#train_data[\"312\"] = train_data[\"count\"]/train_data[\"count_1\"]\n",
    "train_data[\"313\"] = train_data[\"count_8\"]/train_data[\"count_1\"]\n",
    "train_data[\"314\"] = train_data[\"count_20\"]/train_data[\"count_1\"]\n",
    "#train_data[\"315\"] = train_data[\"count_x\"]/train_data[\"count_1\"]\n",
    "#train_data[\"316\"] = train_data[\"count_y\"]/train_data[\"count_1\"]\n",
    "\n",
    "\n",
    "\n",
    "\n"
   ]
  },
  {
   "cell_type": "code",
   "execution_count": 0,
   "metadata": {
    "colab": {},
    "colab_type": "code",
    "id": "uWixzIza57Gw"
   },
   "outputs": [],
   "source": [
    "train_data[\"cat11\"] = (train_data[\"category_1\"] + train_data[\"category_1\"] + train_data[\"category_1\"])/train_data[\"count_1\"]\n",
    "train_data[\"p1\"] = (train_data[\"category_1\"]*train_data[\"item_price\"])/train_data[\"count_1\"]\n",
    "train_data[\"p2\"] = (train_data[\"category_2\"]*train_data[\"item_price\"])/train_data[\"count_1\"]\n",
    "train_data[\"p3\"] = (train_data[\"category_3\"]*train_data[\"item_price\"])/train_data[\"count_1\"]\n",
    "#train_data[\"p5\"] = (train_data[\"count_1\"]*train_data[\"item_price\"])/train_data[\"category_1\"]\n",
    "#train_data[\"p6\"] = (train_data[\"count_1\"]*train_data[\"item_price\"])/train_data[\"category_2\"]\n",
    "#train_data[\"p7\"] = (train_data[\"count_1\"]*train_data[\"item_price\"])/train_data[\"category_3\"]"
   ]
  },
  {
   "cell_type": "code",
   "execution_count": 108,
   "metadata": {
    "colab": {
     "base_uri": "https://localhost:8080/",
     "height": 165
    },
    "colab_type": "code",
    "id": "0TpEdl5HNzG_",
    "outputId": "44008e5b-8467-4879-bced-5147fe98fb33"
   },
   "outputs": [
    {
     "data": {
      "text/html": [
       "<div>\n",
       "<style scoped>\n",
       "    .dataframe tbody tr th:only-of-type {\n",
       "        vertical-align: middle;\n",
       "    }\n",
       "\n",
       "    .dataframe tbody tr th {\n",
       "        vertical-align: top;\n",
       "    }\n",
       "\n",
       "    .dataframe thead th {\n",
       "        text-align: right;\n",
       "    }\n",
       "</style>\n",
       "<table border=\"1\" class=\"dataframe\">\n",
       "  <thead>\n",
       "    <tr style=\"text-align: right;\">\n",
       "      <th></th>\n",
       "      <th>impression_id</th>\n",
       "      <th>impression_time</th>\n",
       "      <th>user_id</th>\n",
       "      <th>app_code</th>\n",
       "      <th>os_version</th>\n",
       "      <th>is_4G</th>\n",
       "      <th>server_time</th>\n",
       "      <th>device_type</th>\n",
       "      <th>session_id</th>\n",
       "      <th>item_id</th>\n",
       "      <th>item_price</th>\n",
       "      <th>category_1</th>\n",
       "      <th>category_2</th>\n",
       "      <th>category_3</th>\n",
       "      <th>product_type</th>\n",
       "      <th>count_1</th>\n",
       "      <th>pp</th>\n",
       "      <th>cat_new1</th>\n",
       "      <th>cat_new2</th>\n",
       "      <th>cat_new3</th>\n",
       "      <th>count_12</th>\n",
       "      <th>count_4</th>\n",
       "      <th>count_14</th>\n",
       "      <th>count_6</th>\n",
       "      <th>count_16</th>\n",
       "      <th>count_8</th>\n",
       "      <th>count_18</th>\n",
       "      <th>count_20</th>\n",
       "      <th>count_200</th>\n",
       "      <th>count_22</th>\n",
       "      <th>day_ser</th>\n",
       "      <th>week_ser</th>\n",
       "      <th>hour_imp</th>\n",
       "      <th>hour_ser</th>\n",
       "      <th>day_week_ser</th>\n",
       "      <th>day_week_imp</th>\n",
       "      <th>noon_ser</th>\n",
       "      <th>noon_imp</th>\n",
       "      <th>diff</th>\n",
       "      <th>count_212</th>\n",
       "      <th>count_24</th>\n",
       "      <th>count_214</th>\n",
       "      <th>count</th>\n",
       "      <th>301</th>\n",
       "      <th>302</th>\n",
       "      <th>303</th>\n",
       "      <th>304</th>\n",
       "      <th>305</th>\n",
       "      <th>306</th>\n",
       "      <th>307</th>\n",
       "      <th>313</th>\n",
       "      <th>314</th>\n",
       "      <th>cat11</th>\n",
       "      <th>p1</th>\n",
       "      <th>p2</th>\n",
       "      <th>p3</th>\n",
       "    </tr>\n",
       "  </thead>\n",
       "  <tbody>\n",
       "    <tr>\n",
       "      <th>14924577</th>\n",
       "      <td>539145030fb3600d26d6a64130310035</td>\n",
       "      <td>2018-12-18 23:59:00</td>\n",
       "      <td>82078</td>\n",
       "      <td>242</td>\n",
       "      <td>latest</td>\n",
       "      <td>1</td>\n",
       "      <td>2018-12-11 09:53:00</td>\n",
       "      <td>android</td>\n",
       "      <td>994516</td>\n",
       "      <td>70965</td>\n",
       "      <td>3744.0</td>\n",
       "      <td>16.0</td>\n",
       "      <td>56.0</td>\n",
       "      <td>17.0</td>\n",
       "      <td>9227.0</td>\n",
       "      <td>9</td>\n",
       "      <td>416.000000</td>\n",
       "      <td>1.777778</td>\n",
       "      <td>6.222222</td>\n",
       "      <td>1.888889</td>\n",
       "      <td>175445</td>\n",
       "      <td>613022.0</td>\n",
       "      <td>186073.0</td>\n",
       "      <td>43999.0</td>\n",
       "      <td>29680.0</td>\n",
       "      <td>7844613</td>\n",
       "      <td>153</td>\n",
       "      <td>19716</td>\n",
       "      <td>25016.0</td>\n",
       "      <td>17</td>\n",
       "      <td>11</td>\n",
       "      <td>50</td>\n",
       "      <td>23</td>\n",
       "      <td>9</td>\n",
       "      <td>1</td>\n",
       "      <td>1</td>\n",
       "      <td>morning</td>\n",
       "      <td>nignt</td>\n",
       "      <td>840</td>\n",
       "      <td>3838254</td>\n",
       "      <td>586207</td>\n",
       "      <td>2389736</td>\n",
       "      <td>609920</td>\n",
       "      <td>19493.888889</td>\n",
       "      <td>68113.555556</td>\n",
       "      <td>20674.777778</td>\n",
       "      <td>4888.777778</td>\n",
       "      <td>3297.777778</td>\n",
       "      <td>17.0</td>\n",
       "      <td>2779.555556</td>\n",
       "      <td>871623.666667</td>\n",
       "      <td>2190.666667</td>\n",
       "      <td>5.333333</td>\n",
       "      <td>6656.000000</td>\n",
       "      <td>23296.0</td>\n",
       "      <td>7072.000000</td>\n",
       "    </tr>\n",
       "    <tr>\n",
       "      <th>14924578</th>\n",
       "      <td>539145030fb3600d26d6a64130310035</td>\n",
       "      <td>2018-12-18 23:59:00</td>\n",
       "      <td>82078</td>\n",
       "      <td>242</td>\n",
       "      <td>latest</td>\n",
       "      <td>1</td>\n",
       "      <td>2018-12-11 15:47:00</td>\n",
       "      <td>android</td>\n",
       "      <td>57901</td>\n",
       "      <td>35963</td>\n",
       "      <td>22528.0</td>\n",
       "      <td>10.0</td>\n",
       "      <td>63.0</td>\n",
       "      <td>220.0</td>\n",
       "      <td>9959.0</td>\n",
       "      <td>9</td>\n",
       "      <td>2503.111111</td>\n",
       "      <td>1.111111</td>\n",
       "      <td>7.000000</td>\n",
       "      <td>24.444444</td>\n",
       "      <td>175445</td>\n",
       "      <td>831106.0</td>\n",
       "      <td>350728.0</td>\n",
       "      <td>217217.0</td>\n",
       "      <td>74867.0</td>\n",
       "      <td>7844613</td>\n",
       "      <td>153</td>\n",
       "      <td>16272</td>\n",
       "      <td>16498.0</td>\n",
       "      <td>17</td>\n",
       "      <td>11</td>\n",
       "      <td>50</td>\n",
       "      <td>23</td>\n",
       "      <td>15</td>\n",
       "      <td>1</td>\n",
       "      <td>1</td>\n",
       "      <td>noon</td>\n",
       "      <td>nignt</td>\n",
       "      <td>480</td>\n",
       "      <td>5975953</td>\n",
       "      <td>586207</td>\n",
       "      <td>2389736</td>\n",
       "      <td>609920</td>\n",
       "      <td>19493.888889</td>\n",
       "      <td>92345.111111</td>\n",
       "      <td>38969.777778</td>\n",
       "      <td>24135.222222</td>\n",
       "      <td>8318.555556</td>\n",
       "      <td>17.0</td>\n",
       "      <td>1833.111111</td>\n",
       "      <td>871623.666667</td>\n",
       "      <td>1808.000000</td>\n",
       "      <td>3.333333</td>\n",
       "      <td>25031.111111</td>\n",
       "      <td>157696.0</td>\n",
       "      <td>550684.444444</td>\n",
       "    </tr>\n",
       "  </tbody>\n",
       "</table>\n",
       "</div>"
      ],
      "text/plain": [
       "                             impression_id  ...             p3\n",
       "14924577  539145030fb3600d26d6a64130310035  ...    7072.000000\n",
       "14924578  539145030fb3600d26d6a64130310035  ...  550684.444444\n",
       "\n",
       "[2 rows x 56 columns]"
      ]
     },
     "execution_count": 108,
     "metadata": {
      "tags": []
     },
     "output_type": "execute_result"
    }
   ],
   "source": [
    "#train_data.sort_values(\"server_time\")\n",
    "train_data.tail(2)"
   ]
  },
  {
   "cell_type": "markdown",
   "metadata": {
    "colab_type": "text",
    "id": "ywAXUjuTThfg"
   },
   "source": [
    "# Final"
   ]
  },
  {
   "cell_type": "code",
   "execution_count": 109,
   "metadata": {
    "colab": {
     "base_uri": "https://localhost:8080/",
     "height": 34
    },
    "colab_type": "code",
    "id": "NYARsetM5EuB",
    "outputId": "0dde862d-e4a1-4f87-ac01-2b0fd311be1e"
   },
   "outputs": [
    {
     "data": {
      "text/plain": [
       "(14924579, 56)"
      ]
     },
     "execution_count": 109,
     "metadata": {
      "tags": []
     },
     "output_type": "execute_result"
    }
   ],
   "source": [
    "train_data.shape"
   ]
  },
  {
   "cell_type": "code",
   "execution_count": 0,
   "metadata": {
    "colab": {},
    "colab_type": "code",
    "id": "ehsIxDwPU13t"
   },
   "outputs": [],
   "source": [
    "train_data.fillna(0, inplace=True)\n",
    "#test_data.fillna(0, inplace=True)"
   ]
  },
  {
   "cell_type": "code",
   "execution_count": 0,
   "metadata": {
    "colab": {},
    "colab_type": "code",
    "id": "PiuZQxwqTi-d"
   },
   "outputs": [],
   "source": [
    "#train_data[\"impression_time\"] = pd.to_datetime(train_data[\"impression_time\"])"
   ]
  },
  {
   "cell_type": "code",
   "execution_count": 112,
   "metadata": {
    "colab": {
     "base_uri": "https://localhost:8080/",
     "height": 165
    },
    "colab_type": "code",
    "id": "J597lO6sTjDM",
    "outputId": "69ff55b5-5b0a-4356-f3de-f0e44e41f632"
   },
   "outputs": [
    {
     "data": {
      "text/html": [
       "<div>\n",
       "<style scoped>\n",
       "    .dataframe tbody tr th:only-of-type {\n",
       "        vertical-align: middle;\n",
       "    }\n",
       "\n",
       "    .dataframe tbody tr th {\n",
       "        vertical-align: top;\n",
       "    }\n",
       "\n",
       "    .dataframe thead th {\n",
       "        text-align: right;\n",
       "    }\n",
       "</style>\n",
       "<table border=\"1\" class=\"dataframe\">\n",
       "  <thead>\n",
       "    <tr style=\"text-align: right;\">\n",
       "      <th></th>\n",
       "      <th>impression_id</th>\n",
       "      <th>impression_time</th>\n",
       "      <th>user_id</th>\n",
       "      <th>app_code</th>\n",
       "      <th>os_version</th>\n",
       "      <th>is_4G</th>\n",
       "      <th>server_time</th>\n",
       "      <th>device_type</th>\n",
       "      <th>session_id</th>\n",
       "      <th>item_id</th>\n",
       "      <th>item_price</th>\n",
       "      <th>category_1</th>\n",
       "      <th>category_2</th>\n",
       "      <th>category_3</th>\n",
       "      <th>product_type</th>\n",
       "      <th>count_1</th>\n",
       "      <th>pp</th>\n",
       "      <th>cat_new1</th>\n",
       "      <th>cat_new2</th>\n",
       "      <th>cat_new3</th>\n",
       "      <th>count_12</th>\n",
       "      <th>count_4</th>\n",
       "      <th>count_14</th>\n",
       "      <th>count_6</th>\n",
       "      <th>count_16</th>\n",
       "      <th>count_8</th>\n",
       "      <th>count_18</th>\n",
       "      <th>count_20</th>\n",
       "      <th>count_200</th>\n",
       "      <th>count_22</th>\n",
       "      <th>day_ser</th>\n",
       "      <th>week_ser</th>\n",
       "      <th>hour_imp</th>\n",
       "      <th>hour_ser</th>\n",
       "      <th>day_week_ser</th>\n",
       "      <th>day_week_imp</th>\n",
       "      <th>noon_ser</th>\n",
       "      <th>noon_imp</th>\n",
       "      <th>diff</th>\n",
       "      <th>count_212</th>\n",
       "      <th>count_24</th>\n",
       "      <th>count_214</th>\n",
       "      <th>count</th>\n",
       "      <th>301</th>\n",
       "      <th>302</th>\n",
       "      <th>303</th>\n",
       "      <th>304</th>\n",
       "      <th>305</th>\n",
       "      <th>306</th>\n",
       "      <th>307</th>\n",
       "      <th>313</th>\n",
       "      <th>314</th>\n",
       "      <th>cat11</th>\n",
       "      <th>p1</th>\n",
       "      <th>p2</th>\n",
       "      <th>p3</th>\n",
       "    </tr>\n",
       "  </thead>\n",
       "  <tbody>\n",
       "    <tr>\n",
       "      <th>0</th>\n",
       "      <td>c4ca4238a0b923820dcc509a6f75849b</td>\n",
       "      <td>2018-11-15 00:00:00</td>\n",
       "      <td>87862</td>\n",
       "      <td>422</td>\n",
       "      <td>old</td>\n",
       "      <td>0</td>\n",
       "      <td>2018-10-19 18:11:00</td>\n",
       "      <td>android</td>\n",
       "      <td>190710</td>\n",
       "      <td>43886</td>\n",
       "      <td>2350.0</td>\n",
       "      <td>11.0</td>\n",
       "      <td>35.0</td>\n",
       "      <td>20.0</td>\n",
       "      <td>5622.0</td>\n",
       "      <td>1</td>\n",
       "      <td>2350.000000</td>\n",
       "      <td>11.000000</td>\n",
       "      <td>35.000000</td>\n",
       "      <td>20.000000</td>\n",
       "      <td>30936</td>\n",
       "      <td>1129976.0</td>\n",
       "      <td>259780.0</td>\n",
       "      <td>125694.0</td>\n",
       "      <td>143701.0</td>\n",
       "      <td>3280315</td>\n",
       "      <td>3</td>\n",
       "      <td>377</td>\n",
       "      <td>995.0</td>\n",
       "      <td>3</td>\n",
       "      <td>19</td>\n",
       "      <td>42</td>\n",
       "      <td>0</td>\n",
       "      <td>18</td>\n",
       "      <td>4</td>\n",
       "      <td>3</td>\n",
       "      <td>noon</td>\n",
       "      <td>nignt</td>\n",
       "      <td>1080</td>\n",
       "      <td>5975953</td>\n",
       "      <td>491494</td>\n",
       "      <td>1925657</td>\n",
       "      <td>1576070</td>\n",
       "      <td>30936.000000</td>\n",
       "      <td>1129976.00</td>\n",
       "      <td>259780.0</td>\n",
       "      <td>125694.000000</td>\n",
       "      <td>143701.00</td>\n",
       "      <td>3.0</td>\n",
       "      <td>995.000000</td>\n",
       "      <td>3280315.00</td>\n",
       "      <td>377.000000</td>\n",
       "      <td>33.0</td>\n",
       "      <td>25850.000000</td>\n",
       "      <td>82250.000000</td>\n",
       "      <td>47000.000000</td>\n",
       "    </tr>\n",
       "    <tr>\n",
       "      <th>1</th>\n",
       "      <td>45c48cce2e2d7fbdea1afc51c7c6ad26</td>\n",
       "      <td>2018-11-15 00:01:00</td>\n",
       "      <td>63410</td>\n",
       "      <td>467</td>\n",
       "      <td>latest</td>\n",
       "      <td>1</td>\n",
       "      <td>2018-10-21 06:13:00</td>\n",
       "      <td>android</td>\n",
       "      <td>356854</td>\n",
       "      <td>43209</td>\n",
       "      <td>3421.0</td>\n",
       "      <td>4.0</td>\n",
       "      <td>74.0</td>\n",
       "      <td>292.0</td>\n",
       "      <td>577.0</td>\n",
       "      <td>12</td>\n",
       "      <td>285.083333</td>\n",
       "      <td>0.333333</td>\n",
       "      <td>6.166667</td>\n",
       "      <td>24.333333</td>\n",
       "      <td>11867</td>\n",
       "      <td>1397337.0</td>\n",
       "      <td>492090.0</td>\n",
       "      <td>490837.0</td>\n",
       "      <td>1305.0</td>\n",
       "      <td>7844613</td>\n",
       "      <td>732</td>\n",
       "      <td>892</td>\n",
       "      <td>1019.0</td>\n",
       "      <td>122</td>\n",
       "      <td>21</td>\n",
       "      <td>42</td>\n",
       "      <td>0</td>\n",
       "      <td>6</td>\n",
       "      <td>6</td>\n",
       "      <td>3</td>\n",
       "      <td>morning</td>\n",
       "      <td>nignt</td>\n",
       "      <td>360</td>\n",
       "      <td>3838254</td>\n",
       "      <td>545764</td>\n",
       "      <td>2191111</td>\n",
       "      <td>1576070</td>\n",
       "      <td>988.916667</td>\n",
       "      <td>116444.75</td>\n",
       "      <td>41007.5</td>\n",
       "      <td>40903.083333</td>\n",
       "      <td>108.75</td>\n",
       "      <td>61.0</td>\n",
       "      <td>84.916667</td>\n",
       "      <td>653717.75</td>\n",
       "      <td>74.333333</td>\n",
       "      <td>1.0</td>\n",
       "      <td>1140.333333</td>\n",
       "      <td>21096.166667</td>\n",
       "      <td>83244.333333</td>\n",
       "    </tr>\n",
       "  </tbody>\n",
       "</table>\n",
       "</div>"
      ],
      "text/plain": [
       "                      impression_id  ...            p3\n",
       "0  c4ca4238a0b923820dcc509a6f75849b  ...  47000.000000\n",
       "1  45c48cce2e2d7fbdea1afc51c7c6ad26  ...  83244.333333\n",
       "\n",
       "[2 rows x 56 columns]"
      ]
     },
     "execution_count": 112,
     "metadata": {
      "tags": []
     },
     "output_type": "execute_result"
    }
   ],
   "source": [
    "#train_data.sort_values(\"impression_time\")\n",
    "train_data.head(2)"
   ]
  },
  {
   "cell_type": "code",
   "execution_count": 0,
   "metadata": {
    "colab": {},
    "colab_type": "code",
    "id": "iKLwreYcwjWd"
   },
   "outputs": [],
   "source": [
    "#test_data.head(2)"
   ]
  },
  {
   "cell_type": "code",
   "execution_count": 0,
   "metadata": {
    "colab": {},
    "colab_type": "code",
    "id": "sy5LNLsFTjGb"
   },
   "outputs": [],
   "source": [
    "#target = train_data[\"is_click\"] \n",
    "#train_data.drop(['is_click'], axis=1, inplace=True)\n",
    "#test_1 = test_data.copy()"
   ]
  },
  {
   "cell_type": "code",
   "execution_count": 0,
   "metadata": {
    "colab": {},
    "colab_type": "code",
    "id": "RMzvRloAdAHI"
   },
   "outputs": [],
   "source": []
  },
  {
   "cell_type": "code",
   "execution_count": 0,
   "metadata": {
    "colab": {},
    "colab_type": "code",
    "id": "lHv0b6hCaNJw"
   },
   "outputs": [],
   "source": [
    "train_data.drop_duplicates(subset=[\"impression_id\"], keep=\"first\", inplace=True)\n"
   ]
  },
  {
   "cell_type": "code",
   "execution_count": 0,
   "metadata": {
    "colab": {},
    "colab_type": "code",
    "id": "G96TjmlaWAud"
   },
   "outputs": [],
   "source": [
    "\n",
    "#test_data.drop(['impression_id', \"impression_time\", \"server_time\", \"user_id\",\"os_version\",\"device_type\",\"noon_ser\", \"noon_imp\"], axis=1, inplace=True)"
   ]
  },
  {
   "cell_type": "code",
   "execution_count": 0,
   "metadata": {
    "colab": {},
    "colab_type": "code",
    "id": "ghtF46wBlmMQ"
   },
   "outputs": [],
   "source": [
    "# [\"noon_ser\", \"noon_imp\", \"hour_ser\", \"hour_imp\",\"device_type\",\"os_version\",\"session_id\",\"item_id\",\"product_type\",\"user_id\"\\\n",
    "#                       ,\"day_week_imp\",\"day_week_ser\",\"week_ser\",\"week_imp\",\"app_code\",\"day_ser\",\"count\",\"count_y\",\"diff\"]"
   ]
  },
  {
   "cell_type": "code",
   "execution_count": 0,
   "metadata": {
    "colab": {},
    "colab_type": "code",
    "id": "jw3axBoJO1aJ"
   },
   "outputs": [],
   "source": [
    "#! pip3 install catboost"
   ]
  },
  {
   "cell_type": "code",
   "execution_count": 0,
   "metadata": {
    "colab": {},
    "colab_type": "code",
    "id": "xMuQqCavMtdU"
   },
   "outputs": [],
   "source": [
    "#a = pd.get_dummies(train_data[\"device_type\"])\n",
    "#b = pd.get_dummies(train_data[\"noon_ser\"])\n",
    "#c = pd.get_dummies(train_data[\"noon_imp\"])\n",
    "#d = pd.get_dummies(train_data[\"os_version\"])\n",
    "#frames = [train_data,b,c,d]\n",
    "#train_data = pd.concat(frames, axis=1)"
   ]
  },
  {
   "cell_type": "code",
   "execution_count": 0,
   "metadata": {
    "colab": {},
    "colab_type": "code",
    "id": "pWGOWKBsj7dR"
   },
   "outputs": [],
   "source": [
    "train_data.drop(['impression_id', \"impression_time\", \"server_time\", \"device_type\", \"noon_ser\", \"noon_imp\", \"os_version\"], axis=1, inplace=True)"
   ]
  },
  {
   "cell_type": "code",
   "execution_count": 0,
   "metadata": {
    "colab": {},
    "colab_type": "code",
    "id": "VmLSYnWQN3cB"
   },
   "outputs": [],
   "source": [
    "#train_data.drop(['impression_id', \"impression_time\", \"server_time\", \"device_type\", \"noon_ser\", \"noon_imp\", \"os_version\"\\\n",
    "#                ,\"app_code\", \"user_id\", \"item_id\", \"item_price\", \"category_1\", \"category_2\", \"category_3\", \"product_type\"], axis=1, inplace=True)"
   ]
  },
  {
   "cell_type": "code",
   "execution_count": 0,
   "metadata": {
    "colab": {},
    "colab_type": "code",
    "id": "uz-kIEwnjkzN"
   },
   "outputs": [],
   "source": []
  },
  {
   "cell_type": "code",
   "execution_count": 122,
   "metadata": {
    "colab": {
     "base_uri": "https://localhost:8080/",
     "height": 224
    },
    "colab_type": "code",
    "id": "TXQka3EGSu19",
    "outputId": "53f0a736-58be-4ed6-8955-f593e8fe8e11"
   },
   "outputs": [
    {
     "data": {
      "text/html": [
       "<div>\n",
       "<style scoped>\n",
       "    .dataframe tbody tr th:only-of-type {\n",
       "        vertical-align: middle;\n",
       "    }\n",
       "\n",
       "    .dataframe tbody tr th {\n",
       "        vertical-align: top;\n",
       "    }\n",
       "\n",
       "    .dataframe thead th {\n",
       "        text-align: right;\n",
       "    }\n",
       "</style>\n",
       "<table border=\"1\" class=\"dataframe\">\n",
       "  <thead>\n",
       "    <tr style=\"text-align: right;\">\n",
       "      <th></th>\n",
       "      <th>user_id</th>\n",
       "      <th>app_code</th>\n",
       "      <th>is_4G</th>\n",
       "      <th>session_id</th>\n",
       "      <th>item_id</th>\n",
       "      <th>item_price</th>\n",
       "      <th>category_1</th>\n",
       "      <th>category_2</th>\n",
       "      <th>category_3</th>\n",
       "      <th>product_type</th>\n",
       "      <th>count_1</th>\n",
       "      <th>pp</th>\n",
       "      <th>cat_new1</th>\n",
       "      <th>cat_new2</th>\n",
       "      <th>cat_new3</th>\n",
       "      <th>count_12</th>\n",
       "      <th>count_4</th>\n",
       "      <th>count_14</th>\n",
       "      <th>count_6</th>\n",
       "      <th>count_16</th>\n",
       "      <th>count_8</th>\n",
       "      <th>count_18</th>\n",
       "      <th>count_20</th>\n",
       "      <th>count_200</th>\n",
       "      <th>count_22</th>\n",
       "      <th>day_ser</th>\n",
       "      <th>week_ser</th>\n",
       "      <th>hour_imp</th>\n",
       "      <th>hour_ser</th>\n",
       "      <th>day_week_ser</th>\n",
       "      <th>day_week_imp</th>\n",
       "      <th>diff</th>\n",
       "      <th>count_212</th>\n",
       "      <th>count_24</th>\n",
       "      <th>count_214</th>\n",
       "      <th>count</th>\n",
       "      <th>301</th>\n",
       "      <th>302</th>\n",
       "      <th>303</th>\n",
       "      <th>304</th>\n",
       "      <th>305</th>\n",
       "      <th>306</th>\n",
       "      <th>307</th>\n",
       "      <th>313</th>\n",
       "      <th>314</th>\n",
       "      <th>cat11</th>\n",
       "      <th>p1</th>\n",
       "      <th>p2</th>\n",
       "      <th>p3</th>\n",
       "    </tr>\n",
       "  </thead>\n",
       "  <tbody>\n",
       "    <tr>\n",
       "      <th>14924495</th>\n",
       "      <td>69289</td>\n",
       "      <td>371</td>\n",
       "      <td>0</td>\n",
       "      <td>112526</td>\n",
       "      <td>117580</td>\n",
       "      <td>10816.0</td>\n",
       "      <td>10.0</td>\n",
       "      <td>63.0</td>\n",
       "      <td>220.0</td>\n",
       "      <td>12.0</td>\n",
       "      <td>29</td>\n",
       "      <td>372.965517</td>\n",
       "      <td>0.344828</td>\n",
       "      <td>2.172414</td>\n",
       "      <td>7.586207</td>\n",
       "      <td>459228</td>\n",
       "      <td>831106.0</td>\n",
       "      <td>350728.0</td>\n",
       "      <td>217217.0</td>\n",
       "      <td>37570.0</td>\n",
       "      <td>7844613</td>\n",
       "      <td>696</td>\n",
       "      <td>20435</td>\n",
       "      <td>48657.0</td>\n",
       "      <td>24</td>\n",
       "      <td>3</td>\n",
       "      <td>44</td>\n",
       "      <td>23</td>\n",
       "      <td>16</td>\n",
       "      <td>5</td>\n",
       "      <td>1</td>\n",
       "      <td>420</td>\n",
       "      <td>5975953</td>\n",
       "      <td>550282</td>\n",
       "      <td>2035041</td>\n",
       "      <td>1723263</td>\n",
       "      <td>15835.448276</td>\n",
       "      <td>28658.827586</td>\n",
       "      <td>12094.068966</td>\n",
       "      <td>7490.241379</td>\n",
       "      <td>1295.517241</td>\n",
       "      <td>24.0</td>\n",
       "      <td>1677.827586</td>\n",
       "      <td>270503.896552</td>\n",
       "      <td>704.655172</td>\n",
       "      <td>1.034483</td>\n",
       "      <td>3729.655172</td>\n",
       "      <td>23496.827586</td>\n",
       "      <td>8.205241e+04</td>\n",
       "    </tr>\n",
       "    <tr>\n",
       "      <th>14924524</th>\n",
       "      <td>28539</td>\n",
       "      <td>151</td>\n",
       "      <td>1</td>\n",
       "      <td>104851</td>\n",
       "      <td>89373</td>\n",
       "      <td>2496.0</td>\n",
       "      <td>17.0</td>\n",
       "      <td>8.0</td>\n",
       "      <td>113.0</td>\n",
       "      <td>10025.0</td>\n",
       "      <td>9</td>\n",
       "      <td>277.333333</td>\n",
       "      <td>1.888889</td>\n",
       "      <td>0.888889</td>\n",
       "      <td>12.555556</td>\n",
       "      <td>107935</td>\n",
       "      <td>1851556.0</td>\n",
       "      <td>729921.0</td>\n",
       "      <td>233991.0</td>\n",
       "      <td>94638.0</td>\n",
       "      <td>7844613</td>\n",
       "      <td>81</td>\n",
       "      <td>35884</td>\n",
       "      <td>130461.0</td>\n",
       "      <td>18</td>\n",
       "      <td>19</td>\n",
       "      <td>42</td>\n",
       "      <td>23</td>\n",
       "      <td>15</td>\n",
       "      <td>4</td>\n",
       "      <td>1</td>\n",
       "      <td>480</td>\n",
       "      <td>5975953</td>\n",
       "      <td>491494</td>\n",
       "      <td>1925657</td>\n",
       "      <td>1576070</td>\n",
       "      <td>11992.777778</td>\n",
       "      <td>205728.444444</td>\n",
       "      <td>81102.333333</td>\n",
       "      <td>25999.000000</td>\n",
       "      <td>10515.333333</td>\n",
       "      <td>9.0</td>\n",
       "      <td>14495.666667</td>\n",
       "      <td>871623.666667</td>\n",
       "      <td>3987.111111</td>\n",
       "      <td>5.666667</td>\n",
       "      <td>4714.666667</td>\n",
       "      <td>2218.666667</td>\n",
       "      <td>3.133867e+04</td>\n",
       "    </tr>\n",
       "    <tr>\n",
       "      <th>14924533</th>\n",
       "      <td>54764</td>\n",
       "      <td>243</td>\n",
       "      <td>0</td>\n",
       "      <td>460258</td>\n",
       "      <td>1525</td>\n",
       "      <td>2553.0</td>\n",
       "      <td>16.0</td>\n",
       "      <td>56.0</td>\n",
       "      <td>93.0</td>\n",
       "      <td>8986.0</td>\n",
       "      <td>17</td>\n",
       "      <td>150.176471</td>\n",
       "      <td>0.941176</td>\n",
       "      <td>3.294118</td>\n",
       "      <td>5.470588</td>\n",
       "      <td>1947</td>\n",
       "      <td>613022.0</td>\n",
       "      <td>186073.0</td>\n",
       "      <td>24277.0</td>\n",
       "      <td>8775.0</td>\n",
       "      <td>3280315</td>\n",
       "      <td>204</td>\n",
       "      <td>4066</td>\n",
       "      <td>65675.0</td>\n",
       "      <td>12</td>\n",
       "      <td>17</td>\n",
       "      <td>42</td>\n",
       "      <td>23</td>\n",
       "      <td>17</td>\n",
       "      <td>2</td>\n",
       "      <td>1</td>\n",
       "      <td>360</td>\n",
       "      <td>5975953</td>\n",
       "      <td>543018</td>\n",
       "      <td>2063932</td>\n",
       "      <td>1576070</td>\n",
       "      <td>114.529412</td>\n",
       "      <td>36060.117647</td>\n",
       "      <td>10945.470588</td>\n",
       "      <td>1428.058824</td>\n",
       "      <td>516.176471</td>\n",
       "      <td>12.0</td>\n",
       "      <td>3863.235294</td>\n",
       "      <td>192959.705882</td>\n",
       "      <td>239.176471</td>\n",
       "      <td>2.823529</td>\n",
       "      <td>2402.823529</td>\n",
       "      <td>8409.882353</td>\n",
       "      <td>1.396641e+04</td>\n",
       "    </tr>\n",
       "    <tr>\n",
       "      <th>14924550</th>\n",
       "      <td>22313</td>\n",
       "      <td>272</td>\n",
       "      <td>1</td>\n",
       "      <td>27786</td>\n",
       "      <td>109289</td>\n",
       "      <td>4025.0</td>\n",
       "      <td>16.0</td>\n",
       "      <td>56.0</td>\n",
       "      <td>42.0</td>\n",
       "      <td>7962.0</td>\n",
       "      <td>20</td>\n",
       "      <td>201.250000</td>\n",
       "      <td>0.800000</td>\n",
       "      <td>2.800000</td>\n",
       "      <td>2.100000</td>\n",
       "      <td>6421</td>\n",
       "      <td>613022.0</td>\n",
       "      <td>186073.0</td>\n",
       "      <td>7472.0</td>\n",
       "      <td>6926.0</td>\n",
       "      <td>7844613</td>\n",
       "      <td>120</td>\n",
       "      <td>2894</td>\n",
       "      <td>5739.0</td>\n",
       "      <td>6</td>\n",
       "      <td>15</td>\n",
       "      <td>42</td>\n",
       "      <td>23</td>\n",
       "      <td>19</td>\n",
       "      <td>0</td>\n",
       "      <td>1</td>\n",
       "      <td>240</td>\n",
       "      <td>5975953</td>\n",
       "      <td>487821</td>\n",
       "      <td>2338812</td>\n",
       "      <td>1576070</td>\n",
       "      <td>321.050000</td>\n",
       "      <td>30651.100000</td>\n",
       "      <td>9303.650000</td>\n",
       "      <td>373.600000</td>\n",
       "      <td>346.300000</td>\n",
       "      <td>6.0</td>\n",
       "      <td>286.950000</td>\n",
       "      <td>392230.650000</td>\n",
       "      <td>144.700000</td>\n",
       "      <td>2.400000</td>\n",
       "      <td>3220.000000</td>\n",
       "      <td>11270.000000</td>\n",
       "      <td>8.452500e+03</td>\n",
       "    </tr>\n",
       "    <tr>\n",
       "      <th>14924570</th>\n",
       "      <td>82078</td>\n",
       "      <td>242</td>\n",
       "      <td>1</td>\n",
       "      <td>580845</td>\n",
       "      <td>66430</td>\n",
       "      <td>61190.0</td>\n",
       "      <td>1.0</td>\n",
       "      <td>42.0</td>\n",
       "      <td>157.0</td>\n",
       "      <td>5208.0</td>\n",
       "      <td>9</td>\n",
       "      <td>6798.888889</td>\n",
       "      <td>0.111111</td>\n",
       "      <td>4.666667</td>\n",
       "      <td>17.444444</td>\n",
       "      <td>175445</td>\n",
       "      <td>1776423.0</td>\n",
       "      <td>603243.0</td>\n",
       "      <td>303179.0</td>\n",
       "      <td>32668.0</td>\n",
       "      <td>7844613</td>\n",
       "      <td>153</td>\n",
       "      <td>14310</td>\n",
       "      <td>14311.0</td>\n",
       "      <td>85</td>\n",
       "      <td>30</td>\n",
       "      <td>48</td>\n",
       "      <td>23</td>\n",
       "      <td>11</td>\n",
       "      <td>4</td>\n",
       "      <td>1</td>\n",
       "      <td>720</td>\n",
       "      <td>3838254</td>\n",
       "      <td>478883</td>\n",
       "      <td>1925657</td>\n",
       "      <td>1645014</td>\n",
       "      <td>19493.888889</td>\n",
       "      <td>197380.333333</td>\n",
       "      <td>67027.000000</td>\n",
       "      <td>33686.555556</td>\n",
       "      <td>3629.777778</td>\n",
       "      <td>17.0</td>\n",
       "      <td>1590.111111</td>\n",
       "      <td>871623.666667</td>\n",
       "      <td>1590.000000</td>\n",
       "      <td>0.333333</td>\n",
       "      <td>6798.888889</td>\n",
       "      <td>285553.333333</td>\n",
       "      <td>1.067426e+06</td>\n",
       "    </tr>\n",
       "  </tbody>\n",
       "</table>\n",
       "</div>"
      ],
      "text/plain": [
       "          user_id  app_code  is_4G  ...           p1             p2            p3\n",
       "14924495    69289       371      0  ...  3729.655172   23496.827586  8.205241e+04\n",
       "14924524    28539       151      1  ...  4714.666667    2218.666667  3.133867e+04\n",
       "14924533    54764       243      0  ...  2402.823529    8409.882353  1.396641e+04\n",
       "14924550    22313       272      1  ...  3220.000000   11270.000000  8.452500e+03\n",
       "14924570    82078       242      1  ...  6798.888889  285553.333333  1.067426e+06\n",
       "\n",
       "[5 rows x 49 columns]"
      ]
     },
     "execution_count": 122,
     "metadata": {
      "tags": []
     },
     "output_type": "execute_result"
    }
   ],
   "source": [
    "train_data.tail(5)"
   ]
  },
  {
   "cell_type": "code",
   "execution_count": 0,
   "metadata": {
    "colab": {},
    "colab_type": "code",
    "id": "lXeeNzpyQ3qE"
   },
   "outputs": [],
   "source": [
    "train_data.drop([\"session_id\"], axis=1, inplace=True)"
   ]
  },
  {
   "cell_type": "code",
   "execution_count": 0,
   "metadata": {
    "colab": {},
    "colab_type": "code",
    "id": "4KAGn3nyPCBM"
   },
   "outputs": [],
   "source": [
    "train = train_data.iloc[0:237609]\n"
   ]
  },
  {
   "cell_type": "code",
   "execution_count": 0,
   "metadata": {
    "colab": {},
    "colab_type": "code",
    "id": "eYDbAn8_VEJM"
   },
   "outputs": [],
   "source": [
    "test = train_data.iloc[237609:]"
   ]
  },
  {
   "cell_type": "code",
   "execution_count": 126,
   "metadata": {
    "colab": {
     "base_uri": "https://localhost:8080/",
     "height": 162
    },
    "colab_type": "code",
    "id": "1Ep_wgv6FEdX",
    "outputId": "93a40f61-8d0f-4eec-dd01-f79e3ef4a65f"
   },
   "outputs": [
    {
     "data": {
      "text/html": [
       "<div>\n",
       "<style scoped>\n",
       "    .dataframe tbody tr th:only-of-type {\n",
       "        vertical-align: middle;\n",
       "    }\n",
       "\n",
       "    .dataframe tbody tr th {\n",
       "        vertical-align: top;\n",
       "    }\n",
       "\n",
       "    .dataframe thead th {\n",
       "        text-align: right;\n",
       "    }\n",
       "</style>\n",
       "<table border=\"1\" class=\"dataframe\">\n",
       "  <thead>\n",
       "    <tr style=\"text-align: right;\">\n",
       "      <th></th>\n",
       "      <th>user_id</th>\n",
       "      <th>app_code</th>\n",
       "      <th>is_4G</th>\n",
       "      <th>item_id</th>\n",
       "      <th>item_price</th>\n",
       "      <th>category_1</th>\n",
       "      <th>category_2</th>\n",
       "      <th>category_3</th>\n",
       "      <th>product_type</th>\n",
       "      <th>count_1</th>\n",
       "      <th>pp</th>\n",
       "      <th>cat_new1</th>\n",
       "      <th>cat_new2</th>\n",
       "      <th>cat_new3</th>\n",
       "      <th>count_12</th>\n",
       "      <th>count_4</th>\n",
       "      <th>count_14</th>\n",
       "      <th>count_6</th>\n",
       "      <th>count_16</th>\n",
       "      <th>count_8</th>\n",
       "      <th>count_18</th>\n",
       "      <th>count_20</th>\n",
       "      <th>count_200</th>\n",
       "      <th>count_22</th>\n",
       "      <th>day_ser</th>\n",
       "      <th>week_ser</th>\n",
       "      <th>hour_imp</th>\n",
       "      <th>hour_ser</th>\n",
       "      <th>day_week_ser</th>\n",
       "      <th>day_week_imp</th>\n",
       "      <th>diff</th>\n",
       "      <th>count_212</th>\n",
       "      <th>count_24</th>\n",
       "      <th>count_214</th>\n",
       "      <th>count</th>\n",
       "      <th>301</th>\n",
       "      <th>302</th>\n",
       "      <th>303</th>\n",
       "      <th>304</th>\n",
       "      <th>305</th>\n",
       "      <th>306</th>\n",
       "      <th>307</th>\n",
       "      <th>313</th>\n",
       "      <th>314</th>\n",
       "      <th>cat11</th>\n",
       "      <th>p1</th>\n",
       "      <th>p2</th>\n",
       "      <th>p3</th>\n",
       "    </tr>\n",
       "  </thead>\n",
       "  <tbody>\n",
       "    <tr>\n",
       "      <th>0</th>\n",
       "      <td>87862</td>\n",
       "      <td>422</td>\n",
       "      <td>0</td>\n",
       "      <td>43886</td>\n",
       "      <td>2350.0</td>\n",
       "      <td>11.0</td>\n",
       "      <td>35.0</td>\n",
       "      <td>20.0</td>\n",
       "      <td>5622.0</td>\n",
       "      <td>1</td>\n",
       "      <td>2350.000000</td>\n",
       "      <td>11.000000</td>\n",
       "      <td>35.000000</td>\n",
       "      <td>20.000000</td>\n",
       "      <td>30936</td>\n",
       "      <td>1129976.0</td>\n",
       "      <td>259780.0</td>\n",
       "      <td>125694.0</td>\n",
       "      <td>143701.0</td>\n",
       "      <td>3280315</td>\n",
       "      <td>3</td>\n",
       "      <td>377</td>\n",
       "      <td>995.0</td>\n",
       "      <td>3</td>\n",
       "      <td>19</td>\n",
       "      <td>42</td>\n",
       "      <td>0</td>\n",
       "      <td>18</td>\n",
       "      <td>4</td>\n",
       "      <td>3</td>\n",
       "      <td>1080</td>\n",
       "      <td>5975953</td>\n",
       "      <td>491494</td>\n",
       "      <td>1925657</td>\n",
       "      <td>1576070</td>\n",
       "      <td>30936.000000</td>\n",
       "      <td>1129976.00</td>\n",
       "      <td>259780.0</td>\n",
       "      <td>125694.000000</td>\n",
       "      <td>143701.00</td>\n",
       "      <td>3.0</td>\n",
       "      <td>995.000000</td>\n",
       "      <td>3280315.00</td>\n",
       "      <td>377.000000</td>\n",
       "      <td>33.0</td>\n",
       "      <td>25850.000000</td>\n",
       "      <td>82250.000000</td>\n",
       "      <td>47000.000000</td>\n",
       "    </tr>\n",
       "    <tr>\n",
       "      <th>1</th>\n",
       "      <td>63410</td>\n",
       "      <td>467</td>\n",
       "      <td>1</td>\n",
       "      <td>43209</td>\n",
       "      <td>3421.0</td>\n",
       "      <td>4.0</td>\n",
       "      <td>74.0</td>\n",
       "      <td>292.0</td>\n",
       "      <td>577.0</td>\n",
       "      <td>12</td>\n",
       "      <td>285.083333</td>\n",
       "      <td>0.333333</td>\n",
       "      <td>6.166667</td>\n",
       "      <td>24.333333</td>\n",
       "      <td>11867</td>\n",
       "      <td>1397337.0</td>\n",
       "      <td>492090.0</td>\n",
       "      <td>490837.0</td>\n",
       "      <td>1305.0</td>\n",
       "      <td>7844613</td>\n",
       "      <td>732</td>\n",
       "      <td>892</td>\n",
       "      <td>1019.0</td>\n",
       "      <td>122</td>\n",
       "      <td>21</td>\n",
       "      <td>42</td>\n",
       "      <td>0</td>\n",
       "      <td>6</td>\n",
       "      <td>6</td>\n",
       "      <td>3</td>\n",
       "      <td>360</td>\n",
       "      <td>3838254</td>\n",
       "      <td>545764</td>\n",
       "      <td>2191111</td>\n",
       "      <td>1576070</td>\n",
       "      <td>988.916667</td>\n",
       "      <td>116444.75</td>\n",
       "      <td>41007.5</td>\n",
       "      <td>40903.083333</td>\n",
       "      <td>108.75</td>\n",
       "      <td>61.0</td>\n",
       "      <td>84.916667</td>\n",
       "      <td>653717.75</td>\n",
       "      <td>74.333333</td>\n",
       "      <td>1.0</td>\n",
       "      <td>1140.333333</td>\n",
       "      <td>21096.166667</td>\n",
       "      <td>83244.333333</td>\n",
       "    </tr>\n",
       "    <tr>\n",
       "      <th>13</th>\n",
       "      <td>71748</td>\n",
       "      <td>259</td>\n",
       "      <td>1</td>\n",
       "      <td>122348</td>\n",
       "      <td>973.0</td>\n",
       "      <td>13.0</td>\n",
       "      <td>67.0</td>\n",
       "      <td>170.0</td>\n",
       "      <td>2874.0</td>\n",
       "      <td>2</td>\n",
       "      <td>486.500000</td>\n",
       "      <td>6.500000</td>\n",
       "      <td>33.500000</td>\n",
       "      <td>85.000000</td>\n",
       "      <td>13007</td>\n",
       "      <td>1173480.0</td>\n",
       "      <td>239963.0</td>\n",
       "      <td>104225.0</td>\n",
       "      <td>474782.0</td>\n",
       "      <td>3799651</td>\n",
       "      <td>26</td>\n",
       "      <td>5190</td>\n",
       "      <td>5877.0</td>\n",
       "      <td>13</td>\n",
       "      <td>23</td>\n",
       "      <td>43</td>\n",
       "      <td>0</td>\n",
       "      <td>12</td>\n",
       "      <td>1</td>\n",
       "      <td>3</td>\n",
       "      <td>720</td>\n",
       "      <td>5975953</td>\n",
       "      <td>519326</td>\n",
       "      <td>2389736</td>\n",
       "      <td>1601341</td>\n",
       "      <td>6503.500000</td>\n",
       "      <td>586740.00</td>\n",
       "      <td>119981.5</td>\n",
       "      <td>52112.500000</td>\n",
       "      <td>237391.00</td>\n",
       "      <td>13.0</td>\n",
       "      <td>2938.500000</td>\n",
       "      <td>1899825.50</td>\n",
       "      <td>2595.000000</td>\n",
       "      <td>19.5</td>\n",
       "      <td>6324.500000</td>\n",
       "      <td>32595.500000</td>\n",
       "      <td>82705.000000</td>\n",
       "    </tr>\n",
       "  </tbody>\n",
       "</table>\n",
       "</div>"
      ],
      "text/plain": [
       "    user_id  app_code  is_4G  ...            p1            p2            p3\n",
       "0     87862       422      0  ...  25850.000000  82250.000000  47000.000000\n",
       "1     63410       467      1  ...   1140.333333  21096.166667  83244.333333\n",
       "13    71748       259      1  ...   6324.500000  32595.500000  82705.000000\n",
       "\n",
       "[3 rows x 48 columns]"
      ]
     },
     "execution_count": 126,
     "metadata": {
      "tags": []
     },
     "output_type": "execute_result"
    }
   ],
   "source": [
    "train.head(3)"
   ]
  },
  {
   "cell_type": "code",
   "execution_count": 127,
   "metadata": {
    "colab": {
     "base_uri": "https://localhost:8080/",
     "height": 162
    },
    "colab_type": "code",
    "id": "y9N1Zh_lFHFP",
    "outputId": "17e31d6f-0025-412f-a51e-1a140f6c64a0"
   },
   "outputs": [
    {
     "data": {
      "text/html": [
       "<div>\n",
       "<style scoped>\n",
       "    .dataframe tbody tr th:only-of-type {\n",
       "        vertical-align: middle;\n",
       "    }\n",
       "\n",
       "    .dataframe tbody tr th {\n",
       "        vertical-align: top;\n",
       "    }\n",
       "\n",
       "    .dataframe thead th {\n",
       "        text-align: right;\n",
       "    }\n",
       "</style>\n",
       "<table border=\"1\" class=\"dataframe\">\n",
       "  <thead>\n",
       "    <tr style=\"text-align: right;\">\n",
       "      <th></th>\n",
       "      <th>user_id</th>\n",
       "      <th>app_code</th>\n",
       "      <th>is_4G</th>\n",
       "      <th>item_id</th>\n",
       "      <th>item_price</th>\n",
       "      <th>category_1</th>\n",
       "      <th>category_2</th>\n",
       "      <th>category_3</th>\n",
       "      <th>product_type</th>\n",
       "      <th>count_1</th>\n",
       "      <th>pp</th>\n",
       "      <th>cat_new1</th>\n",
       "      <th>cat_new2</th>\n",
       "      <th>cat_new3</th>\n",
       "      <th>count_12</th>\n",
       "      <th>count_4</th>\n",
       "      <th>count_14</th>\n",
       "      <th>count_6</th>\n",
       "      <th>count_16</th>\n",
       "      <th>count_8</th>\n",
       "      <th>count_18</th>\n",
       "      <th>count_20</th>\n",
       "      <th>count_200</th>\n",
       "      <th>count_22</th>\n",
       "      <th>day_ser</th>\n",
       "      <th>week_ser</th>\n",
       "      <th>hour_imp</th>\n",
       "      <th>hour_ser</th>\n",
       "      <th>day_week_ser</th>\n",
       "      <th>day_week_imp</th>\n",
       "      <th>diff</th>\n",
       "      <th>count_212</th>\n",
       "      <th>count_24</th>\n",
       "      <th>count_214</th>\n",
       "      <th>count</th>\n",
       "      <th>301</th>\n",
       "      <th>302</th>\n",
       "      <th>303</th>\n",
       "      <th>304</th>\n",
       "      <th>305</th>\n",
       "      <th>306</th>\n",
       "      <th>307</th>\n",
       "      <th>313</th>\n",
       "      <th>314</th>\n",
       "      <th>cat11</th>\n",
       "      <th>p1</th>\n",
       "      <th>p2</th>\n",
       "      <th>p3</th>\n",
       "    </tr>\n",
       "  </thead>\n",
       "  <tbody>\n",
       "    <tr>\n",
       "      <th>11052882</th>\n",
       "      <td>44754</td>\n",
       "      <td>127</td>\n",
       "      <td>1</td>\n",
       "      <td>128995</td>\n",
       "      <td>23424.0</td>\n",
       "      <td>1.0</td>\n",
       "      <td>42.0</td>\n",
       "      <td>220.0</td>\n",
       "      <td>1617.0</td>\n",
       "      <td>1</td>\n",
       "      <td>23424.000000</td>\n",
       "      <td>1.000</td>\n",
       "      <td>42.000000</td>\n",
       "      <td>220.000000</td>\n",
       "      <td>627447</td>\n",
       "      <td>1776423.0</td>\n",
       "      <td>603243.0</td>\n",
       "      <td>217217.0</td>\n",
       "      <td>54835.0</td>\n",
       "      <td>7844613</td>\n",
       "      <td>10</td>\n",
       "      <td>8556</td>\n",
       "      <td>9032.0</td>\n",
       "      <td>10</td>\n",
       "      <td>11</td>\n",
       "      <td>50</td>\n",
       "      <td>7</td>\n",
       "      <td>19</td>\n",
       "      <td>1</td>\n",
       "      <td>3</td>\n",
       "      <td>720</td>\n",
       "      <td>5975953</td>\n",
       "      <td>586207</td>\n",
       "      <td>2389736</td>\n",
       "      <td>609920</td>\n",
       "      <td>627447.000000</td>\n",
       "      <td>1776423.000</td>\n",
       "      <td>603243.000000</td>\n",
       "      <td>217217.000000</td>\n",
       "      <td>54835.000000</td>\n",
       "      <td>10.0</td>\n",
       "      <td>9032.000000</td>\n",
       "      <td>7.844613e+06</td>\n",
       "      <td>8556.000000</td>\n",
       "      <td>3.000</td>\n",
       "      <td>23424.000</td>\n",
       "      <td>983808.000000</td>\n",
       "      <td>5.153280e+06</td>\n",
       "    </tr>\n",
       "    <tr>\n",
       "      <th>11052883</th>\n",
       "      <td>29656</td>\n",
       "      <td>44</td>\n",
       "      <td>0</td>\n",
       "      <td>55912</td>\n",
       "      <td>1529.0</td>\n",
       "      <td>9.0</td>\n",
       "      <td>44.0</td>\n",
       "      <td>114.0</td>\n",
       "      <td>9857.0</td>\n",
       "      <td>72</td>\n",
       "      <td>21.236111</td>\n",
       "      <td>0.125</td>\n",
       "      <td>0.611111</td>\n",
       "      <td>1.583333</td>\n",
       "      <td>316532</td>\n",
       "      <td>1963161.0</td>\n",
       "      <td>518001.0</td>\n",
       "      <td>373319.0</td>\n",
       "      <td>14983.0</td>\n",
       "      <td>7844613</td>\n",
       "      <td>648</td>\n",
       "      <td>14961</td>\n",
       "      <td>43030.0</td>\n",
       "      <td>45</td>\n",
       "      <td>16</td>\n",
       "      <td>42</td>\n",
       "      <td>7</td>\n",
       "      <td>10</td>\n",
       "      <td>1</td>\n",
       "      <td>3</td>\n",
       "      <td>180</td>\n",
       "      <td>3838254</td>\n",
       "      <td>516880</td>\n",
       "      <td>2389736</td>\n",
       "      <td>1576070</td>\n",
       "      <td>4396.277778</td>\n",
       "      <td>27266.125</td>\n",
       "      <td>7194.458333</td>\n",
       "      <td>5184.986111</td>\n",
       "      <td>208.097222</td>\n",
       "      <td>9.0</td>\n",
       "      <td>597.638889</td>\n",
       "      <td>1.089530e+05</td>\n",
       "      <td>207.791667</td>\n",
       "      <td>0.375</td>\n",
       "      <td>191.125</td>\n",
       "      <td>934.388889</td>\n",
       "      <td>2.420917e+03</td>\n",
       "    </tr>\n",
       "    <tr>\n",
       "      <th>11052955</th>\n",
       "      <td>25234</td>\n",
       "      <td>296</td>\n",
       "      <td>1</td>\n",
       "      <td>94943</td>\n",
       "      <td>20309.0</td>\n",
       "      <td>9.0</td>\n",
       "      <td>3.0</td>\n",
       "      <td>312.0</td>\n",
       "      <td>5161.0</td>\n",
       "      <td>9</td>\n",
       "      <td>2256.555556</td>\n",
       "      <td>1.000</td>\n",
       "      <td>0.333333</td>\n",
       "      <td>34.666667</td>\n",
       "      <td>534191</td>\n",
       "      <td>1963161.0</td>\n",
       "      <td>609048.0</td>\n",
       "      <td>42973.0</td>\n",
       "      <td>9495.0</td>\n",
       "      <td>7844613</td>\n",
       "      <td>18</td>\n",
       "      <td>1313</td>\n",
       "      <td>1316.0</td>\n",
       "      <td>2</td>\n",
       "      <td>21</td>\n",
       "      <td>42</td>\n",
       "      <td>7</td>\n",
       "      <td>7</td>\n",
       "      <td>6</td>\n",
       "      <td>3</td>\n",
       "      <td>0</td>\n",
       "      <td>3838254</td>\n",
       "      <td>545764</td>\n",
       "      <td>2191111</td>\n",
       "      <td>1576070</td>\n",
       "      <td>59354.555556</td>\n",
       "      <td>218129.000</td>\n",
       "      <td>67672.000000</td>\n",
       "      <td>4774.777778</td>\n",
       "      <td>1055.000000</td>\n",
       "      <td>2.0</td>\n",
       "      <td>146.222222</td>\n",
       "      <td>8.716237e+05</td>\n",
       "      <td>145.888889</td>\n",
       "      <td>3.000</td>\n",
       "      <td>20309.000</td>\n",
       "      <td>6769.666667</td>\n",
       "      <td>7.040453e+05</td>\n",
       "    </tr>\n",
       "  </tbody>\n",
       "</table>\n",
       "</div>"
      ],
      "text/plain": [
       "          user_id  app_code  is_4G  ...         p1             p2            p3\n",
       "11052882    44754       127      1  ...  23424.000  983808.000000  5.153280e+06\n",
       "11052883    29656        44      0  ...    191.125     934.388889  2.420917e+03\n",
       "11052955    25234       296      1  ...  20309.000    6769.666667  7.040453e+05\n",
       "\n",
       "[3 rows x 48 columns]"
      ]
     },
     "execution_count": 127,
     "metadata": {
      "tags": []
     },
     "output_type": "execute_result"
    }
   ],
   "source": [
    "test.head(3)"
   ]
  },
  {
   "cell_type": "code",
   "execution_count": 128,
   "metadata": {
    "colab": {
     "base_uri": "https://localhost:8080/",
     "height": 34
    },
    "colab_type": "code",
    "id": "-9TZCFojTrKG",
    "outputId": "145763e7-dc09-482b-e755-af93b823d145"
   },
   "outputs": [
    {
     "data": {
      "text/plain": [
       "((237609, 48), (90675, 48))"
      ]
     },
     "execution_count": 128,
     "metadata": {
      "tags": []
     },
     "output_type": "execute_result"
    }
   ],
   "source": [
    "train.shape, test.shape"
   ]
  },
  {
   "cell_type": "code",
   "execution_count": 0,
   "metadata": {
    "colab": {},
    "colab_type": "code",
    "id": "pMTa1dkcbX35"
   },
   "outputs": [],
   "source": [
    "#! pip3 install category-encoders"
   ]
  },
  {
   "cell_type": "code",
   "execution_count": 130,
   "metadata": {
    "colab": {
     "base_uri": "https://localhost:8080/",
     "height": 131
    },
    "colab_type": "code",
    "id": "g-wZDr3mhpBx",
    "outputId": "d1d68e0f-a461-4fe7-cc63-ffc80712c54d"
   },
   "outputs": [
    {
     "data": {
      "text/html": [
       "<div>\n",
       "<style scoped>\n",
       "    .dataframe tbody tr th:only-of-type {\n",
       "        vertical-align: middle;\n",
       "    }\n",
       "\n",
       "    .dataframe tbody tr th {\n",
       "        vertical-align: top;\n",
       "    }\n",
       "\n",
       "    .dataframe thead th {\n",
       "        text-align: right;\n",
       "    }\n",
       "</style>\n",
       "<table border=\"1\" class=\"dataframe\">\n",
       "  <thead>\n",
       "    <tr style=\"text-align: right;\">\n",
       "      <th></th>\n",
       "      <th>user_id</th>\n",
       "      <th>app_code</th>\n",
       "      <th>is_4G</th>\n",
       "      <th>item_id</th>\n",
       "      <th>item_price</th>\n",
       "      <th>category_1</th>\n",
       "      <th>category_2</th>\n",
       "      <th>category_3</th>\n",
       "      <th>product_type</th>\n",
       "      <th>count_1</th>\n",
       "      <th>pp</th>\n",
       "      <th>cat_new1</th>\n",
       "      <th>cat_new2</th>\n",
       "      <th>cat_new3</th>\n",
       "      <th>count_12</th>\n",
       "      <th>count_4</th>\n",
       "      <th>count_14</th>\n",
       "      <th>count_6</th>\n",
       "      <th>count_16</th>\n",
       "      <th>count_8</th>\n",
       "      <th>count_18</th>\n",
       "      <th>count_20</th>\n",
       "      <th>count_200</th>\n",
       "      <th>count_22</th>\n",
       "      <th>day_ser</th>\n",
       "      <th>week_ser</th>\n",
       "      <th>hour_imp</th>\n",
       "      <th>hour_ser</th>\n",
       "      <th>day_week_ser</th>\n",
       "      <th>day_week_imp</th>\n",
       "      <th>diff</th>\n",
       "      <th>count_212</th>\n",
       "      <th>count_24</th>\n",
       "      <th>count_214</th>\n",
       "      <th>count</th>\n",
       "      <th>301</th>\n",
       "      <th>302</th>\n",
       "      <th>303</th>\n",
       "      <th>304</th>\n",
       "      <th>305</th>\n",
       "      <th>306</th>\n",
       "      <th>307</th>\n",
       "      <th>313</th>\n",
       "      <th>314</th>\n",
       "      <th>cat11</th>\n",
       "      <th>p1</th>\n",
       "      <th>p2</th>\n",
       "      <th>p3</th>\n",
       "    </tr>\n",
       "  </thead>\n",
       "  <tbody>\n",
       "    <tr>\n",
       "      <th>0</th>\n",
       "      <td>87862</td>\n",
       "      <td>422</td>\n",
       "      <td>0</td>\n",
       "      <td>43886</td>\n",
       "      <td>2350.0</td>\n",
       "      <td>11.0</td>\n",
       "      <td>35.0</td>\n",
       "      <td>20.0</td>\n",
       "      <td>5622.0</td>\n",
       "      <td>1</td>\n",
       "      <td>2350.000000</td>\n",
       "      <td>11.000000</td>\n",
       "      <td>35.000000</td>\n",
       "      <td>20.000000</td>\n",
       "      <td>30936</td>\n",
       "      <td>1129976.0</td>\n",
       "      <td>259780.0</td>\n",
       "      <td>125694.0</td>\n",
       "      <td>143701.0</td>\n",
       "      <td>3280315</td>\n",
       "      <td>3</td>\n",
       "      <td>377</td>\n",
       "      <td>995.0</td>\n",
       "      <td>3</td>\n",
       "      <td>19</td>\n",
       "      <td>42</td>\n",
       "      <td>0</td>\n",
       "      <td>18</td>\n",
       "      <td>4</td>\n",
       "      <td>3</td>\n",
       "      <td>1080</td>\n",
       "      <td>5975953</td>\n",
       "      <td>491494</td>\n",
       "      <td>1925657</td>\n",
       "      <td>1576070</td>\n",
       "      <td>30936.000000</td>\n",
       "      <td>1129976.00</td>\n",
       "      <td>259780.0</td>\n",
       "      <td>125694.000000</td>\n",
       "      <td>143701.00</td>\n",
       "      <td>3.0</td>\n",
       "      <td>995.000000</td>\n",
       "      <td>3280315.00</td>\n",
       "      <td>377.000000</td>\n",
       "      <td>33.0</td>\n",
       "      <td>25850.000000</td>\n",
       "      <td>82250.000000</td>\n",
       "      <td>47000.000000</td>\n",
       "    </tr>\n",
       "    <tr>\n",
       "      <th>1</th>\n",
       "      <td>63410</td>\n",
       "      <td>467</td>\n",
       "      <td>1</td>\n",
       "      <td>43209</td>\n",
       "      <td>3421.0</td>\n",
       "      <td>4.0</td>\n",
       "      <td>74.0</td>\n",
       "      <td>292.0</td>\n",
       "      <td>577.0</td>\n",
       "      <td>12</td>\n",
       "      <td>285.083333</td>\n",
       "      <td>0.333333</td>\n",
       "      <td>6.166667</td>\n",
       "      <td>24.333333</td>\n",
       "      <td>11867</td>\n",
       "      <td>1397337.0</td>\n",
       "      <td>492090.0</td>\n",
       "      <td>490837.0</td>\n",
       "      <td>1305.0</td>\n",
       "      <td>7844613</td>\n",
       "      <td>732</td>\n",
       "      <td>892</td>\n",
       "      <td>1019.0</td>\n",
       "      <td>122</td>\n",
       "      <td>21</td>\n",
       "      <td>42</td>\n",
       "      <td>0</td>\n",
       "      <td>6</td>\n",
       "      <td>6</td>\n",
       "      <td>3</td>\n",
       "      <td>360</td>\n",
       "      <td>3838254</td>\n",
       "      <td>545764</td>\n",
       "      <td>2191111</td>\n",
       "      <td>1576070</td>\n",
       "      <td>988.916667</td>\n",
       "      <td>116444.75</td>\n",
       "      <td>41007.5</td>\n",
       "      <td>40903.083333</td>\n",
       "      <td>108.75</td>\n",
       "      <td>61.0</td>\n",
       "      <td>84.916667</td>\n",
       "      <td>653717.75</td>\n",
       "      <td>74.333333</td>\n",
       "      <td>1.0</td>\n",
       "      <td>1140.333333</td>\n",
       "      <td>21096.166667</td>\n",
       "      <td>83244.333333</td>\n",
       "    </tr>\n",
       "  </tbody>\n",
       "</table>\n",
       "</div>"
      ],
      "text/plain": [
       "   user_id  app_code  is_4G  ...            p1            p2            p3\n",
       "0    87862       422      0  ...  25850.000000  82250.000000  47000.000000\n",
       "1    63410       467      1  ...   1140.333333  21096.166667  83244.333333\n",
       "\n",
       "[2 rows x 48 columns]"
      ]
     },
     "execution_count": 130,
     "metadata": {
      "tags": []
     },
     "output_type": "execute_result"
    }
   ],
   "source": [
    "train.head(2)"
   ]
  },
  {
   "cell_type": "code",
   "execution_count": 0,
   "metadata": {
    "colab": {},
    "colab_type": "code",
    "id": "JdqWP-nFTjBF"
   },
   "outputs": [],
   "source": [
    "#from category_encoders.target_encoder import TargetEncoder\n",
    "#clf=TargetEncoder(cols=[9,5,35, 36])\n",
    "#clf=clf.fit(train, target)\n",
    "#train=clf.transform(train)\n",
    "#test=clf.transform(test)"
   ]
  },
  {
   "cell_type": "code",
   "execution_count": 0,
   "metadata": {
    "colab": {},
    "colab_type": "code",
    "id": "e3Rs8JFpsZ4V"
   },
   "outputs": [],
   "source": [
    "#from sklearn.preprocessing import normalize\n",
    "#train = np.array(train)\n",
    "#test = np.array(test)\n",
    "#train = pd.DataFrame(train)\n",
    "#test = pd.DataFrame(test)"
   ]
  },
  {
   "cell_type": "code",
   "execution_count": 0,
   "metadata": {
    "colab": {},
    "colab_type": "code",
    "id": "pqlDSqikRBd9"
   },
   "outputs": [],
   "source": [
    "#a = pd.get_dummies(test_data[\"device_type\"])\n",
    "#b = pd.get_dummies(test_data[\"noon_ser\"])\n",
    "#c = pd.get_dummies(test_data[\"noon_imp\"])\n",
    "#d = pd.get_dummies(test_data[\"hour_imp\"])\n",
    "#e = pd.get_dummies(test_data[\"hour_ser\"])\n",
    "#frames = [test_data,a,b,c,d]\n",
    "#test_data = pd.concat(frames, axis=1)"
   ]
  },
  {
   "cell_type": "code",
   "execution_count": 0,
   "metadata": {
    "colab": {},
    "colab_type": "code",
    "id": "mhU0ya8bjC5U"
   },
   "outputs": [],
   "source": [
    "# , \"day_imp\", \"day_ser\", \"hour_imp\", \"hour_ser\"\n",
    "#, \"day_imp\", \"day_ser\", \"hour_imp\", \"hour_ser\""
   ]
  },
  {
   "cell_type": "code",
   "execution_count": 0,
   "metadata": {
    "colab": {},
    "colab_type": "code",
    "id": "X9wczcSsGXGj"
   },
   "outputs": [],
   "source": [
    "#train_data.drop([\"noon_ser\", \"noon_imp\", \"hour_ser\", \"hour_imp\",\"device_type\",\"os_version\",\"session_id\",\"item_id\",\"product_type\"], axis=1, inplace=True)\n"
   ]
  },
  {
   "cell_type": "code",
   "execution_count": 0,
   "metadata": {
    "colab": {},
    "colab_type": "code",
    "id": "p0u4k9Qej-s2"
   },
   "outputs": [],
   "source": [
    "#test_data.drop([\"noon_ser\", \"noon_imp\", \"hour_ser\", \"hour_imp\",\"device_type\",\"os_version\",\"session_id\",\"item_id\",\"product_type\"], axis=1, inplace=True)"
   ]
  },
  {
   "cell_type": "code",
   "execution_count": 136,
   "metadata": {
    "colab": {
     "base_uri": "https://localhost:8080/",
     "height": 34
    },
    "colab_type": "code",
    "id": "2LtSrGjDYHc6",
    "outputId": "d8204cdc-2b32-4e22-f004-b1441d3ed0bf"
   },
   "outputs": [
    {
     "data": {
      "text/plain": [
       "((237609, 48), (90675, 48))"
      ]
     },
     "execution_count": 136,
     "metadata": {
      "tags": []
     },
     "output_type": "execute_result"
    }
   ],
   "source": [
    "train.shape, test.shape"
   ]
  },
  {
   "cell_type": "code",
   "execution_count": 137,
   "metadata": {
    "colab": {
     "base_uri": "https://localhost:8080/",
     "height": 162
    },
    "colab_type": "code",
    "id": "8_tECLDAqlGj",
    "outputId": "f79cb346-9880-4022-a6e2-52a2dbbabe2a"
   },
   "outputs": [
    {
     "data": {
      "text/html": [
       "<div>\n",
       "<style scoped>\n",
       "    .dataframe tbody tr th:only-of-type {\n",
       "        vertical-align: middle;\n",
       "    }\n",
       "\n",
       "    .dataframe tbody tr th {\n",
       "        vertical-align: top;\n",
       "    }\n",
       "\n",
       "    .dataframe thead th {\n",
       "        text-align: right;\n",
       "    }\n",
       "</style>\n",
       "<table border=\"1\" class=\"dataframe\">\n",
       "  <thead>\n",
       "    <tr style=\"text-align: right;\">\n",
       "      <th></th>\n",
       "      <th>user_id</th>\n",
       "      <th>app_code</th>\n",
       "      <th>is_4G</th>\n",
       "      <th>item_id</th>\n",
       "      <th>item_price</th>\n",
       "      <th>category_1</th>\n",
       "      <th>category_2</th>\n",
       "      <th>category_3</th>\n",
       "      <th>product_type</th>\n",
       "      <th>count_1</th>\n",
       "      <th>pp</th>\n",
       "      <th>cat_new1</th>\n",
       "      <th>cat_new2</th>\n",
       "      <th>cat_new3</th>\n",
       "      <th>count_12</th>\n",
       "      <th>count_4</th>\n",
       "      <th>count_14</th>\n",
       "      <th>count_6</th>\n",
       "      <th>count_16</th>\n",
       "      <th>count_8</th>\n",
       "      <th>count_18</th>\n",
       "      <th>count_20</th>\n",
       "      <th>count_200</th>\n",
       "      <th>count_22</th>\n",
       "      <th>day_ser</th>\n",
       "      <th>week_ser</th>\n",
       "      <th>hour_imp</th>\n",
       "      <th>hour_ser</th>\n",
       "      <th>day_week_ser</th>\n",
       "      <th>day_week_imp</th>\n",
       "      <th>diff</th>\n",
       "      <th>count_212</th>\n",
       "      <th>count_24</th>\n",
       "      <th>count_214</th>\n",
       "      <th>count</th>\n",
       "      <th>301</th>\n",
       "      <th>302</th>\n",
       "      <th>303</th>\n",
       "      <th>304</th>\n",
       "      <th>305</th>\n",
       "      <th>306</th>\n",
       "      <th>307</th>\n",
       "      <th>313</th>\n",
       "      <th>314</th>\n",
       "      <th>cat11</th>\n",
       "      <th>p1</th>\n",
       "      <th>p2</th>\n",
       "      <th>p3</th>\n",
       "    </tr>\n",
       "  </thead>\n",
       "  <tbody>\n",
       "    <tr>\n",
       "      <th>0</th>\n",
       "      <td>87862</td>\n",
       "      <td>422</td>\n",
       "      <td>0</td>\n",
       "      <td>43886</td>\n",
       "      <td>2350.0</td>\n",
       "      <td>11.0</td>\n",
       "      <td>35.0</td>\n",
       "      <td>20.0</td>\n",
       "      <td>5622.0</td>\n",
       "      <td>1</td>\n",
       "      <td>2350.000000</td>\n",
       "      <td>11.000000</td>\n",
       "      <td>35.000000</td>\n",
       "      <td>20.000000</td>\n",
       "      <td>30936</td>\n",
       "      <td>1129976.0</td>\n",
       "      <td>259780.0</td>\n",
       "      <td>125694.0</td>\n",
       "      <td>143701.0</td>\n",
       "      <td>3280315</td>\n",
       "      <td>3</td>\n",
       "      <td>377</td>\n",
       "      <td>995.0</td>\n",
       "      <td>3</td>\n",
       "      <td>19</td>\n",
       "      <td>42</td>\n",
       "      <td>0</td>\n",
       "      <td>18</td>\n",
       "      <td>4</td>\n",
       "      <td>3</td>\n",
       "      <td>1080</td>\n",
       "      <td>5975953</td>\n",
       "      <td>491494</td>\n",
       "      <td>1925657</td>\n",
       "      <td>1576070</td>\n",
       "      <td>30936.000000</td>\n",
       "      <td>1129976.00</td>\n",
       "      <td>259780.0</td>\n",
       "      <td>125694.000000</td>\n",
       "      <td>143701.00</td>\n",
       "      <td>3.0</td>\n",
       "      <td>995.000000</td>\n",
       "      <td>3280315.00</td>\n",
       "      <td>377.000000</td>\n",
       "      <td>33.0</td>\n",
       "      <td>25850.000000</td>\n",
       "      <td>82250.000000</td>\n",
       "      <td>47000.000000</td>\n",
       "    </tr>\n",
       "    <tr>\n",
       "      <th>1</th>\n",
       "      <td>63410</td>\n",
       "      <td>467</td>\n",
       "      <td>1</td>\n",
       "      <td>43209</td>\n",
       "      <td>3421.0</td>\n",
       "      <td>4.0</td>\n",
       "      <td>74.0</td>\n",
       "      <td>292.0</td>\n",
       "      <td>577.0</td>\n",
       "      <td>12</td>\n",
       "      <td>285.083333</td>\n",
       "      <td>0.333333</td>\n",
       "      <td>6.166667</td>\n",
       "      <td>24.333333</td>\n",
       "      <td>11867</td>\n",
       "      <td>1397337.0</td>\n",
       "      <td>492090.0</td>\n",
       "      <td>490837.0</td>\n",
       "      <td>1305.0</td>\n",
       "      <td>7844613</td>\n",
       "      <td>732</td>\n",
       "      <td>892</td>\n",
       "      <td>1019.0</td>\n",
       "      <td>122</td>\n",
       "      <td>21</td>\n",
       "      <td>42</td>\n",
       "      <td>0</td>\n",
       "      <td>6</td>\n",
       "      <td>6</td>\n",
       "      <td>3</td>\n",
       "      <td>360</td>\n",
       "      <td>3838254</td>\n",
       "      <td>545764</td>\n",
       "      <td>2191111</td>\n",
       "      <td>1576070</td>\n",
       "      <td>988.916667</td>\n",
       "      <td>116444.75</td>\n",
       "      <td>41007.5</td>\n",
       "      <td>40903.083333</td>\n",
       "      <td>108.75</td>\n",
       "      <td>61.0</td>\n",
       "      <td>84.916667</td>\n",
       "      <td>653717.75</td>\n",
       "      <td>74.333333</td>\n",
       "      <td>1.0</td>\n",
       "      <td>1140.333333</td>\n",
       "      <td>21096.166667</td>\n",
       "      <td>83244.333333</td>\n",
       "    </tr>\n",
       "    <tr>\n",
       "      <th>13</th>\n",
       "      <td>71748</td>\n",
       "      <td>259</td>\n",
       "      <td>1</td>\n",
       "      <td>122348</td>\n",
       "      <td>973.0</td>\n",
       "      <td>13.0</td>\n",
       "      <td>67.0</td>\n",
       "      <td>170.0</td>\n",
       "      <td>2874.0</td>\n",
       "      <td>2</td>\n",
       "      <td>486.500000</td>\n",
       "      <td>6.500000</td>\n",
       "      <td>33.500000</td>\n",
       "      <td>85.000000</td>\n",
       "      <td>13007</td>\n",
       "      <td>1173480.0</td>\n",
       "      <td>239963.0</td>\n",
       "      <td>104225.0</td>\n",
       "      <td>474782.0</td>\n",
       "      <td>3799651</td>\n",
       "      <td>26</td>\n",
       "      <td>5190</td>\n",
       "      <td>5877.0</td>\n",
       "      <td>13</td>\n",
       "      <td>23</td>\n",
       "      <td>43</td>\n",
       "      <td>0</td>\n",
       "      <td>12</td>\n",
       "      <td>1</td>\n",
       "      <td>3</td>\n",
       "      <td>720</td>\n",
       "      <td>5975953</td>\n",
       "      <td>519326</td>\n",
       "      <td>2389736</td>\n",
       "      <td>1601341</td>\n",
       "      <td>6503.500000</td>\n",
       "      <td>586740.00</td>\n",
       "      <td>119981.5</td>\n",
       "      <td>52112.500000</td>\n",
       "      <td>237391.00</td>\n",
       "      <td>13.0</td>\n",
       "      <td>2938.500000</td>\n",
       "      <td>1899825.50</td>\n",
       "      <td>2595.000000</td>\n",
       "      <td>19.5</td>\n",
       "      <td>6324.500000</td>\n",
       "      <td>32595.500000</td>\n",
       "      <td>82705.000000</td>\n",
       "    </tr>\n",
       "  </tbody>\n",
       "</table>\n",
       "</div>"
      ],
      "text/plain": [
       "    user_id  app_code  is_4G  ...            p1            p2            p3\n",
       "0     87862       422      0  ...  25850.000000  82250.000000  47000.000000\n",
       "1     63410       467      1  ...   1140.333333  21096.166667  83244.333333\n",
       "13    71748       259      1  ...   6324.500000  32595.500000  82705.000000\n",
       "\n",
       "[3 rows x 48 columns]"
      ]
     },
     "execution_count": 137,
     "metadata": {
      "tags": []
     },
     "output_type": "execute_result"
    }
   ],
   "source": [
    "train.head(3)"
   ]
  },
  {
   "cell_type": "code",
   "execution_count": 138,
   "metadata": {
    "colab": {
     "base_uri": "https://localhost:8080/",
     "height": 162
    },
    "colab_type": "code",
    "id": "IqqIbpJVkLEj",
    "outputId": "8fd73a49-5d69-4529-b3e0-af0366e2590e"
   },
   "outputs": [
    {
     "data": {
      "text/html": [
       "<div>\n",
       "<style scoped>\n",
       "    .dataframe tbody tr th:only-of-type {\n",
       "        vertical-align: middle;\n",
       "    }\n",
       "\n",
       "    .dataframe tbody tr th {\n",
       "        vertical-align: top;\n",
       "    }\n",
       "\n",
       "    .dataframe thead th {\n",
       "        text-align: right;\n",
       "    }\n",
       "</style>\n",
       "<table border=\"1\" class=\"dataframe\">\n",
       "  <thead>\n",
       "    <tr style=\"text-align: right;\">\n",
       "      <th></th>\n",
       "      <th>user_id</th>\n",
       "      <th>app_code</th>\n",
       "      <th>is_4G</th>\n",
       "      <th>item_id</th>\n",
       "      <th>item_price</th>\n",
       "      <th>category_1</th>\n",
       "      <th>category_2</th>\n",
       "      <th>category_3</th>\n",
       "      <th>product_type</th>\n",
       "      <th>count_1</th>\n",
       "      <th>pp</th>\n",
       "      <th>cat_new1</th>\n",
       "      <th>cat_new2</th>\n",
       "      <th>cat_new3</th>\n",
       "      <th>count_12</th>\n",
       "      <th>count_4</th>\n",
       "      <th>count_14</th>\n",
       "      <th>count_6</th>\n",
       "      <th>count_16</th>\n",
       "      <th>count_8</th>\n",
       "      <th>count_18</th>\n",
       "      <th>count_20</th>\n",
       "      <th>count_200</th>\n",
       "      <th>count_22</th>\n",
       "      <th>day_ser</th>\n",
       "      <th>week_ser</th>\n",
       "      <th>hour_imp</th>\n",
       "      <th>hour_ser</th>\n",
       "      <th>day_week_ser</th>\n",
       "      <th>day_week_imp</th>\n",
       "      <th>diff</th>\n",
       "      <th>count_212</th>\n",
       "      <th>count_24</th>\n",
       "      <th>count_214</th>\n",
       "      <th>count</th>\n",
       "      <th>301</th>\n",
       "      <th>302</th>\n",
       "      <th>303</th>\n",
       "      <th>304</th>\n",
       "      <th>305</th>\n",
       "      <th>306</th>\n",
       "      <th>307</th>\n",
       "      <th>313</th>\n",
       "      <th>314</th>\n",
       "      <th>cat11</th>\n",
       "      <th>p1</th>\n",
       "      <th>p2</th>\n",
       "      <th>p3</th>\n",
       "    </tr>\n",
       "  </thead>\n",
       "  <tbody>\n",
       "    <tr>\n",
       "      <th>11052882</th>\n",
       "      <td>44754</td>\n",
       "      <td>127</td>\n",
       "      <td>1</td>\n",
       "      <td>128995</td>\n",
       "      <td>23424.0</td>\n",
       "      <td>1.0</td>\n",
       "      <td>42.0</td>\n",
       "      <td>220.0</td>\n",
       "      <td>1617.0</td>\n",
       "      <td>1</td>\n",
       "      <td>23424.000000</td>\n",
       "      <td>1.000</td>\n",
       "      <td>42.000000</td>\n",
       "      <td>220.000000</td>\n",
       "      <td>627447</td>\n",
       "      <td>1776423.0</td>\n",
       "      <td>603243.0</td>\n",
       "      <td>217217.0</td>\n",
       "      <td>54835.0</td>\n",
       "      <td>7844613</td>\n",
       "      <td>10</td>\n",
       "      <td>8556</td>\n",
       "      <td>9032.0</td>\n",
       "      <td>10</td>\n",
       "      <td>11</td>\n",
       "      <td>50</td>\n",
       "      <td>7</td>\n",
       "      <td>19</td>\n",
       "      <td>1</td>\n",
       "      <td>3</td>\n",
       "      <td>720</td>\n",
       "      <td>5975953</td>\n",
       "      <td>586207</td>\n",
       "      <td>2389736</td>\n",
       "      <td>609920</td>\n",
       "      <td>627447.000000</td>\n",
       "      <td>1776423.000</td>\n",
       "      <td>603243.000000</td>\n",
       "      <td>217217.000000</td>\n",
       "      <td>54835.000000</td>\n",
       "      <td>10.0</td>\n",
       "      <td>9032.000000</td>\n",
       "      <td>7.844613e+06</td>\n",
       "      <td>8556.000000</td>\n",
       "      <td>3.000</td>\n",
       "      <td>23424.000</td>\n",
       "      <td>983808.000000</td>\n",
       "      <td>5.153280e+06</td>\n",
       "    </tr>\n",
       "    <tr>\n",
       "      <th>11052883</th>\n",
       "      <td>29656</td>\n",
       "      <td>44</td>\n",
       "      <td>0</td>\n",
       "      <td>55912</td>\n",
       "      <td>1529.0</td>\n",
       "      <td>9.0</td>\n",
       "      <td>44.0</td>\n",
       "      <td>114.0</td>\n",
       "      <td>9857.0</td>\n",
       "      <td>72</td>\n",
       "      <td>21.236111</td>\n",
       "      <td>0.125</td>\n",
       "      <td>0.611111</td>\n",
       "      <td>1.583333</td>\n",
       "      <td>316532</td>\n",
       "      <td>1963161.0</td>\n",
       "      <td>518001.0</td>\n",
       "      <td>373319.0</td>\n",
       "      <td>14983.0</td>\n",
       "      <td>7844613</td>\n",
       "      <td>648</td>\n",
       "      <td>14961</td>\n",
       "      <td>43030.0</td>\n",
       "      <td>45</td>\n",
       "      <td>16</td>\n",
       "      <td>42</td>\n",
       "      <td>7</td>\n",
       "      <td>10</td>\n",
       "      <td>1</td>\n",
       "      <td>3</td>\n",
       "      <td>180</td>\n",
       "      <td>3838254</td>\n",
       "      <td>516880</td>\n",
       "      <td>2389736</td>\n",
       "      <td>1576070</td>\n",
       "      <td>4396.277778</td>\n",
       "      <td>27266.125</td>\n",
       "      <td>7194.458333</td>\n",
       "      <td>5184.986111</td>\n",
       "      <td>208.097222</td>\n",
       "      <td>9.0</td>\n",
       "      <td>597.638889</td>\n",
       "      <td>1.089530e+05</td>\n",
       "      <td>207.791667</td>\n",
       "      <td>0.375</td>\n",
       "      <td>191.125</td>\n",
       "      <td>934.388889</td>\n",
       "      <td>2.420917e+03</td>\n",
       "    </tr>\n",
       "    <tr>\n",
       "      <th>11052955</th>\n",
       "      <td>25234</td>\n",
       "      <td>296</td>\n",
       "      <td>1</td>\n",
       "      <td>94943</td>\n",
       "      <td>20309.0</td>\n",
       "      <td>9.0</td>\n",
       "      <td>3.0</td>\n",
       "      <td>312.0</td>\n",
       "      <td>5161.0</td>\n",
       "      <td>9</td>\n",
       "      <td>2256.555556</td>\n",
       "      <td>1.000</td>\n",
       "      <td>0.333333</td>\n",
       "      <td>34.666667</td>\n",
       "      <td>534191</td>\n",
       "      <td>1963161.0</td>\n",
       "      <td>609048.0</td>\n",
       "      <td>42973.0</td>\n",
       "      <td>9495.0</td>\n",
       "      <td>7844613</td>\n",
       "      <td>18</td>\n",
       "      <td>1313</td>\n",
       "      <td>1316.0</td>\n",
       "      <td>2</td>\n",
       "      <td>21</td>\n",
       "      <td>42</td>\n",
       "      <td>7</td>\n",
       "      <td>7</td>\n",
       "      <td>6</td>\n",
       "      <td>3</td>\n",
       "      <td>0</td>\n",
       "      <td>3838254</td>\n",
       "      <td>545764</td>\n",
       "      <td>2191111</td>\n",
       "      <td>1576070</td>\n",
       "      <td>59354.555556</td>\n",
       "      <td>218129.000</td>\n",
       "      <td>67672.000000</td>\n",
       "      <td>4774.777778</td>\n",
       "      <td>1055.000000</td>\n",
       "      <td>2.0</td>\n",
       "      <td>146.222222</td>\n",
       "      <td>8.716237e+05</td>\n",
       "      <td>145.888889</td>\n",
       "      <td>3.000</td>\n",
       "      <td>20309.000</td>\n",
       "      <td>6769.666667</td>\n",
       "      <td>7.040453e+05</td>\n",
       "    </tr>\n",
       "  </tbody>\n",
       "</table>\n",
       "</div>"
      ],
      "text/plain": [
       "          user_id  app_code  is_4G  ...         p1             p2            p3\n",
       "11052882    44754       127      1  ...  23424.000  983808.000000  5.153280e+06\n",
       "11052883    29656        44      0  ...    191.125     934.388889  2.420917e+03\n",
       "11052955    25234       296      1  ...  20309.000    6769.666667  7.040453e+05\n",
       "\n",
       "[3 rows x 48 columns]"
      ]
     },
     "execution_count": 138,
     "metadata": {
      "tags": []
     },
     "output_type": "execute_result"
    }
   ],
   "source": [
    "test.head(3)"
   ]
  },
  {
   "cell_type": "code",
   "execution_count": 0,
   "metadata": {
    "colab": {},
    "colab_type": "code",
    "id": "RakKLOyDsMTE"
   },
   "outputs": [],
   "source": [
    "#train.drop([13, 20, 14, 4, 11, 12], axis=1, inplace=True)\n",
    "#test.drop([13, 20, 14, 4, 11, 12], axis=1, inplace=True)"
   ]
  },
  {
   "cell_type": "markdown",
   "metadata": {
    "colab_type": "text",
    "id": "emZT1Nd0SB3e"
   },
   "source": [
    "# Model"
   ]
  },
  {
   "cell_type": "code",
   "execution_count": 142,
   "metadata": {
    "colab": {
     "base_uri": "https://localhost:8080/",
     "height": 530
    },
    "colab_type": "code",
    "id": "PPVwr2COq-Ti",
    "outputId": "e3537586-0e1b-46aa-bc1f-7703f5b6b12a"
   },
   "outputs": [
    {
     "name": "stdout",
     "output_type": "stream",
     "text": [
      "Collecting catboost\n",
      "\u001b[?25l  Downloading https://files.pythonhosted.org/packages/ef/e9/41060f73ca5dcf604f75bc871ee5ce8dcb201897640b37c95aa8b1e139c8/catboost-0.16.5-cp36-none-manylinux1_x86_64.whl (61.9MB)\n",
      "\u001b[K     |████████████████████████████████| 61.9MB 1.3MB/s \n",
      "\u001b[?25hRequirement already satisfied: six in /usr/local/lib/python3.6/dist-packages (from catboost) (1.12.0)\n",
      "Requirement already satisfied: numpy>=1.16.0 in /usr/local/lib/python3.6/dist-packages (from catboost) (1.16.4)\n",
      "Requirement already satisfied: graphviz in /usr/local/lib/python3.6/dist-packages (from catboost) (0.10.1)\n",
      "Requirement already satisfied: pandas>=0.19.1 in /usr/local/lib/python3.6/dist-packages (from catboost) (0.24.2)\n",
      "Requirement already satisfied: matplotlib in /usr/local/lib/python3.6/dist-packages (from catboost) (3.0.3)\n",
      "Requirement already satisfied: plotly in /usr/local/lib/python3.6/dist-packages (from catboost) (3.6.1)\n",
      "Requirement already satisfied: pytz>=2011k in /usr/local/lib/python3.6/dist-packages (from pandas>=0.19.1->catboost) (2018.9)\n",
      "Requirement already satisfied: python-dateutil>=2.5.0 in /usr/local/lib/python3.6/dist-packages (from pandas>=0.19.1->catboost) (2.5.3)\n",
      "Requirement already satisfied: kiwisolver>=1.0.1 in /usr/local/lib/python3.6/dist-packages (from matplotlib->catboost) (1.1.0)\n",
      "Requirement already satisfied: pyparsing!=2.0.4,!=2.1.2,!=2.1.6,>=2.0.1 in /usr/local/lib/python3.6/dist-packages (from matplotlib->catboost) (2.4.2)\n",
      "Requirement already satisfied: cycler>=0.10 in /usr/local/lib/python3.6/dist-packages (from matplotlib->catboost) (0.10.0)\n",
      "Requirement already satisfied: nbformat>=4.2 in /usr/local/lib/python3.6/dist-packages (from plotly->catboost) (4.4.0)\n",
      "Requirement already satisfied: requests in /usr/local/lib/python3.6/dist-packages (from plotly->catboost) (2.21.0)\n",
      "Requirement already satisfied: retrying>=1.3.3 in /usr/local/lib/python3.6/dist-packages (from plotly->catboost) (1.3.3)\n",
      "Requirement already satisfied: decorator>=4.0.6 in /usr/local/lib/python3.6/dist-packages (from plotly->catboost) (4.4.0)\n",
      "Requirement already satisfied: setuptools in /usr/local/lib/python3.6/dist-packages (from kiwisolver>=1.0.1->matplotlib->catboost) (41.2.0)\n",
      "Requirement already satisfied: traitlets>=4.1 in /usr/local/lib/python3.6/dist-packages (from nbformat>=4.2->plotly->catboost) (4.3.2)\n",
      "Requirement already satisfied: ipython-genutils in /usr/local/lib/python3.6/dist-packages (from nbformat>=4.2->plotly->catboost) (0.2.0)\n",
      "Requirement already satisfied: jupyter-core in /usr/local/lib/python3.6/dist-packages (from nbformat>=4.2->plotly->catboost) (4.5.0)\n",
      "Requirement already satisfied: jsonschema!=2.5.0,>=2.4 in /usr/local/lib/python3.6/dist-packages (from nbformat>=4.2->plotly->catboost) (2.6.0)\n",
      "Requirement already satisfied: urllib3<1.25,>=1.21.1 in /usr/local/lib/python3.6/dist-packages (from requests->plotly->catboost) (1.24.3)\n",
      "Requirement already satisfied: certifi>=2017.4.17 in /usr/local/lib/python3.6/dist-packages (from requests->plotly->catboost) (2019.6.16)\n",
      "Requirement already satisfied: idna<2.9,>=2.5 in /usr/local/lib/python3.6/dist-packages (from requests->plotly->catboost) (2.8)\n",
      "Requirement already satisfied: chardet<3.1.0,>=3.0.2 in /usr/local/lib/python3.6/dist-packages (from requests->plotly->catboost) (3.0.4)\n",
      "Installing collected packages: catboost\n",
      "Successfully installed catboost-0.16.5\n"
     ]
    }
   ],
   "source": [
    "#!pip3 install catboost"
   ]
  },
  {
   "cell_type": "code",
   "execution_count": 0,
   "metadata": {
    "colab": {},
    "colab_type": "code",
    "id": "BpKjkDKuoEIr"
   },
   "outputs": [],
   "source": [
    "# Training and Validation Set\n",
    "from sklearn.model_selection import train_test_split\n",
    "X_train, X_valid, y_train, y_valid = train_test_split(train, target, test_size=0.20, random_state=23)"
   ]
  },
  {
   "cell_type": "code",
   "execution_count": 146,
   "metadata": {
    "colab": {
     "base_uri": "https://localhost:8080/",
     "height": 51
    },
    "colab_type": "code",
    "id": "BrNnUOdDVDxR",
    "outputId": "1f668828-67a8-4171-d1e2-499b1f2e73d4"
   },
   "outputs": [
    {
     "name": "stdout",
     "output_type": "stream",
     "text": [
      "\n",
      "Categorical Variables indices :  [ 0  1  2  3  9 14 19 20 21 23 24 25 26 27 28 29 30 31 32 33 34]\n"
     ]
    }
   ],
   "source": [
    "from catboost import CatBoostRegressor\n",
    "categorical_var = np.where(train.dtypes != np.float)[0]\n",
    "print('\\nCategorical Variables indices : ',categorical_var)\n"
   ]
  },
  {
   "cell_type": "code",
   "execution_count": 0,
   "metadata": {
    "colab": {},
    "colab_type": "code",
    "id": "Zif94v24oERR"
   },
   "outputs": [],
   "source": [
    "#modelstart= time.time()\n",
    "cb_model = CatBoostRegressor(iterations=1000,\n",
    "                             learning_rate=0.02,\n",
    "                             depth=12,\n",
    "                             eval_metric='AUC',\n",
    "                             random_seed = 23,\n",
    "                             bagging_temperature = 0.2,\n",
    "                             od_type='Iter',\n",
    "                             metric_period = 75,\n",
    "                             od_wait=100)"
   ]
  },
  {
   "cell_type": "code",
   "execution_count": 150,
   "metadata": {
    "colab": {
     "base_uri": "https://localhost:8080/",
     "height": 343
    },
    "colab_type": "code",
    "id": "5uNNmQAXoEEg",
    "outputId": "8807404b-f19d-450e-af9d-b4086ba2cf83"
   },
   "outputs": [
    {
     "name": "stderr",
     "output_type": "stream",
     "text": [
      "Warning: Overfitting detector is active, thus evaluation metric is calculated on every iteration. 'metric_period' is ignored for evaluation metric.\n"
     ]
    },
    {
     "name": "stdout",
     "output_type": "stream",
     "text": [
      "0:\ttest: 0.6793292\tbest: 0.6793292 (0)\ttotal: 310ms\tremaining: 5m 9s\n",
      "75:\ttest: 0.7289769\tbest: 0.7289769 (75)\ttotal: 1m 37s\tremaining: 19m 45s\n",
      "150:\ttest: 0.7421419\tbest: 0.7421419 (150)\ttotal: 3m 38s\tremaining: 20m 28s\n",
      "225:\ttest: 0.7444434\tbest: 0.7444434 (225)\ttotal: 5m 59s\tremaining: 20m 29s\n",
      "300:\ttest: 0.7452894\tbest: 0.7452894 (300)\ttotal: 8m 12s\tremaining: 19m 2s\n",
      "375:\ttest: 0.7457752\tbest: 0.7458086 (372)\ttotal: 10m 33s\tremaining: 17m 31s\n",
      "450:\ttest: 0.7461089\tbest: 0.7461616 (443)\ttotal: 12m 55s\tremaining: 15m 43s\n",
      "525:\ttest: 0.7463468\tbest: 0.7464392 (490)\ttotal: 15m 5s\tremaining: 13m 36s\n",
      "600:\ttest: 0.7468443\tbest: 0.7468841 (597)\ttotal: 17m 36s\tremaining: 11m 41s\n",
      "675:\ttest: 0.7469538\tbest: 0.7470448 (647)\ttotal: 20m 5s\tremaining: 9m 37s\n",
      "Stopped by overfitting detector  (100 iterations wait)\n",
      "\n",
      "bestTest = 0.7470447522\n",
      "bestIteration = 647\n",
      "\n",
      "Shrink model to first 648 iterations.\n"
     ]
    },
    {
     "data": {
      "text/plain": [
       "<catboost.core.CatBoostRegressor at 0x7fb3da6567f0>"
      ]
     },
     "execution_count": 150,
     "metadata": {
      "tags": []
     },
     "output_type": "execute_result"
    }
   ],
   "source": [
    "cb_model.fit(X_train, y_train,\n",
    "             eval_set=(X_valid,y_valid),\n",
    "             cat_features=categorical_var,\n",
    "             use_best_model=True,\n",
    "             verbose=True)"
   ]
  },
  {
   "cell_type": "code",
   "execution_count": 151,
   "metadata": {
    "colab": {
     "base_uri": "https://localhost:8080/",
     "height": 71
    },
    "colab_type": "code",
    "id": "QDF7L6vIoEAi",
    "outputId": "8799ec9d-f8bd-4f75-c713-2a5988e23839"
   },
   "outputs": [
    {
     "name": "stdout",
     "output_type": "stream",
     "text": [
      "Model Evaluation Stage\n",
      "{'bagging_temperature': 0.2, 'eval_metric': 'AUC', 'metric_period': 75, 'random_seed': 23, 'od_type': 'Iter', 'od_wait': 100, 'loss_function': 'RMSE', 'depth': 12, 'learning_rate': 0.02, 'iterations': 1000}\n"
     ]
    }
   ],
   "source": [
    "print(\"Model Evaluation Stage\")\n",
    "print(cb_model.get_params())"
   ]
  },
  {
   "cell_type": "code",
   "execution_count": 0,
   "metadata": {
    "colab": {},
    "colab_type": "code",
    "id": "R2JAXsA5oD8e"
   },
   "outputs": [],
   "source": [
    "predictions = cb_model.predict(test)"
   ]
  },
  {
   "cell_type": "code",
   "execution_count": 0,
   "metadata": {
    "colab": {},
    "colab_type": "code",
    "id": "bWRH0nuMsxm-"
   },
   "outputs": [],
   "source": [
    "result_new=pd.DataFrame({\"impression_id\":test_1[\"impression_id\"], \"is_click\":predictions}) \n",
    "result_new.to_csv(\"result_new60.csv\", index=False)"
   ]
  },
  {
   "cell_type": "code",
   "execution_count": 156,
   "metadata": {
    "colab": {
     "base_uri": "https://localhost:8080/",
     "height": 359
    },
    "colab_type": "code",
    "id": "ZygR_6pxsx4W",
    "outputId": "149bda13-e6d0-4160-aad6-d5986b28a603"
   },
   "outputs": [
    {
     "data": {
      "text/html": [
       "<div>\n",
       "<style scoped>\n",
       "    .dataframe tbody tr th:only-of-type {\n",
       "        vertical-align: middle;\n",
       "    }\n",
       "\n",
       "    .dataframe tbody tr th {\n",
       "        vertical-align: top;\n",
       "    }\n",
       "\n",
       "    .dataframe thead th {\n",
       "        text-align: right;\n",
       "    }\n",
       "</style>\n",
       "<table border=\"1\" class=\"dataframe\">\n",
       "  <thead>\n",
       "    <tr style=\"text-align: right;\">\n",
       "      <th></th>\n",
       "      <th>impression_id</th>\n",
       "      <th>is_click</th>\n",
       "    </tr>\n",
       "  </thead>\n",
       "  <tbody>\n",
       "    <tr>\n",
       "      <th>0</th>\n",
       "      <td>a9e7126a585a69a32bc7414e9d0c0ada</td>\n",
       "      <td>0.020977</td>\n",
       "    </tr>\n",
       "    <tr>\n",
       "      <th>1</th>\n",
       "      <td>caac14a5bf2ba283db7708bb34855760</td>\n",
       "      <td>0.030251</td>\n",
       "    </tr>\n",
       "    <tr>\n",
       "      <th>2</th>\n",
       "      <td>13f10ba306a19ce7bec2f3cae507b698</td>\n",
       "      <td>0.070498</td>\n",
       "    </tr>\n",
       "    <tr>\n",
       "      <th>3</th>\n",
       "      <td>39c4b4dc0e9701b55a0a4f072008fb3f</td>\n",
       "      <td>0.015532</td>\n",
       "    </tr>\n",
       "    <tr>\n",
       "      <th>4</th>\n",
       "      <td>bf5a572cca75f5fc67f4b14e58b11d70</td>\n",
       "      <td>0.168952</td>\n",
       "    </tr>\n",
       "    <tr>\n",
       "      <th>5</th>\n",
       "      <td>ca09514449e304fee91456fb0918667a</td>\n",
       "      <td>0.013987</td>\n",
       "    </tr>\n",
       "    <tr>\n",
       "      <th>6</th>\n",
       "      <td>b8b35cb0ae1719aa9f0ba7a9f3785687</td>\n",
       "      <td>0.084063</td>\n",
       "    </tr>\n",
       "    <tr>\n",
       "      <th>7</th>\n",
       "      <td>33502d1e85818b9b3414c8c006c34e07</td>\n",
       "      <td>0.012439</td>\n",
       "    </tr>\n",
       "    <tr>\n",
       "      <th>8</th>\n",
       "      <td>5314e09fb680c56b58eb5a3b5b7bce0c</td>\n",
       "      <td>0.049794</td>\n",
       "    </tr>\n",
       "    <tr>\n",
       "      <th>9</th>\n",
       "      <td>e1a8a26385f49a5a7e04d34a5823bff3</td>\n",
       "      <td>0.030107</td>\n",
       "    </tr>\n",
       "  </tbody>\n",
       "</table>\n",
       "</div>"
      ],
      "text/plain": [
       "                      impression_id  is_click\n",
       "0  a9e7126a585a69a32bc7414e9d0c0ada  0.020977\n",
       "1  caac14a5bf2ba283db7708bb34855760  0.030251\n",
       "2  13f10ba306a19ce7bec2f3cae507b698  0.070498\n",
       "3  39c4b4dc0e9701b55a0a4f072008fb3f  0.015532\n",
       "4  bf5a572cca75f5fc67f4b14e58b11d70  0.168952\n",
       "5  ca09514449e304fee91456fb0918667a  0.013987\n",
       "6  b8b35cb0ae1719aa9f0ba7a9f3785687  0.084063\n",
       "7  33502d1e85818b9b3414c8c006c34e07  0.012439\n",
       "8  5314e09fb680c56b58eb5a3b5b7bce0c  0.049794\n",
       "9  e1a8a26385f49a5a7e04d34a5823bff3  0.030107"
      ]
     },
     "execution_count": 156,
     "metadata": {
      "tags": []
     },
     "output_type": "execute_result"
    }
   ],
   "source": [
    "result_new.head(10)"
   ]
  },
  {
   "cell_type": "code",
   "execution_count": 0,
   "metadata": {
    "colab": {},
    "colab_type": "code",
    "id": "v7B4WoDisxzh"
   },
   "outputs": [],
   "source": []
  },
  {
   "cell_type": "code",
   "execution_count": 0,
   "metadata": {
    "colab": {},
    "colab_type": "code",
    "id": "XHsW423PoD3s"
   },
   "outputs": [],
   "source": [
    "er"
   ]
  },
  {
   "cell_type": "code",
   "execution_count": 0,
   "metadata": {
    "colab": {},
    "colab_type": "code",
    "id": "rW3KezXSesoc"
   },
   "outputs": [],
   "source": [
    "import lightgbm as lgb \n",
    "from sklearn.metrics import roc_auc_score\n",
    "\n",
    "features= [col for col in train.columns]\n"
   ]
  },
  {
   "cell_type": "code",
   "execution_count": 0,
   "metadata": {
    "colab": {},
    "colab_type": "code",
    "id": "KF_wZWBde1Bj"
   },
   "outputs": [],
   "source": [
    "from sklearn.model_selection import StratifiedKFold\n",
    "#%time\n",
    "skf=StratifiedKFold(n_splits=10, shuffle=True, random_state=2019)\n",
    "oof=np.zeros(len(train))\n",
    "predictions=np.zeros(len(test))\n",
    "feature_importance_df = pd.DataFrame()\n",
    "\n",
    "#start = time.time()\n",
    "param = {\"objective\":\"binary\",\n",
    "         \"boost\":\"gbdt\",\n",
    "         \"metric\":\"auc\",\n",
    "         \"learning_rate\":0.2,\n",
    "         \"num_leaves\":12,\n",
    "         \"max_depth\":-1,\n",
    "         \"tree_learner\":\"serial\",\n",
    "         \"feature_fraction\":0.4,\n",
    "         #\"bagging_freq\":5,\n",
    "         #\"bagging_fraction\":0.4,\n",
    "         \"min_data_in_leaf\":60,\n",
    "         \"min_sum_hessian_in_leaf\":10,\n",
    "         \"n_jobs\":-1,\n",
    "         }\n",
    "\n",
    "for fold_, (trn_idx, val_idx) in enumerate(skf.split(train.values , target.values )):\n",
    "    #print(\"fold n{}\".format(fold_))\n",
    "    \n",
    "    trn_data = lgb.Dataset(train[features].iloc[trn_idx], label = target.iloc[trn_idx])\n",
    "    val_data = lgb.Dataset(train[features].iloc[val_idx], label = target.iloc[val_idx])\n",
    "    \n",
    "    num_round = 1000000\n",
    "    clf = lgb.train(param, trn_data, num_round, valid_sets=[trn_data, val_data], verbose_eval = 1000, early_stopping_rounds=2000)\n",
    "    oof[val_idx] = clf.predict(train[features].iloc[val_idx], num_iteration = clf.best_iteration)\n",
    "    \n",
    "    #fold_importance_df = pd.DataFrame()\n",
    "    #fold_importance_df[\"feature\"]=features\n",
    "    #fold_importance_df[\"importance\"]=clf.feature_importance()\n",
    "    #fold_importance_df[\"fold\"]=fold_+1\n",
    "    #feature_importance_df = pd.concat([feature_importance_df, fold_importance_df], axis=0)\n",
    "    \n",
    "    \n",
    "    \n",
    "    predictions+=clf.predict(test[features], num_iteration = clf.best_iteration)/skf.n_splits\n",
    "    \n",
    "#feature_importance_df = feature_importance_df[[\"feature\", 'importance']].groupby(\"feature\").mean().sort_values(by = \"importance\", ascending=2000)    \n",
    "print(\"cv score: {:<8.5f}\".format(roc_auc_score(target, oof)))"
   ]
  },
  {
   "cell_type": "code",
   "execution_count": 0,
   "metadata": {
    "colab": {},
    "colab_type": "code",
    "id": "FPwcum4-3YsM"
   },
   "outputs": [],
   "source": [
    "clf.best_iteration"
   ]
  },
  {
   "cell_type": "code",
   "execution_count": 0,
   "metadata": {
    "colab": {},
    "colab_type": "code",
    "id": "MCQlfB9He8My"
   },
   "outputs": [],
   "source": [
    "clf.feature_importance()"
   ]
  },
  {
   "cell_type": "code",
   "execution_count": 0,
   "metadata": {
    "colab": {},
    "colab_type": "code",
    "id": "cpW4fwOMNcSI"
   },
   "outputs": [],
   "source": [
    "result_new=pd.DataFrame({\"impression_id\":test_1[\"impression_id\"], \"is_click\":predictions}) \n",
    "result_new.to_csv(\"result_new57.csv\", index=False)\n"
   ]
  },
  {
   "cell_type": "code",
   "execution_count": 0,
   "metadata": {
    "colab": {},
    "colab_type": "code",
    "id": "hzf21B0afJu5"
   },
   "outputs": [],
   "source": [
    "result_new.tail(5)"
   ]
  }
 ],
 "metadata": {
  "colab": {
   "collapsed_sections": [],
   "machine_shape": "hm",
   "name": "Ad_click60.ipynb",
   "provenance": [],
   "version": "0.3.2"
  },
  "kernelspec": {
   "display_name": "Python 3",
   "language": "python",
   "name": "python3"
  },
  "language_info": {
   "codemirror_mode": {
    "name": "ipython",
    "version": 3
   },
   "file_extension": ".py",
   "mimetype": "text/x-python",
   "name": "python",
   "nbconvert_exporter": "python",
   "pygments_lexer": "ipython3",
   "version": "3.6.6"
  }
 },
 "nbformat": 4,
 "nbformat_minor": 1
}
